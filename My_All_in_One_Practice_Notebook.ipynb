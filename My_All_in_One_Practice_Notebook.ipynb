{
  "nbformat": 4,
  "nbformat_minor": 0,
  "metadata": {
    "colab": {
      "provenance": [],
      "collapsed_sections": [],
      "authorship_tag": "ABX9TyMkysk5CsxeqwGYUfRAH5ZC",
      "include_colab_link": true
    },
    "kernelspec": {
      "name": "python3",
      "display_name": "Python 3"
    },
    "language_info": {
      "name": "python"
    }
  },
  "cells": [
    {
      "cell_type": "markdown",
      "metadata": {
        "id": "view-in-github",
        "colab_type": "text"
      },
      "source": [
        "<a href=\"https://colab.research.google.com/github/tusharsgaidhane/My-Notes/blob/main/My_All_in_One_Practice_Notebook.ipynb\" target=\"_parent\"><img src=\"https://colab.research.google.com/assets/colab-badge.svg\" alt=\"Open In Colab\"/></a>"
      ]
    },
    {
      "cell_type": "code",
      "metadata": {
        "colab": {
          "base_uri": "https://localhost:8080/"
        },
        "id": "qwVHRl4xwbDJ",
        "outputId": "0b11286e-94ed-4150-edb2-91c4051f3bce"
      },
      "source": [
        "lis = 'abcdefghijklmnopqrstuvwxyz ABCDEFGHIJKLMNOPQRSTUVWXYZ'\n",
        "caps = [char for char in lis]\n",
        "\n",
        "nums = list(range(0,53))\n",
        "\n",
        "num_lettr_dict = dict(zip(caps,nums))    # ' ' i.e SPACE will be at 26th index\n",
        "print(caps)\n",
        "print(nums)\n",
        "print(num_lettr_dict)"
      ],
      "execution_count": null,
      "outputs": [
        {
          "output_type": "stream",
          "name": "stdout",
          "text": [
            "['a', 'b', 'c', 'd', 'e', 'f', 'g', 'h', 'i', 'j', 'k', 'l', 'm', 'n', 'o', 'p', 'q', 'r', 's', 't', 'u', 'v', 'w', 'x', 'y', 'z', ' ', 'A', 'B', 'C', 'D', 'E', 'F', 'G', 'H', 'I', 'J', 'K', 'L', 'M', 'N', 'O', 'P', 'Q', 'R', 'S', 'T', 'U', 'V', 'W', 'X', 'Y', 'Z']\n",
            "[0, 1, 2, 3, 4, 5, 6, 7, 8, 9, 10, 11, 12, 13, 14, 15, 16, 17, 18, 19, 20, 21, 22, 23, 24, 25, 26, 27, 28, 29, 30, 31, 32, 33, 34, 35, 36, 37, 38, 39, 40, 41, 42, 43, 44, 45, 46, 47, 48, 49, 50, 51, 52]\n",
            "{'a': 0, 'b': 1, 'c': 2, 'd': 3, 'e': 4, 'f': 5, 'g': 6, 'h': 7, 'i': 8, 'j': 9, 'k': 10, 'l': 11, 'm': 12, 'n': 13, 'o': 14, 'p': 15, 'q': 16, 'r': 17, 's': 18, 't': 19, 'u': 20, 'v': 21, 'w': 22, 'x': 23, 'y': 24, 'z': 25, ' ': 26, 'A': 27, 'B': 28, 'C': 29, 'D': 30, 'E': 31, 'F': 32, 'G': 33, 'H': 34, 'I': 35, 'J': 36, 'K': 37, 'L': 38, 'M': 39, 'N': 40, 'O': 41, 'P': 42, 'Q': 43, 'R': 44, 'S': 45, 'T': 46, 'U': 47, 'V': 48, 'W': 49, 'X': 50, 'Y': 51, 'Z': 52}\n"
          ]
        }
      ]
    },
    {
      "cell_type": "code",
      "metadata": {
        "colab": {
          "base_uri": "https://localhost:8080/"
        },
        "id": "m0gqhe0dNX_w",
        "outputId": "04f978e3-9558-4ce7-8124-be932bd204f8"
      },
      "source": [
        "x = int(input())\n",
        "y = int(input())\n",
        "z = int(input())\n",
        "n = int(input())\n",
        "\n",
        "permutations = [[i,j,k] for i in range(0,x+1) for j in range(0,y+1) for k in range(0,z+1) if (i+j+k) != n]\n",
        "print(permutations)"
      ],
      "execution_count": null,
      "outputs": [
        {
          "output_type": "stream",
          "name": "stdout",
          "text": [
            "2\n",
            "3\n",
            "4\n",
            "5\n",
            "[[0, 0, 0], [0, 0, 1], [0, 0, 2], [0, 0, 3], [0, 0, 4], [0, 1, 0], [0, 1, 1], [0, 1, 2], [0, 1, 3], [0, 2, 0], [0, 2, 1], [0, 2, 2], [0, 2, 4], [0, 3, 0], [0, 3, 1], [0, 3, 3], [0, 3, 4], [1, 0, 0], [1, 0, 1], [1, 0, 2], [1, 0, 3], [1, 1, 0], [1, 1, 1], [1, 1, 2], [1, 1, 4], [1, 2, 0], [1, 2, 1], [1, 2, 3], [1, 2, 4], [1, 3, 0], [1, 3, 2], [1, 3, 3], [1, 3, 4], [2, 0, 0], [2, 0, 1], [2, 0, 2], [2, 0, 4], [2, 1, 0], [2, 1, 1], [2, 1, 3], [2, 1, 4], [2, 2, 0], [2, 2, 2], [2, 2, 3], [2, 2, 4], [2, 3, 1], [2, 3, 2], [2, 3, 3], [2, 3, 4]]\n"
          ]
        }
      ]
    },
    {
      "cell_type": "markdown",
      "metadata": {
        "id": "pAEvFv_Tq9Sw"
      },
      "source": [
        "## <u> Problem 3</u> : Create a function that returns the Primorial of a number.\n",
        "\n",
        "### A Primorial is a product of the first n prime numbers (e.g. 2 x 3 x 5 = 30). 2, 3, 5, 7, 11, 13 are prime numbers. If n was 3, you'd multiply 2 x 3 x 5 = 30 or Primorial = 30.\n",
        "\n"
      ]
    },
    {
      "cell_type": "code",
      "metadata": {
        "id": "H0G8p7MPq8ZQ"
      },
      "source": [
        "def generate_n_primes(N):\n",
        "\n",
        "  primes  = []                                               # ITS WORKING\n",
        "  num = 2\n",
        "  while len(primes) < N:\n",
        "      ptest    = [num for i in primes if num%i == 0]\n",
        "      primes  += [] if ptest else [num]\n",
        "      num += 1\n",
        "  return primes\n",
        "\n",
        " "
      ],
      "execution_count": null,
      "outputs": []
    },
    {
      "cell_type": "code",
      "metadata": {
        "colab": {
          "base_uri": "https://localhost:8080/"
        },
        "id": "AVstpgmVq7WQ",
        "outputId": "32a2ea94-8d31-4521-d71d-65310c83e185"
      },
      "source": [
        "N = 6\n",
        "primes  = []                                               # ITS WORKING\n",
        "num = 2\n",
        "while len(primes) < N:\n",
        "    ptest    = [num for i in primes if num%i == 0]\n",
        "    print('Ptest Result:',ptest)\n",
        "    primes  += [] if ptest else [num]\n",
        "    print('Primes', primes)\n",
        "    num += 1\n",
        "    print('Num', num)\n",
        "    print('\\n')\n",
        "# print(primes)\n"
      ],
      "execution_count": null,
      "outputs": [
        {
          "output_type": "stream",
          "name": "stdout",
          "text": [
            "Ptest Result: []\n",
            "Primes [2]\n",
            "Num 3\n",
            "\n",
            "\n",
            "Ptest Result: []\n",
            "Primes [2, 3]\n",
            "Num 4\n",
            "\n",
            "\n",
            "Ptest Result: [4]\n",
            "Primes [2, 3]\n",
            "Num 5\n",
            "\n",
            "\n",
            "Ptest Result: []\n",
            "Primes [2, 3, 5]\n",
            "Num 6\n",
            "\n",
            "\n",
            "Ptest Result: [6, 6]\n",
            "Primes [2, 3, 5]\n",
            "Num 7\n",
            "\n",
            "\n",
            "Ptest Result: []\n",
            "Primes [2, 3, 5, 7]\n",
            "Num 8\n",
            "\n",
            "\n",
            "Ptest Result: [8]\n",
            "Primes [2, 3, 5, 7]\n",
            "Num 9\n",
            "\n",
            "\n",
            "Ptest Result: [9]\n",
            "Primes [2, 3, 5, 7]\n",
            "Num 10\n",
            "\n",
            "\n",
            "Ptest Result: [10, 10]\n",
            "Primes [2, 3, 5, 7]\n",
            "Num 11\n",
            "\n",
            "\n",
            "Ptest Result: []\n",
            "Primes [2, 3, 5, 7, 11]\n",
            "Num 12\n",
            "\n",
            "\n",
            "Ptest Result: [12, 12]\n",
            "Primes [2, 3, 5, 7, 11]\n",
            "Num 13\n",
            "\n",
            "\n",
            "Ptest Result: []\n",
            "Primes [2, 3, 5, 7, 11, 13]\n",
            "Num 14\n",
            "\n",
            "\n"
          ]
        }
      ]
    },
    {
      "cell_type": "markdown",
      "metadata": {
        "id": "Ob--pNdPDYoD"
      },
      "source": [
        "## Hacker Rank Question:\n",
        "\n",
        "Given the participants' score sheet for your University Sports Day, you are required to find the runner-up score. You are given '*n*' scores. Store them in a list and find the score of the runner-up.\n",
        "\n",
        "**Input Format -**\n",
        "The first line contains '*n*'. The second line contains an array  A[] of *n* integers each separated by a space.\n",
        "\n",
        "**Output Format -**\n",
        "Print the runner-up score.\n",
        "\n",
        "**Sample Input -** \n",
        "\n",
        "5\n",
        "\n",
        "2 3 6 6 5\n",
        "\n",
        "**Sample Output-**\n",
        "\n",
        "5\n",
        "\n",
        "**Explanation -** \n",
        "\n",
        "Given list is . The maximum score is , second maximum is . Hence, we print  as the runner-up score."
      ]
    },
    {
      "cell_type": "code",
      "metadata": {
        "id": "9KC2alZKFEqL"
      },
      "source": [
        "# check cases:\n",
        "1) n = 4, arr = -1 0 3 4\n",
        "2) n = 3, arr = -10 0 10\n",
        "3) n = 5, arr = 45  46 47 48 48\n",
        "4) n = 5, arr = -7 -7 -7 -7 -6"
      ],
      "execution_count": null,
      "outputs": []
    },
    {
      "cell_type": "code",
      "metadata": {
        "id": "8fwlr0qrN-sP",
        "colab": {
          "base_uri": "https://localhost:8080/"
        },
        "outputId": "0e0ae939-1b36-490a-e8b3-a63723b9d659"
      },
      "source": [
        "n = int(input())\n",
        "arr = map(int, input().split())\n",
        "\n",
        "arr_set = set(arr)\n",
        "scoreList = sorted(list(arr_set),reverse=True)\n",
        "highest = max(scoreList)\n",
        "runner_up_score = scoreList[scoreList.index(highest)+1]\n",
        "print(runner_up_score)\n",
        "print(highest)"
      ],
      "execution_count": null,
      "outputs": [
        {
          "output_type": "stream",
          "name": "stdout",
          "text": [
            "5\n",
            "3 4 5 6 6\n",
            "5\n",
            "6\n"
          ]
        }
      ]
    },
    {
      "cell_type": "code",
      "metadata": {
        "id": "GrplqX_FwSXq",
        "colab": {
          "base_uri": "https://localhost:8080/"
        },
        "outputId": "9971db15-5f9f-4c06-bafe-661222cd467a"
      },
      "source": [
        "student_score = []\n",
        "python = []\n",
        "for _ in range(int(input())):\n",
        "    name = input()\n",
        "    score = float(input())\n",
        "    student_score.append(name)\n",
        "    student_score.append(score)\n",
        "    python.append(student_score)\n",
        "    student_score = []\n",
        "print(python)\n",
        "\n",
        "name_list = []\n",
        "score_list = []\n",
        "for i in range(len(python)):\n",
        "  name_list.append(python[i][0])\n",
        "  score_list.append(python[i][1])\n",
        "\n",
        "# print(name_list)\n",
        "# print(score_list)\n",
        "\n",
        "k = score_list.count(min(sorted_scores))\n",
        "sorted_scores = sorted(score_list)\n",
        "low_2nd = sorted_scores[k]\n",
        "# low_2nd = sorted_scores[(sorted_scores.index(min(sorted_scores)))+1]\n",
        "# print(low_2nd)\n",
        "\n",
        "\n",
        "low_finalist = []\n",
        "for student in python:\n",
        "  if student[1] == low_2nd:\n",
        "    low_finalist.append(student[0])\n",
        "\n",
        "for student in sorted(low_finalist):\n",
        "  print(student)"
      ],
      "execution_count": null,
      "outputs": [
        {
          "output_type": "stream",
          "name": "stdout",
          "text": [
            "6\n",
            "A\n",
            "6\n",
            "B\n",
            "6\n",
            "C\n",
            "7\n",
            "D\n",
            "7\n",
            "E\n",
            "8\n",
            "F\n",
            "9\n",
            "[['A', 6.0], ['B', 6.0], ['C', 7.0], ['D', 7.0], ['E', 8.0], ['F', 9.0]]\n",
            "C\n",
            "D\n"
          ]
        }
      ]
    },
    {
      "cell_type": "code",
      "metadata": {
        "colab": {
          "base_uri": "https://localhost:8080/"
        },
        "id": "jZyzkD6Bd0fA",
        "outputId": "d65d1739-985a-4a4c-d8a2-7970971f0868"
      },
      "source": [
        "print(low_2nd)"
      ],
      "execution_count": null,
      "outputs": [
        {
          "output_type": "stream",
          "name": "stdout",
          "text": [
            "6.0\n"
          ]
        }
      ]
    },
    {
      "cell_type": "code",
      "metadata": {
        "id": "KIiZ3lPbHl2i",
        "colab": {
          "base_uri": "https://localhost:8080/"
        },
        "outputId": "ee36561a-dd05-4f80-dc6f-f29a1b11ee7e"
      },
      "source": [
        "\n",
        "print(list(range(len(python))))\n"
      ],
      "execution_count": null,
      "outputs": [
        {
          "output_type": "stream",
          "name": "stdout",
          "text": [
            "[0, 1, 2]\n"
          ]
        }
      ]
    },
    {
      "cell_type": "code",
      "metadata": {
        "colab": {
          "base_uri": "https://localhost:8080/"
        },
        "id": "2z2ho62ybzo1",
        "outputId": "981bb0d7-4a69-4ee0-b961-f6e2c513eb20"
      },
      "source": [
        "# k = sorted_scores.count(min(sorted_scores))\n",
        "k"
      ],
      "execution_count": null,
      "outputs": [
        {
          "output_type": "execute_result",
          "data": {
            "text/plain": [
              "1"
            ]
          },
          "metadata": {},
          "execution_count": 16
        }
      ]
    },
    {
      "cell_type": "code",
      "metadata": {
        "colab": {
          "base_uri": "https://localhost:8080/"
        },
        "id": "bw-HXO7HdDTq",
        "outputId": "a64702e4-9614-4485-bb6e-3440b08ced32"
      },
      "source": [
        "n=sorted_scores.index(min(sorted_scores))\n",
        "n"
      ],
      "execution_count": null,
      "outputs": [
        {
          "output_type": "execute_result",
          "data": {
            "text/plain": [
              "0"
            ]
          },
          "metadata": {},
          "execution_count": 12
        }
      ]
    },
    {
      "cell_type": "code",
      "metadata": {
        "colab": {
          "base_uri": "https://localhost:8080/"
        },
        "id": "VAcWNO_bZmHD",
        "outputId": "bbaa2f9a-22d9-4577-c33d-e6a09aca1ef0"
      },
      "source": [
        "print(python[0][1])"
      ],
      "execution_count": null,
      "outputs": [
        {
          "output_type": "stream",
          "name": "stdout",
          "text": [
            "7.0\n"
          ]
        }
      ]
    },
    {
      "cell_type": "code",
      "metadata": {
        "id": "CmVx486EjKiO",
        "colab": {
          "base_uri": "https://localhost:8080/"
        },
        "outputId": "ee0e8fdc-9c2c-4502-be8e-95cdf9f50076"
      },
      "source": [
        "student_score = []\n",
        "for _ in range(int(input())):\n",
        "    name = input()\n",
        "    score = float(input())\n",
        "    student_score.append([name, score])\n",
        "\n",
        "name_list = []\n",
        "score_list = []\n",
        "for i in range(len(student_score)):\n",
        "  name_list.append(student_score[i][0])\n",
        "  score_list.append(student_score[i][1])\n",
        "\n",
        "sorted_scores = sorted(list(set([x[1] for x in student_score])))\n",
        "low_2nd = sorted_scores[(sorted_scores.index(min(sorted_scores)))+1]\n",
        "# print(low_2nd)\n",
        "\n",
        "\n",
        "low_finalist = []\n",
        "for student in python:\n",
        "  if student[1] == low_2nd:\n",
        "    low_finalist.append(student[0])\n",
        "\n",
        "for student in sorted(low_finalist):\n",
        "  print(student)"
      ],
      "execution_count": null,
      "outputs": [
        {
          "output_type": "stream",
          "name": "stdout",
          "text": [
            "6\n",
            "a\n",
            "6\n",
            "b\n",
            "7\n",
            "c\n",
            "7\n",
            "d\n",
            "7\n",
            "e\n",
            "8\n",
            "f\n",
            "9\n",
            "c\n",
            "d\n"
          ]
        }
      ]
    },
    {
      "cell_type": "code",
      "metadata": {
        "colab": {
          "base_uri": "https://localhost:8080/"
        },
        "id": "nKj9KW2I-Ymr",
        "outputId": "206a9497-f11a-4f13-c383-a43c00409973"
      },
      "source": [
        "print(student_score)"
      ],
      "execution_count": null,
      "outputs": [
        {
          "output_type": "stream",
          "name": "stdout",
          "text": [
            "[['A', 6.0], ['B', 7.0], ['C', 7.0], ['D', 8.0], ['E', 9.0]]\n"
          ]
        }
      ]
    },
    {
      "cell_type": "code",
      "metadata": {
        "id": "nINfqccP-kqK"
      },
      "source": [
        "lis= [1,1,1,2,1,2,2]\n"
      ],
      "execution_count": null,
      "outputs": []
    },
    {
      "cell_type": "markdown",
      "metadata": {
        "id": "DDlJGQoQe1Jv"
      },
      "source": [
        "## Hacker Rank Ques.\n",
        "\n",
        "print avg marks of a student upto 2 decimal places.\n",
        "\n",
        "**Std Inputs -**\n",
        "\n",
        "*n* = no. of students;\n",
        "input = name of student-1 and marks obtained by him just separated by the spaces(& not commas);\n",
        "write n such inputs;\n",
        "query_name = name of the student whose avg marks are required;\n",
        "\n",
        "**Example**\n",
        "\n",
        "n = 2\n",
        "\n",
        "1st input = raj 24 25 26\n",
        "\n",
        "2nd input = ansh 34 35 36\n",
        "\n",
        "query name = ansh\n",
        "\n",
        "you will get students_marks dict as ==> {'raj': [24.0, 25.0, 26.0], 'ansh': [34.0, 35.0, 36.0]};\n",
        "you need to find avg marks student whose name in provided in query name (as here 'ansh')\n",
        "\n",
        "**Required o/p**\n",
        "\n",
        "35.00\n",
        "( Note that you will get o/p = 35.0, but we need '35.00' i.e 2 digits after decimal pts.)"
      ]
    },
    {
      "cell_type": "code",
      "metadata": {
        "colab": {
          "base_uri": "https://localhost:8080/"
        },
        "id": "7pz_p-vGfGL4",
        "outputId": "3bd0bf33-77a5-480a-dc6b-b449ac2b5f0f"
      },
      "source": [
        "n = int(input())\n",
        "student_marks = {}\n",
        "for _ in range(n):\n",
        "    name, *line = input().split()\n",
        "    scores = list(map(float, line))\n",
        "    student_marks[name] = scores\n",
        "query_name = input()\n",
        "\n",
        "marks = student_marks[query_name]\n",
        "avg = round(sum(marks)/len(marks),2)\n",
        "\n",
        "print('\\n',student_marks)\n",
        "print('\\n',query_name)\n",
        "print('\\n',format(avg,'.2f'))              # note the use of 'format .2f' # vvip"
      ],
      "execution_count": null,
      "outputs": [
        {
          "output_type": "stream",
          "name": "stdout",
          "text": [
            "3\n",
            "Neeraj 45 46  47 48 49\n",
            "Dheeraj 55 56 57 58 59\n",
            "Suraj 65 66 67 68 69\n",
            "Neeraj\n",
            "\n",
            " {'Neeraj': [45.0, 46.0, 47.0, 48.0, 49.0], 'Dheeraj': [55.0, 56.0, 57.0, 58.0, 59.0], 'Suraj': [65.0, 66.0, 67.0, 68.0, 69.0]}\n",
            "\n",
            " Neeraj\n",
            "\n",
            " 47.00\n"
          ]
        }
      ]
    },
    {
      "cell_type": "code",
      "metadata": {
        "colab": {
          "base_uri": "https://localhost:8080/"
        },
        "id": "q4myYl-1lc4h",
        "outputId": "9a821ad3-870c-4a49-c89c-96e3a99afe57"
      },
      "source": [
        "n = input().split()\n",
        "print(n)"
      ],
      "execution_count": null,
      "outputs": [
        {
          "output_type": "stream",
          "name": "stdout",
          "text": [
            "f 5 5re 5y 8 56 \n",
            "['f', '5', '5re', '5y', '8', '56']\n"
          ]
        }
      ]
    },
    {
      "cell_type": "code",
      "metadata": {
        "colab": {
          "base_uri": "https://localhost:8080/"
        },
        "id": "rkfAyPlUkccd",
        "outputId": "8d51fa2f-f641-4f58-bd84-c1b11a082ff6"
      },
      "source": [
        "m,*n = input().split()\n",
        "print(m)\n",
        "print(n)"
      ],
      "execution_count": null,
      "outputs": [
        {
          "output_type": "stream",
          "name": "stdout",
          "text": [
            "abcd 4 5 6 s sfg54\n",
            "abcd\n",
            "['4', '5', '6', 's', 'sfg54']\n"
          ]
        }
      ]
    },
    {
      "cell_type": "code",
      "metadata": {
        "colab": {
          "base_uri": "https://localhost:8080/"
        },
        "id": "u-6akUXWlVKR",
        "outputId": "4e1669bf-d164-4828-e548-56baa0bc12f6"
      },
      "source": [],
      "execution_count": null,
      "outputs": [
        {
          "output_type": "stream",
          "name": "stdout",
          "text": [
            "['b', 'c', '6', '4', '5', '3']\n"
          ]
        }
      ]
    },
    {
      "cell_type": "code",
      "metadata": {
        "id": "VS-k3WgLhCnR"
      },
      "source": [
        "lst = []\n",
        "n = input().split()\n",
        "# lst.insert(input('insert '))\n",
        "print(n)"
      ],
      "execution_count": null,
      "outputs": []
    },
    {
      "cell_type": "code",
      "metadata": {
        "id": "3OjzHeOFf1Ei"
      },
      "source": [],
      "execution_count": null,
      "outputs": []
    },
    {
      "cell_type": "markdown",
      "metadata": {
        "id": "Jpd5TmXM-ifs"
      },
      "source": [
        "#<u>**Problem 2**</u>\n",
        "\n",
        "### In this problem, we are going to calculate distances between some pairs of points :\n",
        "\n",
        "### <u> Measures of distances </u>\n",
        "* ### Euclidean Distance : The distance between two points $(x_{1},y_{1})$ , $(x_{2},y_{2})$ is defined as :\n",
        "${\\displaystyle d(x,y)={\\sqrt {(x_{1}-x_{2})^{2}+(y_{1}-y_{2})^{2}}}.}$\n",
        "\n",
        "* ### Manhattan Distance : The distance between two points $(x_{1},y_{1})$ , $(x_{2},y_{2})$ is defined as :\n",
        "${\\displaystyle d(x,y)=|x_{1}-x_{2}|+|y_{1}-y_{2}|}$\n"
      ]
    },
    {
      "cell_type": "markdown",
      "metadata": {
        "id": "JmZcB-0u-kba"
      },
      "source": [
        "### Create a 2-D array of 10 points where the x-coordinates and the y-coordinates can take random integral values between 5 and 20.\n",
        "\n",
        "\n",
        "### Next, create two 1-D arrays(one for  Euclidean distance and the other for  Manhattan distance) for these points\n"
      ]
    },
    {
      "cell_type": "code",
      "metadata": {
        "colab": {
          "base_uri": "https://localhost:8080/"
        },
        "id": "kso7kcWi_foi",
        "outputId": "af1038bb-64e9-4985-b133-555ca840bed4"
      },
      "source": [
        "# Create the 10 points\n",
        "import numpy as np\n",
        "\n",
        "xy = np.random.randint(5,20,(10,2))\n",
        "print(xy)\n",
        "\n",
        "# x = xy[0][0]\n",
        "# y = xy[1][0]\n",
        "# print(x)\n",
        "# print(y)"
      ],
      "execution_count": null,
      "outputs": [
        {
          "output_type": "stream",
          "name": "stdout",
          "text": [
            "[[18 18]\n",
            " [ 8 15]\n",
            " [ 8 18]\n",
            " [16  7]\n",
            " [18 13]\n",
            " [10 12]\n",
            " [16 13]\n",
            " [ 8  9]\n",
            " [14 15]\n",
            " [14  8]]\n"
          ]
        }
      ]
    },
    {
      "cell_type": "code",
      "metadata": {
        "colab": {
          "base_uri": "https://localhost:8080/"
        },
        "id": "AW8d3ziC-bGZ",
        "outputId": "e72666c9-b6ef-46f6-9a46-d5190eda4b89"
      },
      "source": [
        "\n",
        "EDist = []\n",
        "array = []\n",
        "for i in range(len(xy)) :\n",
        "  # print('i=',i)\n",
        "  for j in range(len(xy)):\n",
        "    x1 = xy[i][0]\n",
        "    y1 = xy[i][1]\n",
        "    x2 = xy[j][0]\n",
        "    y2 = xy[j][1]\n",
        "    # print('x1 = :',x1)\n",
        "    # print('y1 = :',y1)\n",
        "    # print('x2 = :',x2)\n",
        "    # print('y2 = :',y2)\n",
        "    ed = round(((x1 - x2)**2 + (y1 - y2)**2)**0.5,3)\n",
        "    # print('Euclidean =',ed)\n",
        "    EDist.append(ed)\n",
        "    # print(EDist)\n",
        "  array.append(EDist)\n",
        "  EDist = []\n",
        "\n",
        "\n",
        "#   array.append(EDist)\n",
        "print(array)\n",
        "EDArray = np.array(array)\n",
        "\n",
        "print(EDArray)\n"
      ],
      "execution_count": null,
      "outputs": [
        {
          "output_type": "stream",
          "name": "stdout",
          "text": [
            "[[0.0, 10.44, 10.0, 11.18, 5.0, 10.0, 5.385, 13.454, 5.0, 10.77], [10.44, 0.0, 3.0, 11.314, 10.198, 3.606, 8.246, 6.0, 6.0, 9.22], [10.0, 3.0, 0.0, 13.601, 11.18, 6.325, 9.434, 9.0, 6.708, 11.662], [11.18, 11.314, 13.601, 0.0, 6.325, 7.81, 6.0, 8.246, 8.246, 2.236], [5.0, 10.198, 11.18, 6.325, 0.0, 8.062, 2.0, 10.77, 4.472, 6.403], [10.0, 3.606, 6.325, 7.81, 8.062, 0.0, 6.083, 3.606, 5.0, 5.657], [5.385, 8.246, 9.434, 6.0, 2.0, 6.083, 0.0, 8.944, 2.828, 5.385], [13.454, 6.0, 9.0, 8.246, 10.77, 3.606, 8.944, 0.0, 8.485, 6.083], [5.0, 6.0, 6.708, 8.246, 4.472, 5.0, 2.828, 8.485, 0.0, 7.0], [10.77, 9.22, 11.662, 2.236, 6.403, 5.657, 5.385, 6.083, 7.0, 0.0]]\n",
            "[[ 0.    10.44  10.    11.18   5.    10.     5.385 13.454  5.    10.77 ]\n",
            " [10.44   0.     3.    11.314 10.198  3.606  8.246  6.     6.     9.22 ]\n",
            " [10.     3.     0.    13.601 11.18   6.325  9.434  9.     6.708 11.662]\n",
            " [11.18  11.314 13.601  0.     6.325  7.81   6.     8.246  8.246  2.236]\n",
            " [ 5.    10.198 11.18   6.325  0.     8.062  2.    10.77   4.472  6.403]\n",
            " [10.     3.606  6.325  7.81   8.062  0.     6.083  3.606  5.     5.657]\n",
            " [ 5.385  8.246  9.434  6.     2.     6.083  0.     8.944  2.828  5.385]\n",
            " [13.454  6.     9.     8.246 10.77   3.606  8.944  0.     8.485  6.083]\n",
            " [ 5.     6.     6.708  8.246  4.472  5.     2.828  8.485  0.     7.   ]\n",
            " [10.77   9.22  11.662  2.236  6.403  5.657  5.385  6.083  7.     0.   ]]\n"
          ]
        }
      ]
    },
    {
      "cell_type": "code",
      "metadata": {
        "id": "MncfH-P1_Z1i"
      },
      "source": [],
      "execution_count": null,
      "outputs": []
    },
    {
      "cell_type": "code",
      "metadata": {
        "colab": {
          "base_uri": "https://localhost:8080/"
        },
        "id": "VcQslvNh7-xV",
        "outputId": "1ca6f205-0da6-4d6d-d8db-6711cec11393"
      },
      "source": [
        "n = int(input())\n",
        "integer_list = map(int, input().split())\n",
        "t = tuple(integer_list)\n",
        "a = hash(t)\n",
        "print(a)\n"
      ],
      "execution_count": null,
      "outputs": [
        {
          "output_type": "stream",
          "name": "stdout",
          "text": [
            "2\n",
            "1 2\n",
            "3713081631934410656\n"
          ]
        }
      ]
    },
    {
      "cell_type": "code",
      "metadata": {
        "colab": {
          "base_uri": "https://localhost:8080/"
        },
        "id": "61abSaqN8DK3",
        "outputId": "8aed02db-4151-4b54-f86b-9346cf3542f8"
      },
      "source": [
        "type(integer_list)"
      ],
      "execution_count": null,
      "outputs": [
        {
          "output_type": "execute_result",
          "data": {
            "text/plain": [
              "map"
            ]
          },
          "metadata": {},
          "execution_count": 7
        }
      ]
    },
    {
      "cell_type": "code",
      "metadata": {
        "colab": {
          "base_uri": "https://localhost:8080/"
        },
        "id": "N4Bnx8BfBFGk",
        "outputId": "7c781727-afae-419d-82f0-f70eb77875a3"
      },
      "source": [
        "t"
      ],
      "execution_count": null,
      "outputs": [
        {
          "output_type": "execute_result",
          "data": {
            "text/plain": [
              "3"
            ]
          },
          "metadata": {},
          "execution_count": 9
        }
      ]
    },
    {
      "cell_type": "code",
      "metadata": {
        "colab": {
          "base_uri": "https://localhost:8080/"
        },
        "id": "XKYb_BrmBF78",
        "outputId": "b0ab365f-7a14-4b03-af7c-bae09ea5ae12"
      },
      "source": [
        "import numpy as np\n",
        "\n",
        "p = map(int, input().split())\n",
        "q = map(int, input().split())\n",
        "\n",
        "A = np.array(list(p))\n",
        "B = np.array(list(q))\n",
        "\n",
        "print(np.inner(A, B))\n",
        "print(np.outer(A, B))"
      ],
      "execution_count": null,
      "outputs": [
        {
          "output_type": "stream",
          "name": "stdout",
          "text": [
            "0 1\n",
            "2 3\n",
            "3\n",
            "[[0 0]\n",
            " [2 3]]\n"
          ]
        }
      ]
    },
    {
      "cell_type": "code",
      "metadata": {
        "colab": {
          "base_uri": "https://localhost:8080/"
        },
        "id": "rWa4cWSLIyhW",
        "outputId": "17eea3df-aa50-4e2a-8619-acba91b4391d"
      },
      "source": [
        "integer_list"
      ],
      "execution_count": null,
      "outputs": [
        {
          "output_type": "execute_result",
          "data": {
            "text/plain": [
              "<map at 0x7fda63b9fb90>"
            ]
          },
          "metadata": {},
          "execution_count": 17
        }
      ]
    },
    {
      "cell_type": "code",
      "metadata": {
        "id": "ljeVhn12I1xW"
      },
      "source": [
        "# Your code here\n",
        "actor = []\n",
        "num = []\n",
        "n = 0\n",
        "col = imdb_df['actors'].count()\n",
        "\n",
        "for i in range(col):\n",
        "  for j in range(len(imdb_df['actors'][i])):\n",
        "    actr = imdb_df['actors'][i][j]\n",
        "    print(actr)\n",
        "    actor.append(actr)\n",
        "    print(actor)\n",
        "    for k in range(col):\n",
        "      if actr in imdb_df['actors'][k]:\n",
        "        n += 1\n",
        "    num.append(n)\n",
        "    print(num)\n",
        "\n",
        "\n",
        "\n"
      ],
      "execution_count": null,
      "outputs": []
    },
    {
      "cell_type": "code",
      "source": [
        "d = list(range(0))\n",
        "d"
      ],
      "metadata": {
        "colab": {
          "base_uri": "https://localhost:8080/"
        },
        "id": "37Wun7XCiEaf",
        "outputId": "9d040e08-3f70-44fe-8edf-35982198ce7d"
      },
      "execution_count": null,
      "outputs": [
        {
          "output_type": "execute_result",
          "data": {
            "text/plain": [
              "[]"
            ]
          },
          "metadata": {},
          "execution_count": 10
        }
      ]
    },
    {
      "cell_type": "code",
      "source": [
        "total={}\n",
        "def insert(items):\n",
        "  if items in total:\n",
        "    total[items] += 1\n",
        "  else:\n",
        "    total[items] = 1\n",
        "insert('Apple')\n",
        "insert('Ball')\n",
        "insert('Apple')\n",
        "print (len(total))"
      ],
      "metadata": {
        "id": "t2sxxtMritM_",
        "colab": {
          "base_uri": "https://localhost:8080/"
        },
        "outputId": "8d1faea7-cf16-476d-dae4-2250a1475128"
      },
      "execution_count": null,
      "outputs": [
        {
          "output_type": "stream",
          "name": "stdout",
          "text": [
            "2\n"
          ]
        }
      ]
    },
    {
      "cell_type": "code",
      "source": [
        "values = [[3, 4, 5, 1], [33, 6, 1, 2]]\n",
        "v = values[0][0]\n",
        "for lst in values:\n",
        "  for element in lst:\n",
        "    if v > element:\n",
        "      v = element\n",
        "print(v)"
      ],
      "metadata": {
        "colab": {
          "base_uri": "https://localhost:8080/"
        },
        "id": "ribzSeldSqGj",
        "outputId": "02f486bb-7bd7-45de-b313-5d11f972f24d"
      },
      "execution_count": null,
      "outputs": [
        {
          "output_type": "stream",
          "name": "stdout",
          "text": [
            "1\n"
          ]
        }
      ]
    },
    {
      "cell_type": "code",
      "source": [
        "for i in range(0, 2, -1):\n",
        "    print(\"Hello\")"
      ],
      "metadata": {
        "id": "TBKI-rmVTBbY"
      },
      "execution_count": null,
      "outputs": []
    },
    {
      "cell_type": "code",
      "source": [
        "list(range(5,0,-2))"
      ],
      "metadata": {
        "colab": {
          "base_uri": "https://localhost:8080/"
        },
        "id": "QdoqPd6SDTk5",
        "outputId": "bc37af47-5a3a-4ed7-d0d0-05e0559d0aac"
      },
      "execution_count": null,
      "outputs": [
        {
          "output_type": "execute_result",
          "data": {
            "text/plain": [
              "[5, 3, 1]"
            ]
          },
          "metadata": {},
          "execution_count": 3
        }
      ]
    },
    {
      "cell_type": "code",
      "source": [
        "a = [11, 13, 51, 66]\n",
        "for i in range(len(a)):\n",
        "    for j in range(len(a)):\n",
        "        print(i, j)\n"
      ],
      "metadata": {
        "colab": {
          "base_uri": "https://localhost:8080/"
        },
        "id": "YBBOkobbDZ-o",
        "outputId": "9b904f89-5362-4d4f-8271-971a0a136e31"
      },
      "execution_count": null,
      "outputs": [
        {
          "output_type": "stream",
          "name": "stdout",
          "text": [
            "0 0\n",
            "0 1\n",
            "0 2\n",
            "0 3\n",
            "1 0\n",
            "1 1\n",
            "1 2\n",
            "1 3\n",
            "2 0\n",
            "2 1\n",
            "2 2\n",
            "2 3\n",
            "3 0\n",
            "3 1\n",
            "3 2\n",
            "3 3\n"
          ]
        }
      ]
    },
    {
      "cell_type": "code",
      "source": [
        "sum = 10\n",
        "for number in [2, 4, 6]:\n",
        "    if number==6:\n",
        "        sum = sum + number\n",
        "    else:\n",
        "        sum = 2\n",
        "print(sum)"
      ],
      "metadata": {
        "colab": {
          "base_uri": "https://localhost:8080/"
        },
        "id": "7CiBCfc9EaCo",
        "outputId": "bef3f8cb-fc1f-4938-b909-a2276c625423"
      },
      "execution_count": null,
      "outputs": [
        {
          "output_type": "stream",
          "name": "stdout",
          "text": [
            "8\n"
          ]
        }
      ]
    },
    {
      "cell_type": "code",
      "source": [
        "x = 1\n",
        "for i in range(5):\n",
        "    x = x*i"
      ],
      "metadata": {
        "id": "xoPlNaW9FMaV"
      },
      "execution_count": null,
      "outputs": []
    },
    {
      "cell_type": "code",
      "source": [
        "x"
      ],
      "metadata": {
        "id": "EEhfJ-V5Fxd6",
        "outputId": "21bb65b2-d7d8-4d2a-989e-058a2b4dc789",
        "colab": {
          "base_uri": "https://localhost:8080/"
        }
      },
      "execution_count": null,
      "outputs": [
        {
          "output_type": "execute_result",
          "data": {
            "text/plain": [
              "0"
            ]
          },
          "metadata": {},
          "execution_count": 7
        }
      ]
    },
    {
      "cell_type": "code",
      "source": [
        "print(print(print(\"almabetter\")))"
      ],
      "metadata": {
        "id": "E9-ZsSVpF099",
        "colab": {
          "base_uri": "https://localhost:8080/"
        },
        "outputId": "80c58e38-4bb8-4327-82e7-dcd8e29428a7"
      },
      "execution_count": null,
      "outputs": [
        {
          "output_type": "stream",
          "name": "stdout",
          "text": [
            "almabetter\n",
            "None\n",
            "None\n"
          ]
        }
      ]
    },
    {
      "cell_type": "code",
      "source": [
        "for i in ''\":\n",
        "   print (i)"
      ],
      "metadata": {
        "colab": {
          "base_uri": "https://localhost:8080/",
          "height": 130
        },
        "id": "4WYi072W5bR2",
        "outputId": "29eebc8f-f1ba-4874-b20b-5f221ee94ad0"
      },
      "execution_count": null,
      "outputs": [
        {
          "output_type": "error",
          "ename": "SyntaxError",
          "evalue": "ignored",
          "traceback": [
            "\u001b[0;36m  File \u001b[0;32m\"<ipython-input-2-a49baa2df4cf>\"\u001b[0;36m, line \u001b[0;32m1\u001b[0m\n\u001b[0;31m    for i in ''\":\u001b[0m\n\u001b[0m                 ^\u001b[0m\n\u001b[0;31mSyntaxError\u001b[0m\u001b[0;31m:\u001b[0m EOL while scanning string literal\n"
          ]
        }
      ]
    },
    {
      "cell_type": "code",
      "source": [
        "t=32.00\n",
        "[round((x-32)*5/9) for x in t]"
      ],
      "metadata": {
        "colab": {
          "base_uri": "https://localhost:8080/",
          "height": 182
        },
        "id": "3YEG7__66inX",
        "outputId": "25c6f16f-0517-44db-aa5f-c6b4fa3a7b9d"
      },
      "execution_count": null,
      "outputs": [
        {
          "output_type": "error",
          "ename": "TypeError",
          "evalue": "ignored",
          "traceback": [
            "\u001b[0;31m---------------------------------------------------------------------------\u001b[0m",
            "\u001b[0;31mTypeError\u001b[0m                                 Traceback (most recent call last)",
            "\u001b[0;32m<ipython-input-3-bf44b4ff997a>\u001b[0m in \u001b[0;36m<module>\u001b[0;34m()\u001b[0m\n\u001b[1;32m      1\u001b[0m \u001b[0mt\u001b[0m\u001b[0;34m=\u001b[0m\u001b[0;36m32.00\u001b[0m\u001b[0;34m\u001b[0m\u001b[0;34m\u001b[0m\u001b[0m\n\u001b[0;32m----> 2\u001b[0;31m \u001b[0;34m[\u001b[0m\u001b[0mround\u001b[0m\u001b[0;34m(\u001b[0m\u001b[0;34m(\u001b[0m\u001b[0mx\u001b[0m\u001b[0;34m-\u001b[0m\u001b[0;36m32\u001b[0m\u001b[0;34m)\u001b[0m\u001b[0;34m*\u001b[0m\u001b[0;36m5\u001b[0m\u001b[0;34m/\u001b[0m\u001b[0;36m9\u001b[0m\u001b[0;34m)\u001b[0m \u001b[0;32mfor\u001b[0m \u001b[0mx\u001b[0m \u001b[0;32min\u001b[0m \u001b[0mt\u001b[0m\u001b[0;34m]\u001b[0m\u001b[0;34m\u001b[0m\u001b[0;34m\u001b[0m\u001b[0m\n\u001b[0m",
            "\u001b[0;31mTypeError\u001b[0m: 'float' object is not iterable"
          ]
        }
      ]
    },
    {
      "cell_type": "code",
      "source": [
        "nums = set([1,1,2,3,3,3,4,4])\n",
        "print(len(nums))"
      ],
      "metadata": {
        "colab": {
          "base_uri": "https://localhost:8080/"
        },
        "id": "37sD0K7C67zJ",
        "outputId": "c58f8955-e0ea-48c8-bb12-55c8c37e607d"
      },
      "execution_count": null,
      "outputs": [
        {
          "output_type": "stream",
          "name": "stdout",
          "text": [
            "4\n"
          ]
        }
      ]
    },
    {
      "cell_type": "code",
      "source": [
        "import math\n",
        "abs(math.sqrt(25))"
      ],
      "metadata": {
        "colab": {
          "base_uri": "https://localhost:8080/"
        },
        "id": "HdH82VyI76Qf",
        "outputId": "6c48acb5-4112-49e2-e2d2-4a29c7bb0743"
      },
      "execution_count": null,
      "outputs": [
        {
          "output_type": "execute_result",
          "data": {
            "text/plain": [
              "5.0"
            ]
          },
          "metadata": {},
          "execution_count": 5
        }
      ]
    },
    {
      "cell_type": "code",
      "source": [
        "print(int(6 == 6.0) * 3 + 4 % 5)"
      ],
      "metadata": {
        "colab": {
          "base_uri": "https://localhost:8080/"
        },
        "id": "Dud0xofJ8FYM",
        "outputId": "4aaa7c21-dbec-42c2-d204-b86d7ca8b390"
      },
      "execution_count": null,
      "outputs": [
        {
          "output_type": "stream",
          "name": "stdout",
          "text": [
            "7\n"
          ]
        }
      ]
    },
    {
      "cell_type": "code",
      "source": [
        "A = [[1, 2, 3],\n",
        "[4, 5, 6],\n",
        "[7, 8, 9]]\n",
        "[A[row][1] for row in (0, 1, 2)]"
      ],
      "metadata": {
        "colab": {
          "base_uri": "https://localhost:8080/"
        },
        "id": "xMRIPOdV_T48",
        "outputId": "f510c566-0687-49a8-de92-e0942067e109"
      },
      "execution_count": null,
      "outputs": [
        {
          "output_type": "execute_result",
          "data": {
            "text/plain": [
              "[2, 5, 8]"
            ]
          },
          "metadata": {},
          "execution_count": 7
        }
      ]
    },
    {
      "cell_type": "code",
      "source": [
        "l1=[1, 2, 3, [4]]\n",
        "l2=list(l1)\n",
        "id(l1)==id(l2)"
      ],
      "metadata": {
        "colab": {
          "base_uri": "https://localhost:8080/"
        },
        "id": "7gZa8Y2xAK5c",
        "outputId": "0f39cdcf-7b86-49cd-d612-c7556dca6f19"
      },
      "execution_count": null,
      "outputs": [
        {
          "output_type": "execute_result",
          "data": {
            "text/plain": [
              "False"
            ]
          },
          "metadata": {},
          "execution_count": 8
        }
      ]
    },
    {
      "cell_type": "code",
      "source": [
        "x = 'abcd'\n",
        "for i in range(len(x)):\n",
        "     print(i)"
      ],
      "metadata": {
        "colab": {
          "base_uri": "https://localhost:8080/"
        },
        "id": "kaNIU0q_AsUN",
        "outputId": "f37f3f48-9487-43e1-c418-84eba1e92157"
      },
      "execution_count": null,
      "outputs": [
        {
          "output_type": "stream",
          "name": "stdout",
          "text": [
            "0\n",
            "1\n",
            "2\n",
            "3\n"
          ]
        }
      ]
    },
    {
      "cell_type": "code",
      "source": [
        "print(12 ^ 2)"
      ],
      "metadata": {
        "colab": {
          "base_uri": "https://localhost:8080/"
        },
        "id": "xsGpF1U3A-I-",
        "outputId": "f451a93f-83e3-4724-f9f0-75f9edfab8ce"
      },
      "execution_count": null,
      "outputs": [
        {
          "output_type": "stream",
          "name": "stdout",
          "text": [
            "14\n"
          ]
        }
      ]
    },
    {
      "cell_type": "code",
      "source": [
        "a=list((45,)*4)\n",
        "print((45)*4)\n",
        "print(a)"
      ],
      "metadata": {
        "colab": {
          "base_uri": "https://localhost:8080/"
        },
        "id": "EKbED8NfBYry",
        "outputId": "2ea13cfb-9b2d-4eba-85dd-a26b0ebaa280"
      },
      "execution_count": null,
      "outputs": [
        {
          "output_type": "stream",
          "name": "stdout",
          "text": [
            "180\n",
            "[45, 45, 45, 45]\n"
          ]
        }
      ]
    },
    {
      "cell_type": "code",
      "source": [
        "import numpy as np \n",
        "a = np.array([1,2,3]) \n",
        "print (a)"
      ],
      "metadata": {
        "colab": {
          "base_uri": "https://localhost:8080/"
        },
        "id": "pydLOVBPDTba",
        "outputId": "c2c16a2e-79f8-4d6f-c556-7b7fe6788c9b"
      },
      "execution_count": null,
      "outputs": [
        {
          "output_type": "stream",
          "name": "stdout",
          "text": [
            "[1 2 3]\n"
          ]
        }
      ]
    },
    {
      "cell_type": "code",
      "source": [
        "a, b, c = (1,2,3), 5, [2,4]\n",
        "type(b)"
      ],
      "metadata": {
        "id": "ClkUwxkJE5QT",
        "outputId": "7af595af-67db-42a1-cc92-9ebdc0b379fc",
        "colab": {
          "base_uri": "https://localhost:8080/"
        }
      },
      "execution_count": null,
      "outputs": [
        {
          "output_type": "execute_result",
          "data": {
            "text/plain": [
              "int"
            ]
          },
          "metadata": {},
          "execution_count": 1
        }
      ]
    },
    {
      "cell_type": "markdown",
      "source": [
        "## 1. Write a program in Python to check whether an integer is Armstrong number or not.\n",
        "\n",
        "**What is Armstrong Number?**\n",
        "\n",
        "It is a number which is equal to the sum of cube of its digits.\n",
        "For eg: 153, 370 etc.\n",
        "Lets see it practically by calculating it,\n",
        "\n",
        "Suppose I am taking 153 for an example \n",
        "\n",
        "First calculate the cube of its each digits\n",
        "\n",
        "  1^3 = (1 * 1 * 1) = 1\n",
        "\n",
        "  5^3 = (5 * 5 * 5) = 125\n",
        "\n",
        "  3^3= (3 * 3 * 3) = 27\n",
        "\n",
        "Now add the cube \n",
        "\n",
        "1+125+27 = 153\n",
        "\n",
        "It means 153 is an Armstrong Number."
      ],
      "metadata": {
        "id": "xlF0-8tciDTD"
      }
    },
    {
      "cell_type": "code",
      "source": [
        "n=int(input(\"Enter a number: \"))"
      ],
      "metadata": {
        "id": "Kq0KW4cxRiiX",
        "colab": {
          "base_uri": "https://localhost:8080/"
        },
        "outputId": "83038a0b-6dfe-491f-a002-0ca4c6f721b5"
      },
      "execution_count": null,
      "outputs": [
        {
          "name": "stdout",
          "output_type": "stream",
          "text": [
            "Enter a number: 7854\n"
          ]
        }
      ]
    },
    {
      "cell_type": "code",
      "source": [
        "# Write Your Code Here\n",
        "\n",
        "a = n\n",
        "b = len(str(n))\n",
        "sum1 = 0\n",
        "while n != 0:\n",
        "    r = n % 10\n",
        "    sum1 = sum1+(r**b)\n",
        "    n = n//10\n",
        "if n == sum1:\n",
        "    print(\"The given number\", a, \"is armstrong number\")\n",
        "else:\n",
        "    print(\"The given number\", a, \"is not armstrong number\")\n",
        " "
      ],
      "metadata": {
        "colab": {
          "base_uri": "https://localhost:8080/"
        },
        "id": "szcsw1rgh3Wn",
        "outputId": "e29818f3-ae80-4925-dce0-29cd3d6e6538"
      },
      "execution_count": null,
      "outputs": [
        {
          "output_type": "stream",
          "name": "stdout",
          "text": [
            "The given number 7854 is not armstrong number\n"
          ]
        }
      ]
    },
    {
      "cell_type": "markdown",
      "source": [
        "## 2. Write a program in Python to print the fibonacci series using recursive method.\n",
        "\n",
        "\n",
        "**What is Fibonacci Series?**\n",
        "\n",
        "A Fibonacci series is a series in which next number is a sum of previous two numbers.\n",
        "\n",
        " \n",
        "\n",
        "For example : 0, 1, 1, 2, 3, 5, 8 ……\n",
        "\n",
        "In Fibonacci Series, first number starts with 0 and second is with 1 and then its grow like,\n",
        "\n",
        "0\n",
        "\n",
        "1\n",
        "\n",
        "\n",
        " \n",
        "0 + 1 = 1\n",
        "\n",
        "1 + 1 = 2\n",
        "\n",
        "1 + 2 = 3\n",
        "\n",
        "2 + 3 = 5 and \n",
        "\n",
        "so on…\n",
        "\n",
        "How our program will behave?\n",
        "Its Logic is different from Fibonacci series program in c using iterative method.\n",
        "\n",
        "Here we have a function named fibonacci() which will take a input and then return element. Each time it will call itself to calculate the elements of the series. \n",
        "\n",
        "Like if someone given 6 as a input then our program should return,\n",
        "\n",
        "0, 1, 1, 2, 3, 5"
      ],
      "metadata": {
        "id": "wmKLZZHZiH0A"
      }
    },
    {
      "cell_type": "code",
      "source": [
        "# Write Your Code Here\n",
        "def fibonacci(n):\n",
        "    if(n <= 1):\n",
        "        return n\n",
        "    else:\n",
        "        return(fibonacci(n-1) + fibonacci(n-2))\n",
        "n = int(input(\"Enter number of terms:\"))\n",
        "print(\"Fibonacci sequence:\")\n",
        "for i in range(n):\n",
        "    print(fibonacci(i))"
      ],
      "metadata": {
        "colab": {
          "base_uri": "https://localhost:8080/"
        },
        "id": "B705iCSWh9pW",
        "outputId": "fb88ec72-42ef-4373-94a3-235bef9d99c8"
      },
      "execution_count": null,
      "outputs": [
        {
          "output_type": "stream",
          "name": "stdout",
          "text": [
            "Enter number of terms:12\n",
            "Fibonacci sequence:\n",
            "0\n",
            "1\n",
            "1\n",
            "2\n",
            "3\n",
            "5\n",
            "8\n",
            "13\n",
            "21\n",
            "34\n",
            "55\n",
            "89\n"
          ]
        }
      ]
    },
    {
      "cell_type": "code",
      "source": [],
      "metadata": {
        "id": "oRu2nV7jiLzn"
      },
      "execution_count": null,
      "outputs": []
    },
    {
      "cell_type": "markdown",
      "source": [
        "## 1. Write a program in Python for, In a array 1-100 multiple numbers are duplicates, How do you find it?\n",
        "\n",
        "![image.png](data:image/png;base64,iVBORw0KGgoAAAANSUhEUgAAAx8AAADuCAYAAABYgrqEAAAAAXNSR0IArs4c6QAAAARnQU1BAACxjwv8YQUAAAAJcEhZcwAAFiUAABYlAUlSJPAAAP+lSURBVHhe7L0HnFvXdef/RR0AgzaYAWYwvffC4bB3URJVLMlyle3YTnMcJ9lsyibZzSb5Z5MtcdbOZrMpdpzEsS03Wb1RjRLF3tv03nsvGHRg/udhhhIpybZISpRkv6+Nj4bAe8A79557zvm9d+97mhUBFRUVFRUVFRUVFRWVdxnt2n9VVFRUVFRUVFRUVFTeVVTxoaKioqKioqKioqJyU/ix067uvu8zLC7MyGt27R0VFRUVFRUVFRUVFZW3R+PFM2t/vY565UNFRUVFRUVFRUVF5abwE698+JcXWPYtrL2joqKioqKioqKioqLy9jhz6ujaX6/zE8WHXreCThtfe0dFRUVFRUVFRUVFReXt8fijD6399To/UXwEgwF5+dfeUVFRUVFRUVFRUVFReXscP/zC2l+v8xPFx8TkFJOT02vvqKioqKioqKioqKiovD2Gei+s/fU66oJzFRUVFRUVFRUVFZWbgio+VFRUVFRUVFRUVFRuCqr4UFFRUVFRUVFRUVG5KajiQ0VFRUVFRUVFRUXlpqCKDxUVFRUVFRUVFRWVm8JNv9uV1ZmC3enCYgCdBlZiYaKBCeYWw8z51jZSUXm3sVjROVLITIqDz8fi9ALL8nZ09VOVDyJaAxq9BVeKDWuyEZNeAozCSkz+H2JxfI4lfzDRzyoqKioqKirvPm91t6ubLj4233k/t374o9SkihARARJZHmW25R958uAQT59c20hF5d2mdivO2+7jPxf70Zw6xcFvv8hZeXtm9VOVDyKmDAyuGj76se1srcuhKFUCjEJkgahvkEP/73GOXezmzOq7KioqKioqKu8y7wvxkVdRQ2ndJrzefOprCqjKiRJq/Et++Ewv3zu4tpGKyrvNpltJvf8X+EqlD+3BV3n67x7jiLw9ufrpBxgPxqRidt6RQ7ZzifhkB6+cG2Nk6ufgYaE5NSRtupf/fFcxDcl+gl1NXJoMshSLYjNGOPv0Mdp7Rxhc21zl/YM9M5fcjbuochnwmN88G3h59CDdPb0caYa3zlgqKioqKu9H3hfP+Rhoa+KlRx/mOz86weFLY8xGIBpf+1DlvSPZht6bTU52KmlO89qbH0ySrHZc2bnkeE2k2tfe/LnBil5fQGl1PRs3VbKhPA1HsnHts59tDGkO7A3lZHoN6KY6aXz8YR558Ad8+7tP8tDTpzk2MacKj/cp9oxsKu76OPd/8n4+9dF97Nq5mV07Xn9trk2lOBPWJtKpqKioqHyAeW8WnEdXYDJCdDFGSP6pnsh6H1C6DscDv8YXf2Uvd23NXXvzg0lGdQO7fu0/8OufyeG2+rU3f24YJhh4lh/96//lf/2vb/PX322iZ3Rp7bOfbVx6HbXWJOxxP76pOYbaFwj4IviW/QwNjxIIBNe2VHm/oYgKvby0i/00HXuOP/wvf8l/+i9/8drrL7/ezOPHIa4mCxUVFZUPPNc57SoPh6uYXXe4MUcjRObDWLNdWEx6krRxiAWZH+5guKudswNBFoNvvLRhk9dm7v38rXzsU15sLX/JY/t/zLQrYyrJqTmsaygiJ91GqkmXUEyaWIiwb4axzou0DszQNRFe3d6STrInn4aaPHLcyTjN2tXtiRGPBgnMjdPb3EtH6yCKZcpeepMFd8V6SnIzKfbYMF9eDC//i8fC+IabGe++yKkBmA8oP6KkSRc5pQWU1haS5TJhNWjlXWlKsX1papDRgW5Otc8y71s7ruvB6MKcsmp7boadNPPrtkf8c4x1XKRtYJqOcUXCgae4kvyaOkr0U8R1JpYMLjKT9ZjEmJUVsT8wxXB7F51NnQyIHcn5peRXVpEbn2GlsBZtzU4+kzaBb3SMs22rE5BivjHmx3s4cGaIiVll6o5OXqlkFeVTtk6x3YzN+Lrtvukhxga7Od0+w8zi67bnllVRUV+Pc/4iYb2VZVspuXY9FmVRcDwKS8NcbOnh8IX+tT2ujZziEipq67DK8aaU1eHdto8GzUnmRqe42LO6TWiulZmhExxpgolSZdrVZ/lKZRD7wDCnD/URcCWxkqT4i9gSWWJ2QNqp+RLN4ihziSZWWj+VzII8yuqLE/1uT9K9bvvsCJMDXdLvM0wtrPbJdWFNx+gpYnNVJvkeKyni8wlW4qxEQ4RmB2jpHOBY4/Dq+6RgSMpl860lFOQ4SFHcUwjNd8g4PMphsXdsdvW9y+iNRmq376UoPwuvZe3NK4kHiPqnaXv5At3DUwwlysNUMvLyKG9QbDcnbE+sqogHWRbbpwY7Ez4/MXcDRb7JhT4ln/U1+RRlOnAnr54fiUfkeJZnGGqR4xmapGNtcY4rt4j8hm1UugzkFeaTUdNAld3PysgQXcdb5LhlzIodwekuXhIfHhy/diGm0Wix59aSX5hHbXEKVr0Wg3btHHxkGf/8ONMjSr/PMjaTCBAJMvKLqNm6G+fCReLSfnO2yoTP22W8JFgcoqOrjxdOdq3+OyMHbdUm7nIuYpIq+8KcldocG167MdHOKyyxINsPvniGFvn3VFIKGofEuto8irJTSJW2UjxFI7+m3DohMDfGSJf4ypkuppT95ftTa7ayOT1M0rj89oFz9Mr7c/JaxUtWQSEb9pRjX2xjpL8vMWXvZlC8cQcf+u0/YQen6T1zmD/+h1dEaLxlalJRUVFR+QDxVtOudP9NWPv7Kr73g0dZXvYnXm+mGo/3Fj7/27vYWFVEqdsrhWUxhZL8C/ILqa6vojhVQ+qKFAsjS/gCUSJX5ZEkeWVTVldIZbWNpKlDtHXN0XRV3akk9ySpw8ooqN3GPR/eyVb5jeoCL9l5hZSVl1BVlk1m0jzBRR9j477Eb8ST83Bmb+Cuu7ezraFMioUssrNzKSgrpbxa/l3kIlkK96WBfial5g3FLZgdOdTddS97d21gX4MUcFkZ5EqRlVtcJL9TSLZxGpMUrq0TUi9IXaXVm7C5a9mwczt33rOdTVW5lOTnkpNdIAVwOSU5VrzJAUZHp1lalmLxmm+htGp7sruEvJptfOi+HWyX47pse6nYXl2eK7YvEF5alN9ZStie3bCDrfc/wIfXuamuKsFbUkVdoQgqKcwLy6toqM7Eow8QmxhmyBclOa+U0k1bqU01SNGaS252PoVOMw6bgzSPtEFuNlkpGmyaOS51TzO3GEKrS8LmqWH9tm3cde9ONlXnUiq2Zyu214jtuTayrCHGxPZFX5Dgmu2VW3Zx56d+gR05QUrKCsmo3Mx66ZuiIhGJsn9ZWpy52VnOtY2u7nCN5JWU07B9J/kWE1nZObjz8sm0iS2ODNzp2Qlb0pPnMYebaRuUgstRiKW8jn3pRjwpqRgyiygvl+MpLiS3qIIGxZ+dcWyLg/TMRKWAjUnHG6Tfa6jbupW7P7xLxIHYXii2Zyn9XkZproMce4jxsRkWlgKv2X6tmDPLyNxwBx+7cwO7pdCvzM0gK6eA/HwRuyX5FKdEWFqY42z7+NoeqYl1Htvv3MjGzeuor6pj0+Z6qnMDZGpPcEnE1/jrFWYCgzGJ+j13sL6hnvWlq+2Tm1tIXn4lG2TfDXW5UvgamD3fzYQolwmtHltaNbXiL3ffvyfR7xUJ2/NlXIkf5aeQ7wgzPiG2L/iRIX8diM97RNjU7eGeO7ayZ1M5tQUesvKKxYcLqC3Pxq2ZEVG0yNBkkJj4fEpeCaW77mBbRS7V4utZLruIIr2IMTPJrlTSxK4M8W+3cZ7m3pk1AX1taHQ67OW7qNu8hY/cVkN5fiYFeblSqIu4ENvLE7YHGOqbY3p6OXFCQ6GoZj13/9JvsD03TEWxF3fVjoTPKz6jFPml7hXCy/MiItcmgxVUorvrM3xpSxabKgpYTi1j9/oi6krzycnKo6Q0ldSwn7CIKkV2zpnT0brquX2ftNV2GZMSD3PE9/OLiimrraamMBW3VkRxRzuz4r4xiaWe7Z/ggdtLaUiTGNN4kRFpxNnLfZVcQ8XGXXz+1++l3jGJZmmCo81X34LB6ZbxlOEh02OXsRRBK6934npSRm4+m3btJSPUwYSI/oPnRhRJr6KioqLyAef3f+dLa3+9znWKj1wcKVLs3JZFXroWu2aSzkNP8MxTR3n01QEW0opIy/ZS4nWga+9icUHEQWRt1wRvR3wo89SzWLdjJ/d8bDsb0+aYPHeA5x76ET881EXPshmjt4SykgwcviU03T2Mym8EQg5McasU08vM957h9PMv8oMnTnKiL8C4IUMKuEzS9GOYgk20TiliopQU124++un1lNvH8V98joe/9SSPvnKelzpGmJRjn+zpZbxnkI5p8EuitjhTaPjEJ9m7vZD1tgm6XhHbnzzMD17sYSQpHVtmJlWF6aQttBBYXKD3DYXfT0c5z5lJ7dbt3PvJ3WxyLzB78RWe/8EPeOhwFx0LRgxeKfiK0kkJ+NF2dSVst+RXiFDbQFVmGinxRWL9p9n/6KM8d2qQMxMO0vOyyHTr8dj8nO2ZY7BvhKGWZi5cHCKS7KGoqpiUmeO8+sJ+vvq1R3nxwCEOHD7H0QuDjM+KaImvYLLZWP/xB0SoFbMpZZqeV59k/xOH+O7+TkaMHqxie3WJl7T5VhGFc3SvnXHPKa2kcsNWCrM9pGgDrPQd58Unn+Lxl0/z1Pk+etqb6egeZnzm+hZGL87N0NHYyrlGPSv2bCrrXWh6vsHB5x7lb//1UMKWV462cLIlxMS8FGJeER8V9ezLcZFjWEY318LxZx/hyVcaebI5hiNHhK3XSbbLRFPrOFMzPlYsFtZ/7BPcsruc7eKPvYee4rknX+U7T7cxZHBj9mZTIwVg6nwbkYUZOq/z1llltXXc/ZF72ZI6xULrqzzx4Hf50TNNHLo4So8Ut7OD3fT2j9I9KoYkkEI8NspA5wUuNY3TPOjALSIwWTdIcOQEx1reLD7isRijfZ1cOH6MV15ebZ8XD3Ry6Kgfe6H0o2kBhs/xwsluWiZ9hESsrPvIx7llbxW7MhbpP/I0Lzz5Mt98vJUhfSqmjGxqK/NwzbcTXZhKjJVrQ7kaIP1Wt5lPfX4fDZ4FljuO8Nx3v8XDh4domtIlxHJRoRunHvmsk3nx+WkRrMPN5zh79DBt40ssZ1aRrptk9vQR9n/5X3hI7Hri0BlePdfP0ISPqKJYrhWNhpAnj+SkMOkLjRzZ/yzPvHiUx07047NkYs/wUlHgZPlML77hKUbWdsvIK6RaRHe+Nw23KY5x5CSHnn2GR184xqPnBulubaRT4srI5NrNf0Ukays3si8/g6rUJAoM0sdHXxEfO8iDj12grbuL5u5+mkemmJDNw9FkaQgXRSLoo3OtNL7wLI88dZIDlybpxos3002WiKK08Ak6pP+HZ+0sTrqprMkkwxshNamRxqkoo3OiTBRqd1KypZL71plYOPUcbeebOTey9tkauz75y3zkMx/nFz9cTVb3CPGhCdYuLN4Q7uw8qrftxhPuYmq4X8THqCo+VFRUVH4GeCvxsXb9/3pQzs5rWQlPsTjdwtGLnZxr7aS7u4Mjr/TTMaRF482ntMGIN2d1j2tCbwJPBen5+SJiVogOHKOr6SwnWiRpd0iReaqbw0fnmNNm4i5NRepIzJKLiU3jn2/m9JGjHJTC+USjCJX+bjoudNF4ZICxJalcHEm4vMrUE+WHktBq7VgtJixGURaROWbHxxntlgLv0gVOvXqYo+d7UGYfLCcElJckYz0VxblkWadZHnqVYxdaOdPSRV93G6dfaqW93Y/fmk1BZSkZWR5lp2tDJwfmLsetnOnO1hAbOiG2n+F4yxBd7a1cON3Fq4dnmEEETkkalQ2Jx1asollBI8X9ooixnqeP0Xixh6ZLF+k4d5COMR/LOiep3szEtJuwCJfFqQkmp8dZEAEXl8IsHvZJIT/N4NBI4jU0Os2YCIJwRClC0jEYRKQV5ZJtn8M/dJATF1o41dxJf28bZw600ta6zHJyNnkVJWTmpK8e0xoaKSf08TDj3UMcfe4MZy/20dbWQ78IoIvSrwPji2tbXjtBv58ZZZrgTIilgFIvxogFp1mYWbVDeQ2PLySER/jKs/KaCIGJPsZOvML5S11cam6V4znBqf4p+iMm7NJW+UkmPPI/g66BsoI8cp2LUtS/wsmLYnuT2N7XztmX22htXmTJkk1OeQlZeRlrP3DtJBkNOB3J4o9a4kER0ePDjI500dV2nrMnjvDq2XbaBq+cRxVhJb7E/PQEQ91TdDb5WFiK/sRnlqysxFmanWFiVGmbUXnNim8YSK3PJ9UaINDTw6nHL9AvfbKIG53YXlqQT57LR2TkZc5cak6MrYH+Ns4dbKP50jwLpmyySkvIzpPBda1odVBQhquyiOpcOb6hM3SfP86RlmE6RJheOtvK/pcmGY16cRXnsEnGu9MhlgcDLE2OMTYyytjUHPOhOJFohPDyIrPS56MJHxZBMLVMMHx1If22WZH4M9zGwPkT7D8gMehSD62dfSL2mjnaMUbjdBStIxW3wUja2i5Xovj8zNA4R585xWmJJa3tvQw2X+JSSz89w5cF5BXoV4jNjbF84iWaz17kgsTVwcF2mpvaaOkZSYibxOSuuIyXcBtNZ0/w6sFTHJEY197TTZfEovMvdjI8ESOSbBYhKj5lkdDonyU4fIaJySX8Og951RtJs7tYvb2EhqL8NMqyk7EtD9PbPU9n/5unDva3XOD4iy/y+JNHOCbten2TJN+IC53GRZK4QFJaGRWb7uS3/8Ov8jv/4Qv89pc+y2/94oe4b0MmldK4a5PdVFRUVFQ+wNyA+FglvDTCzIgkyIFZhucWCS3P0Hmqj74+Pz6zE091Cs4sERLXiiRyMouwZbhxJ0shtTRNGANJ6YUUZqXi1GpYngoSjEuR5jWTUSm7JLLoMpHIBCOjs8z69ehEZeQXZZLjNGPzB4lFpAQ2aDDYJJElrFfO6M8wt+gnuGLC7PaSXVxAQaaTTO0yS1JU9/SPJs4crk4lkQJcV01uqgOnUYo0sXdRCvpkTzrF+U6sy0GpCaKEtDYc2XlY096qHPkp6A2icQrE9nQ8yVJE+6aJrOgwiu0FWWmk6HQsTwYIxpIxZZjxiu3Gy/P2V6TACs9Igd/D+VdbGRyXonxqlIWBswxOzjMXNmI0OURwrS0MSJxfDErxGiam1GY/8XRjOnpdLTkuJ64kafvlaRZFuFk8GZQUpGALhIgvKNMwrNizFNvda/utEY9J24zT19nLy0f66BkXkbS4TGxmnPGJxcSDJm8ucfm/FOpD/XQfPU/X0CJTM7NEpqWgG5umxxdDZ0omXauV8kgKcG0dWSkppJrEdt8kS9LHJncGpUUu7KFV2wMrydgz87C5r0N0ruEPhJmYXsIXN5HkzCC7oIjiQifpVh/RyXY6+kYYmHxroRbxr7AsRWdYmvJt30ROBoLeKWOktpSdHyrGqxtjqrmRVw90MTy9TIhUtJp1ZDldYntIbJ9gSZMshWIGZSWpOOTHVhbCBOIWbJm52NKvFp1vC50MxuJ8LMVeMkw+ltou0dfYSefsCr7FSSb7BzhxcICBOSMGdxoV65zYHIkVJ+8+ytqDhSl8U7MMzkuFbM8iIzuH8iy7xIIViQsyRnVGLBoNb14+I4JefGW4p5cXDnbTMeRjfjHAyqy08eQC0/NvsTYovoxvbICeA8fo6BSxMa/09RyzU1NMTS+gPIt1VVjKuF2ZEDEhInI+TtzhJUuZEuax41yW3wiLiJF2TRKRlhjuURE6vib6xbfHl+2k5G4iJ8VFepK0o8Yp9qRS5hKvmWilc3CRrre473TnmaM8//DD/Nu/P8Pz/WN0rL1/Y1gIBTVMjY8wsahBZ8tm25aN7L71Nu6+5x4+/cl7+fCeKjYXu3CK+rhJva6ioqKi8i5xw+IjGp4k5O9KPEE4gbJ4eHFGRIlPkrIZk7UGozl79bNrQVmI7Dait5mwWjPJ3f0lPvmbf85X/3rt9RcP8F+/WEKFRwTD2i6rpGB11LL7w5/l13//D/gf//PP+cqXlX2+wJ/9551sKbDhulx3J+jFHzzI8aY+upczSNvwCT77R7/DH/7RL/Hbn9zJLWV2skWovI4RjRReRknqNu8Ginb8Pn/wn/907bj+s7w+yi/cW0pekoakRMa/jiZWVrunie32JKwWD7k7v8jHfuNK2z/Nn/1GGdWZ5jcXO3EpHvxLjIaCiYfmXV5eq9wlxi9FUiihMK4XAxpWbbem15O39ff4vT+8bPsfy+vjfP4j5eSbNJjewvYVER/BJSm6/LOJM6bv+b2HlKIyvCTu6mdgQI5n7YCUmTmj4RjTV90DWinQxHa9DqunluzNv8d//E9/smb7f5XXJ/jlj1dQIDrbLOLwRoZW3+AUT7/USOu8DWfdXTzwu3/KH/3+L/I7n9nBfXUePLZ39ta5GoMB69Y9lG1bx63ps0yfeI7jp45zQj5bna2l9LtV+l2xvRrvht/lN3/3su1K/z/AFx6opkAGokWE2nXZrpzSdplFBOkxx4OEu+MErzytHgrA/KSIfRF5ejcpGRsxJDnXPnyXUWzKXE/x3k/zK7//x/zpX/4Zf63Y/ld/xld/cSefW+9GOb2i9PobUbR8SMTHrAh1ZXH323q6etiHb9ZHb59s/xN3sEosKmbj3o/xS7/9e/zl//hz/vqvlD75D3zlr/axryGd9Ksq9Ygczzyn+sY5OR4i6imiIddKgydVmn8zuaniW6ZZJntfZmB5MjG16+YwQf/gGb714Pf5l6/9H/7my38hMfUv+J9f38/Dp6YZM+WRv/0Otm/bxQYReK61vVRUVFRUPphcf4W0xspKNCE8Vi6fZ1UKulhUauC4FLxatDqL5O7rKJYkySgCRKNT7tI0w3TjYc4ceJZHH197PfooD/3wQb7+9X/jX35whieOS6EklXZaSSE1d+1h18YiihwRwsMtNB07wIH9x9j/Yjd9M0GWrzolHCK0PE7HkefZ//hLPPhMG23T8rvuIso37ebOj32Me26tY3cR2BMXcJQqSeyS4wvOdTPS/BQvPvfM2nEp/32EBx+U4/rn7/D1H53iZPN1pHDFdoNie5yV0DwzzUc4d6Xtjz3Kjx56kH8W27/x/VM8egymXzsRLu0fieCTPlBOXF651EYpqm/sVpWrhaVGji8038N461MceOEtbP/6t/n6Qyc43nh5QfRlVsRXokRFhCjXOK7qhvcEpUFi4q5xQsqVgssuLK+IMtVG8eXXeL3fwwv9TLQ9xctX2f4o3/3ud/n6177F1394nMMXr/8uQaHZISYvvMCzDz3JYy9e5PiUnqCzhPz1u9lz30f41N31bK26/isrV2HzYijYya4NlWzIkLboP8mJ5kHODEoBLB+vStVV25V+jywOMNX+FAdfeoPt3xPb/+mbYvsxXj1/fTcNQC+/IcJbo9zVK6hMAVx7X0HeI6rEFaVP9Oj1FjTKVK13HTs6bRlbNm7g9m0l1GdKi8z00Hn6GC89sZ+nTvZwStpKGWdv6c/iQytxxecjiduKvy2fF1sVnwzLDpd98q2wZ2VQed8+tm2roDpDj3aqk64zh3j1+Vd57AmJY4MirK861yBttxJjua2f6dZxhiMuXCV5ZMn+bK3F49WRvDBF/5FRFqaDV8WOdxeJ00vTTHc00t7aR3PnaOLWyB0XT3D07Gke7Fhi3ODEneqmVHzx5+7RPSoqKio/Y9yw+NCIsNDqk6UwWfsqpXDWG0R06NBplNvbLkp9dx3nuFdP1UsBIkk7OMd0y4sc3f8Q3/zWD970+t6TjbxwDuaXIb04m9q99VTl6IlLMj718vM89fDDfO/7B3joSUnOU4E3iA+paYJ+JhqPc+y5F/jhwy/z/KuXuNC1yMyKl8LN+9i9q4Fbqu04LEqxo2TzsBQTcQKzPYw2P83jj/zozcf14GM8+PQFLnQqN7m8RpSid1naLiS2hxakUDjA8ed/jO1PXOC5M6vCa3VfecmxReSlnDS9kescb0aZ7BEmptg+1yfi4xmeeOwtbP+OiJCnz3O2/YP/vPDXUVoytGr7vBTgbc/w1BMPv4XtD/Odp85yWrk12vWyPEV44BTHn9vPE0+8yBOHLnKybVrEpIe0hr3su3Uju6qzSZFNr38KiiIoTCSnFZLfcAu7iuzkREZoOXGCUz3zdF+1FCEmbnXZ9iEpEp/l2SffwvZv/4jvPHlGBPcbRefbJCw+HxHRodGhTdagu/KSpiI0DEZ0OhEoyviLLkiNfjPKY2WKYiUbq8vYXGLA6TtHx6kDPPvoE3z3Ow/x4KFWjgwsJbxDGXo3k5RMN3V3baO6yIbFP8i5V1/kORGC3//+fv79+01c6l9g4U1nG+Tfg70sdPXTMq1Hl1tA9tZqcnaX4HFJu05NceHMMvNzP2nF0LtAWHLE7BhzswHmFNUr+Ca66Oxu5qnuWUbCWkxGE8pqoquvdKuoqKiofNC4YfFhMHpIshSLCFlb16FMt7GnkWSzYjYECPoaRTxcfh7BNRCSdN69RHgyRtBgw5TtIMn109eOpJiM5Fokqc73c+5SE997tY1LIwFmV8xonPIdIiD0V027uoLQFMsjZzj0+IP8898+yFf+5iAn+qQgSiuisHodJouyon1Zavtp/Mr9cw0erK5KMfkdTodhUUd9YvtElIBie5Zi+/sh5fpFE07hF0G4oldsr0InwvPng4BoQrE9FCauT8OaWi0a+/Iq/3cDpWj0MT9wkeYn/p0H/+4rfOMHInT7xCdcBRSn57BVtrj+iUfK0PdSllfOZ++qoIhu+s6e4ttP9DEy8cY7jinLmyel30V46lKxpdWgN141F/HGUU4IzAaJzUcIaJMwFkuxmb/6UQIpPHGmY05OQif94Js/QyzyFou133GUPs7FKjFFG+hm5OKPOHbuAmf6plB+PclqxG41/NhpV+8mVqOeohQrJv8YnW3N/NvzlzjZu8BkJEkCoQtjsgHjW6rTPiZ8nbzSM4fPnEllYRm/XOkR8bnAwNgEjyp3xrryqpOKioqKiso7yA2LD6MjG09+A7vLvJS4UzFZPVTtKKS42IJ1eY6xCz7mBq/OZFq9hmSPCYvdgEGjTKHwkKyzJebyvqYLlKslc82Mjw3SOWciOW87dVV17ChyYkvSibhx4S6spGHvdraUFVAjuyjrH5SpIVqdAZ3ZRopZT6Y5LqIjh+yaUnbsKSDPacKqnPS9jCuL5MrN7Npdz9a6LLJTNETkuP3RMBGbmXiSHJFOvkOr2KAUhBMEo000D00wFnGTWrSNvRsLqM+zYdWJ6JECKaNqHZv27GBntZ3C61hvjrJ+ZraFybEB2mcMmHO3UiPfubPYiUNsMlpTSC2oYP0t29hSUUit7HKjEiASW0k8l0LnyMArhUulVYtF58BqdeLNSMZoVEqrScLRRlqGJxgJp5JSuJ1bNhTSkG/HqtWJ7R7SK+vYdMsusd1J8RvWm7/7KBXsArGYj2jUKAJhPenOUnI0UshaUrGK+MwSJ1PW1147U0RjjbSOjDMcSMGhTFVqKGRjoQObVove4cZTXsPGvXvYUeOi5LpmRSltnElGbi3b79rJ9vUFlKYa0S/MsxgyEFixkGzQJx5wtyI+rEiCN1zEk/GnIzXbiMmkQadNFoHkxSnF/NVSQcaHwUnR9q2s315KXcoMYxcbuXS2k/75EP7IG791hlj8Eh2jowz5Hdjzd7JzfTGbi8R2ZbG6I420smo23rqXHbVplF3HenNl+hud3Sy2D9O3mExyxQaK11VTnabB5vDiLSniljvzKXQFCI9Nc/HkMguXbxF7E1jR6NAnWbHaMzHF9FhMqaRWSF9XFNCQab3xQHodaOR/Wml/5aYINksSeaYABns6rpJS9t5dSkmmDceVse41wixOztF2qJ/RJRt6p5d6TxLaqQ6mh9tRmvXq5zK92+Tg9tSw97Z1VJY4SVubV2XPqqSqYj2frkgjTxdk0TdPq7y/sPqxioqKisoHlBt8zkcGHmcSJpEM1phyNjwFvSuPbXdvoMYbxjTezqlnLtHUv8x4XLki4iEt3UN+Xhb55RXU1uZRnK08rGoe37yecEiEQaqNJEmYmuUAkcgiWptdipssCrO8pCQl4dDH8eusUmCJwKmpYdO2UrKXl9F3DiQevGXKKcOdX05uqgib0BIGERHxjBqq1pVKMZdBZooN3UIrcyMXOC6ZbM5ahrNyCx/ekkuR10Gy2YjRbCezuIyydRVUFFrQzXQy0nyBU+0LLPiXWNH5CVkzcKZ4yMuSYtEitorwiGsk2ReVUbW+lo11heTGOvEtLNH/hqdL/3Sk+Iv60NlsaBXbvRmkmk04xfaAFJQpWWJ7dQ2bt5WREw5gbOtL3H7TUlRBflUN5UnT9Hb1ceLS6yt2jeZkcht2iEA04o5O8NKJDiZmXn/as81biDOvnEIRhUmhALrFQOLpyRleOzkZcaZnAwSCPvEYX8J2h9NNQY4IT1MIi15PDGvC9or6WjatLyE33oVfecbJ2rMulOd8VKxbhyfcQ0/PIKda3q3lrFJ852SSqdzy1SFFoV9HaEb6J68Yr0dHTvJUYn1MwK08ZLCWfe4wmv5+Ok+1oTzqLbG+15gEVRupznWyxbJMx6FL9I6PMaJdJGzLwCYiqyBHCiZTmGSxPRpPTthetq6WLRsqyBPbQ4tz9Fzzsy4U6V1AYXU1u+9ZL8IjOdHvBr3y/bWUVpVTX5KKc76TnpZ2jjUOobhWxCI+7ckiN8OdeKBkaXUF9XVSHJvDYr+fuRlT4uqcxW4kEIoQiVoxmgrY9om72L45h0rzHJ3n2hmeDhFRhIQ7DY87BbfLhiUk7RP2EdTOE7FnYHWI7Xn5pCWFEmfeI1EzjsIySutq2bq5mryVbiJLM3Rd62xDpdhdjGIxWkjKyJO+cmKXgtoQ9KP1VMpYr+LW3XlkrYivX2riwAs9DEg/Ks9+vExKTgF59Zspty0THeqn42hzok+v/ZnmV5KMTkR4xVbluS9WPKJcp6c0mJx5ZNeLQCzJoMxjwCxtPXbgLL0DY4kCWUF5zkfV5h0Jnx8bHODQhZ+yFibxnI8N7POEsY0P03G4MXH8b31fM7B6snEV15Pj1IoIDGFcFm/w1pBbUc7ebeIPbomloVEiE4cTz3oZvsIfo5EklqeNlNYXkJObRo4hyMipZ2i60MRPWq6Ukp5JemYG2Rl28Y0IWnnd+I0jJG4VVnDPR0pximhONkkMSk6jqG4HGyWW3lPtxCK5pKuxhRckpk2Ir7zFPcJUVFRUVN6HvAsPGczAHAsRmotJIbee6s2buG1nFXXZBinoTtJ8+HkebZyieylG1JICDR/h7vvv4T9+bh+3ba2gujCN1GQzySkFZFdsYNPuLdy6U4pEKThCLX1MEWF2JsTskB9zZhZpRSVUb9rMjh07uHXXBrbW5SeuLIR7+hls7E3cQWl8JYWpqJPCgmzyRECs2yjbb6mmKtWPyddDb8xLYKGLlak18aHJkcK7il1b11EvxfE2+f49u3eyZ1s1DcUWHLJP28HTvPRUM30LEUKS+OKRGEtD44RXjKykF1EoRX9twxZ23bKD23ZsYHN5BjkWKdb7LtI7IgX4NYsPpRKLsDwTZLrfh9mbRWqhYvsmtu/ckXgS+/Z1BRS5NcT6Bhm80J2w/UbEx6LGKe3mokjaraBUitdtW9mxdwtbqmzkmGe51DnHzEKIlVgM38gUoZiILU8R+QXl1DRsXrN9I1sqMsizhgiK7f3Dc3TfdPERIGR2MGvMJT/HS1FFBZv2bGP37vWszwuSFrtIq6jUGfu1io85RmJxfKNTBMMaounF5OeXUrN+Ezv37hS/3cjWykwK7OIj/YrtM3Res/hQrnx4yCopo1basq6qgg2bN7JT2vbWnfU0lNlxaYYZfOUpTp5q4uRUJLFwf6WsnuSP/DK/94l9/MId0gf1XrLTRMjLmLOmV1K6fivbt1SwrdxBa+8E49NpJCXdwr0fLqO+PA2nOYWM0mrqt4sdt+1m3+3KazO3bhdh3zZAZHyG7vgKvrEZgjIAwu4icvLE9vorbK/KptAZTdg+MDRFxzUvdVJ83s+iP0TvYAR7thTP5dVsk2Pavq2BzWUuMjUTiYdaHj52loOyjYSVxF6XeXfEh8Q/aXONNxuLO4/y8ipK6jawRWLK5jIbkb5J/EvyCzlWZg6cZuAmig+fCP4+n4Pc7HQKSkqp3bBNjquO+hw9KQvnGVlxM+Obxb7wZvFB3I8mNEhWRTWeVDsF2gGOPXGGM2cnGPoJyz12P/ArfOQzH+OX7q8hs2uI2NAE3WufXT/Z5Eh82/Wh7ayXtt2zcze33bqb3Zsl5nlXsC50cuaZFzh05CLnlWl5sseV/a6ioqKi8v7lrcSHZkVY+/sq7r7vM0woD22bfKsKarskizv4oy+vI0d7gYXWYxwZsOMP60jSyNfFQyyOSsLt76FxJIQvFJeCziI5pprqAg91WcmJhbJvnhEg1UR0gZGmbnqb+hJXMpRnRpiS0yiuKyI7w0Gq1bC27worKxEi4UUmW3oZaO5LJOqgzUuyJ58NlRlk2I0k1ogTJ+ybYnlpntmkPIyhPrQzjZzugHltJsnpBWyo8FyxvUKcuAir4MIkQ52D9HSOrp5lTnymHHkSrpx8sktEfKRasJm0ibsDKyj7hZdnmOy6RM/oIv1veLr02yeZJPOa7V4HaTZj4ty4NmF7lGh4gcl2sftSb8J2c36JFGyVFBtm6O8d5EyL8u4qBpOF7LpNcqxGXNFJXj3TzdTllZ0K1nTM7gIapN0ynUkkr7VDdHmchYk+jjVNJMTHZdtTsnLJLi2hIM2Mw6S7yvZIYC5he+/I/GvCK7OolJKqatIi/fT3DXGu/ToW4r9NDClZ2HPKWVfgIN1uSFxJU/pTuTvZ7PAFzkq1NGPNw1xSyZ5UER+DQ3Sf60z4W0JqK8+YkYK+PMvBBouf7mPN9E/OM75muzMzJ/EwvcI0ixTuV9gufh8NSJ+I7X0js68Jr7ePMnknjfS8HClw88iw6kmWL788pSem3II2OMtUmxzPyBw9l5c8pOdgLK3llgwzmXI8b0l4ifDiBAel30enjGJikYj9dHK8b7xV9WUiIrKXGDt0gb7RabrWbHdkZJFVVpawPUVZP7Vmu/KcmGhIxqJiu1S5XdcsvNbQ29Ale6msySNPfN69Zs9KNEjUP89ol2L7DL1vsdzDmSk+WdNAsVXEx4j06cm2RJ9e4eXXhUarJbWkjry8LMoyVmOXdiUmQjzI5MACUZ0GS66VpUPnGJZi/PKzL5SndpeLME8L9zExPMzxpp9yBzR3JtqydQmfTJ4cpftEa+L4f6x4MrvQuAoTsS7Pk4wt0VQrMv7mxdeHmREBTmwBp+8Ep9ph9Cp/tKHRZPGpP/hV9m5MpSp8gr//fwc4eLpP/PzHUyoCJz/PS1ZygJFD5+kfGKdz7bPrx0t6Vjb1m3NwmvSYLzuV5IN4WPrSN0NfazeDo7MM3/hlFhUVFRWVm8hQ74W1v17nhsVHbuwxho9+i79+GAZ/lm5upKKiovIziQ6DWXkI6FZ+6bd2sTHfR3LrIxLDOzneds2KWUVFRUVF5cfyVuLjvVgnqaKioqLynpGMKy+Xhk9vp7TUSNLiIB2vXGRp6mbcPUxFRUVF5ecdVXyoqKio/BygrIlZ/7Ff5nNf/Dy//tlb+cgmO6nLXfS1NvNUZ4AxZRGNioqKiorKu8x1io8lwqFhBro76eqZpn8SwjfvcbgqKioqKteIyerAU1pNZW0Z5bk2nMv9jFw6z5nzHRyVGD6t3kJKRUVFReUmcJ1rPpLQ683YUwzoVgLEQj4W/RBVT5ypqKiovC/RG5NIsjmw6OXvxGmnuMTuAIFAiKXATX6iuYqKiorKzwXv4IJzFRUVFRUVFRUVFRWVH4+64FxFRUVFRUVFRUVF5T1DFR8qKioqKioqKioqKjcFVXyoqKioqKioqKioqNwUVPGhoqKioqKioqKionJTUMWHioqKioqKioqKispNQRUfKioqKioqKioqKio3BVV8qKioqKioqKioqKjcFFTxoaKioqKioqKioqJyU1DFh4qKioqKioqKiorKTeGmP+HckerB5fFgNYBOAyuxEJHlIaZmg0wtrG2kovJuY3WiT00j3xJHs7DA7OgMi/J2ZPXTDxgmtDob3hwndlsSSYlTCnEi/jkCs2OML4E/nNhQ5T3BhMVmJzXDhTVJh1ECn4Q+IUJ4aQHfxDhTQQjEEm+qvJ+wubE7HeS6TOjkn5qVqAytEHPDU8zP+xIx4y0TqMpPx5omYVhpWwPxhXEW5+cZlwaNqw2qovIzxVs94fymi49t93ycOz72AHVpEtdFgESWR5hu/FsePTDA48fWNlJRebdZt5OUOz/Cn5X60Rw/zoF/3c8pefud9fabRS7m5AY+/wd72Lo+k5wkZUiHmGl7mc4D3+I7Z6BzcnVLlZuNIjPyKW/YyF2fu4O6LDNeCXz6RMk6y9j5Y1z47oM8NQRdIhJV3mc0fJRNO7fzR/tysGo1GGJSHQeHeenvHuXQ4cZEzIivbqlyray7l3U7tvOH+zz4T3ybs4cOJWJV4IN5BkhFReXH8FbiQ/ffhLW/r+J7P3iU5WV/4vVOomid+dl5esclwljseDOSMMwdoaN3jqb+tY1UVN5tcktIrtvEfbkaLCPD9J5qQ+o/llc//YAhhawmSCwyyeRkgPF5B+5sG5bYCIHeM5wfhinf2qYqNxeNFvI2UrZpPR++pQD7bCsDTWd56pVzdPQP0tneT2/7EAMB8T31ysf7kBVWFmeZHxxlTGMDm52y1ChDJ1ro7x1jMLGFynWRu47c8go+VO9GN36ByYEezkoQjqjj4D0mBUdaCRtvu4U9e7Zz+y1b2bFtE9vWl1Kb7yQtNkEoHGUxtLb5zzBJdheZW/ax+5ad3L29mFrvENFIiIm5tQ1uBrokSM6mqLaBbXv3cOvebezesZldWxvYsaWaugIbGclhxueChCLvz1Mhv/87X1r763Vu+pqP4a42Dj/7DA8/eY6TzRPMigaJqtH7vceWgiGviOKidLxpyWtvfjAxOVx4ikopzrOQkbL25s80i0TDHZw/8iLPPn6Yx58bpm8ySHBtcs/PC0k2EV3F5RTlW8lMXXvzvUYjfZCTjbUwkwJXhHDbWS4++zTf++FjPPTIS+w/2sb5aZj/OUjkH0jG2hk9/TKP/vApHj3Tw0kR9z9f04IM8nKSnpUj8TSTPK0W6+oHH0CkiCMTb2YeJQVe0nVazKsfqFxBUkoWWRUb2Xvnrdx56xZu2VJHzboNbN+9h7vu2MVdmwspy7Al2u7GM4wDsyWHkrIC8tIcInveRwuRjQ4sGSXU7bmNO++/j09+5Bbu25FMceba5zcJjd6EwVNGScNW6ZNd3Laznk31tdTUNbB1rxzbHTu4e2cFFW4TTuPaTh8A3pt+VtTGRIToYgxlKrqqPd4HlK3D8cCv8cVfuZW7tuatvfnBxFu9nl2/9lt86TM53Fa/9ubPCaHFOHN9UYKBOLGfs5HlLq1h+6/9Pl/4TDF3b1p7871GER8pSeicUujEfSxdmmChaS4R9Hxz88zNLTArm6kzTd7PROW1wGQ8xLgoj5+vUWWTVy177/kIX/zM3XzaaKBw9YMPIG553cUdH/oUX/rcPm6xJJGx+oHKFaSur6T8Q1vYXqxF13OEgw9+k//vKz/ioZNTTNnLWX/XvdQVF5Ml2+pXd7kBqsnM+ii/+buf44GtVdTJO6bVD957Uitxluzl9hovJakiXGMy8t+Dwa8zWXAUV5FT4CRD10/Pi9/j2//36/zZlx/mWydmGDaXUrFxN58oSabWubbTB4DrXPNRQEpqObfel445GiY6F8aak0qyxYBJE4d4gLn+VgY6mjnRG2BBCqGrUQLaZu79/K187FNebC1/yWP7e/newdVPryLJjTUtnw1bSsnPsJNm0a0u/IsGCS9NM9x2hqbeadrG1k4dJnuxphexZX0heelWUiwygJTtpRSLRwP4Z0bouthFa2M/E/K+In4M5mQ81ZsoL8ihXH5DzEAnskxpmlgszNLgBUY7znK0F+YSs9CUIZdGfkUxFeuLyU2zYDVqMShNKbYvTvQx3NvB0eZpZpduYKVvUhoWV57YXkZBpgP3FbZHlmcZbj1Lc+8ELaOrtqeX11K8roFywwRxnYlFQxrZVgNmvYaVeJS4f5KB1jZaz7fRJ3ZYiyoorK2jID7FSl41VG3ngbRp/BOTNHav9nt0aYT50Q6ePTbA2IwyKUk5gjRyS4up3FAitpuxJelet32yn9G+VdunF14/nVtQVUf1ho245s8S0tnwOSoocBhINkhxJsfGwgBnGzs5cLpnbY9rI7+sgpr1Ddh8wzJQa3Bvvo0G3XnpixlaBla3Cc40Md1/iJcvwljxraTe/1m+UhnEMTzO2WNDRNMk7JnEXxRbIotM97bSe+kcFydhNqh8g6LV3WQXF1K1qYzcVDN2k9iuRKRYkKWpAcb72jnaMs3EXGKH68PowmDPZePWUopyXKQn61f7PRYiFlgQnz9La/col4bf6jfqsNo/xB9+uZxy8ykmn/lHvnYMWsfXPr6MRr7RnENeSRH1G4vwWvVYDZdtX2ZutIeh9guc7Q8y6cwnqWYT9zsCMv7MzCS58JikXF6YZn5slLCnmGS7jE2DMlbO09zex+EmpaRWTMnCll/D1sp08tOSE7+hEAstElwYpe3ERbqGphkIKBbWUFqdw847nATEQXW6JKzZLsTtMUhcWYkHRVhdoqW9n2OtM4nvyS4spm7LNuxKv+cU49r54US/h6cnuCTjVSE03878wIFEvw9e19oX8VGLl8z8Qmrrpd9dSTgUP1E+ivhYGOtjqO08ZwcCjC+IL2vFxnU7qSor5N4ciXUF1eTnuNmaDpPHmhgYmaRb2XdpmNb2bp56tVn517VjcqFxrsa60lwXbpsu4aHaxCqEiMS6UenDHi4eb0cxOzGlUBFDcmwV+W7uS5nn5IyNuNFOQ749cY5bR0ji3iL9Tx2nvXOIS8o+hZsoKc7i7jLo6BBRqzVTVJFGcqJflMI8yMSFV2nv6OeEMncRL97cfOp3luFNMeEw61k9ISf7hn3SZJO0nZR+7xunV+JQ2vpdlJVksyMzTNv+U/I9Q3QmtldQckU2W26vpiRHi2OxiRdPDdM5pCz1vg7M2WRIP26UfOK1GXEkXe7HZZYmBxNj61y/n+G5t5CDH/0it+zdIDHDx4t/9T1eeOkcR+TtN2Y3vd2DJb+WLRUZlHjtCZ9XzhDH5DcivnE6Tl2is2c0EYPzNu+hpCCXcs0cEUcqGrNJLA4y1jVDMKrFXpaNTR8iPjvEdPMpjvcu0zezemzuigYKSkpZJ31vNWow6mTsytEEZkcY7e7l4rE2xqMxllAuA9aw665UCnON+PsDkiZTsLqSE2NLI+IqtDiRGFtHm8U3R5UrBDJmb3GSK/67PJjM9vurKcs1oT3TTE80ylRCkPkYfv4EnU09nJd/Ke9cE5s+yaZb9/KX92YQbjnJSN8g3ZEU8V8NurjYKDF46NJpOjvEh8WBr5xRkla2joLScupyU7EnXWH73CjjPau2jylTg2xpULSBHXk68mxOxuaquPvOdKpzY0ycVraJMC+iksgs7Qf9LCzoyJe6JtZ/gpG2Vo5K7sgV/6yoLqMkJcDky6elfhgSe71U76qhrFBL0sjznGwN0L0gsSqvjobyTCqyHYl+1yrpLRIgvDxO97kmsWUw4fOJ2R66ZIkrOZK3SqiUfbySq6WMQKvkQ/GV8e5LdHV2SwwOEJIdbG4vhdtupdy6TIo+zIQuHXdyEi7JQQqxwAxzI/20HD9Pz1yIyWsuPZRR6mL7pz/FbXc1cIu5lReePsyzr7TRvmAma9vd4hNb+Pz6CN1PPczBp1/mhRHxgmvt+OxKPIWF3Jon/RUoxiox7BMfcxMbHBSbhxmVTaLRBRZGhmh67hRdSwGp1RQbzaSWVpBfXkpDrkP6XYteqzRkhOXJAUZ7ujlxfogZf1ii2I2gREIX5XvuYtve7dxTIr/schGOihM2/yXfeXqMR4+ubnkz0CYlY8ospyjbQlay1NP9gwyMh5iOePCUfoQHPl7BHRt8TO//Mj88OMJTjWs7vo94B9d8VOH27uIXfmObDLR8ilLdFJbJ4MnIwOPJoqRGCss0rYS8eUaHF/EFIoQUH3kNJbhlU1ZXSGW1jaSpQ7R1vXHNh5JGJXFJo5fUb+OuuzaxXgZoocdOivxGfmEBZcXZZJp9hBeXmBhbTPxG3Jwr+9Rx++0baKjKpSQrlRSnG29egThtMdUFqVj8cywP9TEhgzMYt2Jx5LP+7g+xZ1stuyqzSHc4SPWkk5aTTUFhNumaKQwzUrSLWlHmOeoMZpxZ9WzcsZV9d2ygtjCVLLcbV5ocX3kJBVlWCSRhJscm8S0Hr2MBnZKqpLDNKKNw3XbuvnsjGyqy12zPJE8GbllJLllie2TJx8ToAmGxPUvaadN9H+eeWjflpQV48gopTneSmZVLZoEE6kovbklkK9MjDC5GScosoKCmjhKbltysHHKzpY2kgDEZTSRZbKSlSdtJkWmMztDYM8P8Ugit3oQzcx0N27dyx50bxXYpxj1uEaNeCipKKMy2k2WX5DQ+yZJPxN6a7RWbdnD7xz/F1uwwRUW5eEQglEsC9Gakk5qeTp49zNT0NBc6xlZ3uEYyC0QQ1DeQoTeSnplDen4uGZYVTEl2TMmpCVts+ml0gVbapECadxRiKa9jX0aS9HcKhvRs8vLkeLyZpGZLQVtbRL5zBfvyCD1TYeb9Mel4KVbEt+q3beHOu7eI7WnkpLtxpkhSEN8qzJFk7VRsn2Zpyf+a7W8fpd+l+HAXkVe7nTvv3MTm2jyK3FZc4vM5+fmUVxRKvy8TX15kbHg+0e/KCZnXycCYVMr229JEDIyw3HkmMY/66jUfeulHu/TBJjbs2MKH7lwvfSF+4knDJe1QKrYUZFhI1y8wNeFj0VPCyt6P8esbs9laKmJCkmDtumrKC2Wse5JFjBXL2BJfraqmMtVPfGmB5tYpYuY0UkvqEpet79paTH2RxAcpANKzpW3FByrL00lemiawuMjArHKdZiu1IiQ+95ubKHJ6pdjMorAkE7crnWwpGMvqpQBNjUofSnHcOU5E7E7NzqVm4+bVfk/PlKRWgNe8giXJKj682u8O4wLGYBPt0g7T11yzSimklQRfuF5EzlY+dNc21kkMyUtPw+7IoKhM+sprJdO0yOysCBGfjPeYxC4pDIvLy7lT4mKa+IjHYcFp1LES06C32rCkuUgzR1iYn+Nsa6Jiv3aS3Giddezd28DWDSVS8LhIdclvKWO5ooLKfLFfGyLQ08a0FAhLylx6RXzsvJeG3Vv4/a2ZIriLyMjOYVNJBmnSzunpYluBjcjFLmaHp+hTfLLyNtEr2/it+yqwmHLIycxmfV2W9Itbtk8jT37HMNHBwsQEbQlNmEF2USV77t8t8VZEp1eJwSki3ooplrhUX+XFOD+Kb3aa7rkozprbWb99G5+/uxzjQA9LY2N0Xj5hlSSKzbWR+x7Yy+2bvVRqu2jsnWdgMrD6+dtGOWFkJq2ogbrNW7n3ns1UZDkldrlweLIpKS2S2CX/Ni0wK4Nlbi4guWF1z9dQiv2CTPa5w/QcbaLnrdZ8iCBMyaukevc+7thayuayLPF5O+lZheQW5FNdlYktIEJjfp7+2RBlt3+Ebbfs5v5KiT0Sj/Pyi1i3oUpiqFv8Kp1SifsVtRUyFlIokLKsc2yZgUXxr5Qs6nbvZdeuzeytkVyQ5sTjziCzsJzSgjS8ogzj4yPMhCLMhT1yYLu57xc2Sr6qotieLvZKP+Z6pV/SKayskHzipdQVYHpkjslxrdgu+ULau6jCg8GUSlFlOl63DbNOCmQpxOxpdhlbJmLt/cwPToifvFmE/VSyxE7JZbeU2aXsNWOWOJ0h+dot/ZEl4rWuroQM3SK65VkR7H7CEuhiRrPYnk3Nzj3s3L01YXu2O0Vs94jtIhAK3NJ2BrF9lJlghFmDXRReHeuLnJTmueQ3pT0LpZ+dJnQSzy1iizPVSppDy2K3XeKGFMW/sZuSpF4M832cG7RSe9t93H7vndy5OYe04V4C/TO0hKvY+eG93LY3h5LQMXpnzUwby6jcdTu3by9nW5XUETYHnsx8ciQmVVd4cUSWiC3MMijCIBI3kGTPJKN8K7fctllqD+m3dJvYniHxMY+KqlKy7TGSY6txPijKy+LNY91HPs++9flsFz9KKyilKDONXPETT56Md/G1onQThukhJpaCjF+zKlCmWxexeXs9m6psWCcP8eLxdg42ThALLzG/4iVmymJTgxebr43ITAcXJF0Hr/VnMopxSSzYWSLiNzMLR24GNTlSh+n1GM3J2CRmp6YYMcXEHy/1Mh0Ms2i0YJBYVbV9J7tEENxWm02ujN3U1DQyi8ukMHfgtWlYmpxiSdk+dP0LhzRGGwZ3NTv2rGfPukwsPWMEDCaClih6aZPGTh9tysB/BzCazHhyi8jOTiczxYJZaqZ4LHaVeFqJRSRejDEp4qy7e5Th6WWxMUQsrmfRJzWe+FZ5ueSpmcO0DizSNry24/uIt1rzcZ3iQwr8lBIpcEQEeLXYNRO0H3yUp544wiOvDrKUXkp6bhblmSno29olwfoYuaoQezviQ1GfkuR27eS+j29ng2uG8dMv8OwPfsj3D3XT47eQlCWDXZK7c2kRTVcXwyIm/CEpNmM2CnJ8zHaf4dRzz/P9x09yvD/EhDFTCt9s3IZRzIFGmkTILgbLJfjcwsc/U0+5dQTfhWd56JtP8Mgr53mxY1SKlWWm+nqZ6Bmic1a+XwaaJcXFhgc+za3bRbQkj9Fx4DGefPww33+hh1GLHI8k8xpJ5p65JvwL83SvngS+BhTbJbls3yFJdxcbU2eZOneAZ773PX54qIvOJRPGrHIqSr2kBnxoOzoS7WvOF9FXt4HKLBFC8QWivSd5+uGH2X9yiNNTkvwLJVB79KTb/ZzpmqG/Z5iBpiYuXBwmmiyJrkaCwvQxXn7uWf76Hx/hxQOHOHDkPEcvjTA9HyS+IsW8JNKGBz7F3h3FbHJO0fnK4zz9+Ks8+GwXo+YM7GJ7rfSJe76ZgATaztUT1OSUVlK1casU6JLwtFI89xzhucef4NGXz/DU+X56O5rp7B1lUpL+9TAvwqX9UgvnmozgyKG6IUV84mu8/OwjfPUbEkTFlleOtXGqLZIoQOOZIj4q6tknBVuOcRmd9NWRpx/i8QNNPNkCzvwcsrNciasbjc0y8KeXWLEk0/CJB9i7u4xtqTN0i+3PPn6Qbz0l7S9FklWKvnWVOWJ7C+EFOZ5rvnWWcnYnk8oNW7n/c/vY5FlgqfkQ+x/8Ng8d6qRpRodeEnZJoQdPPIyhtZUx6ffFq+Ls2xEfDgl6hdzxqbu5VQrQck0vJx//AU88/So/PDFMwJYnwjtXxGoW+s5e/LpkRorWc0ehBdtkB0PPPMSA7L+SlktZnpPli8/S1j/ES9FiSlMNmGaXmDzTw0L2LVRKsvjCfaV4Fi7Q+vIL/Ps/PcahNj+TmhSyaqoR7QqRAE2No0QoI6+sgK17RDjaI8Sm22h55hG+8+hZGb9BIrmV5EmB6An7MTdeYlRsH5yepe3iRc436glLYly3PRttz79w/IUf8OWvXe73Fo63RJiYl36/5gopCZ3exY777+e23ZVs98zQc+gp9j/+Et94uIlJSwbWvHw2rCvGPN1LZHaSrjkpR8f6mbp4mkOvHuVFPPjsNnakLtH2999m/7//iH+Q43rx8AUuSKYIX+8K26gUC74UGVMB+d1WLj3/ND968iQHGqfo1mRLQvOQ4wzgDh+nXWLQmCK8FPFRtYnikjL2FedLLJwnPnyJVx5+hEeeusDL0lY9w/2cl+za55P4r4iP3DoKikrYW5WH1xknabmb9ud/JHH1OPsPXaRnpJ+Lp3rpHvQzv9a+VqeB1Bw7wycOcHT/fr79yAucH5biQO8WEVmBUzdMMDjN8bYF/D4pyKUdq7aXYI414wuPcrp7Lf2m58JWEa+bpfiO9zP68pOc6vExunRVyf82UAqrXG792J3s21tCvWWY8888LDnreb79ah8LJi/OnEIa1uWj7x0kPDpGrxzCVb/ydsSHdzsVm/bwpU9UkxNspf+Y+Pzf/4iDzSKwQza8tbXku3VSxIdovDiIp3Yz+SW5VKdH6HjqNL0XR/GX1YogNGGPjdD3+IMM67MJS0yrSFvhZPsEnUEHbP40n7ytkt3eAIGLz/PEj57l8RcbJc7bcEocKixOozJ7gY7xJfrGlHxSxhYZV9U1KWSnhZm4eEji3fP80/fPMmZ0Y5KCt6ZMYkdXH7HBTrpDvfT3NXGxT/Kys4qqIiMZE200/8Xf8/3nXubBA0dkbJ3iZL+0kxRL13V9PyE+ikV8pJGil1g33MQL3/k3Hj3YzcmBFewiYHOyRFiYDMye6mQhEmXRJf6w+QE+els1t+ZECFx6gWceeYZH9l/gzKQVmzeHopJ0KjIX6J5alD6aEMfvYrC5mabxZcZLGqhyh7APXOD5v/pnfvTsAX708jFePHie8/1LBFMdlG6pwBa9IOJ4jOMd5dRsEsFak4VLFyc4d4EJ3wznx+uo25FFcZaMkZPHuORfh7ZwL1/8RC1FKz2Mn3qJ73ztEQ6cF4G9nIynSmJXuhGXKSqxbhh/2EVafi33//J97CjSkDx5npe/+03Jh5c42OUj5qkgJy+DwhQzxpYWZv1hiSEechvEv3IyyLUZME9e4sQLz/Dos0c50JcsojCDfBGehe4AXeMLtA9KwLsmxK8QoSbiqbJMenToYc62jNMxvObhS7mk6nPZsjsb60ojS3NtnOiAwLV2/uIU/r42Lp1tptvsRSOifFvKDO2PPMWT//hdviOxcf8rJzl0pl1qnYCInhV0Yptzz8e455Yq7siL4W86wP5Hn+Ghp85wZs6FOSOXknKpOR1TTM4v0TV6/beOMbg8OG7/MHs2ZVKnD9H6fSlinHZSiuJoxw5xqeOdEx8u8dc7f/V3+MTH9nBPbTruc+3ML/kTV39+KskirCvW07AhnRpPiIWLR0QYLb0v72z5Liw41xALjDM31sihS/1c6u5nZKiX4y/10tYXJ+oRJb7RSHr+2ubXgt4kdVQV7rw8CdZhgj2HaG+6wOmuKUb6u2g63SOJfZqpuJuUkhRKN4JJWQkXn2Z5QQblq0c4eOSCFJuDjIwPMdAsx3Skn7F5OWarAUeG/IQSk5WzwBozpiQpmoziXCvL+EQwzI0MMdbayNlXD3PkfA9nROH7EoMsiyTDBiryM8lIGme+72UOX+jkQpd890g3519soV0SzWKSl+zKctxZ1zGrVC/iLL2CVLG9KD1KsPcIHc1nE7YP9/fQLIXdwVcmmYik4ih2UbZJhIcyOyFBTHplkbn2DtofP0ZL8zAdbU30XThA58iCfGLH6faK7UlEwyECi/MsLM7gD4ogEGEVjwYJLC8yPTObeM3MLSWueERjSlWRidGwkfK8LLyWSRb7X+LoxQ7OdQ4wPtrDhZdaaG2cZ96YQWZ5GekiNK5iJY4uvMRQWx8vP32O8y2j9PUOMdElSa1dFP3E9d+SKSK2LC0ssrAk7SX9pCFOXH7Lv7Rqh/KanfezIDEpemWtpwmxLP02dPhlLjQP0NbZxXjncU73T9ATNGBxe8g3ig9LUa/Xb6I0N5us5Bl8/S9y/FI7ZzsGmBzv5uIrLbRcnGVOn0FGWSkZudexKk2rB08ZKXmFlGZpiA6doLvpFCe6phkQAdx2vpsDz48xGkjBVijFxbbE40quHWsaupz6xBlr18oIE+efkSJY/KpH/u5t59jBPi62Roik5JFbbya7ZG2/WIDlqRkGJXkeHZqjZXEJrXJmrmWMttYpmnwRlnVGzNJeLp2WrPJs8mRsZuvEb481c+loG50iEnu7znK+o4X9w5JQXdkUpGeyQ77elfgRKXYl2YREeHR3nOepM710DcpLYsvBI6OMLBnRp9nIUS6FSz0ZCct3LCxIv0fwS7GokVIwHpF+973e7zNzy8yLa0ntcu0Y0tA6NlOQl01msvRv53Mcv9jCybYBpqZ6OC/9funMDLPmPLIqi8gtWRvvQT8hiSPTM3NML4fwKQJjJUZkaQnf2nFNy9haUg76ellZEGdu4eLp47z8yhmONg/SL3FrWArI5hfbGRJlGjQlKSfJUU4YX4UyPVYrx9Vylr7jRxP79g33MTTYTeP5TgYkgV9Vuki3KK/g2HH6Wl7iaREbnQMDDA/1y/btdE2K4HztBJOPmfEeTj73AsdON9PYPZKwt7/5JN2tFxiYM6AxuUi2Kc4r8Xi+m8WJbgampChPK8ObVSplkGZ18oPDzJYaGXNJ4nvjkxy7FJJ2u2YFKc6SAjkNZOWnk540zcz5p2hs7ZCcNcb0QDunj/Rx5oIfvzWPzJpk8irlyBSbr5HUYi95FW4KzHNMnmvj4sFmOmTM9PRc4FL7RZ7u9zNtleIxM5ddWq3EFSEWkTA0T/NkH0dFyHXOhfH7F5ifm+DVS0O0jUpfhDXoLTYJESLq7MnsFLFbYo8RGO3l6RdFfLcP0jvYQ+fp52jsHWEo6iCtpEaKsRSK5CdWE72WWHBe9jnJaSnGDzX1MjnVy8VLA5xTcpY+FbuIHne25BCtX/LAEotSCPliEotkTMYlxobEnxcS/it+PSPjLhRGOV10rVLwajQsSyE90HWIk50inHu7Zby38viFCXojduy5Wayv0+FOhRSbhe21RZQ5JUaM97L/pUucVYSy+G7nmRdo6hlkIGzDVVwt26RSHI+hC/okD/iYVabvSPAPSKKLhYP4ZyVXXbZldpGl0ABL0X7GFyLERPCZXbVo7BXYk7WYNbMMTUhOsXlwVhSgKfco65HRyfdOt61gEmGQVy3Ff7Lk3sZ2LhxopH1sip6+RprbzvFsn49xk4fM7Hy26/RkpuSSnFtBaYGIhoUWBi++ysmOCbpE+Pa1dHHguUG6xyTWZXop36oj9ap04ic4OUTPE0dpOdlJm9QevedekH1FnPvN2FK9mMzXc1sA5eSXHYPUH0Z9XMKwMgXzimQZFVEkfrocWiEqfaakKyUmXDMRqSf8SywsSNsFQsxJH8VXIoSXfSxJf8wm+mSBuUUZj3GpI0nCbnGxWdq91BYlOtLOiy9f5JTk696RATpPPU9TZx/9YRGqJXWUpmVQID+TKO+uFVMhzoyt3LmhiHzdEOOtB3l5yEfv8kpiCt07zfLCLOdeeoonvv8IDz55mFcWl3l7Fy6SsFqcbFqfRWm69MXMJJ0Xo0yMrH38AeAGxQeEfSPMjl+ieWiWUXGmkF8C7fkBBgf8LJucuCukQPZa1ra+BgxG8OZhTU/FbVlhRYKFPjmFtKIqqktzyXZY0AYkiJCMOd0kTie7JFYqBYjFFphdkECpdZCSU0RVTTHl2S4ydOJAKxo0BgnkUrgod8FUEmU0Ns7UnA9f3Exyeh6FVaL8izIoTI4SGe1meHicHsnzwcQ49GDQVZCVIkW8SYqJaJgVhwiRwkLqKjPxyoA0RlaI6ZLF7hySXasl1TWhk2HjzRXb3biVE3aRIDqzk9SiaqrE9hxnMjq/YrsFs9tEeqnYfrm4kAKf8Cxjff2cP97J0GSAuZkJFocvMTSlJAs9hiSb2L46T3Q1bQRltzAJffETs4gUrdoqspzSrortEkRW7F7SCwpZV51FplFLkhQgMW0y9gzF9jfcckiCTGxxnH4pJF89JUF2MpiYnhSbm2JqWhLsqrq7iYjBcR8LIxLoTzTSOyxF09w8kdkuWidm6FuWxJVkwS1FglOxXVNFptOJyxIX2wOSiDJwK7YniiMdJun3iMaCLSMba2ra2m9cA0qfeLJJzpACScSkNhpCK32VUlhDZamI8FSb9HtYArWZpFTp93IJQdeTY6wOtLnFuFKTsRnEx0Wtmdx55BSXsq44gxRlzUJEikKD+Hi+HoeyslBZCyLCNKhcCRz10z7rZ8jvIx5cYGpomZHREONS3YekYtPJ/mZ5eXOdZGRasRIhGpKEZvNSVF9NaZG0piTu5XCMlWTx62QHVfITq/pZxno8gm+klf6eNs4MSBEWkNfkLO2nJ5ick7FlMWCVZKycn3jXsaSgyawh3WPHtjLJVOcJ2vrG6J/xyXHOM9raQm/rIONhKZKksHBn38xboSjFwawIrwD+mMSuzCJKK4upKswQwbci6UmkmIhAo11inVIoXIkk+5XoPONNbfSc66B7chmfsg4nMCcJbIoFKQqulkVK8Asy195Iz9mLnOmXGLu8LNsvJrafke1fP9cYJyyF6szMMhopGtLzS2lYX0t5jhWPWSn8xLe1ZvQGy2rtEhpifrafC31SVJnySfcWUybOYNfbSLWlsbXURWp8gpnRQU4PrjDzVhfjfxoWGSi5JaSIcHUYY4QDAUyuTDKLy1mvXKlNEkEkBkd0Duw5BqQ2vK7CKi3TQWaO+IpG2jdkQGdKp2BdDaXFqXhTNPjDUeImOQZrivi8JnF3n8RZn4CPQcmd7ctzjC+LaPQtiviY46yMteHFkPSvjBUlPkjScoj/r8+XfKYs2JBuWZJvSc0vprQij6LUGCattLEmSezLIdNkRfHI1UQvcWtZBHT3Kdp6BmifWCAmAna0Z4q+dskNMSM6pyIAL+fGm4GScGIsTXYzPtiamIa3uDTH/MQop06PMzirQ5vqoKhKg0NSqd1soD5v1XZludGSRuJxrvh9RT5FaXHMupgUq0ZMKdlkSnDMlm+/nOliEsP8kuQUIfXWzOOPTkiulzinS8eSVoExNx+7+KImPMfFiYjUNB7shUVoy1Mx2ZTG94nwWUFntZOV58Shj0qtIvnb4CavporSEjdZqRpCEhtjcjx2eyoVEhtTXSJesnJId+plnEpMR49NxEhxSSHlWS5MoYikSyNaWzKeci0yjF4nIkJpapgLx9ro7pNCXeoun+T3iYkxxn3S10ZFpCqzS64VpdOTJM/p0Mufb3b/gMQ8H0HJc1edwLsBwvEVEYMi6n5i3WHDkpROTXYq6XofiyK4jzeJ+JpcwifCcr7/Am2DQzQv6jB4isiTNlYE97Xd+Emx1oA9vYTi8gb25CVhme6h+ew5LswFlfsjvSv4FxdoPvISzz+xn8deOMVxqYfezsTzJKeHjKJSdtW6yTVIDhCx3tgVZOyaZ9m8d9xwiImGpwgtd4tTrqUqCZIsThOSQemPmDFZa0kyKyHgGtGLM7hF+dtMWK1ecnf/Bp/8rT/nq3+99vqLB/iTL5ZS7jFJCX4lKVJb1bD7vs/x67//B/z3//nnfOXLyj5f4M/+aCebC+ykXiWJ+/AHXxVn7qV72Uvqxk/wuT/6Hf7gD3+J3/7kzsR81KzVqmgNIxopMJNkdNq8Gyja8fv8wX/+07Xj+i/y+hifvbeMvCQNSYkC/zqaWLE9LQm9XWy3eMjd9UU+/htX2P6Xn+bPfrOM6kzLG2wXlHkl/iVGQwHOyT8vP7dMibdKAgte+7yTKxDb5ReNep0U2PXkb/09fu8P/mTtuP5YXh/n8/eXJ2w3vYXtyqL30NI40/5ZlDXgN7Ak+51BaZTQEotSzQzIAQXXDkhZQzEqhfHUVffMFqfRJGPU6bB6asne/Hv8x/902Xblv5/glz9eSb4UxOaE7ZdT3jWgNFeqFAAOCXwGJ9lbf4l7f+3Kfv8c//13K6TwSE5MIrluLFKJZpgwJplIzdtMxUf+nN/947Xf+LLY8me38tm7shKF0XWdPRKUs0QuoxGnOQW9o4StX/hVfv2yHfL6X1/8BH9YI0WF8qTRq5AiayUgxcgYy9NXzFvzSVzpCxH3xyRR/8RM9c7ikBRW4cBsW8EQlOJYBHxMCshVFP/oIBzpZs6nETHkxZScOJd9k1BOIhSzce/H+KXf/j3++//4c/46Eet+S2LePvatFxH74zKwogCCIjRGw0y8rcv0ERn78yxejMhr7a0fi4XUnFq2fvo3+Y3/9If8z/9xeZyIn33hE2xM1+C6Sjj6GZ2f4fFLIwzEbXgyM7i3EDKtJTjMEudyTGh8rYxONNIrfX9d10eVRbleEwaziRRvDUX3/Cm//gev++NX/7+7+OLHcnHrJG6v7XI9pBgNuMwONOY81v/CZ/kV+e7/vfYbf/UfP8efrE+lxvU2yiIpkiNS4SmPE3jjtTG9DC5bkh6DPYfiDbfzh9K+/+uyHfL64l0b2eIV4SNj8OpIFCEiQn5Ogl3Id0UrTolQGg8nivKbOLLWUMZQSERRTAnFq1pEYV6qvZMLBMelHUxGkrM1GEU/6l6zPZuC+r38p7/4r/zPK2z/0j2b2Z5pRLmvhRJOrzUKL0ZinJ33MauzYs3ykrIhBbtTwo8Uhc/PhxjTuUSU5KARgWk2iKDw+zi7EidgMJBqtqM15VL38Qf4RTmWv1o7pi//py/wp5u9NEhOfw27XkSVSfKkiYyae9n12T/nL//7mh3/87f46n/dwL4GF3bZ9E0VhOT2RRGrZ6S/rryPiJLblRz/s3craA96Xb4Idr34dIDlsAhzafMr64e+QJiLykJzi1XKxiSUyTbXlrsUT7FRvq6QW27LpTjWzfCFQQ4d9rG8fCM107uDu2Yd1R+6i22lSZgnz9F6bD/nl6XuW/v8g8Cb/PpaUS7LKWcqXw9b8l8ZBMqdolYkXWm0SrH+xtNubwPlmrdET41yFsc/yfippzj4yIN841/WXt/4Jl/72tf4m6/+PX/37yd46BDMLIqbVhSx7r697NyQQ65RAm3rcY488zAPPfgc33uoifZxP4tXTb9QLvdN0XXoWZ5+6Cm+8dBZTvcHCVpzKWrYzZ2f/DQfvbOB20qlDnlt6oJyPw4Ngakm+s98mx/94PJxfUde/8bf/8PX+OrffoP/852jHLl4fQuolbGQsD0wzcTpZzn06NW2f33N9v/7zaN8/6Dkj9fmSEj7R6KJIKSUblcKdiUoKfX29SN9suYygek2Bs99m0ceutr2f1Bs/z9f5/98+zCvnn/zUFhRrn5I4FC64IYO5R1BaZA4cVEbUTmgK4O2cjeSNxe50u/SBMHZdkbOf5vHrrL9m2L71/nq34jt33qVl89ex6qv13xeCu3IAlPnX+DYE5d/Q3n9O//8dfn+v/kH/u+/HOTbL8HINa8rEZRuVPwrMeWshd6XHuTR715hyzf+hX/4+3/if4st//SjAQ41re52rejEHm00QGxhkAv7n+Ox1+x4kH/+2r/xtb/9J776lX/n68+d4HnZ/rUaWIkdsai8rji9pnRO9HJcuYkoKsqoLDqX9hJfWVHE+1WDSIl9kYTm12h0idfNwpnrpfbjkoC2llDmDOPvOcvZF5/g0e89xb/82znOdc0xd1WsuxLFweOJc0VXNvOPR7FZxkpImX6z+s6Pw1KzgaLdO7hnUyaZ+gUm20/z4lMP8t0HH+Sx5w7TIbHq6psAyvibnmP58EXGR8IEbRmUbq/EtqtKviuDPNMMy+2SA1oWEjcZuK5SIOHzMrY08v1T3Qy9/D2e/uHr/viNb/wr//gP4vN//f/4h+938OK5RPNcM0p01MZELvhHaT5wgCflu//lss9/XXz9//4jf/OVb/KPjx7kKQk6Pz5KrPqYcghXetsqMq4Ue5bGGGg+yb9+6/v882U75PWPf//P/O3f/gtf/rtHebJ1gC7ZdNUUGTvKFJeo+Kz48mtI/68oAe/NP3STkONSxtSV7a38HZLxphybEkeUEkIZg2J34uUbZ7jtFN/89htt/4bY/g2x/RGebO6jQ3Z7W+69RjgQZap/gcWgBnOKg01FKXgMfgKTo4z3zrMQNmB1pLDLZSEj7sPvU6Z+xwnJMemUgREYo+3QQZ6WY/nXtWNK9Pvf/RP/56v/xt99/0WeWA7Sr3SgLq5UEcx1HOfisw/yrX+/bMe3+MY//zN/p/jKPz7K15/yv3bHxgQyYCOS46elza68CKi04ZVNeO0oewckzEYTD3p8sztY0WqdJCt39rx5YU6QuKpMj1faTLnroZKz5d0rjy8q+SEkrxUJ1EreudaKU2exY6vZSUVlNhW2SQZPHaS1s5v+oIjfq+L9e4vO4sBWfTsNG9ezt8SIdvAkZ86380yzn2k51mvx9feaGxYfWlHuWr3t9aSrZGmDskhTj14jhWZkTsbKdVwnV04/L0WJB6OEQovMdR/hzKtP84MfPfGm12MvtPJqIyzKz3gKsqjeUUNZhobQeAdHX36JZ596ikceP8qTL/XRPxfC/wZfioYCTLWd5cwrr/D4k6/wwsGznGqeZMiXgrduF1u2rWd3tQuHcsY4UTYHE2sgAvNDTHYd5Llnn3nTMf3wkf088lIzzb1rK66vBaXQEttjARFGER+zPUc5e+jH2P58M69cgvnLcx4U2yQYRuSltPqNBaM3smp7TL47uDDMdPervLD/rWx/Vmxveu12vT8bKMN6td+DC2PSJ6/y0vNvYfvDT/PIi41c6Jxa3e1aUPrdJ4Ws0u8x5XbVJ7l0+K37/dHnLvLi+eu5e5MQFq9Q5jVL8bM8N8D4pWd5cf9Tb/qNHz78LE8emqRJuZXNNaLEa2WdQyDiJxaapP/4IY48dvX3r75e4JnTrZyRfa51eeRNQcnC82FlWj5xnR6dMj1HuQ93AkmG2CUG2jAaxOZ4SITsG89Tv3s401OpuW0TFXlmDEsDnHz1AM8/8wyPPfYKP3yik9aRJXyKT91kXKXlFNWW05AeJTDQloirTz7xBA8/coADh1slrq4gNd7VLEnvt19gcHieCW0KGQ11FGwtJ7fMQUp4hOGeBXp6lWlma9tfK8pVzAWlH6P4F8eYbnmOg8+/2eeV1xMHhzkrFfv1NJ1fBPJyJCBF8yzDZ49zXHz+oTf9xvM8efQSJyWWXE+ETEwfkt9Rbq063dfCy488xWNv/I2H9/ODx49wYmACZRr4O5sH3kmUMaSVGkIExpWnqo3yvtuAzizvK1OlJGmviM/In+I78u/ALDP9bRx87Bkef5PtzyZsP9YnAkW+6loKsthyBH/HLMtLUsbYbKxLt+FihuBEjwjgKXw+LUarna0pFtzSx8tLwyyLQlqUY/JFgnKMc4xePM3Jx8XfH37Dcf3oOfGtcxwPhZkIxFiRWB9V9h1tpuuUjNtH37i9fMeTR3jmhIgV5bkAl5H8q+RgJb+/s7OBlG+bIRxVbu0rba93odVdsVgsORmdU7kjWBytjKeIUnPcFMdSbnbjk1pIER5SV2qNiTkYV+ofq16LS68TPReT9Ca1mbx3LcPXmGwlo7aBwqJMcqwxQtI/ZncGhesrqF/vITvdjEnawpRSQV5eCRWF6SQZr+Ok+g2gS5YaNLeC2u23sLHMQ8HKAO2nT3D0wgBnR2VcvLPO8K5zw+JDr9wpI7lENMfaJUWduIQ9FaPNitkQIOhrJBy4jrPAYQkZPYuEJqWAMdgwZTtISvnpk7xTTAZyk8UJldvkNTbx/VfbuDQcYHbFhMbpwGgR1f7jrscFp1kePsvhxx7kn//2Qf7337zCiT4RUKmFFFbXkWRRJrssy9iX7cIRVgzpWF2VEjjfuJrzBlESZe8SkYkYfr0VU5bYfvU8hfcIsX1liuWQYrtbbK9CZ7ihCUAfIPwS+Cbxh8PE9WlYU6vF9utZcPETUAT3wDKRUREFOhtJXul393Wsl/ppiABfaV8g4DMQkwRrzXegN7+zgVTShJgSYESKd63EAq9Dh+ddMOVdR5n+0SZttaQhotxv3e1A+1rSUQqnMpL0xaRYleJIEndQmShzc7DKcRQ55ZiWx+hsa+bfnpeCVor0iYhRAqFLEqok6Wub+PyOoKxJy5OwYJjr58LhMxw62EKXJEdfIA+9rgC7hEupE96AIj0v0jIxTNuiDltuLbeV5rEn1UB8pJcT0z6O+66toLiKJenH1gWCC1oiFvH5AgcG67VNzHg7DPuDDAajxK1WPA49XgkRypn6d5JQNMaYLyi5wYzDbGW9/MB1rDB7n6CUICbxVb3UDFe0lVP6ZrMDU4YGYzCMT0qIsPR/SNSHYvuyzoRd+nGd7KDcMO8dQ7kkd2GK4LyMZ5OV3KQkjKFB/OMXWWkexTe3QtjkoMAleTk+InGhVfJClDF/iD5/mGiyiBKHgSxlithP6vdxP7G+AMtRM7o0KegzrVec1HivUCYy9RMKzRMKW7HY12NMuuKGOTkmtBUmTEYRJ5MRFgclzv/YK6vvJJPEYgMsiDCMrZhJTrLh1GivehhhgTmJdVYjSSL856KRxLqJazk0k9lASYmHdI8HZ0Yl9Q/8Lr/2X5RpcL8rr23cu8eDJzkTT/V/5BOf+CK/99ndpDpubu1jzltH0e6P8qsfKmVd8hADJ/fz78+2cLrz5uWcd5Ib9najM4f0wg3cXplFebobszWDuj3FlJdasPpmGD0bYGbgajfQGrRYM8xYZJAaNQb0hgysOkfiUUivlUAxGQjzlxgb66d9Nonk/N3U16znltIU7CY9SfY0PCU1bL5zDzsri1EeZK24wsqKjHitqHZRiR67iWKnBn1aAfn1Fey9XUSE08RVJWNaDtbaHdx22yZ2bcgjz62XIiJA3KjFmOFEZxGNrVWmVfjly5VzKOMEI5e4NDDOaMRNavEO7txSxEZJZjblzKjLS1btBrbv28veOgfiz9eOcvZ0vonxsT5ap4yYc3eI7Ru4tcyFU4rEJBF37uIaNt2xm501payXXW60DI5I4RuISls5M8lKTaXGpiVZ58RmSyFLAmNSklItTBCOXqJpcIyhYCopYvvtm4vZXOTArhXBl5KBt6aBbXfcxt51KZTdzOnvCZTTMPMSqES4RY3Y3JvxuirIUwJVshuby0mOZGnRp9fBpLTRRZqHRhnwO3EU7eK2zSVsLXEmbNc708mormfbnfvYW59K+XXc5Cxxam+hhanxLi5J9DR4t1Bbs4k7KlJJUx5AZU0htaCKhtt2skv8eaPsotwc8UrMNh3uPPEZs1YKPAsGkwerVv699nmCoATz6dN0jkwzRTbZNR9iV00xtZIxNVrpd08uhes3sOfeW9ievrp471pZicZZaOpjrH2akRUvGdvElh2VVLk12IwSG1LyKKjdxm17N7Gh9npuh3clSkm6QDy2SDisIzm1AW9qDQVSmFgsqfJbKTKupW2uZzJ/aIr49Em6RyYZj6WTWX0XWyrzqc50Slu5Kd5WTdWWHDL1M0x3dDDadeX8iHcbpbrRorU4SJFEWOkIi+2SICsquPPDZZRnSZJe3fCmEpX+iCq3ErS5yBLFqTwfImLNIn/7emp2lJNv05D8pjGojN0wo83j9LX5mLQUkO5ykM4cE62HWJiffMOzoq6R0CxMn6B3ZIKRsFvG6r1sq6lgQ649UfBaUrPIq13P7vtvY0dOhkjK1dZdRVFwkm/0yWQYDPK+xOBUiwhR85uExVL7IONNoyJA0nA1bKD2lnXUZGhxmkwyNrPIqdrKnt2b2L6hGN11Fptz835One6hb96AOb+M2z6+ldpKD24lV2kkNxQ1UL99Bx/dW0a+V1k1cAMoV0mnQkSCJnSS33PuySZZlKVe7LFnZ5GWnJzwsTc0wzWike9aT3HlHnbluch0Z+POLORDm7IodUQJT87QfD7OzJSM8gU/Z8/20Tenw5hbyt6PbqGuOl0KQwNasT2toJ667Tu5f285hVlviI7KZRMRCMqNWpIkxxXVy/hwS1w1JeHO8uKyJpMcD6EJjxMIrEi8T8aTKtvPhJjvmiPub2J5eYFASHKL+HDcH8WvrJeR3LnUPczExSEG/VKf1NZTe1uDxFMjqWYp1pO9ZJdvYueuTezeUrZ6xtzXx9JkExeH/ARtVZTU7OHOGi/5qWb0SRbsWaVUb9/K7l0b2GYy3qQnsStXbYfpn5ukdV7DiqeautJCdpV6MbmKqanIZ0+1kzSJiWP9Plp6xD1u9Gx7WKJFUHl+i3LrYSe5FRb0UntZnQ7cyjO0dDqS8LPon+Jk8wj9fskdBZXcuauUmtwUUixOPFW3UlVaQqU9RGCwkc65MVrlq6/lGnRgbpq25x/ioW98nS9/9Wt89R++xd9//dt8/V8elVcLJy7NMx+cYb7vMQ4deoZHDlxicfkmrVoVsUXuNtZt2sg9G1y45qUOOX6WZw/0MDrlJ3TV2tQPDjfwnI9itt+WkVD5SXE9yRJ9dElpmNPz2bavnoo0P/rhZo4/10TzoJ/JuHI2LpOMLBEpJXkUV1VQV5NHkSRIS8RH0J8kwsGGK8OBWSNZZmlZCsglNMk2eSkPqsrAZTaTYtIRMznIyC+hrLaajZuL8Ppku45+lEd1GbJKcOaUkpsqKlhEhFmOS59dS3VtIZtqJDA7JNkstDI/coHj4qFzllIcEhju3SLHlOXCYUvGKsV9bmk55eskgeclEZ/oYKDxgijMBRb8y6zoAgTNaTgcqeRkZpFhjZFsNIv9MoBkv5r6GjYoD36KdLA4v0T/Nd+BQJwp6pOiwiKKKoO8jHRc8neKSSu2y2DLK6K0RmzfVERW0I+urS9xedlSVEF+VQ3lScrtTPtkwLz+4BTl4T25DTsocRtxRyd46UQHEzOXl6PLvukF2LJLKfCYMcWiJIWiGNOUh984yE2PMTEdIBBcllpnmZAlDZtie1Y2HksMW5IZrTEFt9heJbZvrCsQ2zvxzS9wedZZTmklFevW4Qn30NMzyKmWK68jv5NoScnOwFNUQrbTil4SxcryCraCUrIzdORYJphalByUpjxksDZxz35Nfz+dp9oS9+xPzF4zSpVatZHqXCdbLMt0HLpE77iITe0SYbHdKsI3JzsHtzkmQtiERi8BuaScynXVbKovISvaiX9hjp5rnlMhfh/1o5WEFTdnkOtJI81mI9WkSfR7anYBJdW1iX7PiUcwNnUnplQs2UQkZ+VTmuulvKyMippy1tVIYDbG0AQjLMccWKxWUkR4+4NhQsGAJOIltI4M7A43RbkiwGXMmWR8rZhdFFXWULu+nPV1Odja+1jW2xmvqOcOTxjj8KC0VSeDVZvIzktlpz2w2j7xZCaV56bINkmyTcexFvp8WiJJVixZeXjSJKE6JBFr4phFeGQVVlBdX8uWUiu6mJ+LbcrSyTIKy3LYvNNBuPMY/b1jXHjt1oEe9IbV55d4TFIcdJ5KPL9k4jUX1uHIcOMpLSPLLoVhzERsIYq9oASvN4lC61hiiprvWvOF8qTl6AJaZ0ai34vzcjCtxDBLDJIqjE1SZFQXm3H7Ozn/6jHONw0y+PqwEneUAlPaqrTQy63pcUYPnKG7fzU53iiWtEzs+bXi5zrseimpwj4M2TXkV5SysyGNzFQ7+uAo0cnDSHcwrPijUi0rz/nIT+f2tHCi73oGJhK+/9bI9onnfGSxt8zIpBx/X+8o8nU/Fkt2Be4MKeBzUtH5FtCZrYRchTRsraSyIhNXsgnjUi/DAwMcPDdy1dWM0HKyFHYuSrZUk6aLoh1ro+PlJznTpzw0bW2j62FF+jEyj87pwWx3U5Kfj0XawiqFZyTJSUGFiMh1FWzaUoSjZ4iwiE0leqZl55GTL3Exu4jq9TXUFbgpc2jxLfoI6yW22KTgtYUw6YKJab9Rvx6D1iw+n0+aCBSXvJJWolhSckjPK5PvqGdzmR27Mcy5liGyajdTmJdBuXGaV093MhYwkLdhB2XmeQKTw7wocdpbs4mi/NVtDp3ppLlvjtllvRRnks+8qdKXduJSpBmTHNjTiqnaUM+66mwavEH6RucZnlSUXhmb93jI84hAl7F1YTDK0GsnTGWM5OQlxtbK4BlGe3sTYyuq1DRayUEraZKzM8hW7laWEWImLnHVlkZRRQFpi0vo5xZRwvw1a8PEcz4KuKXMgiFukh+U3KvUEUreKS7nzi0FZAT7mGi+yAEptPp9MeZX9Mz6DaS6XXi8cgx5Iq70q3dwVGyvlPZdJ7l3gzfE0Pg8g+NXDEZlxXpyNuvELwvSzNgNS/iMyoyKdImbOZh9y0TnlvGJzxdK7i8oySbXtsioFHotp7tpXlzGK3VLVlEhOSKKFi7JWL7QzYVJKV6XdehWjCRLrHOlWnF7rBhE5pgdItCyS6hS+r3chTs5xoXWEcJBye+6OFGLl4xUEenuNOVeI2hMdswyrosqa1m/sZgyTzKWS51MhyL4U1ef81FmC6CZH034hl/i+2UyqxsoLM5P+Mnpi900dV3relOlwwPEpP7RWF3kZadL8Q+plmTCjhI2N5SyMc+IaewSJ4+2cqJ5CuWRRjdU+tokHqR4aShMx6bzk5QUZ1HvIrcgi+w0O9rxaYKRMD6NloW4GZc7RWpIN9l2neQDqVUcXgo27qGhNJUs7QR9pw9xpGmIxsnANR2X8tiB+eF++jtlfLV0XPGakJebjKI0Ckuk0G//Js8dbOaZYzPX/3ymK1AeMpgutWxOTgZZLguWJT9vfMigXmJMyro7uX1nNbdXJpM010tv3yz901ocHg/ezAwy114ep3JFfBlFFyla+/3CWz3n44bnWizNSwcsJuPZ+XE+catBiosVDPowU40naDy0n+dHFxhUJuBZJUjU38ctt9bwuc0ZWHTKczVEuCi3pSi7l1sKomz7aJB4cJDTP3yBA99/mZMSBobOXyQ4uYLrl25lowThbXU72C5RMbHgThMmGhyhqdGYeMKqQkfPGP5DbRSmieDYeA+f2HA790swCU53sjB9kbYpCfxXFgcxvZSrTmyFVdRlWtinixFTpr8oj+2Pi8gY7+DE8SZeenKIubVH3kZ8PgZe2s/xcBCdZR97yj7E3es03CPhN67VoYmJmJrtoaVNBkhij2tF+Z0lhhsbCUyB6xdvY9O6DWyp3cZWUbmrtiu3Lx2htaMlceeoG6VvYBL/kQ7K02tYt/FuPrXhNiIrWoITFxlpPUBX9zwzc0GiAT+DL7/AiaBy6+M72VNyJ3es03KXsthNWfcTF9G40E9zu+6675R0/axemeodHeC5M2Nk7s2iYm8eX9p5FzHpz4Xe5+g7eQklJl/Higxpb0lorx7gpGK79R5uKdrH7XV3cUc8nuh3UTlEl4Zp6dBf423+LqOkbx9jrS34pBZ3/dJtbN1YR8NnNrFB8XllE2UdlfR7x8iq8EhQWInlQ7/AF+tcbHRLMS9FkUlEuhYlCRaTs1eS3OIIS8ON/PnXnuNsy7AE2xma9h9EvxjEnrKb6i338ZE9Wj4mv6PRaViJSfEz188R5S5B14NyldDXTnuTljGtjV+5q5yt9XfzC1s/JEWNfP+K2BMXITR8kqmetX2uG6XdJhmc7Ofp44N4bs2mfvuH+OKm2xL9vjT4KqOnz9GnPG/smq9QR4hH52h94TC6hRBO1y2s2/RRHtij5xNRxMeXmek9R/OLj/H8+Umar7z9zLvM0Ogsjz93jqyP17KrfBf3lG7ijhUNoYUR/NKufdO7ErePVe4aezPpP91BozGdlpJbKN76YT68I8ad0uex2U6GfFI0dZnZ/uMmRSxfxDdlpWNwL+nOcYIjE5w4hBRfa59fN8rvLdDxyjGYC0vBcxs1dfu4a9tdfOiyz8eXEjH1WGJt3ypb7v4Ie2/Zzbo0LQYRKgajHp3ORdXtH6VkT5SPSYafbvo7jh45xN8/Kb+y3E1/xwrf+KGDX7yzkluqb+UT9bdKIaD4vCKRpbAYOcNRCUDXPe3AJ47c+QyvHlJuU7qdz+3ewO5PbuB2+SgWVxbcxgnN9jHd1kLigvWN4BfF2n+Ajo4UsvO2sK/i0/xCcZxPKSdJ4rNcXJzjcO8QnbLp9ZViYcnOMwwNxwiEiln/uQ1sFiFlELGYJP3Vtv8Qpw4d4azyPB9l82U5nq79HDkcJ7iyk8/tWc/2jzewVz66bHt4fpDp1tY32z4zDy8fYyDHwWBWHetv/3V+5dYViYUiBPwDHFhe4KWeEckg7cyL3VMLQWLGOaYnQoyNRqUuWGRKWa8hBX9S0iJLQyEmWyXlKa4V7We0J8a3HnEQuL2aO+p38+Hq3dwn4/Fyv4fHLnDO17M2HSvAwlg/px58GntgD/o7pF65p5yKeyTESz7Rykax8ARjF84ze5OnY02fPyNCK8Tz9gfYW7GDWxr2skv8VxuaZXGgkfPPP8GFnunECYsbLr/be1hecdEoYnlL4U62ye/VR1bQBEYZb7nI040isPxBZn1TLJx5jOPJ0idJt3F3rYzdei0fliNQ7mfkH7pE55nj/PCJDjonryzw3t84PBns+6X/wLbyZDKm2zjz37/JCyNTnF77XMGanMSGjYWU53tIsxrRVNzOXYW3cOunY28SWPPd36f55CP8w1OS697nt93VrCRuM/Fm7r7vM0xMTjE5+Vanb7eTU3gHf/TldeRozjDXcphXuqz4glJ0KQ+vkqLCNznAxFA/bWNhlpVLt8pTrjLKKM91U+m1JIryxBi8EqVgiS4y3tHPQNtgYt5eCFF6FhcFlXlkeOy4kg1r+yqLj6ISOJaY7hxgpH0oUYwFkz1Y3DnUlnjw2IyYdYp5KyIYpvEvLzJnzMYYHkQ71yYDSHSTVrmfd65sn7a2vWyeQDo2Fia8OM1I7ygDveOJWcmr5xmUI0/CmZmNtyCfPJdJ1KaOyzFiJRYi7Jeg1dfKwPgSQwur7187FlHGq7Z708V2cbxV25W7gyi2LzLTLXa3iv3yvimngKyiUvINcwwPjnCx47XyFH2SmcyqenJTDKREpzl+qV9i8et35ifZjSl1td3SlVu9rrVDdHmSpelBzrZPMysBadV2I86MLDIKC8h1mbFJlFfuC66g2K7czlFZCDkwvsjlh6xm5BVSUFaOKzLE0NAojd3XsRD/bWJwerF6i6jKteNWpispQlLaLDTfx/xYM8oFoTlLNqaCUra5pEdHRuhv7E34W+L56sozZoqqKc6wUWcO0Hemg+HpBSlvV213pGeSUVQobWlKTAG80vZoaDHR74Nj8/Rf91RMswgIJwVVeWR6U0gTv1S6Q5vod+UmDkvM9g0zIses9PCyOxNjYQXblGe+/Li1G5JgIxLAj13sW7vipdjiINWbQX55Dm57Esniw6t7K3cAC4gPLzByrkt+w8J0QXmirQzjY/Q3SaKV9snwOlhvDdF/pp2huIWZwtVtjBOyzYXuRHsum1PQpWRTVZhGlisZ++WKQLnbTiwi40u2HRpfW6BfQHZ+OjUNVsL9FxgZnqL9tQtkLmmTfOq3OHElTRPsb6RFCv2ZK1xYb3dj9pYm+j3DbiQp0S9SjCwOsTR2MdHvylWva0dpKxl/6dJWFbmkS1tZxQ6lP5RnnyzPjjM12CVJL8zc8hvSsXIDjuJq8rLS2Jy6wuTJZoYkudyw3lIwOdE486gtdZOTmkxyovNEaAYXCc6PMi+xbiW2hGP5LNIdjF/2x+IacjNT2ZoSTvj20OjMT763vLeMrGwPm/MNzJxoln6ZRL7ux5OUTlpGJuVVOdJXGi67ZFQKx4VgjOGIgyztuMSVcc60TCiteAXZVG/dyaf/4JepCp+g/8Rh/t8/vMJEfOWK54jcCHYcaemJmOqROGdTxm/ifcXnZfzK2Bo9Lz4/InFf3i2sbSAnR7nCu+oFb0Vg6pxsP5xo48QidWWahDOHigI3eW5rIkYk9lV8Pq48aHKckdFxzraN4S6tJVv6osAwzxkZV1MhPd7KegqSlgiKXylx2l1SLdukvbZNv4hOhSR3Pp6sLCpznSQbpGBPnJUSlN8IzEudPpC44cnItGJhATUbU8h0+RJjq30stvrE+wS5uKW/6rc6iY82Mzk0nBhbq2dOlfFqJL24hKzcTPJdkoM0GikcpOKO+5k8385w/xi9stU1F6KeYjzZXjaJXwVmVyQc6CSvWBJ2aJWKPuZnqle+f2gs8ZytK8/kGt15uL2K7SmJsWi8wvao5J/lmVXbh6eu9BrllJCdvArJW1LIpStrQ5UrgcpdqsILDDT2MDgwgRJyMspqyMnLItvkY7Spm8G+8cQYcZVUkZWfTaE9zMxFyQs9UhvI+wkpbUxO9Htpnpv8DPEzJUYo33+5332TTIyv9nsocdZcOT3nILskhxw5HiUGK3boEiMiLu2xzNLkpMTgTkZCEYIOV8I38qUAZ3Ey4RtBef8y7uJKsnMyxU/maOoYpGvgek6xKRgw2eW3ysrIFf9NTGmTd+PhZQLz0j69HQzMhJl8q0kx14yVZOXqe20RXsmnzsv5Qcbh8vQkPZJ/xgKhRO2lYMsUn8/JozDdhk3ylUGZJSOtH5Ljmh4bpa1risVQ9B1ciK8sVMynrCadwkLpx8kzdPT76f2JAfPtY7E5KKjdQFaqAUtglnGJr/0+/1W3UE6y2hP9nue2rT7b5ycQkrp2eqwzUdverFlhb4eh3gtrf73ODYuP3NhjDB/9Fn/9MAy+Dx/rrqKioqLyfkcpb/TYPNvYuHs7v/Sl7ZibH+HMocN89fEeKerfMk2pqKioqLzPeSvxsXbOVkVFRUVF5b1i9Sxw4fZqavYUkmufZl5ZwN+srLxQhYeKiorKzxKq+FBRUVFRec8o2nE793zh1/mTP/4Cv3JPJRvSFlm6cJDj7aOcHIsm5syrqKioqPzscJ3iY55QoJfO5kYaW8ZQlhaEfspTb1VUVFRUVN6IxeEiLdNLfl4ayZFpZjsbOXXwBKe7Z+heUq97qKioqPyscZ1rPpRH3RsxJ+vQroSJR0MERHzEr1gQpqKioqKi8tNQboZhNCq3qNWQuJlGPEYsGiYYjhFV7jyooqKiovKB5R1c8xFNPHRveWmJJV8osapeFR4qKioqKtdKNBTAL7lkYWGR+QX575IfXyCqCg8VFRWVn1HUNR8qKioqKioqKioqKjcFVXyoqKioqKioqKioqNwUVPGhoqKioqKioqKionJTUMWHioqKioqKioqKispNQRUfKioqKioqKioqKio3BVV8qKioqKioqKioqKjcFFTxoaKioqKioqKioqJyU1DFh4qKioqKioqKiorKTUEVHyoqKioqKioqKioqNwXNirD291Xcfd9nmJicYnJyeu2ddwZXeiaezCzsRtCL9FmJBggv9jA6FWBsdm0jFZV3G0cqBo+XMmsMZmeZGphgTt4Or376AcOMTu8kpyiNFKcJs1YZ0nHCS9MsTw0yNA++0OqWKu8FFqzOFNKz3djNOkwS+DQofRQhtDDLwtAQYwFYjq5urfI+wuklJdVFsduMXqORhCmdFAsw1TvKzMxiImaoz2G/ThwZOFzStp4kYrODzM/MJGJVLL72uYqKys8EQ70X1v56nZsuPnbe/ynufuCzrHeDTQRI1DfE1MW/5qHn+/nR4bWNVFTebRr24PrQJ/kfFT40h4/y/Nee4ri8PbX66QeMPCzWTfzqH9/G9o1Z5JqUIR1kuvlFOl74F/7tJLRPrG6pcrPRyKuQyo1buPdX7qY+x0Km3YA+UbLOMHr2MOe++U0eG4SOxcQOKu8nNn2SrXt28ad35WLTadFHpZOCAzz/lYd45eDFRMxQa+XrpOEjNOzexZ/clc7y0X/l1CuvJGJVILL2uYqKys8EbyU+dP9NWPv7Kr73g0dZXvYnXu8kkVCQseFRmvuXCevNuNMMMH2Ytu45mvrXNlJRebfJKcJSvZ67M+MYhwbpPtWG1H8sr376ASPOysoiywv9DAzM0TeeTIrXQlJ4CF/3Gc4NiajyrW2qcnPRaKFgM2Wb6/nwrixMI2dpO3WEHzx9lIutXTQ29dDZPsKAhFl/bG0flfcPkSCRyVGG23rpjVgIWyyUOML0H2umt3csETPUKx/XSU4tOSWl7KtOYWXkHGN9PZyVWBVRx8F7jIsUTxlb79rHvn27uXvfTvbu3sauTZWsL0rBExsnFI4y/3NwNT3JmUr2jnu4bd9e7t9TRkPWANFI6ObO0tElgTWP0vWb2XXn7dx1xy5u37udW3dt4ZYddTQU2cmyhhmZCRKKvD9Phfz+73xp7a/XuelrPsb6ujn18gGe2d/I+bZp5pWr2Gr0fu9xpmEsqaKqIpu8DNvamx9MLC43mZU1VJVayXGvvfkzzZIExB6aTh/mwP5T7H9JiqLpED9vM63Mkii8VeuoLHWQl7725nuNRiNFVibJ+enkOSOE2i7Q/PwLPPbkfp585hAvn+rkkiSyhQ/mfL+ffSZ7mLh4lP1PvcAzl/o4Ox0k/nOVr4zykgIsv1DiaR4lOi321Q8+gJjllUdufgnVZblk6XVYVj9QuQKTO4esmk3ccttObtlczYbyfDJzS6lev4ldt+xg39ZSyr0OkmXbGy8gXSRbi6iuK6Mkw0WavKNb/eC9xyTH5q2gftcebr/rDu69cxu3b7QgofymojGYMWaUUVy/gV17NrC1rpDS/Fwys4sp37iNnbdsY9+OKmo9JlJFp3xQeG8WnEckek9GiC5GE3Ps1cvW7wPK1uF44At88Vdv5c6teWtvfjDJqG5g96/9B7706RxurV978+eE8GKc+X4pcv1xft5OILpLq9n+a7/PFz5TxIc2rr35XqOID2cSOqcWU3wJ36VJFppEbUgI9M3OMzu38AFea/TzgjIPaIHJeIhxUR7K/35+UE5E1bL3no/yxU/fzaeNBgpXP/gAopS2d3HH3Z/iS5/fx15zEt7VD1SuIK2+koq7t7C9WIO25wivfOeb/H9f+REPnZxi2l7O+rvupba4hCzZ9saFQjWZWR/lN3/nczywtYp18s77pn52VeIs3su+mgxKUpU1AjLu34OhrzdZcBRXkVPgJEPXR8+L3+dbf/vP/NlfP8y3TswybBYxuHEXnyhNpta5ttMHgOtc81GMy13FnR/PIDkSITIbwpbvxmoxYNaKlIj5meltpK/lEoe7/cxLIXQ1SkDbzL2fv5WPfcqLreUveWx/L987uPrpVSSlY/MUsmVnBUWZDjwWfcLhNbEAoYVJBptPcqFrguaRtfO81ixs3lJ2bCyhMNNGqkW7ur2UYrGoH//UEO3n2mk838O4vK/sZbBYyajbTnVxHlVZDsQM9FIzKEkmFgux2HeG4ZaTHOyGmcS8HL28PBRWl1GzuYx8twW7UYdBkVFyXPNj3Qx2t3Lw4hQzizdw/jnJQ3JagdheSXG2k/TXbA8SXppisOkkF7vGaRwOJjb3Vq2nbMNmqgxjxPVmFgwecm0GLGLMykqU2PI4fY3NNJ1uolvssJXWULJ+PcXxSeI5FayUb+OjaXOEZ6Zp61u9rhhdHGJ2uJXHD/UwMqUYr9juJr+ylNotFQnbHUmK7eJG0u8L470Md7dwUIqsySuuyxbVNlC/dRupsycI6u0sOWsocuqxGUT/xiW5z/dx4nwbzx3vXNvj2iisrKZ+82bsi4PYC6twbdzLen0zyzNzdA6tbhOYvsBk7wGePwMjRbeSev9n+UplCOfYFOdPj6NxJ6E16aSNpR/Di0x2N9J99hRnJ2A6oHyD0vrSpmUl1G2rFNvNOE36NdsDLE72MdLdzKti+9jsap9cF8ZUjE6l3ysoy0/Dm6xPnCXQii9GA3MMSb83ilHnBt7qN+qw2j/EH365nHLzKSaf+Ue+dgxaFWe/Eo3YYsmjoLyUTVtLyRI/UfpCp9gS8TE71El/8xlO9AaYSCkiqX47Dzj9uJPNTJvSyDBJn8n4mxseIpxRTrJDxqZBxkr/aS429/DyxdW4YUzLwVFUz65qL4XpVmzKXSaEaGiB4PwwTUfO0tE/Sa9fadt6KtblSaGTgr/Hj05nwp6bSrJ8ZNDEiEvxN9dzlkstPbzauPr9uSVlbNi5W/p9AHt2IY6t97Le0ERsbprWgcQmBOdamOvbz3PS7/3XtfZFgkFyFtmFxazfVE2+JKKUhJ8IkSXmRroZaD7NyV4/o8qlXK3YKP5XW1HCx/PscpBlZGem0iC1z/TZNkbGZuhX2lnGVmNLO4+8dCnxK9eMOQ1NSgk7NpVQUZBGum31mLTKNDyRM/7pYfpbujh3qDkR6xIz7xQxtGEv1UXpfMI1x5EpO/EkB5sLHYlz3NpERPz/2XsPwLiu68z/h+l9MA0Y9N47CfZeRKq7yd0pm8ROspuyaf8t2WwSlziJU+xsNm2dOHGXZVlWlyiKYu8kCIDovfc+BZiG/3kDUCIl2RZAWZYTfPazwZn35t1z77nnfN999943R9djJ2lq6eOack3BLoqLMnhvKTQ1SzuoTBSWS2ySm+kSlFXyQUauvkSTtMvpeJ2nkZaTy9YDpaS6TDiMmvhvK8NM0dCCxK5Rbp69SkvHMJIe8Gw9RFlJFgfSlmj8/lm5Rx8t8fMVKOPsmex5oJribBWJs3U8c7aflr65la/XCvH5VGnHHRJT0+06EnUr+UHx+bnRHgYkn1zs8tM//SYLD97/KQ4crJWY4ePY57/Biy9d44x8/Prspk1Mxpy7mV3lqRRLPrFJv5JaJyr3CC0M03zuOi3SfxXbc3fdQ3FeDmWqKcKJHhKMRrE4yFDbJMFwAvbSTLk+RGyyl/H6c5xuX6BzcqVsyeXbyC8pYXOWG5shAd3qRhOBqX4G2zq4evImw5Eo8xKvEVp36D0e8rP1BLr9kiZdWF2WeBsmEGFxboTprmuSs0ZpGzTEz99z1EFOphVfr4HtD5dRmGVCfaOVfvlNKa2c46P/6dM017VzWf615v0Stn6IrYcO8umHvIRarjLaN0Q/TvFBFZqYyPHwHH3XztPc3M5VceDbZ5QklW0hr6Q0brvdoEKvXrV9eoDhjs647UNLYebsSeK/2ziQqyHXamdwuph770mmLHOZqRsdjIUizEtcITzJzWN+ZmfV5D2SQrTrtHCLRk52Q7b4Z3l1GSXOAKMvnKPlah9XxMerD1VTkq/GMPgUZxoDtM1IrJJ231aWTnlmYpwTKNFO4R1haffWS3W0NPfGc68y/orGEvfHmq3FVJZnSAyWfiL9U6VsaiD9ZLjtOq0tbfG4sigX2JLTKNh3H2VWHy7NEiPqFJIsBtwSixREg8I3BrqpP3WZdsk/Y2umHgrtd7H34x/hnns3sUfXwHNPnebpE610LRhI3n4/2w/s5D9tjdH79Hc49fRxnh0UL3iTrvJDkVWJV8TLfTlRAsEcjLZcPvBeD8vDw0z0jKCE6EhkltmBXuqePEfrfICReC814impJK+8hK1ZduxG4R0JSkWG8Y91MdDezulLvUwEQnf51H/laV/ZofvYfWgX92VH0DldLEUnUN38NF99eoTHz66c+U5ApTOhS84nO8VAikly7MAggxMhpsPJuPPey4c/VMZ92/xMv/h5vn1iiCdvrF74LsLbuOajBLd3Fx/55HaqC9PJcThIy5DOZrVhsXrIKikiy6XBo15gdGAOfzDM4h0RWnHydIqqciktt6KfOCWJ6PVrPpRua8KZURp/tHTvPVWUZTlJEiKmt0qizcgkN1c6rFnp2H4mh2fj94ga0qWTlnPwQKUkWA/piUZ0eit2bxqpeXmU5jgxL04TGOxmVOLbYswmxCmP2gfvZc/WIrblOLBoRERJoDK7k0hNT8YRHSNhopVm6RUL4tUacQZXdi1b92zl8IEKirySYM1ih8lFWn4umak2Um1RpkdH8QcW8a95WHPFdkdaMYW1u7n3cBUVUu5kyRQ6q4uk9Azy8jJJMwVFUPiYHFqxPaVqO7X3v5d7y9wU5mXgTkkhxSoJ1ik2pOVTVpyCRwhiwswIvXNhNG4hCfmFpOuipHjTycjIIcsUURSpBHo1JpMJQ0KAWGCCxq4p5nwh1FpD3PbaXVu551AVRSlSTosVncFJqmK7JNv0xBgzY+P4fAHkkjiKa3dy6H2PsDU9Qk52Ku6MPDITDVjtNgzKTkAGP+NjE3ExtR4kK3VSVIpjWYsrOZ1k8Y0kbYAEsSMidanYopV2jMy30SoBcy4xF1NxFUe8epJtNjRO8Sm3HpvDidGVJX6ZQ6Y9AdviKJ0SxWeUrYg0OpxZm9i8cytH76mmMMWMy2JBq3eQIgQiMy2RTMcyM+Niu/jkLdvfOhSKImLOW0j+pl0cPVwt/StJAo4kV5sLT2o6+YW5pEq7JwR8jA1ME5LYqwzIvAav+Hshuw67cWuH8Ldfic+jvnPNhxaVxk5qyXa27t7CvQfLyLJrSbSY0dmSyFbaMdmMVy8BbXSBeXcusf3v4Zc2pVKb7cFotlFYVkJeVhr5SXJehvhZdjYphSUUOxeJzc/S3DRB1JSMp7CGzQcOcs/mdIq9IuxVWmyeDFIzpf8XebH4p1lcWKB3MiKEeRuVW7dJXNlMjpCGHK/0p9REjAY7rpR0citLyXNG0QQXhFwNx223e1MpKKskcVmD251CckEOydLummWVfL/a7suTLC80C6mCqYXVKnjLEOKoMpBUuIWandu57/BmSqS/e6wmVNpEESTZpKfYpC8GmJ1ZYGEhiD8i/TevnMzsTHalOzC53ThsRlx6oXm+RSIi/GImI6YEiVtT09xoHVq91xqhc6OylrNvbwWbKzLIdhowGKxYXMkk5xdRJPHSrV5kqaeZCXHfeYUdKuJj1/3USP/99W2pxJyZeLxJlKVaMUk9W+1mkiXJBW50MjE0KSJJzi85QKXY/qkHijAbUklNShbSlSjni5i0WfCmWlgebGNqZJy2+JhFkogP8cEHdlGQYiXZLm2g0+NIySIjJ5PKslT0c+KbIhA7piLYig9QUbuVj9xbhG6gk4XxEdr8qwnDkKyoEx56ZC/7N7nIj7RS3zVL30R8NGANUAZNxFcLa6nZsY0HjlaS7dDjtBjRSM7KlHbMTnOQbhICKp1ldtrPG8bMSsQvc1I54gnRdbaRrjdb82H04Mopp+bgYQ7Xiq1CQs1yb6tbYpLEqJLSNKyLc0QWZukRGwoOPsz2Pbt4sEh8PDEFr8Th0ppSUqS/ZyS7yMp0kFdcIGVzkisUrHU4QO+CEDFPDpv27WPvzk3sKnCTaDRI7k3EkZ4v/dItcV9DwqSQuaUI04vKiP8eHvzIJg4dLhIS7iFbznG77Gi1dtIKC8jN81LoFkIzOM3UaAx/LJfiKsnrkncwuKUMSXjFvzRC7CIikNQmnfQtCLT2yjXjKJrz9dX1I5FWRlpuLgfEdr3yH4MNm92A2ebBKUS7tDyfZI0PbWCWgQE/oegyEb05bnv13n3s2VXLbrHdaTZgMtvF9jxyszykSixLmBphajHEVIIUMrVI/NtIRqqdaGqmCHUrqZJLI4vSIQwGtCKOTXqppw4zen0W+35pN7naTtQzvVzrt1N58AEO3n+IQ5tSSBzqItAvQmWplF0P72P/3hRyfOfomrIyZSilev8hDm7JZXOuE4tK2t0pOTc9k6KSVBIjPpYlNvaKMAhH9RhsaWRW7uLAAWnDTVmkW1SYpA1tEsfyigtJs8ewxCTO98+I+Ihi8Io/PfwxDlZlsb3Yiystk1SHcBHJoRZvAQX5aeQmG9DPDDE2v8jIwlpVgTKRKp+tu2qoLZXYOf4KL10UQn9TYnnIx3w0ReornW2bJW4HmglNtXFdQpdSjWuCO5NEyWWb0rXovClYJX9UpBvRhiNEYwkkiGMZ9dKrJM6PNfYwIe3o00ue9RZRuWu3xLta9hS6cEu7G0wWHAqXkDyRYlexOD3Jgpw/u7j+5/4Jwhd1qVXs3lfDvopktG0jLArvCVkiaMZP0dDuo0Xp+G8D9EYTaQUlElfSyPJYsMz5iYm4v31YcTmqzBIaE543RG/vGCMzkmOWQtLftPiW8iko9VJcJHF64jRNvfO0SJ57t+HN1nysU3xkYncUCMFJIydVhT1hjOaXvsMTT5zmsVcG8KWW4M2RIJruRNvcHE/Kg3cQsbciPhT1mR7fDeM9H9zF5sQJhi48z9Pf+BbfONVJ96IFkwiTitJ0HNKhE0T19ss9Aot2DFEL2RkLTHVc5uKzz/P1Jy5wvi/EhDGDwoIMkvVDGBfraRCeO7dYgsN5gA9+vJoi8yDz157im//v+zx2oo5j7cNMLwSY6O1lvHsAKSJB6WgmIahbPvZxDu3KosY0TPOLj/HE46f4xovdjFgyhKBmCmn04p2txzc7S/vUikVvHVo50qjZvYf3fnQftY5Jxq68yFNf+wbfFNs7fNI5M8ooLUnDHVhA1drKgNhuzBYnrqqlLC0ZZ2yWSNc5vv/oozxzcZDLE07S87PITNHhTQxwqW2Sns4+euvruXpjmJhNHLiqAOfEGV569hk+/7ePcez4KY6fvsG5hiFmRHUpz8gMQtS3fORjHNqdxxbbKK3HHufJx1/hq892MGKWAJspdVIiiXamnsDcNK2rD84yCksp3bKDvMxUHAk+Yp0nefq7T/Ddl6/w5PU+etqa6OodZnKdq9hmJsZput7I1UYjKiFUlbUOaP9bXnrmMf78H0/FbTlxvo3LrSKMhIAup4n4KKnhSIaLTJ0PzXQDJ7//Lb73UiPfbwJXrtRVhpscj5H6RgnmE/Msm8zUfvijHNxXxE7HBG3HH+fp753gX55sY9iUgi0ji03lWSTPNrI0O0HzmrfOUkZ30ijfuoP3/9xRtrinmW84wdP/+i9861QHjdMadOkidguFpMSW0N68yZC0+9wdcfatiI9ESfR53P+xBzi0PYXC5U7OfffrfO+pV/jWhSGW7NkkZeWwuTwDTVsHfpWZwbxNHM0zYxtrYeDpb9FrLBCOmU1JtgP/tSdp7unnhWgRJR4dxpl5Ji53MZtxkDLx4U+9Jx/39DUaX3qOL//fxznZusSEWshVTSUFyRI0Q0EabwwRoojMolx27M+URBImOtFM41OP8m+PXY3332h2BblCxryhAOb6GwxKbu0Zn6L52nWuNegImzLYvDudhI5/4Mzz3+Rzf7fa7mdbuNAcRZow7sNrgx61xsXeD7yfw/tK2OWWdj/xBM88fox/+M5NJoRA2LJz2VZbiGmik9D0mBBwuclQN2PXL3HilbMcU6UQTLSxz+Wj6Utf4Zl/eZS/kXIdO1NPfduQJNw107YVRIRYLTjIzQgQnrpJ3XNP8+j3L3K8YZIudSaZmV6ynEGSI+dokX44rDwsUMRH2VYRsUUcyc8WoTZDtP86L337MR598jovn2uhe6ifurZ+ev1BRL5LuK8iJz+fg6XZQnai6H3tND33bb7+3Qs8e+oG3cN93LjUR/dAkLnV+jU7tDjTbQycP8bpZ5/lK4+9QN2gmoBehMvmMpzaQRaDk5xrmsM/n4LF7BVfkTpcbsIfGuZi+2ocSM6Enfdw/9ZEciI9DL30fS73BBhes4i0yJHFPR+8j6MHC6jW93P16Ud54nvP868ne/CZ0iRu57NlUy7arl5Cg8N0ShHucJe3Ij7S9lK6dT//5UPlpAUa6T79Av/vbx7lxE0f/WEh+jVVQhDVmFUh6q/3klS5jayCTMq9IVqfuER33TCBkmpSM4zYooN0PfYvDGqzCCVmUSY67ELzKO2S49jxcT5yuIS9Xh++a8/xvW8/zePHGrkyaceZmS3t66EiY17Eyhxdw4rwKmL7/iwqKhxkJoUYvvaKxLvn+dtvXGVUBJ45K5cqIcj6ji4ifW20L3VKfmjkeo/kZVcVFXlavKNNNP7hl/ja8y/z1eNnpG9d4fLAGN0xEQUr1q8NcfGRL+LDhUM7x/xAPS985Z8k93ZyUWJWYkG5iC83SUYdMxdbmQ1FmHNnwfaP8sHDZRxKX8RX9zxPPvoM333+Olcm7NjTsygoEl9Kn6djVI4uSfLDrfQ23pR8H2C0aCsVnkWsPdd57jN/z7efO86jx6WPnqzjxqCfJU8ixdvKsEbqJHePcL61hIqtm6iqSMOhXmZx9jpjvimuj1RRtSed/DSp/wvnuRGsQZN/iF/9YDk50Q7hKi/wlb/9Di9dn6LTb8NbWUFOiohdY4SGun7xcaeEzyre/4vvYWduDNPINY599cs89nIDJzr9LHvLyBJfy3eZ0N9sZMq/xIIticzNuyjJTFmZ0TBWx9nnn+axZ85yvNeKwSOiJS9JYuoi7cOztPQpEzrXAvErati0q5CSQnH+gUe5dnOctsFVD1/IwKUW4XMgA8tyPQuzElfbhBOtNWXPjeHrbuL61SY6pd+p83PYlThJ83e+z/f/z1f5N4mNz564xOlrbXQEllDCltqVguPgI7znYClHM8PM3zjGs489zbeeusyVWTfm1GyKy0TcJ44zNj0vZV7/1jFaVxKJR9/Hwa0pVKokN319igSn9Kv8GKqRUxKz3z7xoQjI+z75O3z4kf08VJGE61ITM/N+3pJ+MNkklm+itjaZSvHpubqz1Lcv0D6++v27CD+GBecJhH3DTAxc50TjIE39I0xN9HPxxQ6a28MsOpPJ3qYlKWf19LVAlCap5bgy08lI9DPfepzmm0KU+0VUDPfTcrWbV46PMrLkwFZgJ3+7EGNlNtfyuCSzOs68fJqXzzRwtWuMqblxRlv76DjVxfB0jJBBg9kjDq1wfGVkM0GLRqNGp11Go44QDi2yODnKTEcTdadOcfZaB5clhq2MZGeg126jJD0Zj6qfiY4XOVnfQ0PfCLOTvTS82EjLjWmm1Ul4i0txp6UqF60NGhFeKZKgMzPJcgTxtZ2gpbEubvuk2N52vZuXXxxmOGDHkpdIwQ4RHq+uAhQmGptmsrGZm98R0tE2IUmkheGGY7QPTjMTNmO1Jwmh0hGLRgkvBVlamiUkhC4qGSQWi8R3cwgEhHgox+ISiyFlyosSgNLRaXZQlO4V0jLEVOcLnG7o4kbvCHPTfdx86SbN1yeZVHlIKirBnaHMCr0NyzESAtP0NHTw7BMS7EWVDQ2NM9/bQXvnKEMTbyZ03xqiYktoaYmlUIyIVIHyHoXl6FLcvlu2BBfFJ4WwvrZgVPkjyEJ/O90vH6OuZYTO3j7mei5wRWxql/ilT3SSrdGSQqr4xk4KpT29+lGmO5/jTEOnJOcR5mf7aHr5Jk1XJ5jAjaugGI/47ZqhEpKQXIw9M4fcpAjB7jO0NVzhUp+fseEBum50izAcZGDOIkLTQdEeIXnO1WvXAosHVfZm0pWnleFehi4/SV37AK0Dk8wPSuI/0cP1Bqkza6qQJQOpxcpFUlcRP77xGfokIZ0enOXm3CwsTTFwU4RWiyS7QEiEihq91FeiWkV6iSTJfCvJ0RG6TzZw41wHfX4/Q0J26zsaeLI3wIwtlSx3CvvkDi7lNgrET4KjDbQ2X+WJawP0jg/Q19fPyZMD9M+IQHOa8BZJfxc+qfhwaGkx3u5h8d94u4swC4ugea3dQ+LDim+v/v5aoEtClbiTbPH5JN0YY81Pc/ZGK1e6RvD7+mk4cZMb50cZU6eSXJJPesFqf4+IeJJyBYJySP9RRm2lBMTER0Or5QpI1g4phV4vlqX+Yw1cuyjk6eVrQpRGGZ4aY7JP2vJFEYlDi/i1WqxeCSnKTJo7oHQSP9N1F2g/fZZzbRJLJ4eYGO+lRfx6cM7HG/h9Qkz6yilab7zA968M0DM2wuT4EC31QlSnJTa9Wr9+idGdnH/mOc5daaG5fypu72j7JXqkTXumVEQ1DgxmZYJyArH5DvGrdvrG1RgcxXhTinHI58rwk9tuZHd5Guk68b2RCU7XRxmfebUDv3WYHKI9tpAiZNaVMMLo5e9R39pJ08AMgdFOrp3p5tKVeeb1aSRVmJSNmOI6ba3wFCSRVeIkTa0MlgnBeqWVHl+AoYEGyYnXeaJrQci+h9TkdParVEjTSFOEJS4KyZ/q5cx4P+3TS/gWpiWXjvCy9LWWMR+zYSE+OiMJag1umzE++p1vXmS+r5PvvdBIffcYQ2P99F17lsbOXnqCZuw55RRZnRTILVYSfQIRib/zPae50NjEqdYB5n0D3Gzs51q95IYEO8ZUIcgZEqdVYcKSB5ZCYaRriecq8TQq10u+iPuv+LUcixJs78KDV5HAvJDv3vaTXOydF7/to6+3lcevDdMeMGJOS6amRoVHcrbypGp/hQgMSwjfQBdPSr69LgJjaGKI3uvP09jRTVfAhC2rjCKbkyKJJZpISOKBxKalEFOS5BZjUbFF8rz0zcV4P1T6qdgaGSQoAndkLiT+mSEuU01CYgk2SwJGpugdkTxo8ZIo/VwlSlBvX0Y972OieRmj3UNWmZs03TTj15q59lITXbM+BoeaaW2/wlOdMwxoXHi9meyRNkx3ZmHMKiEvQ4dqop7u6ye41D1L/9AII+1dHH+6h7YBabVkDwW71CLkV6tKQWyBwEiPkPUzNF/uprNfuED983R3dzGwoMNgS0ZnUJ5irBWKSLWgVeskzyt9TOrp9udZMZ9whGl8ixJrlScU62WPUv+xcIglCcpz4TBz4lex5ShRaSPFt4KrbRJcEh9cVkpgwG5ysrM4k3yjtFVvM8++1MCVNrF7coTeK8/R2NpOh9+CI6dKBJuIMLmNEj/WDEMBTu9uHtycQ/ZyD4ONL/HSiI/OwPK64sGPwsLUBGcf/xr/+rdf5kv/9hxPzSzQvfrdD4ceq9nBrk3pFCdJW0xInLgWYfRd+NTjB+EuxQdx8TEz1kibKO2xBT+hoJCThn4GB/z49XZchUnYvMqo0xohBIaUdMxJLtzKug3lEWZSBrkVtWyrKaYkzSUEJwGVyoTRrcclAkcTX6kUEkcWBw5r0AqxySipYOu2SmqL08hLlI6pVqPSJqAxSciLWz9PRILOyKQknphZAl0BJbXVbCrPocwl5071x6cD9c0Lz4qPMLvRqApJsVtINAkRUuuxpBZQUFHOjtoCCp1GEjXSidUmrMmpGBPXsQJIsd2bjinJjdsitkuwsnjSyanYwtaaEkrTxXaN2C73MLr0uHNvIxcSbAlNM9rfz/VrPQxNiiKemWBhuFmIyQJzIbXUk0VsV0bZ4xfIoTzVCK+Qsx+a113SDmK7zbpiu0qLOSWf/PJydm4V291mHIrtKmPcdlOiJPzbIcImujBCX08fZ+uG4jsy+X1BYnNTTE2LwPSv9THxXUIZBo/6mBsepOtyK30jfmbm5gjP9tAiJLs3IAlfb8QlJMGGE3VCcXyKllNsX1Zs9+aRV1bOrm1FFHksOLXyeYLYnpSC2bEOVSC+SXIKJkk4SZLwtNLuJmcKWRVb2VJdSnmWJz76plYb0Tv0ePIlwK5nuxaLDVVGNg6nCFG90o4G3DniV1XV7KpSpsMZMcm9lzXSzhka6b9yjeIXEUnQQqSmxhYlsQYZDvqFTC8wPRxgdCzEhBCRkERotUqStRzetESSpe+bpZ+ptU6c0k8qd25hU4X4steEWupfbbLjMFkpVIqllE0hObGQ+Gsb/d3t1A8uML8ox+QMnSLupuZiRI1S98nxrvfjh5QvIa1UiI8Va2xSBPcVOgbGGZgJiPvMM9beRH9HH2NL8n1qFq60d3IJa0TK4GcprCLB6MFbWEHNlkq2VmRT4tRhE39UiQjUSsUqS3zuwHKI5cgso00ddNd30TsZwB/yCSGYY2J0Kj514c4BTSX4BZltbqb3WhP1AwvMBgJyvpAvOX9Gzn9t6CBGRGKJf0mFRWJ2Xnkle3ZtY3NxSny9jFp+Sqs2oNEImVZOD0kOmekXQSekSp8pPpNHmR0pf6KQTQ/bCxw4IiJ0hHBdG15meq0zrhSYhIxl5mJ3WbEbVeJlypOZQooqa9hdU0iu24pFfD6mtmJL1WBXNOQ6yIbLayMl1Sa/JaRXym9LyqVix1ZqFLGQbpa7xlAb5R5mO0VyA2WsWYmLLIool9zZGZD6D0ZY8kusnp3jxpj0swURz1Gh/0rMlv5lE/+vzHDgMenQSD0m2DPILqtk0+ZSKrPM8fikkWSoT1QGSkzxRdUriT5GyC8io+sq7b0DdE0sSK5cYKx7iv62eRaiWtR2lbLJz/qJ5ZqxQnL9E72MKevM5qIs+OeYHx+h7vI4Q1Piw047OaVit6QTq0FDRUYiSXHb9WJ7uoi9CrG9jKpsCy6zRuKjToRBCsl68222y13kVkGpx8gPfPw5hz88SeeckF91EiZPMYbsTCTks7w0w/XxMD69J/6kM6HIiV55Qe2Cj+6RZVRmC6lSLqukP63GhlkISenWWmqqcyjKtGBQYqDRjMXqoEDyicPpRpeaisemxaDVoDM7SS3ZTFVVBZuL0qXsKnQqPWqzCXe+xNPbaURkQUjrEHVXpe/2z8ZHyv0jzYwLAR33K2nZLP1+PdRbcXjpnxIslKV5b3T/RYnN0ucjy2/biyDDsWURg7EfsYOcDZMumdJUB2618ITRXq60DtMzKXYvBZgfvEnb4DCN8yo0nhwyLQ4kNcbnj7x1rNjuSM2nqLyGvWkSN0e7aLjcQOPMIpN3r7DfFEHfPG2XT3PyxRM8f6qOq/4gb+XBhVEEVmpRKXsq3aSrx5lub6ChO8jI7OoJPwW46xATDo1LoOwQ4ro6S01ULPNThKRTBsNGjJZKUeHrGAVWvN+jR2s1YLGkkLnvV/nQf/5D/uLPVo8//hD/81OFFCcbuJN/OTDbK9n3nk/wy7/9u3z2s3/In/+pcs0v8Qf/3x625dhw3eGV3eLAr3C+sZtOnxf3lg/yid/7TX73936eX//QHg4U2UhTnqi8Cp3EfxM6KZ/Vu4W83b/N7/y3/7Varv8mxwf4+EOFZBkS0McJ/jqqWEQVbgmuNhE2xiQy93yKR37lNts//VH+968WUp4i9bt6yatQFERggaGlIFfln7dGL5W+7RdyuLSu4d9b0EoXNYvtahEXNWTt+G1+63d/f7Vc/0OOR/jZ9xXHbTfEbb+T8SzHoizOj0pyFYEq/76LJdlvE6QuQgqxDdAnBVq85cJSWcOhKJN37JktTpOwYrslqZL0rb/Fb/zOLdv/pxwf5D89UkqO2G58E9vfEpT4J6RRbRef1iWSvuPnefiTt7X7Z36Wz/zXEjZLkl3PuNarUISj14BOL6I9aysl7/tD/ut/X73Hn4otf3CIn7kvTXrSWgP4a1BGiVx6HYkGBxp7ATt+6Rf51C075Pjcpx7h9yoSybMpo223IyqEOsjC2DD+qdvmrS1IXOldJCqCUBmFfcdglyReasdoXUYjBDE4MUc0dEskK/7RJuS/ixlfgoj6FIymd3IfRquQxHxqD36An//13+Izn/tD/uzzSv3+Gl/4/BHu2ZxM8g/iINGQZL4ZxkZCjL2lRfghcc9Z5m+E5Fj96AfCjCuzgh0f/c/86u/8Hp/7zK34KH72Sx9ka1ICop1vg7JQf5InbgzRF7OSlOrlwVxIs+RjNxVTniEk09fM8GgjXdL263pljbIoN0V83mjA4a0g98E/4Jd/9zV//Iv/fR+f+kAmHom96xoxXYVDK6JGmGKCMZvNH/sEvyC//eer9/j8b/wsv7/JTYX08R8JyaNhOd5sJzSNkFeFhGttGeRvuYff+8zv87lbdsjxqfu2sD1F8of0QSUKvZaBwoSDs8z29cbz86uYCLM8GhLBqGyx8k5D6UOLhP0RJRSvJCoFysYNl2ZZHFNmKmgxpyfERbRG2seiV2xPJ6fmIL/zx//jDtt/5cFt7ErVoRPDFduVYy2Ylxx5ZdbPjFqEQpqXxFoHNlGIvoUAz88uMqxxYnJnkJBhw6iNEA36uLIcY1Ha3WWwoTJmUvnIh/k5KcvnV8v0p7/zS/yvbSnUum9zehEdKpdB8qQeb8WD7PnEH/Lpz6za8dn/wl/8z1qO1Lri2y28gUEsCuEO+LgqImpk9SMFikANxJ8irH7w7wZJIiizsVtEHKsCwtfmmVXqfPVbBT3BJW4ERKSbLCTpDCj7da4tdymeYqW4OpcDhzPJj3YxWNfPqTMLBN6w+OsnD3dFNeUP3MfOQh3GsWs0n3uOa/6FO/zh3Y51MOPXQzxdGW1/Fcq/V4LYssKmREUnrGcYRSFi8UMCpm+YwVe+ztP//CX+5M9Wjz/9az73+S/wR3/853z+70/zb8clhs5BcnkBmx85xJ4aZV78CP2XnueZr/0Tf/+lR/k//3iFGwO+eFx7DRLcfDN0nXySJ772GH/9zyd55eY00xov6TX7ue9jP8eHJKDdXyKJ5VWmnxD/j3/0Cu2nv8g//d1t5fqzvxIS8Bf80Wf/hs/90yucuLbOxaRSZQkJESKBMQZPfZNnv3LbPeK2yz0+Lbb/3Sv8yzEYe3V6p9S8BFBlhEf56HZT422i/M+6catRRMiM1dF19ot8+R9uK9ertn+Rz/7jy7x0+U0mRiq+IYfiMXdVlLcLt8ojBbq9blbK9/oSKq0uVGmigd7zX+Rf/vF22/86bvsffuav+Ow/vMTzF1e3WloLFMaukntIu8dC04ycf4xj/3bbPaTd/2S13f/k/xzjH5+DgfW8kv3VZlxioe86rd/7Ev/8t7ff5y/Fli+ILV/kL77Ww/E3blTxlhC/TcRPZKaT89/+Nl+59fvK8Xnx4c/IPf747/nik6d5Ss59dauBuKNKC9yeRZU/lX8r7bXyyTsDpU2UwYD4f1fuf2cBFE9RBJNyqnLS2xBS3yIc2anUfPxBdm3PIc84x0Tdy7z8na/w//7PV/n8n5/h7M1JEdCrJ78ZlLp8nd//cMj5ogGV44fBXL2NggN7eWiTC3d4hK7Lx/m2+PGXvvQlvvLoc9RPLb/uvSbS/yZnCZ+uY2xgEb/VS97eCiwHKjBWJZOpn8DXPMlYozJSr5y9TigOKT4fGG2m+6n/wzf+/jZ//FPpt+Lz//uP/owvfKWZZy5JyypNu0Yot0iIBsDXx9Xvf4+vym9//g6f/3PJWf+Xv/jWMb4bicTXjPwwKLa+mb1xU+b66bj6Mn/+l3/7mh1yfFbi0B9/5m/4gz/9Jo81dNMqp66YolSe0ubxSVTxT+JQPl6HrW8n4qW53VDlb0leK+WSmKh0q7jRq/83P0BP3Sv8xV//3ets/0v++LNf4g8+/w0evdFJs5y6lkHrcDDMdM8M80HlaYOdHbkOkjV+FseHmOycZWFRg8WeyCEhA6nRBfwLk0xJfS5KoVTKrln+AeqffZqvS1n+/Fa5lHb/rMJV/i9/+pVn+I4/SLdihLIzqAjvyYaXuPCtL/FXf3nLji+KP/6FiJE/5zN/8U2++F0/9bfPxZHcHpYcPyVteedDwLuNjSvlCcfChJR+vvLhbbCiUjlE/KnQvX7M6McKJe8q0+OVv5VSvdFOJS6svC9OyZ9rJ7Zqsx1b9QGKS9MpMg7TefY4TZ2d9EeWV3Yme5dAbUrEVnU/W7du5nBuAtHOM5y72saTTWFmFu+YJPeux11nSpXKiFqbKA2+OsagRAlRnmqtFo0qQjQ0STSyjrEqxZPmwkQDYZbCfuYGrlB/6ThPPv3iG47nT3VwsUXivfTEpEwvZVuLyXNF8Q21curlE7zw/Is8/cIVjp0bZHA+RPB1zhQNLTLV0UD92TNy7kmOvXyRM1f7aR/Vk1i4jZqt1ewq92BV9uAlLPE7SFgCwOL8GNN9V3jlxMtvKNNTz53g2TNttK150ZdA6Um3bI8EmR+8RuOlN95DOZ4/2cZ5ibDzt+Y8KLZJMIxI1FYC09vrjAqTCYq2ibHkG2O2/yqnXjnxhjI99ezLPHu6lZbeddj+roWSCSUwR6Ni+wRzg1c5c/LNbD8utrfQ1L2OV6Aq7T4v7e5Xgn+I+aEbNAu5eP09lOO5V5o43QjTa154K1DmD86EiISjBOaHmWx/hTMnXnrDPZR2PHZxktbVrYrXAoXQzocj+MNBomERUtcvcfWFO39/5TjF8RsdKJvNzq9c+u6CUldTS0SUNSNqLWqjngT1rbCpZEMHalUiegkNy7FFYtF37nleYpKTir01FKTJzWd7OPPKKxx74SWeef48Tx3vpXMsgP+tK4u3Da78AnJL86h0ibjtauLKKyd57jmJwc9c4MzlHkYlML1hMxqfxIrO6/QOzjCCneTqKvK3F5JbYMMeHKSvZ472vtAahNLroCxcmFbaMUJQ+u9s1ykunH6jzyvHi+dHaOhZ6Y5rhU9I4YLkk+XYnIila9SJzz/9hntIjrnczHWJo+uIEpIal6VfRePbVc8OdHLluZc49vp7PCux6YXLXBuajIv6dy8pUfqQGrVGher2B0JCcPHq0JiFdipPgXxCrCT9RKVR4rYvzjM31MXV54+/0fZnVmy/OjARHwlei+1RX5hgy7SICtBYrFS5rSQuTxIc7STYOs6CT4XWbGObsstUbIrAQr/wiaikazmk3WOxeSZabtAg7f7sM68r19OviG81cnUpzEQgwrIo8LDkad9kB70NJ3j++WOvO/9Fnjl2mePXlhi8/Y0Hck1METzy51qE1Y+GMiIwSUhi9lJY+JtWeeJw2zN2qwm1y4ZJL51XOrDypOqdEa1B6Yvz8XV9y8tSLmVanfjN7U+1bBo1Hq34USwSn92hLDdfS/fVmS2kVFaTk5NCulXFslrZ0TSPit017NydSk66CZPGjMldTUFBOTXF6RiUoP8OQmPz4MitpHbvXmrzE0ld6qTh4iXO1Q/QMCZN8vY6w48ddy0+NPok9OZ8ESGriw7UIoltbvRWC0ZNUAJ9A0uSPNYMJel3LRAaFxKttWJMt6N3vGHV5BvgMOjIVOZ9zvVwrb6Rb5xsoX4oyPSykQS7/IZJjeiiN8fiBH4hlaef+Cr/9Ndf48//8gQXeqLE3LnklldjUOYNo8z1nsQvAWRZl4TZWSomr2fi/Q+Bkii7xfaxKEGNBUOalNv1o23/8SMgQWCCQEhIgEZsd5WJyLyrCUA/RZB2R2yXdo+p3VhdFWL7OtYy/TAogrvXR3gkjF9tQZdix+B+w8S6u4cIj+XWOembGqJWK5Zsu5Dqt3coSxlb7fMFGZKkrLKaSbFrSHqbu8k7AmWIvmWOxYUEwgYzRrcNte5WAFGIUyE6bR4O6zLL4SlCwfXQyfXBotWQl2jG4B+ho/Um//xCPRe7hfSGhcUlOoUkadHdzRyidSJDiFmWhAXtTC91Z5QBiiY6hpXBoWwhDtnYxKWFK7wOyp429TSNDdIyr8GaWck9hVkccImPDvVwYcLHeWEU65ZSyrajzdKOc2rCZvH5XLuQy7e/cgb9i/QrMUJ8PtmuJVVZbxMfsX37oCzyHvYtElAbsBstbJIbvLpZw08dFAqiF19VC2e4ra4SJR5tl7yXrEK3GMInFCLsU2hBjBHfksRHvfiRlRq5QHmLydsGxU9uTLI0K/3ZYCFDr0e31E9g9AbLN4dFIy8TMtjJdloxxIYI+JqFD4QZCS7RGwwRUdZoSLsrU7WVB6Y/ECNBor3KttwrhN4sjpLwQy94J6DImd74BjRLISsmWw1afXxLhBVkGFCVGNBrg4Qmwsz3S398RwjvOJFoH3P+sKRII2adjcQEFbczohyjjmqzHkMoyEwkFBfcayma0ailsCCJ5KRk7N5Saj70X/nkf/vf/OWf/aYcO3loX7LkrxSSyn+DD37wU/zWJ/bhltj7TsKYWUP+vvfxi/cXUW0aoO/ic3zlmSYut/10DvLetfjQJ2aQkreV+yozKPMmYbKmsPlwAaXFRiwLUwxdCjHVc6c8VmtVWFPFiRJ16BK0IgZSsKoT40HkVQoUDUo+us7wSBfNE3rM2QfZUrWVIyUuCbgaDInKblI17H74Hg5WFlErlyhUMP74LUHEh9VDhttCVZIWQ1IB+VvKOHpfPvkiYO5YwuHJxrrpAPfdv5NDO/PIlXJpEmLoEk0k5iVjsOmEYiwSDs1KkFHceZhguI7rvcMMLHnwFOzhoT0F7BQlahPhpXalkbFpO/sePMq9mxMpvq3vvmUo62fmbjAy0knjmFacbj+1Vdu4t9SFw6RFb3eTXFTNzgcPc7C6hK1yyR02rQPKbjyBSAIaZ4bUm4camwqL2oFd2W8+w4peWZgsXXopcp06sb0v6MSVv5cHdheyuzARu1ot1yq7I21j30P3cbTWSek7/vpYxc9miEbmCUckOSXvIk1EQm6CGqMlCbvLQVYSiD5dB8blN69R3z9ITyBRfGMf9+0qYm+x1JFKsT2F1Kot7Hv4AY5u8VC+jk3OhL1K8mtkfKSduiEhb6m7qKnaxUPlbpKEKOmtTtz5VWy/7yCHtpSzQy55/XYGJpua5Bw9JqNKCJ4ZrdGLVSX/Xv0+jqVRopMXaB0cZ2w5g8yq93CouohN0s7KRgSW5GwKtm7nng8cYb/XE18MvlYsR2Is3Ohi5OY4A9FUvHt3Ub2/gqrkBGx6ExZnDnk1+7j/6E62b1L2JrkbKJR0lmh0TpKmlN+9jTSPBGohJmazR4Sii5xkqZv1LFBfGic2dY62wVGGI17SKh9mV0Uu1ekOVKpkivZVUrkrgzT1JBMtLQy23bFf+I8VitWR5QRUZiceZyJbk2IkJmeSWl7OQ4+UUJZui6/beaexJEF4SdlK0J5EtpQhW+oqZs8g/8BmavaXkGNNwPIGratYE2W0YZTepnlGjdm4Em24l6cYbTqBb25sdVrFOhGahOmzdA0O07/oIaXi/eyrKmNHjl2Z6YjZk0HOpq0c/vB9HMhKpUwueY0KKo7jwau1kKJV1r1J/vGIEBU1/Xph4WvuY/TGkBDRJJxbt1F1j9icqsJpNErfzCC7cg/3HN7Jvu1FqF99grY2zMz4uXChk+4ZyW25JdzzsT1UV3hJNivrET0kF26jdv8BPnJvKblp8SXt68eSxNTxJRHVRtQpSWS9PxNLjkXiihF7ZgYeiwVla427o80J8ltbKSi/h0M5LtKTMklOLeB9W9IpsYckXE3RcC3G5Lj08tkAly910jWtQZtdzKGP7pEYmYJX4qMqQeJk/hY27zvAh4+WkZ/xuugowgX/kniZCHaPxLUtdhzJwkEMBpIz03BbLViWl0iIjhAIisiImknyLBKdCjHbPkdsqQF/YJbAkg6LJNyYP0ZgPEYsKj/bNsDYtT76fA5sNVuoum8b1Rk63CYDBksameW7OHhoF4f3lK6MmPu7mB+v53qfj0VrBUVVh3moKo08t/APgxl7RglV+/dy+NB29hr0rCedrB3KFhOS32bGuCniK5ZczubiPA6VpGF0CeEtzeWecuFpixMM9fho7JQrlMkQd4NQhOXFZSI6F548JznlkrP0wg8lniWnJOPQiCglyLx/knP1/XT5JXfklfPgoRJqcpw4zQ68VfdSXlJMqX0Rf28dbVPD3JSfXssOwP6pMW5871/51y/+JX/wR1/gDz/713z6T77IZz//L3Jc4/jFSSaD40y2fYVnn/0mX37iIjOvTjf5MUNvg+x9bNq+hYc327CMXeLa6cs8+VJv/NUEytPAn0bcxXs+8tl12CsdVoJARI1Zo0FnFdWYmsuOgxUUJM6R0NfA2WNN3BwIMKEEcHc2GdnZVJbmUVxeSlVFFnmpNoxRhdxLQNM6SEp3xkVEwtyC+KUvPvqAQQiwVxzRrLzUTdS3zUN6XhGllWXU1maTNC+BobUXZXaIKiUPa0o+mW7p9ELmLDotpqxKysuzpCOJYrZKQ861MDdcF5+uNGPKx164hQe251CQ7sHlEGLp8pJbouz+U0BhmprwUCvd129wtXOe+aDUhyrIojYRq9VFSkoqyRYhVGaxw5pEakkplTVlbJIOm7zYGn/HSe+aB0PFmaJ+EvRGlvVuMpKTcEiQV2xXRFVabgHFFeVx272BBWjuie8LbcorIbusgmL9JN0dPVyof40I6YxmMjfvpsCjwxMZ46ULbYzd9sY1oycLszef7GRTfDGzaVnER2ohWZl2IewRRicCEpCVrTQCLOkcmK0OUlLThRQLxxDbDRZJ6MVie3UZm8sy8C62MT8zR/fqO06U93yUVFeTFOqiq6ufS03retX0W4AkstRknNn5pDus6GJSZxEtzoJislLUZJhGGJ+VYONWXjJYGd+zP6G3l/ZLLfH518rjWnTiq2Vb4m+p3W7y03aqnu7RUYYS/IT0iZiE7KWkS+KVikqMv1zSHW935S24Wypy8C6145udofP2R+VvCUq7B6Td9YS1btI9blx2u9xHEqv4vDcrn6LKCjZvziYtuoSqoQNlRdGC3YUmu4jy/EwqysRvRYxXSZJw6mOoJTmE1CLYxa+TJLH5AkssKj4c8ymMC6vFSVaGEAplIb30Da2I+qJyIdQ1RdSUpWBq6WZBY2O0pIajSSF0g/1SV+30l20lPcvFHltwpX5iZsaV96bIOXo5p+1ck4i0BPEVE9pkqSuXJFSHWfqjBltSHlkF0v9rytmSJ7Io7KOuRRmrKiK3KINte+yE2s/R2z0SF2ErSEKjXXl/SZJhlGD7pfj7S8ZedWHpg0luHHmFpNqFGCaYUC2qcBUobxfXk2sZYnxO6urOSdI/GsqAg4jZBPFvs0V543MGJmGrSt9X3kK/7UAVpdla7LPNXDl5kWvNQwy+1q2kvwjBlLoqzE3hUHKM4eNX6Owdic9Fv1sYRPAa08tJd2qwi8taJN4psS6vJI+dlTY8Qt5ViyPExk8jzbEydUNhy8p7PrKTuccdirddV9/YD1l7IOcr7/nIS+NgkY5xKX9P9zDycz8QhpQiXO5kCjLdaBYD6C1CgJPz2bylgKKCJMxGA/qFbgb7+nnl2lBcdtyCQnKttkTytlbgVoVYHm6h5fgzXO1dYjTeOdeJeDtKTrK6MZhEjGZJvFOLL0pcVUlMLSgrp6KqOB5TLR39BIfGUaKnNyef3MIyinILqdxUTlWOnGtXE5R+tCwxVeNKxiukx6AOMCNdKhoU0Z+gj/u802nC5bFh0qjEN3MkbhfLb1SxpcCKWbXI9aYBUiu3kZvlpVg3ycnL7YwEtWTV7qbIOEtwfJBjEqdTKraSl71yzqkr7dzsnmZW+pbD7cCV5JLvHPGYYRbb3CmFVNRWU12SQpUnIGJrlsFx5UldEdv2i3hImo/3rbr+CAOvDpgWkJKRxe573MT6rjDc3R3vW8qOZSQYJVbYKcxPJlWEZLI3xrzKgdHhpagsB8/cPKrpOZQwf+cQ41tA/D0fORwoEmET1hELW7BKvjamFJBVWMw9WzJxL3QwXF/HSye76fNHmVvWxG1PdDlwiu25EqPVIh5MEscU28s3V1NVlk5VUoC+4Rn6R2/rjMpTen0KlekusiR42w2LhCR2W5NSKVWm0cz7CE8vsCAemVtTTHZ+GhnmOYbOX6fpchdNC36Sy0qlzLlk2MPM3pC+fK2TGxMQ9KtQx4QDJafjcFrwJNsxaaXd3VmkSGyurKmittCGyxCmrmkwvktcgipGSOfBI7E51ZOE2yhcSuJKYkoGhRKDazbnUuCUvnKjnYmlEAHXyns+iqxBEmaH474RUPaOX0Vq+WZy87PjfnL5RieNHWtdfqy0oIgtZVtqo530NC8OrRqP5CBchWyryWdTmvj3wHUunmvmYsskolHW3u63wyT3sCVRk+uNv8nfaNawZEomJzdDOJyNhOEJFsNL0iYJzEd0JLpF/KQoL49WXkpplfpNJ3+LiO9c8c3oEO0Xz3Dm5iDNk4trKpeyze/86ACDPd20tXfddkzJkUxaoYe8wqD0na9y7HQrL1yaia+7uVvoTWbSJb7k5aWTHX/JoC/+ksHb05TW6sSz+V4O7yrjYLEF/fwgQ8MBxvwGPGkibLPSyVo9Ul3LkgvEh+UH3obivW14s/d83PVcC99slOV5M549j/DBozrMCTFU+Bi+eoZrJ5/jhaE5BpWaVEh/zcPsP1LFL+zwYkpQoVUrW+hKcrM+xIH8GPs+tMhysI8LX3+WF/7tGOfldwbq6giMRnEa7mX7pm3srN3PflF6qoRllmNBlvz93Liho2ulOLR1juA71Uq+t4aa2gf54Pb7+IC4oX+kiamxOlrHE7FJknh1pCaqkfKKkMipZFOGhfu08rvKxOKEqARDacSBJs6cb+TFJweYWR16C/l99B1/nvPisCrr/RwpfoD7tmh4WKVcp5Lr5vCPt9PQpF7nbkFKt/ExWN8g5Y4JibyXHZtrxf697L1l+/JS3PbGFj09KxfdFXr6xvGdaaMkrYYtW+/nIzuOSikSWBy9Tn/DizS3zTChvJk1EKD/5Re5sLSE2vYgR4ru5ehmLQ++avs8wakuGlrWa/vdQOlto3QP9/L8lWEyjmRSeSCP8oMPSTqJMtv1DJ1nr8XfcL6e9/Ao720YOHmci4tLaOzv5Z6iezi8Scf9r9q+wNJcLw2tkkRWr1kbFP/yM9LcxNygtPsv3svuneKXH9vBdnEJddwvwiwF+mkZ7HiNMOaWYnzPz/HLm9xsFYGhPL3QaBJIWLaTlFJKzpFlYhKwFgbq+B9feoZLjX1Elia5+dwraOaXsHkOUbP9Id53SMuH474fIxKaxjfZySmDhAilWGuFsirZ10prYwIDy1Y+9VAFe6rv52N7Hia2LL0vFiUhHMDfd57RztVr1g2lgOP0j/fx9Pl+Uo5ksXXnA/zyrnulxqLM973MwPlLKLl4eM0DASEp6gzNL55CNRsiMeketmx7Hx86rOMj0hyq8CxjbRepP/4YL1yfpukd3G5kQIwZfe4qmbZNHCjfx0Olu3hALA5Or7yrpmPqQHz4bz2vWbob9F5qFdKSTFNxDsU7HuY9+5Z5UGLJ0thNemaENLWb2Kv6AZMi/DfwTZhp6z9CimOMxaExLp7ihy+cf0tQfmCOtpfPsjwdwum5l5qqI9y3T8d7JKYmiM9HJW4rfeuMEKBb2H7/+7nnnoNs9igzitWiJSVnJTgou+f9FB+K8SHpLxM3vsCpkyf4q8flLoEuetti/NO37fzCg5XcU3OID245Kr+UIPlKfD4mJLL/MqdFa9/KQa/morcK/5gkumc4JSk1uLyX/3RPreTObdwnZVN6QkIsTGCii7HGRuIPrO8GAVGsvcdpb3eTnrOLnJKP8vESuUckIAFxguvTE5zo6KNNTl3LNJfXoOyiNsXAYITFJRGoP7ud3VLP2tiiCJJJGs6d5vLp01wNRYkPgwaE6Xc8z5nTCQSW9/ELR2rY/YGtHBEuccv24FQvo40332j71CycOEdflpP+zE1svedX5HoJRaF5Evw9vDA3zbGOAYZpFYEzyeTcEjHdLJOjSwwPR4guzzO5GGJsKYxePyfxdJHxZqmGeFjuZagrzL9+187SfdU8uHUvD1cfEl+Rdl+WTBoNERy8xpW5zvh4hLKOYW6kl0tfewpr6DD6+zdR/WA5leoENMpCCvHHUHCYoWs+Jt/h6ViTdVe4ORfkBcfHOVq5m4PbjRySyl0Wv5vuvM6VF56grlOEnZyrmH5XaO3CH3PQUJnNrsI97KzYz1ZlJD8wyEj9NZ643ozfH2TSN8nc1e9x3hwiIlzwPbXSd2s1fEBZtK8KM9d9labzZ/n291vpnLqbUYp3FokeL0d+/tfZU2omZaKJS3/wjzw7MM6F1e8VmC0GamtzKc4WoapMFS25h/sKD3FEqafXYabtq9Sf/xZ//T3JdWt+ufU7iwQh2m+0QHD/wx9jbHyC8fE3G77dRUbuUf6/P60mI+Ei040neKHJzHxQgoZ0GmFh+CcHmRwepHNCgm1IbqG8NDApj7w0J4UeY3yx0Bu7lBCWiI+JrkEGO4fiBFG0MHqjg/SCNJJcyrs1tKvXKgRcAkLYx3T3EKNdw/F5fksmN0ZnCiU5LlzSUAaFGMq54cAMi4EF5rQpaMNDqCQI3OwTfpTgwehKpSTbKedr4/txryAmySJEaGGG0f5Rhvon4rOSVwKsUnId9uQUkjLSSRMVbtKpX53jGX/JWXCe6f52hib9DK97Ja0RrT6RjEKx3W2NT7m603Y/M71ie4cc8rk+JRNvdg4Z2jmGB0dp7lY+XYFGbyCpoIw0uwa7kKlrzSKm5m/T10YneqfUg9Sb26rHuFoP0eAkvulhGjqnmY2/ZXHFdltSMkmZmaTa9Vgkyr9muwSHRbF9oIOh8QWGVm33pGeRmZuHPTIkgXyc1h/jYnSNLQlzUhaFaRacyrz3eNkkmM8PMD/ehpjOnCkFfUYOmxMjJIyOMtjSj/IsJr5cWHnPSlYR2UkWSvQiOBq6GJlekBSp/JAWq1tszxLbEw3x92TcYfuSj5kBaffxeQYVh1kXDEJ0bGQUpJOcbMNh1sVHCeK7LUkfiUi7zw6MMCZlVlo44EpGm5lPrcuA+wexDbkm7J+Ot/uEMkQbt0V8KimJ9LwUXFYdJmXBXvxkZSqB+LC042hjD6PLRqYz86iVutJMjDPYOsCY1I8nyUaFeYmB+m6GYwZm5RylPrXKOU298foMGuyo7SkUZjrxJhqxKHtgKlASbCxCeGFcSPQ4TT2KKsggJcNDcbmJ8GAToyNTtz09SkStTqdsk51E3TRLgy20Cw+Zue3BrMbiwpCUE293j9hzq92V3fJ8whJaRHTe9rBvDVipq0S3EDCJQ0oCUPp7nO5IPQVmJ5ge7qFnIsxs8HXDTcqThqxi0lKc1CTGmLrexvDYdHyr6buG3kaCPU36rFuIuvJuFuVDIdHig0vzY/FYpzzhsgQakOaI7wYYR3YxqcmJbLZHpO26pDwzP1yMS9z2prioTtcye7013i4/dHKZzo1T4kNeQSqJ+oT4LrcKosFp5pdijIateFUTElfGqW+fjHv1a8ikfMdePv57P0fJ4ll6Lpzii//3FBOSaG9r6ruAFZvTJe2YjlvZylyJ2/HPlUW8oXg+Gbsp5HVUhJ18mllSQWqq9A9JX6vd/A1YnG6U80fidRznAzoL2FIpyHCS6jZjlXvEr1V8XkR5WIjU2JjY3jmOK1faIskZj9k3WgeZDqklTpeToZc2nJmQ/jqIM6eIlOSVcxrknIGxlc38dS6xIdlLQZo9/nRFowzkKZB7RCT/BGaGRMRJ/ppWokc6xVWJJCdKHJC+1TkWZVwJA3Gk4fIkU7bZRmysjanhkXjfipPq+MxsHW7JK940iRV2ZQtfZfchyYQiEKYaOxkZHI/7c/z0tcCdjdubRHWGhuDsMtGIGrsy7UjsUClPqqJByaESeyU+KO/Zun3anc6ZhnPVdrPELe3tti8uxG1vF9tHpm73GmVIyEpafgZpGS48RunDSv9UVrKH5xlq7WNocBJlA8GkPGmXNC9eg1/ibC/DA8KF5HN7TiEp6cobxkPMNHUz0jcWn3UQ7/VaU7zdc9OdpCvvBdKpVn5f8XARnhG/CJqJiXi7h8LKFSvlSclOkbjnjsdgnZy/IqOU+vALj5paicGhMEu2xHgOTzeKYBMfuiqxfCn0muRzZReQkppMhmZOOP0wPUPrZZ/CgyyJePJySXOacZmUAVopUThAcF5skDYZnAkztdanyG8KMyarU/pZFsl2AzapszjE9sD0JP1i+5gIvlsUypKcgSs1jSy3Rdpdecqo1FVU4t0EM+PjdPRM4ZM6WZ8QfjMoay4zyCt2kZkp95qqp2sgSP96Ri/fBEaLlYySKsmNGoyLs0xIfFXWjd3+88pieCUmpCtP1G4Rsx+A0Hwn02PdNEmHDKxl3tmPGQPdb9wy867FR2b0ewye/Vf+7DHetgbZwAY2sIEN/EeCklS12FN3s3XfTn7uk9vQ1T/G5ZNn+KuneoTUv2ma2sAGNrCBDbzL8Wbi44fLqA1sYAMb2MAGfuxQRoHt5O4qp+JALlm2KWbb2hluVCaVbgiPDWxgAxv494QN8bGBDWxgAxv4iaFw/wN84Nd+k899+r/wyw+VsiVxhpnLL3G6ZYTz48oU09UTN7CBDWxgA/8usE7xMU3Q30rj1UtcvjZAQy8E30XzyzawgQ1sYAM/HdDo9OhNBiwWNaHJPvrqr3H65Utc7ZpSXnuz8dxjAxvYwAb+nWGdaz6UV92rUCs76qAszI7GF6dtjFBtYAMb2MAG1gKVemUXqVfXDCuJJJ5TllcWcG9gAxvYwAZ+avE2rvlQXnMfIRIOEw5H4/sJbwiPDWxgAxvYwFoRiyo7uIUJhVaOcDhCOLohPDawgQ1s4N8rNtZ8bGADG9jABjawgQ1sYAMbeEewIT42sIENbGADG9jABjawgQ28I9gQHxvYwAY2sIENbGADG9jABt4RbIiPDWxgAxvYwAY2sIENbGAD7wg2xMcGNrCBDWxgAxvYwAY2sIF3BBviYwMb2MAGNrCBDWxgAxvYwDuCDfGxgQ1sYAMb2MAGNrCBDWzgHcGG+NjABjawgQ1sYAMb2MAGNvCOYEN8bGADG9jABjawgQ1sYAMbeEeQsCxY/fsO3P/wxxgbn2B8fHL1k7cHnrRMUjKzcRpAk6C83TbA0kwL/SN+BiZWT9rABn7ccCShS82gwhYhYWKSkc4hFE9fWvn2pwxm1BonuaXJeJwmTCqlS8dYmhtlYbSL7imYX1w5cwM/CViwOV2k5abiMKkxalQkoLRRiODMBDPd3QwEYCG8cvYG3kVwZeL2eChNNaGRVlMtSyNF/Yy09kt+nEW6VrwlN7AOONIlDHsoSzEQmexmamwsHquisdXvN7CBDfy7wEB33epfr+EdFx/7H/kZHv7Ez7ElCaxaCPsGGL/+Gb7xTDfffGX1pA1s4MeNrYdwvedj/HmpD9UrJ3nmb57gjHw8vvLtTxlyMFm38yt/eJR929PJ0iufLTLR+Bwtz/4d/3AOmkfjJ27gHUeCHHmUb9/F+375YWozTaTZtEJkFUwydPkVLv/TP/KdXmiZi3+4gXcTdnyc3YcO8OmHsrCqEtBG5qVr9fLs577BsePX4jFjgyuvE1s+yJZDB/njB5Pxn/4HLhw7xj+ch0Bo9fsNbGAD/y7wZuJD/UeC1b/vwDe+9Th+fyB+vJ0ILMzT097JpZZZfMs6HE4V0bFTNHXM0CgJeAMbeEeQlouppJIjSWFUvX20X2qhXz72r3z7U4Ywy7EpJkdbaWkZpblPj9WjQx3sY679ClcHYMK3euoG3lkkqCF/B0XbanjPziQSus9Q98qL/NO3j3Ghrokr19ppahmhT8JscIPFvvsQnCc40EXr1Saa/Tp8Oj25liCdZxvo6h6Jx4yNJx/rRHo56bm5HCy2Eu67wmB3VzxWhaOr32/gJwQ3zuRS9rznQe5/4BDve+AgRw/v49CuSrYUOPFGhlkMhZn5D/A03eDwkHng/dz34BE+dE8pWzN6iIQXGXp7x+R/KLRGO+6iPew6dJj3ve9eHjy6n3vv2ceRQ3s5sn8H24vc5FgjzE76WQpFiaxe927Cb//mr6z+9Rre8TUf4wO91J09y8svN9PYMcWc1FR0I3r/5OHyoi/bxKbqHPLT7asf/nTC4kkhq2YLm8tt5HhXP/x3DT+RSB9tNy5x9uUbvPzKGENToZ/SKWTrh8mVRMam7dSUO8hPXf3wJw3lwUdaMqZMN2k2aZPmRlqOn+SFY6/w4ksXOH29i6ZZmN+YcvXuxFQfE81XeOWlkxxrGaBueonYf6h8pTxGTSK7oJhN5fmUqdU4Vr74KYRJjnzyCsrYXJlHtlaNZeWLDdwGkzeTjJqt7D+whZ0VWRR4HeityaQVVLBl104O7yqjJNWJVc69ewLpwWorpnZbJWXpHpLlE/XKFz95GD1YUsVXdu9i/yERX/s2s6fKQLp79ft3CBqDCWduOUWlpdQUppHq0mM2GtGbPaQJZ6vdvZ1De0QYZhrxmlcv+inAT2bBeUSi91iY6HwU5QnrxoDfuwCF1dg//Ek+9YsHuXd71uqHP53wlm9i7yd/jV/+aAaHa1Y//A+CpfkYs70RFoOx/3D9ylNYzq5P/ja/9PF8Hti6+uFPGgmiPhL1aBJVGGML+G6MMdc4Hf/KNz3LzMwcM/L3hvZ4N0NpnTnGY0uMxmIs/4d61qFQzEoOPvR+PvXR+/moTkvOyhc/hfDIcR9HH/gov/qzRzhg1JOy8sUGboNrUyklD2xnV34Cqq4znPjaP/O/v/AdvnNxgkkRCpvue4jK/HzS5NyV6aN3g3JS0z7Ar/7mz/DhHWVUyyeGlS9+8nCWklhwiCMVXgpduhXe+hPo+mqdGmuqCMDQOJNXnufbX/4Cn/vMX/KHf/4Y37w6zrA5m4Kt27m/2kSxot5+SrDONR9FuJIqefjjqVjCIUKTS9jzkrCYdRgThPJE/Ux11tHZcI2XWwPMBF7/HFUJaNt46GcP8YGPpGBt+jTfe66bb7zZmg9DCjZvPrsPVFCYnkiyWbPi8JEAS3Nj9Nad4UrbKPUDq88ArRnY0ko4sKOY/DQrbos6rqQTiBAL+/GP99F0qYm6yx0MyefK6LDWbCVt8z4qC3OoynBg1kqDK7JMqiYaXWS26yL9DWc41gaT8ekrcoJo9ILqUqp3lpKXbMamV6NdVmwPMDvcTk9rIy9dG2Vi7i7Gnw3JmD357DlYQVGmU1StZsWWSJDQwnjc9mutw1zvX7E9rXIrpdt3UaUbIqoxMatNJtumxaQVY2Ii9vzDdF6v58b5G7T5wVZcTfHWbRTGRlhOKyZSsI33eOaJzs7QMTAb/83IXC9TfY08+nIHA2OK8UrtJ5NXUULN7nJyk00kGjRSI2K7tMncSAd9bQ1i+xijtz2XLdy0jdo9e3FPnWFRY2fBUU2BQ4tVJ2WLSnKf6eTs5Zs8ebpl9Yq1oaCiitpdu0mc68GcXULipgPU6FpZmp2na2TlnODEFcban+epizCQcwjXez/BF0qXcIzPUH99Em2yAY1RjUppx/AsY61ST5fOcnEYJoLKLyi1L3VaWszmvRViuxmHUbFdupC0+/xoFwNtNzgmtg9PxS9YH/QedIl58XYvzXWTatWutLv4YtQ/Te+NM1xv6edyz5vdowqL7QF+70+LKTZeYvyZ/8vfv9maD2U6kDmX/LISdu4pIUP8xCZtoVJsCS1Im7fQXX+BMx0BRpwFGLbs52ccAZItRsaNSaQZQizPjjHd38dSaimWRAfJ2iXmu89ztb6dFyQoKtB7srEX1nKoOo0CrxWr4ouC6OIswZl+bpy4SFPXKJ0Bxa9qKa/N5ej7nPg7/GjUBmw5HqQLo02IshxbZKr9ItfrO3ipbuX3c4pL2XbgMHZpd2tqFpZtD1CjlY66ME270sEFi1P1THc9yVMXeNUX1gYREJYMMguK2LqjijyPXtp9Ja4QmmdmoF3q6hxnpa4GZ8SXVWLjjqNsKi/mo7k2SM0jJclBhVPcvLGTUfG3AaWepW/V1Tfzzeeuxe+yZhg9JLgk1u0spjzPQ4r9VqxT4m04Huu6G1q5dLwecWEWlGsUMbT9KFWFKXzCNc2JMRsxg4NdBYlIepXrF6Vks3R84yUaGnu4pFxTtI+ysiw+VJEgn0WJJUiSq/bG20WnUoh5gOELz8l3HbzcrVyQQUZeATuPVpDhNuEwaeO/La1OdGlB3GuYemn3m22D8TiUvPNeKspzOJqxxI3vnKS+sZub8fMVKE9hszn4vlrpCyqcM1f53slebnYrkm0dMOeQnl8U71uZiTocErdX2nFBYldXvG+d7fDRO/kmcvD9n+LAwVqJGT6Off4bvPjSm6/50DpSsORvY391OmUZduxCHhTE5B5L84M0nrrMzZa+uO35+x6gvDCXStUkIUcyKpNJLPYz0DxBIKwisUL6j/Sr2EQ3Y9dOSj5doG18ZVGEt3oXRWUVbM/1YDMkoFMrqTxKYKKP/uZWLr50g8FIVGSTwkhqufeDSRTl6fG3+7FmurF5rPE2VHxlcXZI+tYljl0dprnfGD//4IMu8nIsLHRp2fJgKQVZZrTN3QxFoyKYlTIs0Pv4CW5eaeF8/FfWiK0fYuuhg3z6IS9hiZsTg6MMa92SYVSoY/L7oVl6Lp/iZkNLPAaHbqtob+UOCsor47bbjSr0q7YHJ/sZaG2L2z6wFGY2UWwv3s2RfC35NisDUwXcczCZ0swEZpt7mQxHWJC4QmiChmd8TM9oKPxYKtGOl+mtl1jeAXm77qVqcyXlbj8jT0l5LvaIvRnU3ivxqkiNsf8xXqkL0DQtsUpy6O7KTKpyHNi0kkukuym8IyTt3nTuKjcbu2iTNBpWiqsRHiQxeMvOMmqqMuMxWCcXqCRXK/441HyZppvN4o9+gnKBPSWD4kMPU2nz4dYuMqxOw2s14pZYpCAWEHLa18614+dpmVxkZM3UQ3nK5WH/Jz7MkXtr2Kmp46nvn+GpE630+fR4JLZuPbCTT+5QMfDco5x5+iWe6lvHRhk5NaQWFfNwfgx/IBO9JZv3PSjCcELyyYAIHDklEp5hpq+Lq4+domnOL1xNsdFEUnkNhVXl7Mp1kCh2a1SKU0isG+6gt7WFE+e6GPeHJIrdDZRo5aHqyP3suWcn96QuoXG6WIxNor75ab729AiPn105852A8uTDlpaDRxfDFJljZHKCOb8wWl0G7rJH+Mj7C7m3cp6R732Bx84M82zr6oXvIryNaz6KcSdv55H/VEtFfgpZdgtulxatWhpNYyOlsJB0+XeSJsDEwIw4WIjAHRFacfJ0iqpyKS23op84Rcsb1nwoJMWCJ7uc8m07ObpPxISQQ4sEvYh02sTkVDKz00mzhogu+JkeniEoHTqqS8PqKWHv7iIK0q3EBWtEOnViEu6sHIqyXJgWp1mURKN0zmBUxIa9gG0PHmH3phyqU3SoJGjF1HoSrHYRWU4sSyPERltpHpOOJtdo9GaSCrezfY8E6N2FZNkk8AuZi0rp3NnZpKWImLEvMz82QsAfZGHNC+gU2824M8so2yaBc38JhV6jSLYlsd2CPSlFbM8k1SIE0C9Cb3A6bru3Yis1Rx/icIkkjUwvDpcDuzqCzpiIwZ1DcYFXHDiEamGM7hkplN2DO00ceDmEOymVjMxsMvVBlgJBZsTQBCEqy4tzBOfHJNlPMy+dWq0zkCSJdcvuLRzeWyxtn4BBpSYcM+NSbE+1k+6Qehofxe8TQr4aAAs3bWf/Q++lNi1GVrqUTWxwamNotHpieiEoqlmGR8Zp6JRKXgdcySmkSfsaljQ4PGmk5KXhZopQcIlZ6aiKLRH/EP7pToTzMO/IxVRcxRGvQQK4GbXdht0UibftsiWVguIsIScJ2EOTdI4uMuOTCKvRi+1bqd25lXv2l5It3xvF9lBUbM+S9khJJMulYmFCbBefvGX7W4cyR8eCM62I4m17OLKvRJKkFdtyUNrdjNXtJSsvhxTxeXVQ2r1/UgLiaiJ7FV50+kJ2HXZLghJ733TNhw611klWxQ627drE4V154hdhtEKaI1o7adKO6ckWUs1SdyNz+Fw5hPc8yM9XJ1OVYpd+riazsIjMjBTyksTnPYk4U7wiFIoodASJzc/SdnOciCWNpJIadhzcx4Fyj/iKyLRAGI3Fiys1hXwhwNbFGZZ8PnqEUMXYIuKjVuJKtYhmJxkuG+5EuSaqx+hIIr20hBxnDG1wgdG2objtZpeH9Nw8jEtq7M4UUgqycQuRiy4uMr2w0u7R4BiL063xdp9Z89oXNQkqI6kl29i8cxv37i8jW3zerE4gEDLgycwkxWsj3RpmYWYe30JAkrG0Y0YBKckeKp0GEhJdWG1GkiTsLY5P4wssxYVAQmiO0dEJGjvWpYiE5bpRmYvZtbOQikIPXoMyWKJBbZLEnJVPfoYDt2aRSH8TY9Ld5xSSoIiPHfdSvaOWX9mSynJiKi6nXepbkntML36hIdGpYraug7HhKfoVnyzeR8W2LfzCkULMhiRSJK7kSJxkWe6l0eJw6lnsa2VieIL2uCZwk5Kdy7Z7tpAuBN8mujIUlsTpTMWbnk55aSp6ESD+uSnaJsKY83ZTWrWZ999TgHaok/nJEVoXVhOGySsuvY0H37eDPZIrMv03qeucpX9irfRCGTCykl6m9N8t3Le/CK8+il7MC6mteDOzSE9xkGkTAT22wPy0D9/rx8xKNpOTk8oRT4ius41vvubDnIInrzJOqg9UJlMoQnVZ4qbG7InnrMLidGzhBaK+eXrG/OTvf4Atu7ZxtMCCVe/AITE5r6oEr91Jmvh/iuTRtLw80r1OctRjNA+KMPKJLd5Ctuzfy95tZRJTzeiXY+Kn0k9E7GdmuPEKkdXOjTIRDDMVFNXLTu77YDX7D+STI30rVfq32ahjKaSXnJVDZk4Khe4os0NTzIyEWIimkV1kwpViYUmfRF6R/KZVzbII54XlZRYT5H4JIeaaexgfnhQx/UYR9iORVkZabi4HiuwYpH20El91aql0ye9GEQ2FJXkk6wLoFhcY6BfhFl0mbBDCLrZv3ruHvTsqqE03y7XLYrsOo1tidrr4nkMvto8xsRhiMmYQd8wiT+Kyx21mMTWbEhFRStv7J2cJxpaFUURJiPkZ69BLiE9n98/tIFPTScJML1f7nVTsv5f9R6WuK5KxDnXgG5ziZrCUHQ/sYu9ON+kz5+iYTmTGVMaWgwfYV5VGmeSVBCXWGaXvSz7KL04lMSZcyj9P70SAcNQgNqaTt3kP+/eWs7XMizMhKOFGasLqJjM/Hwm12AiuxPlwFF1yBuUPfIh9FRlsyU+SHCqHiE6D9EG1I4fsbMkPyUZMC6OMzIs4mV8r8VAmoRWIGKphc6n8ztgJXr7UzrnmKRFQEteiqagM6Wyr9WLxN7M41ca1IYlpaxUfjlTJZW6KXdJzJKeZM7xUpklwlJwZkPgZVHhHLMji3AzDTX1MCh/zSbvr08qp3rOT/buq2JJhwpSwTExikDFZeIc3kRTJFZH5KRYk588E17/yQWWwocvYxO59lewp8aC6OcKizkjEJvxg7BQN7T5alI7/NsBgtpBVVk1RYRb5kkesMwtS1xFuZ92xSDi+K+LU5CSj0wv4JPFFNEZ0tmRc3lKJ/XYy7CJWz1/kZp/Eh/nVC99FeLM1H+sUH5nYHQVCcNLJSVVJBxnl5ovf5vHHT/Odk4ME0iWo5GVRnuFEd/MmM7ML9N/RD96K+FDUp3SyA3t574d2s8k6xsC5Z3niq9/g6ye76FmyYcmqoKo8A9fCDAmtos7lHv6gBLKImeyMeSbbLnL+6ef52vcucqEvzKQpi+KiLFINQyJAbnBjWBKyBBGn6xAf/pkqCo19zF7+Pl/7x+/xnRN1HBNSMONbZKqvl4nuQTolsSo+bXI62faJn+Hwjkyq9QPcfO5RHv/uKb72Yg9jtkzcOTlsLk4hdbaO+dkZWte8OElJlOls2rOX931sH5tt44xcep4n/vWrfONUF50BCyaxvbIsA48QMXVLM31CdA3ZQs6qailLF6eMzhDpPMPj3/wWT10Y5MqURwijBCjp5KmJAS40T9DV3kNPXR1XlIqwp1JWU0iitMWxp5/is1/6DseOn+L42XrON47GhYcCo83Gto9/gkO789hiGaL5he/wvcde4V+f6WTUmoFTElltmRCy2Rv4Z6eQ28SRUVhK6Zad5GXJOQnzxNqP8/1HH+fR41d46no/ve3NdPeNML3mgLmCaRE7jVfrudpoRuPKpmZrIsutX+LFJ7/D5/9ebBJbXrnQyeU2ER6KS8cXnG/iiCTqTJ0PzfQNXn78Gzx2rIHvNatEZEhdZXnITTJRX9/P2MQ8y2YzWz72MQ7tK2KHfZSWFx7j+999mS8/2caIOR2H2L6lMofk2XoWJVgI/14jlNEdIWdbd/LIzx+l1ilEoO44T/7Ll/mmtHvTrB5DVhVlRSKuoktoGxsYkMA/dwdJeiviw47emM8Dn3iAQ9u9FMTaOf3oV/nukyf45oVhws48vDnSvhWZaFra8CeY6M/dxNF8EUAjTQx8/+v0COlNSM6lLM+J7/LjNHb383y0hHJlgGB6nvHLncxkHqZ89x5+5b35OCcvU//CM/zT3zzOybYlJrUiRjZXU5wiQjsUoP76gJAAETRFuew4IEIuMUxkrIn6J77Fv3znKuel/8byqsjPdpEiidBy4zoD4ipdY1LPV65Ku0tyMGeydW8atP9fTj37DT7ztyvtfuJcKxda1iM8FAgh17jY98FHRHAWs8M5RutLj/Pkd1/k7x69yZQ9g0QhCju3lmAeb2NpcpTWKUmqAx2MXL3AsRNnOaZJY8lh56BngZt/+c889eVv80Up17Ez9esXHgoiJknYIgQy/IQmG7n+zJN8+8mLvNQwRbcmK06Uc1yLeCNnaZJ+OKzspqWIDyHg+SIejxSIkNVOEe29yvPf+Dbf/v51jp9vpmd4gBsdg/QFFllUxEdmFTn5BRwsE1HqEhLka6XxqW/wb4+d59lTN+gZ6af+8gDdQ4srT1eEhlqECDjTbfSfeYHTzzzNP3/nBW4MaQkYUyjbUoFbN8hicIIzjbP4ZlOwiMgo31eMJeEm/tAwF1pXxYU3C3Yd4YEtiWSHuxk49gRXeoIMr7ktlaftWRz98P0cPZBHpa6XS9//lsTt5/jKyV58FomluYVsr81D19nN0sAQ7RJT7xAWb0V8pO2jbPsBfv1DZXgX6uk8+Rz/8Fff4pWbfvojIm5qN5GfosGiXqLuai+eym1kF2ZSnhKm+bELdF0fIlC+mfQsE7ZoP53f/jIDulzpkzlUeBMkbo/QJjmOnT/Dxw4XsS95gbkrT/Pdbz7Fd19s5Mq0E4/EoaLiZCqz5mgemqVzUHmqWMT2/VlUVEoZkkIMX3mJVx5/ji99/SpjphSsOflsKk/H0N5JpLeF1sUOOtvqudY9x013DVX5WrzDN6n//b/iq8+/zL8dF78+fpnLIjz65NfXLDwUxMVHvogPN07tHHP9N3j2y3/Pd17u4uJgAs6iSnKzRVQbtcyca2YmFGHOnS3i+RN8+HApB1OFEF99hie+9RSPPit5bCoRhzLAWJpCReYcbcOztHdIbhtspqtByj4aZLx0OxXuILbuqzzzR3/Ht559iW+/fI5jJ2/QMOwnnOykeFu51H0dvpkRzreUUrltE1UVaThUMZbm6xjzTQnprhYinEp+mh/f+fPcWNqMtuAQ/+VD5WSF24SrPMeX/+ZRjtVN0yXtlVYtsSvNgMsY4cb1PvxL0k451XzgU+9lV3YUw+BlXvjKP/HoS/W80iW9LrWC3Lx0EYRGDA0NjPtFFFuTyNy8i5LMVLKsWkyjVyXOfZ9HnzrDS312TMlpFBSIaPMGaZN2b+5Zmd751pEoxyY27yqitGiR5f5vc7VpnPbBlW+ZF66lzmTbwQysCQ0szDZzvlU40VoH2WZHWOi8ydXLTXRZ09EU5rE7cYKmb32Px7/0b/yrxMZnT1zmzPUOukR4KFxa60oh8fCHeO+BkvgT0tlrz/Pko0/yzSevcGUuCWtGHuWSr8ocIrwm52kdWFewj0PjTsZx7wc4sEVEkciAG1+dQuW04SoUwT1yivq2t098uNIyeeBXfo+PPLKfhys8OM43MjXnj4v5HwpHFq7iTTz0wW3sKEjAOtnHxW/W0TQYeFfu2PljWXAemh9gVJLX8ZuSlMemRNgPc/mFdm42B/DZ3WTs1ODOWz15LdAahYdV4EgXomWaZermC9y82cCN0TD+6RE6r/dw4oVBBnxWjHlWcncJTVDyiwgh38I1Th47yUtnmrg+MC0dfZYZEQ/dpzoZmgwT0KkwOMX4+Pyt16DWJKA1qEhQnpX6ZljslSR76iRnr3ZwafTW48Us9JpdFHldOGJdDLc+x8uNAzSPTLLkEzL+Yj0tV8cZW3ZK8CzHkZYe/+01QSPiTFR+YkY6qZZ5ZpqO0dRYT91oBN/UCN113bz87AD9c2YMORZyd4vweHWNuDDRiNz/hpCRb56jrWueof4OJm4+T3v/JJNBg6htUfNqReAoUNKGj1gsSESE1ZtPwruFTLTqPRQme3DTw0jrM5xo7OPm8BTh4DCtxxppvjzGaMyBQ8SGMyNj9bpVLMsNFkZov9YsgqWe+m4fUxNzhIdFBPVOMnI3U5XWBcV2P3OSbNtfEHLUPkX/8AihwQtCcIZoEVavsdjIVmtIEVGgVe2lICmZJJWIkbanOHmzl/qhKSJLYtPLjTRdHGE4YhcyWoorM3PlFmuB0iYpJdgys8h0BJlvO0FLw1WujMSYmxqjv7GbY9/vpWfKgDbLRsEBMCuDmmuFJDFVzmZSUqXvBDroPf896rpG6R73EZno5bIk/yvXhNQYkvBu1uEtVS4Sx1hawDcxS0/LLKcluTXOThLzjdLbME1zq1/ImvRNIbfKkxGbWkVGaTKZeUYcwX7aj0vfvSA+sxxlcrSem531PN4pIsWYRIbTyyG5gzIjO45YFN/AdW42XuHxujFG5uQYHuLkiT56J5eJOiSJl4Au3t9/zNAlo3LsJSs1SUTzIIM3nuBkfSfX+qdZjo7QcqKBulPyeUz6REk+aUXr6O/rxoz01xtcOX+GF16u40L3DFN+IfMjI3S92MzAgJ95lcQ6qVi1Mt5zBySYLc8xeukMN0+c4XyXcu0EC3NDdDR1Mzrvf93Ob0pgiDDd8RKNl5/l8WtjDM1M45ufkPN7GJDzX5sIFWBiqJPTTzzFOSEQbWMrvzTTc4WBlkviZ8pos11EshK0JNb62whMtdE7koDOVkpyssQO+Tw++cFm4ECZ9D7NAvND41L3MLYyI3RtMDsgZytJaQ7s0QEhh9+hvr1PyhZgeaaP+jPdXDg/zaQqCVelQcjiik5bK5IK3WQV20iKDdN35ibXTnQwFF1mYqKJ9q5rPNY2w4DaideVxmG5QXxfhIio6IUp6uf6OTUjomd6kfmZCcalHV9snqVlXGKUEG+UmQUJapKkTo5WppGr9zHR1c6jzzXRMDDLpNJP6p6isb2LDp8Bc3o5xRIgiuUWKxNzJF/7JphpO86Z+hZOdY4RiUrebhrgat0kEyJmdala7BK6Eu6aGawNs4OX6Go9waXhMGOTw4wMtvHYFcmr8zoMKR6qt6jwJIHbouee8lTyDOJvPe089nwzN/rEdxcmGLnxLDfbxN/mlGvKKLa4UELXrTQfluQ2K0luSZlW+6YYYSncw+jcElF1FkZHLQkOiceWZQzL4yKuo0RFJCeWFKCqTELnWEY1t8B40zImu4usMgdJCdIvLjZx5ZgIkMUwE5NtdHVd5nttk3QLufd40jmgUpMpIsqYVUJ2sorI8FU6rontA4uMTk4z3dPDy9/vork7RsTtJHefCsftqTQqfXywnfpvnKJZ6qhvdIrJm8/R09VB36wajdGDRqssrl8rFC8xo5E8pMwUfKP/LxCNSZ9fiqG449uBYCzGQiQqmfiHEQ8DdqOTPQXi81ofsx2NPPGi9K2uKaZECI5cf1r4ZjPNs0YsGdXkO1MplKuU+LFmGItweffz3k2ZZEfa6al/nhclL3aseRbDW8PcxCgv/evf8sXP/AX/+0vf4RuTIppXv3sDsmpIuf+T/OYf/E/+9Pc/xf/6md0cFKEZ6rjKmZdf4YzP96NFy7sIdy8+/MPMjTfSJRlh0hcgvDjHUPMAI0OSvLQ2nHkpWD221bPXAK2EDG8qZo+QeLN0BqN07OxSKnfs5cDuzdQWp5Fh16GXTmZy6uKdUxP3NgksyroTnR1nWgGltds5cGA7e2vzqUq3YNNp0GoTUIu2WQmwM4QjkjzHZpiJWrFmllG1ezs7txSzOc2MyT/C7PQUgyKkQ/ERZhcaVS7JVjOJZiMas5uUwmpqdmzj0L5KNuW4SLEKOZQbWD3JGGzrsF2j2J6CSWx3K7abJGhlFVMhtu/fXcuWknQyErXodSYJkHqckiwUvRKHkDuWZqT+h7guomhkZkkIhQiwsQ5GZ30ioCQ4yXUJEgBXL5AjJCQmIgJk9Z8/EA7UqjxJfhYSLWK70YU3v4rq7WL7/mo25blIk8SozNW3uBXbX1VEcSwLqYwsjDLQP8CFplEhLyECgUViC1L3syJWA29TRHurUJRWVEj28DBd17oYFCIyt7BARAR129Qc/YEYKp0BhxA4qyQOVUI+SVYrDosBtajX5LxKqrZt4/CBajbne0i3y+cqsd2VhNG+jj1hlLUCIm6MSW5pdzUGaXdXeiHlO/axT9p9W3kWWQ4tRp1RxKYOZ9aKRl8zLFZUGZkkJpqwmU1ozcmSOMWvdu7k8M5KyjIceCTJJ2jM2JRRWkUVKH4RDUl/DzI7uUTf/BJji0FiIUkG40FJsiGmJYmEJWOpRLwb5P+TU2wkJ1kxiT8rUwzSi6vZcXgvu3eIL+e6cEo/1Jtt2A3m+CLWlXS5LH4SYmG4ncHeDppHxWeXfCK65+i7PsnMXIyoXoPJvcLFfuww20nIKMTlNmOJTTHdfYOeYRHKc0FxnwUmepoZ7OljfFG+92bhlH77zkGJddJ3NRaJNdkU1mxj997t7N9RypZsGx6zTkKJStpXTrvV3W9hOSz/VdY1ddNzs4/BmSDBkJ+QCMxpEZg+EZJ3PoNU+maA2eZ2+q+30zLiY17aP7Tkl/NnmFsKcfvQwbJKS0xrx5tTTPXW7Ry5Zz97aiUeZyRiFFKjEzWk1hgU6SGscJSpmX4uiBj16dJI9uZSJd0nUSex3+Jla34i9vAQEyPdXB9bXt8Wn0bxLhH1NocVu1nubXSLP9aweecu7tlTQ2WOW2K6+LzagiVZg1VZJrEO8eESf/d6beLzKiGkKXgLKtl+eB+7lXn9hR5cOukbZrmHyUqu3CCunyUushSQ/iQ+HpT6X4wQCojfz89zc3KRMX+YJWWhuxIfpF9ZDBpK0yQ2SP4xGO3YM6Q/bdsubV/LjopU0p1GTDrJjbZkPBIrhLOvmiL9MyCxtruO7oEh+qZ9xJZ9TPbOMNyxgC+mRWVVoU+U898x8aEEloiIzwEmh3oYnI/iDyiDHOM0XRpnZEpFQqKVzGKpK/EJs9hekmqX+GhEb5DYkVFE2VbF77ewQwRZpsuIWacX25Nwr9p+yxRll7JFqcfoDxxhW8AfmaZtNohf7cGcVIgxNx0lhcekba5MhJjXJ2HLlJYrdEp8lnYTwtcxHiNB2jQlNRGL8BaT1HtSbjlbD0is21XB5mL5t1EtLmjGLPEkW9rR5nCiTfHismowiy9Y3FkU1e5m565t7NlUSH6SAZtRcqnJiCNLfOZ2GhFeYGF6lLqGXolF88wJ7wqOdzA5LQIyIPYKJ3ptcHEtULxEi1oaP77m9Q1YkpgnfT6y/La9CDIsjaKIwR8+6CkxQ5dCUYodl9rPwng/N7rGGJgJEAgFWRhpp12EeqNPco87kwxLIsp499pqQDFYjztDYlRVJTuTpU2HurlxqZmW2SXJbStnvd1Y9PvounGZi6fPc/JSE43Ch37YRJmVzS6U/41IG4TwL4mYjilTbU240lRIOv2pwV2HmEhogiV/pxDXVWkYlVaan2LJ5ycYkeBoqURvXM/ovxTNI8lTEoLVkkLmvl/mg7/6B3zh86vHH36Q//7JfIo8egziua/5rgOLvZJ9D3+CT/3W7/CZz/4Bfxa/5hf5/d/bw7YcEUR3PPHoIbB4kvMN3XT6knFufoRP/N5v8Du/9/P82gd3c6BImc+9emocWon/ZvQaNZaUWvJ2/Vd++/f+52q5/j853sfHHiwgQ8SAsg5keT1VrJYg4BbbhchbTElk7vkk7//l22z/o4/wv36lMD6v1HiH7QJFQUjiGl4KoixjvfXwUTnHL+Rw8a6ihk7Ck1mIg9ieXEPWjv/Kb/7OLdv/mxwf4BPvKYq/5E4fZzuvs12S7NL8qATImfij+rtbFPZ2QOpCyNb8VIA+KVBwtUDK1s/DojQnpb5eg4QyaXed0u5JlaRv/U1+7bf+x6rtyv8/ws+9v4Rssd2w3nZXnri5pN3tekmgiaTv+Fke/KXb2/0TfPo3iqnJElEsZbyj3dcCk7RNsgGd3oArcysl7/0DfuO/rd7jT/47X/j9A3z83lQJ+cto5FjPfZRRM5cQILvRIfYUsOMXf4FP3rJDjs9+8gP8TrmdXEm+yu+/dg9lYXkQ3/gwgcnbwvCCtEXvItFAVDlj9cN3ACLyKLVjtC6jXfSzODlHTIj5CpRytBMKdzIjiU+j9wqxfCe3GxERmVDAloPv5+d/7b/yxxLr/vRPlPr9z/zZnxzhnk3JJP+gDCxCkuAMY8Nhxt/Sc/qw9P1Z5m+E5Vj96AfCLH5VwY6P/iq/8tsSgz99K0aIn/3CI2xJSsB5x5Y2AYZnp/j+jQH6ojaSUr08lJdAmqVACFgx5RkiUnzNDI810i3xbl0TKgzi8xIvdUY9Dm8FuQ/8Pp/67df88Qv/614++b4M3NJt70bTOrRanCIIEgxZbProx/l5+e2V/PMHfO7XPsH/rHFSrqxjiv/nh/ThqAiF+MJuhfLdCY0yGKJscGLNIL/2EL8r9fvZW3bI8cl7N7NNGl6VIFFIbvBaJAqL+Jhltq83vs7qVUyEiY2EhMysr6/fHZR8tETIH1XWWL9WIbPCIy7NszgaI2TQYUlPQGtRbBfxpdhuSyen5iC/9Yf//Q7bP/XANnakaFH2tVDsfr3m/lGYD0e5OiuCWi1CIc2LY4sDZQzNt+DnBSGhI2oHJk8GqgwbRm1Y4pGPq+KTQREdbqMNlTGTyvd/iJ+RsnxutUx/8lu/wO9v9bJJYruyv0/cRJu0j9uAQWXAW/EAez7+B/zxp1ft+Myv8oX/vkn6r7Kd7fKqcLwNktvnRaBdkd+6fdLmkvhLQA5FZP37ggeNOgu7RepMFcAfmmdWBMvt/KEnEOKGP8SS0Sq0UY+yX+faxIfiKVaKq3M4cCiDvGgng3X9nDqzQODOBcs/OfTVMfrcl/nSZz7P//jc3/JH//YC3+mQMJ63h/2PPMJ/2pfIptdNNnk343UTj96NCBGa72f07NNcaZvg6ptMkQ77+pmbgvFZSKkqpHL/PeyucuMIdNHykhydvQxOO4maijjyoWqSXqdiQ/55ul/5Ht/tbKAut5BtW4vIT3aTXLWf+7xZ5Fw7xdUL5zjTDdO3LYHxDZ5lpOk4zwrLf/1UgOWYKFP/KH1DUrB1I0TYP8TYmae51jrKJWXLmtch7B9UntgzMq2skFmFCEBFZChTvH9Mgh3/8EUmm1/gmatC1F83tVR5wqHYPjC85sUuPxXwjVxhpuVZnhbbB19n4rIERcX2oZG7sV18JzTJgLT7jaY+zt6ac3sbIoER/FLvvetbny9QMlSQuc5GOs4f47iIr6GVCfuvYnlZxOJMF8NpFcrmdOtDeIHwZA9nvneGxs7h+Bz5O7FEYGQcxYUU9/4pip0/cThz08g/+DC7tnrIVEusOXNWYl0ffWNqxoOFHPlgNXmulfHMdxKW2p0U7t7Be6ps6Me7aGjupKGjlZGZZRwZpex66IOkvn7kYUJo9snrjJXsZCHLS9a+Ksy5FajTPWRoxbab04zV3zkRbH1YlLh9g37pWyd6o3S9NlfsVSzNtsYF2brHaSKSJBaGOPfUOW409tAjH93JB0MiYqeYCUfi/q6Mzq8Ls920NDTz1efqRADfPlAiUKa4Rv2Mtg0wSqIyGfffF2Z7aG9qidsefP2K57jtAcbaFdvXlgPDwbBU6wwL6VqMKTZ2ZTvwajpYlAQ/06FiwaohL83O0UQjadEh/AsTzMRiUsOCaFDafYTLL13k2tV2lCWsd947TGh2hmlfIL7TZma8VfyMXT1J5/U6XpYLXr9OOhqakxjso1sJjtKX4xDHjIjImBXx8fbOBlopTzgm5ZQ/30jerahVTiwGFbqfAua4FmgsiZiLD1Fckk6BdoC2U8e42ansiKpVJqi++zA/jb+9hetzVlJDO/DuduHIq8barHy5us3juxzrGJ69Eyq1GbXOSULCqjcqz2v1JjQ6HVpVmEhojEh4HcvvIxL5p0MSPyMsRRbxj9+ktf48L718+g3HyUu91HVKt5GE5pFkVVqTR7Z9iZmBVk68fGrlvFONnLk+zpgv/IYOGw0tMdvbSsuVi7yinP/SGU6cbZffjKHPqKasppLt5V6sJqU7hoWU+aVzCjET9jc/0sKF8xfeUKbjr5znlcvddA8pEmCNUIbeFdt9IiIiIXwTTbQ1/ADbL3ZzTdSv79acByXLxZaJrI4MvL2aXZmIIcEpbvsM86OtXLp48Q1lOv7KObG9i87Bddj+roUyR15sj0QJBWbxjbVy5dKb2H7iLK9c6qS9fx0T05Uhq1ll9zZlmkUE32QLXU1v9C3leOVCR3zx/Nx6+NiiZJbJJembMYL+CWYHLnHl4tk33OP4CRHcdTN0vYno/VGQvCimhFkIB1mOzotQvUHT6Tt/f+W4xLnmHpQNlte/RPDHCKWuJhaJSNCIanRoTAYSXp2ToNB6dzwhG3Vicywouv+dW7dkdydStr2C3CQVkcluTpw4xXElfp2s4/j5YfqmghID7qS97wTcObnkFmVRYg8w3X6TSyfO8NJxKdfxBq7UjzApYWTp9YFJ+pQystczPMVQzEpSZRXFWwspzLVi9Q/S1TtHy4ASe1fPXyuWbrWj+HxQyOXwZequnHsTfzzN6WvjtA6s+PBaMS+CYi6k1LpfyGoTrWdO8/Ib7nGRM/Ud3BTSup4IGZHrFoQdhkMLLIz20fLKWc69/h4nJF+cqqdxdBplz4933gveKpQ+pEatVd25LkkILul6IYUJqJWYO7+MsvtuRGKkT4RWOOQTTiAk8eQ5zr+p7TdoGJmKL75dSw6MCT9YbJkmIJRFY7FS4bJgj00QHGuXz8dZ8El5zDZqHSac8rl/oY9FETszUqaZpUW5l0/ESwsd0u6vnHhduV6+wKlrrTSGIiJAxJdnQoTEyQKzfQx1XOTkKeknd5x/mhNn6jl3MxQfXHwVkttjUg8Kj1mLsPrRUGj2hAjZAEth4W+6FNSa217DaDejUqbR6qQvBYUDiPNKUd4B+CU1zrIo+Wp5WdlVVY8yYfN2/ePQqknRqdFEpf1i0fjGF2spms5kIq28guzsFNJserTWZDLKqthxZAf3HMmkKNuCWWvFnLydsrJadlRlYzKs7dnK24pQkPDUFCPNI4yP+glIjRgdXrHjnVgI+fbgrsWHRufBYC5ArV6dv6vWkGB3obeaMWok+S00EFp8k6HbHwVlU++ueZbGowSk0Q3pdvRO4+tG8Va20lSmeNz63GHQkaG8D2Ouj7qGm3zrVCsNQ0GmMaJKTERvFgd9vWqP/4YcS5P4B69x+vtf5/998ev8xRdPcrE3SswtybS8SjSV8vpIpSPIeYsSPLTJmJ2l8cVdd5Tr1u/dWdi3jrDY3rNAaCxCUDq/Ic2OwfWjbX97sPJrb/6bAbFdAu5SmJjGg8VZJrab7zz3Ntvf3nKtBaupNl6It6sUAfnVcfwhEQdqN1ZXhdhueXttV0Rn7wLhkTB+lQV9irS7R9r9zpus3kOO1U/WjJklllvnCPg0RG1WLNmJQqq1b27L6j/Xipgk1b6FIEPKEJrNTGqiliTz637v1j3WbcjtUNpcOZQfW/ndtwVzIZabZwkuJBDWS0zz2IUk3aorCZ8Jheh1+SRal1kOTUpOeN1jwB8jLDoNeYlmDIEROtpu8pUXG7jUPceYEIcEhxOdRYfuJ5Af0xNNZEqo1Mz0cuOsxNOTzSibevmWsoU4ZGMzIP+/evKrUGh4PU2jg7TOa7BkVnG4IJP9LvHRwW4uTvq4KEJ73SRa2S1EacdZaUezCJqcxHj9vKk/Kn+ufPI63Pr0zb9VMOhfpE9yQ8xiJkl8PlXIszKb8lXcupTS08kAAOFZSURBVMcP/okfCeWp9vDCIgG1EbvRxiaVCvcdv3f393hTyO+97b8ZpyAGtJKz9VYp8y1GInWXsF3in1eFdjGET8Sg6A2WIiu2+1XKmggrNWK7501t/xEFVb5/s1OUffFvTLA4K/3ZYCFDr0e31E9wpJ7lm8P4ZmKE9HaynZKXY0MEfS0iBCKMBBbpCYaICEfwJOqEwIpIuf33V8v0arFGgkR6AyKkhJe4bZhTLajuuEC5ZPWa1X//+KEMV/ayuKgQfREZtk3o9Cmv3j8h04C6xIhBK+JkPMxcv8T5t0v9yE2Uunm1fu7AOJFoH7M+yb3LJsx6Gw6VWrxmFXJRjklPtVmPPhwUIRiOP/GSzPOWYTBqKcj34HF7sCYVU/mBX+cXfvf3+bPP/bocO3hgbxJJphSSyn6ND3zgF/iNj+3FKWLsncEt33m9L6jlMxMqlU6h3YJ1R8efCO5afOgdmaQWbOPh6kwqU72YbalsPVpIeakJy9wUA+cjTHatnrwKZZTDli7fO3ToE0TJatOwaRzxx8+v5sqo8uj6KkPDndwc1wlBOsL2mu3cX+4m0ajB4EgmVRTovg/cx5HqkvisEEWjK4/Kw/IrKruXnGQ7W9P1WFKV9yZU8MCD+RQ4jNyxJic5F1vtPTz88B6O7imiMNOKUa/G4k3EW54eL2PCsnS24FR8KpUyOSQYusbV7iH6lsRZi/by/v2F7ClS3qmhRe3JIGvLLg699wEe3OqgbD3rT5WXHs1fZ2iknfpRDabMw2yt2cmDFR5cZi2GxCRSSjez9333cmRzOTvkkrtdZxSSivNHEtC4MslKSqLWrsaqcZJod5OVZcOgzJmO7wZyjes9gxJoXbgK9/GefUXsK5HzxPs17nQyNu/k0Pse5sFtbsqVV6C+o1DCzRSRyDzhsB578l4yXFXkJ6gxWb0kepzkJhMfpV47xghFrlLXO0CXP5HEgv08vK+Eg2UuEiUQalxppG3azsH3v5cHtidRuZ5Nj5aFIPkaGB1t4erAMtrUfWyu2cv7qpJItioLSF0kFdWw6+EjHNlexR655PWbXZmk3VLyDZhMKjRqMzpjKja1njvC5NIIkemzNA+MMRqV9q7+AEdrStgi7axsRGBNyaN4xy7u+8j9HE5Niu+Ws1YsR6P46joZbRinP5KGd/9eNh2upsabgF1IvNWdR2HtQd7zwB52bSlYvWq9UILuDNHoHEtLKkkeO0n31FIowdpiScLmdpMv/dC8nlfnhkZZnjlD68AIQ+EU0qvfz/6qAjZnOoUseCk9WEnN3nTSVeOMNTUz0KJMsnlnoDwoU7RdgsVNSpKbfekJeNJyyKiu4v0fLaMiQ5L06rnvJJSRx0VlNwBHKoU5LgpzPfJ3NsWHa9l8Tyl5QswsP2Daxlj9GL0N8wwbMiX2WHHEJuNTW4Ozr39L5hoRnoTZ03QMStwOSvys/BAHN1WyO0/ZSEJ8IymL/Nod3PeJhzmcm06FXPJaclSG5CXfaC2kaRXBIsQnyYzJa1Z4zx3w3+xl/NoA3YEknNt3Un3fVjanq3AZhTTZs8itOcB99+3l0K5S1G++qvdHYmbKx7lzbXROSy7IL+Xozx9gU3UKKRa92JJMSslOth0+zM8+WEFBxl16gPKIanSRUMCIOsVL9odzsOZb0SoLoXOyJC5Z47OB3pQzrgGOrB0UVd7HvXkeMr05pKQV8aEtGZTaQhKuJqi7GmNiXJpw1s/F8+10TKrR5pRy+Gf3s3lTmog8ndiehLdoO1sP3cMnxPairNdFR4Uc+JYkS4hg93go2Z6I0ytx1WjAm52BxyailCWxZYTg4rLEexMezyKRiQjT7QtCtG/gD8wSWNRKPpGfEzEUGJPoIz8baOln4nIP3QtOrJu3UfPgTmqz9SSZjRitGWRX7uXI0b3cu78Cg15YTrCD+YnrXO1ZIGipoqT6Xt6/OZOCJBMaET2JWeUSLw9w79FdHDTqeWf20FPExyBdM6PUi8iKesvYWprH0fIMTJ5SNpfmC/8SnrY4zmD3AvWdEn+UyRB3g6UIy8FlIjoPSfkucistaPXCD10OvGkpuDTC9aRcc75JztT10eEX3lhQyXuPllGb58ZtcZFa85DwzVJK7EF83VdpmRqkUX5aseatwjcxypVv/QP/+Kef43f/26dvO74ox3mePjXGeGCY8Zt/w2OP/T/++uun4lvi/viRjMO1mfsfeS/vvX8n+8pSSTVIvzcmYs7KY9MjtVRsTsazPMN01w0WJn46plwpuIv3fOSz67AXl0WIV0glhF0IjzMNd2YeO/aXkGeeJtxdx+njLdwcDDKVIJk/OZ+cwgK21BRTVllKdUUmOSlC9hEHjDkwCVFIz/ZgS1gmYWaepaifqM5ITO0gzZtMosWKJ1HOd6WQU1RCeZV0iOp0XLMzhFt749uMLSflYErOIdNjiq+rTTSbsedWiXOmUZlrxGy2EZtvYWG4jvPNEsiNedgKNnPftlwKMpNJFqKS5E2nsLxUfj+XfK84cV8T7VducLVrnoVgkOWERRZVFsyWRDk3lWSbDofdiV0IaFZZOdXKm8+LkvD4W5ieXmDN220rZEoRX1oDUZWD1GQPDptNbLdgENuzC1fqb1ONBMyFeaLN3XHbTXklZJdVUKyfpLujhwv1r704RWc0k7l5NwUeHZ7IGC9daGNs6rVJ/npXFnpPrgg2MxYREja5tyOzmNzsRLKTwgyPiy8EA2J7kCW1tIHJTnJKOklWDU67A6sQjazyFdtrSlJwB1qZnZ6je3XJi/Kej5LqapJCXXR19XOpad2LFX4IVlKgVXzFJn6Y5hDRJO1k0JjxlpTE30mTbhxidFZIgkt5yWBlfM/+hN5e2i+1xNcjxMOJTshG2RbKMxPZbvLTdqqe7tExhhIChDTym3Hbpe6FQTkTxfbEFDLF9iqxfbPy7pVAG/PTM3SuedmH0u5B5XEioQQHKR6X1G0iycrotjOFjPxCafcKESQZeEPSFg0dkipEozuT0BYou6rksblSSGdVEZWlifEXUGmWNSwbpT2SXKQJYZrzLxKUdkyQvhXTS58zJZKRkYFVr8PmdGHxpFFaVSW25FNVnIS+qYs5sXm0pIajSSF0g/1SV+30l20lPcvFHltwpX5iZsblnCNyjl7OaTvXJAJ1mYD4UYIzFbdLEqrTKn3YHN/BK6+4THyljE05eqKLC9TFX8FeRG5RBtv22Am1n6O3e4S6V2NpEhrtyvtLkgyjBNsvxd9fMvaqCwuhlfqyZhWQajfHH5Hrl4VUSLtnpevJMQ/E12XNr3VWVHz+uI9lg0N8XuoqM0N+W3mxXrKInDy27SunSES2aaKBi6cuc61l5M53UCg7FEldFeamcCg5xvDxK3T2jhCfmnuX0Cd60SQXk+7UxQdk7FoRdhLrCoqz2VqkF/JuE5Ij4mniNNIcK+uTFLasvOcjO5l73KF423X1jb3JWpxbkPOV93zkpXGwSMe4lL+nexj5uR8IracAp/hkfpYHXXgJk8OFLq2Q2s055OU4pR2N6H3dDPX388q1oTvG68JC7GxS7pzaCtyqRWKDkj9efIGr/SFWd+xdH5RdACPzJBgd6AyJZGZmxXdFcjikXcU/SyorqawuFBKfjrGtF//QeHytRrrEraLyaiol31RvLqMq202uTSOkK4baJgRAckW6M4BJ62dqXum+ypMOIZeONPltU/wFnHYh6q7UfLIKS6iqkX6aYxRCFeBa0wCpldvIy/JSrJvk5OV2RoJasmp3U2ScJTg+yDGJ0ykVW8nLXjnn1JV2mnqmmPdHsTvlt5WtWLOdIgaU/uUlRWJ2Va303+JkSp0LdA7MMDCuDOkVsW1/EllJ8/G+VdcfQb5aRQEpGVnsvsdNrO8Kw93d8b6lzHyOC6+Yhby8JFLT7Xi9ahb1HhKT0ikpz8EzM4dqajY+tSt++loQf89HNgeKhBssaoiELNgtJqzpEgeKizhQk0rijMTlG9c4fqaP/kCU+Zia+UAMm8OOze0iJ0va0yzXKYORWSVU1lZSJfmnzOmjd2iavtHbFrJpTHIkUZ7qIjNJhLkpxrL0IVdqBhUlGRjnFwhNziEyg+zqIrLy0skwzzJ47ho3L3fT7AuQXFZGal4OWfYQM9ev0H61i3rpV4vS7glSNpXE6USHBU+yA5vS7im5ZEperhKhuylXyqld5HrzIEuLEoMTYixJnHclSoz3CF+wCocSOzyZOZSKP9ZUZ5OXqEVzo52xpRAB18p7PoqsQRJmh+O+EbhtvUtq+WZy80Xki59cvtG5jncIKT1xiYiytZbOIjnOi0Ovx+t0oksW/5HyVCRFifVc5sL5Vi63TTErl6y53W+HIUk4mpuqHC92fRSLzSikLZ2Cgkyy3VaWB8YIhkMsSNxaEJ5pdUq7CR9Kk75lsjhxpmRStGUHVVkihpf6aTp7VmLdEG1Ta5twGlXuMTHCyEA/3T19tx3CYXok90ouzC9cJNzxTV4+18Hxq3NEVjrIXUHZ+S67fBPFErMLU2zYpoXP3fGSQTeJwlV237eVYskhOclis8TWdOECBZLrt+4sINcpto61cPH0WW50zjLyU/KSwR8w/vTW4ZsV4TBnwLXrvbzviAGrSpJ1ZI6By69w+dTzvDg0x7AiQZX96qoeZO+91Xxyl1cEx20jS/n3sycf9nxQTgz2ceHfnua57hc4i4+Buhv4hyM4zPeza8tmtm3Zz365RIV0AiHowfle6q7paF/5Jdq7Rlg41UJh6mYhaffyvu1HeZ+IG99gA2NDdbSMObHNLQspW+lqRDSolu2iIquozRKCrwxyxREiujTLbE8DJ8/f5MWnBrk1iz/s99H38gucFydR2R7g3tKjHNmi46HV2owuzbAw2kp9g3rNu22sQHFqH0MNDfiGxHbTA+zeViPJey975RvF9mUhqcGFXuobtXTKZ3FblpdFxCnzQeV4s563rMyZXJkvquy6cTt6+saZP9NKWXot/z97/wFmyZWdB4L/896bfC+9996W9w4ooGAb7Q1dsylSK0oaijO737czyx2NqE/cXVIzpCiREk07dqPhbRWAKpQ3mZVV6b037+XzL5+3uedGZlkU0MgsoIBuxo8KZGbEjYh77nH/iYgb0dl6FM/vOMqtjy/3YPbmO+gb8sLljSFNxHX+zClcoWAo0p0g2Q/jYLsMx2/LHkDEPUH9oqJ0fdU66Hzr/WJ9eFDnPguwOx8rmFmexTvXllB4rAQte8vQcPA4rU8jMP46xs9fw8ActWJd4MaKfmHjxna/G6yftC2zMZZseyaRwMLZ93E1noBI/yzJfgD7W+V4bON2XTYRRNQ3jZuD98n+qcHOEoFzZAgBIgdG6XHs2UVFzQs7sI22sG/or2UTpPc5DM+McuSIQ3ENFM/8Bn6rzYwuy92X97Uw26noOky/hhYQnuvFH/3/Xoc3MEeJ3oOhdz6EKJSELucw2jsex4mDMrzA9SFNJNCD1ZUJrMpFbCi48WD6u/22Fm587tgSt3ajzfo66mt4DGODAsylNRA/3Yx9jUfxwp4TbG8W7SnPRbA6Q3Y+ylawo7L9bh3jo0mNO8vG8W/pZB3sNxeRrFm8eXkOeaT3bV3H8Ju7mA0TYZk5hbmLFzFChGpx0+9/SFGc8WPk1DkIginobcewrf1JPHtIjheYHdM4OYYuoffkz3CyNwiuhrofbKxuyfUgW9siFh1eLL/bg2JDOw427cRj9bSQ7mKeKfjGL2DUrcRaIovS+0/I+sCN4136/ETcaf9p+j93bRT9khwM1pRQnXMcx/cKwDwwvnQTE74lnBpTYp+IxpUp8X5E+okEaDCx8DjyDUQ8llcoqQKeh87zjKQFMXbmIjK+JBGY42ivP4AjexR4itueRpriNoupZ5Xrb2Bj6Dz6FI4ePYh263rdtg49qg6coAV4nv7y3PgPOHN6Bf9pkWw2OoW5sQz+9udarJ1oxbH2fXim6yjtSzuzN0Gm4wjPXkFsaf0tRrfsgnvTFHfSW2PN4uVGL27ri7WhdeEVSnRv4+xZEZGUvbAdbcHOZ7tw9NazbCk2R3ISy303IRXdkoTtu3FcturWag7sj/V+cPq9e3uMmPXsaYyPWZBfvAclNc/jq7VCCNnXulMr6HE6cHpshiumN/0EDidXgvzLg7n5DBHyUjR9fTt2SkWQsEn7VDjf+PAcrp07jx5SH3clO0plzsS7OH9OSJFyH3KONWHbU504zD5MwUDFbtQzTbL3cd+quAdUJOH0RcwWmTBX3IFtB38L3z5CWkgSWwtN4l2PC++MzoKoKwIRN1z+KNEDH1zOBJYdaRZJ4I7H4YwmIRYHsLoQh2tkPesgPYvlqST+4SUdUo+34cT2XXi85SDE7FGqLLVgOpnvwVXf2AbviSHomMW1H78JTfowZE92oP1YAxolQki4yJdGPLyEhe4AnELBbXXcsgMBs4WNdbfA+TK3fd2vtwrvjR4MBqJU3H4Hx1q3Yc92FfcdpkxwCa7xHlx+9zXcmAp+wgWLTWBsCpGMDn1U2Oyu3oHOxn3oZOsj81imfrx0dYAK7RjcIQ+C11/BZRXlJsVjeLbrIA63S/GMmI1+HP6xq+i7cB7/9PoYZklvny3YuJLfsDtnNKwPMbQfgc5iw8Fv/x721qlgdw/iyv/yX/DGPa/bTWBNkEJKQv7X0Iyqg3KOW3CxI5tEKu3B4uBF9FDR9cOLYbJZbqdfCQjISB84lI+f+AZWXOSArgddvt2JgtKj+Hd/2owCXIS37xRe71MgECbSJWDaSSHmc8LncmDWm0I8RevYhyjYIz02PYpNco6UswG8B+zqFBUUvjkHnHMrnAJSYK8E1cJeYoeJql2NQryxLztPhjhMBAGqjt3Unl19SSoMkOtzUJ6vh14pgYwLQFkizUEkYhGExFaI0ysQUJKZWCIbFxi59mX5OiL5t9ozkAMTQUpFg3AvueFc9nETYtcDLOu5BBqzFaZcG/d+eCUFDXaRk2Etk6RExr4fMQuHLwrXlmfSyiGRatZlN6qgvV92CtBBJvusk5Ndas2FJb8AdnGIAqYbE/Ns7TpEUhnMxZXI0YqgyQQxOOFAMHzXjUm5HlIdjVuBHkaV9PY4ZGJ+RINOjM4GsRplCXxddrXJQrLb6XgyqO6RPYUM+/bD8gxWfESkNy48GW15yC0shJbGfsXlxdTnOBldrDZBYc7j7uKwK8LUPUIWqbADYUpM7IJQSG6FlF3x0pBGPaTfyWXO3riXEbBJQXmlyDepUC5NwDEyB1eQfURtXXaV0QRTXh5sGimUlOFuPT2xlmWyR0jvJLs3DMddF902BxlEIjWnd7NZDR3Z5R29E1Ehva8uu+CeWub0HtebIc4rRoNeCuMdA74XKVY4+rmrYb4gC85MFhV0JhNsRTlU3EugYHrkGjPbp8CWCMM9ukDnkCOYW4QGbRoirxdOKvA9+aUwmtSoUiRpfObhWpPdbiP2UZvxRW484zINRBorSnL1sOjknJ9wIDlYUk5HvHCseDG+wEp7Oyx2I8qqFEg7xuF2BzB3+66hFkKRHZV17Fs9QSQdk5ihQiJ4lwmLVAbITPkoJb2zbwPd1nvEhah3ApOk98CWrp6vj5XWaOTGyqRmYyWi4EmriTzFV70IrCxiwZfCavw+lsxIJ9mSzapHnXYN/qFprJBcn8nNcakaAo2NfNbAja2CUz0VzKS3ZNiLECUsFk9V8VHuK8W+W/aYX4Ycsxb1ZPtMdyueID6xJqO4bbEaUGsXY3VwGm7KcJ84i0/C7gKbUVRiJV0JbseSbCyAcDILV1oNi8BLccX3gK8wkx1v34Nv/fG3URU5h6lL5/D//S/n4KPk/9lM5VdBrTOQb9lgUG/4L7eeEYwk5ZMoPONk826K+7Q2t6wKOTlWGNhFKWYGD0AiMEZj4uLyCUfspUpAnYNiux45BgXUrChg+7JUy2w+6oPH48XInBf6AqYLHRezR6acCKREMFGctkujxIl9FKeXoaM2VmqTKw5TGwf3BWcGicEOg9lMcU4DuVjIvYaWA50jQ4V9LOjA9DIR5gCT0I6yGi3MWooD5Fuz3gy8t30hB3rSV2W9BmsUH/0rLs632BS09UuEEhjy82HNMcOmZd+BEJDtU67OEukbn4ObimBmz5uuDw35MFhNqLWJkVglu82wK9vsW0kCKm7Wjx9Ymqex9WCJcuh6f9Yh0dugN1tQTLKzmHJHdoqPFIOZ7DNLQbgCdwUIjrapYSumvGUzwEgOw+1GcZsCEVYml+B0+rg375kKSS82MywyIoKTi1ghGVk80xaUwGKzIk+VQnCC4t6S5878Aomc03sBHdtuVEJNtsUVrEzvLF9H/fBR/GR6T3FXzVl/VLDm58BqN3AxmMkhZHGelmw6hqjfD/cY2WMyjaRau24b8iQVYeuxPJm6U/IZ8ovJT82cnUzNO7HAbvFvCWLu+0tGytc2vQIGyqGcGJRDEiGSYXkeztXU1r638xEooFAbyM9yYSYepZZu5AfKcfGgH0uUfzyJ1O2XkSjNZPNWG/JofFm+4vgmjX6K+hXwejC7QHwlRT623vwzALuYZ0dhmQF5uXQudifOEcdDvcT0LsiUauSWV8OiFUOeCMJH8dURS9wVj+XURoe8kjyY9HLuNdMbI0QKYRcLEohR/vFTPJl1hJFg84W/hFiYvrHx2x08dPFRmHkZixf+Hv/xRWD+y/hddx48ePDg8SUHI8gSGIv2oHPvDnznN9oguv4zXP3wAv78rTnuijwPHjx48PjVw4OKj9tFFA8ePHjw4PGoIRAKIWRfPBcZULazHg17i1GgdsM/No6lQTZvjS88ePDgwePXCXzxwYMHDx48vjBUHzyBr/7rP8Kf/cc/xO+fqEWn1gPv5ZP4cMSJiy6sP8rEgwcPHjx+bbDF4sONaLgfPRfO4tzFaXRPANHP5Pk/Hjx48ODxzwnZdBqpZAzxxCqcU8MYvHIV77/fg+szPix+1nNHefDgwYPHF44tzvngwYMHDx48ePDgwYMHj48HP+eDBw8ePHjw4MGDBw8eXxj44oMHDx48ePDgwYMHDx6PBHzxwYMHDx48ePDgwYMHj0cCvvjgwYMHDx48ePDgwYPHIwFffPDgwYMHDx48ePDgweORgC8+ePDgwYMHDx48ePDg8UjAFx88ePDgwYMHDx48ePB4JOCLDx48ePDgwYMHDx48eDwS8MUHDx48ePDgwYMHDx48Hgn44oMHDx48ePDgwYMHDx6PBII1wsbv9+DxE9/AissNl8uzseazga2oDAVlZTDLAQmVPtl0BHFvP6YXQph2bjTiwePzhtkOWWEp2nUpwOnE4sg8Vmh1fH3rrxjUEEssqGrKQ45FCbWIrcsg7l9CcHEUYy4gEOMa8vhCoIXeYkVRZQFMajGUEsHGVZ8Eoh4HPGPjmIkAwSS3kseXCZZSWO02tBSoQWqDcI3iRTqMxYFpLC17Qa6FByZQHr8c5mIKwzY05yuQXhmDe3mZi1Xp7MZ2Hjx4/FpgYfrGxm938MiLjz3PfANPfP3baM0RwiAXIRtbhKf3T/CjN6bx4zMbjXjw+LzReRCmp7+J/1QbhvDMh3jjL17GeVrNyMSvHoqhVHfid/4fh7GrqwDFChHE4gS8g+9g5M2/xH+5CAzzhf0XBMZYK9GwfSee/90n0JIrQ45KBEGWGJbAh+Xus+j527/BL+aA0dWNXXh8edD1NezYvxf/z8eLoJVKIF8LQZyYw5v//kc4+d51LmbwXHmL6HyBwvAB/MmTNoTP/hUunzrFxaooX4R/wRBAIBBCJBZBKBSA/q2DqOLaWhbZTAaZ7Bro368/BCS/SAyRiMYDJH82hXRmjeTf2P6oQPoQikQQCemnkMsqt7GWzSBL+SRNnXowm//i8aDiQ/S/ETZ+vwc//ulLiESi3PJZIhz0YXJkDJeGAwhDCpNJhMzKWQxN+DEwu9GIB4/PG3mlUFY34oglCcHsLMavjmCeVkfWt/6KIUnBx4WVxSEMDTkxOCeDNkcKUXwOwfFu9CwA7vBGUx6PFgIRULkD1V3NeHq7GWvjZ9D9/tv4qx+/i0u9Q+i+Po7hsRXMU5iN8Sz2y4eoH5G5cQxcGcBQTIawVIZyTQyT5/sxNe3gYgZ/52OLyKujMFyC/VVqJOe6sTg1xcWqVGZjO48vCBaY7PXY9+wJPPnkYTz35EEcO7wPh3Y2oLPChJzkImKJFHz/DO6my41WFB38Cp44cQxfO1qHroJJJOMxLLg3GjwKiBSAphS123bjyNPH8fSJwzh+bD+OHaK/97dhW6UOeeo45ldiiCW/nM7zb/7VDzZ+u4NHPufD61jCcE8PLp+fxNh0AKs0VlRI8viiYc2DvGU7tndVoKbYsLHyVxNaWz7Ktu3CjlY9KvM3Vv5aI4pMehnTI33ovjiMCxc8cPiSVJL884LaYkfJ9n3Y1mZGbeHGyi8a7BKV3QJFvhF2dQLxoWFMnL6Ec+ev4OzZHlzpn+XueITS6815fMngX4Jvog9XLl7G2ckl9Aeo0P9nla/ktOSioq4R21tr0CoWwbS+4VcQalpqUF3bip0dVaiQiKFd38DjLqjyi1HU3om9uxrRWmqEVS5AOCmHylaO2o4u7N/dhJo8M3TU9uEJpA06XSN27m1HS7ENebRGvL7hi4fSBk1+Ezp3dGL3rm3Y0VmH9moZbMaN7Y8IQqkc8rxqlDXQ+VuLUWYSQ5LJIhyXQZ5bjaq2duzdQf3MkyOX6pRfFWzRdoQQCCSQymSQsUUqhVxOA6SQQ8EtNChSGiARu323scvdSFP0dqeQCWU4gvTJF/zoXEI6lpTOQ+dYP/7GIpdCKhZCdLcUAmovknxMe+qXjLbRDvcIzm6tiWk9ycLkuGcfWpgsUhHX7C6w22DrY3DvPuvnYP16oOybAo3fJ8gukzDZ75yE3ZYTczqhbbRIaZ97+sbGSyICqYXjRFx7dmypBLLqZpie/x5+87sHcWxH2b3nIeGF9wjDZKd+fYLsd3WLA2svlcnpWGLufOz3e/ZleqHEtlUwWTh7pGPnNbRi9/e+j9/8agkOtd05B+sb/buvbzTG7Hbm/bIwW2E2TIbyUb1/guy0w71jtRXQ/gLxum7uOQctnN5Jb/cP8AaSoSyC82kk4mu//HEQdiuX7P4juuBkp/VkKNxphKQX6ouUbErOxpjaMl+XMztj+txYx/a95fe3wfyRO8cDxpfpnPni7ebs9jYdk8aSxRQZnfMjY0zHF991/Lv1bq+ux47v/QG++9UqPLbtzn5y+YbeHyZTcre9H6D3DTluj9UtkMzMphQKBRQWJRQGMeTZKGLjQcRn49y+2XgM0WgEAWqeWt9rc2B2RvHhgXZCC9OPlHyKedXdXeP6RuPL+Rz9ZPHlTuxmCx2P9HKbBLDHDiQsxlNb+imRfFQvLBaR22+Axor6xenl/n7dpfdbamT2weIWF5/Y+vXVG2CNyN7pvMzO5BSL7o55mwanx4+xeaZH8X165MAqw1W4swm41rLs4Yv11R+HWznoY2zlbtlv5x3mW2w7a08/mf1LuTGnftK+bD/ZfX1j9sh0f68uNvTO4jy1WW/O/k/nYWNIx2bH5cby7n024sr62K63Xx9zI7VvwL7HTuA3vvoYXtBqUHl7P2YnpBt2ioeEgOKdUHyfLGwcuFi30egufJLsnBzUhpOd+QizLxZPZDlk60dw+LHn8VvfOIL9Bi0Kb5+L2R6NkZDaceMvIj2tH0NE+zN74eQlfxKvr90YH3Y+wToHoXPd4h73y8HGl+MqXKdugf4QUF85vazr+e59WB9YrLu1i4ACGOfrzFaYjh9kXyw+kg63HuqEMDfVoOZoO7pKsshOXsTpH/8j/o///BJ+cdWFFVU5Gg8/jsbycuTTSbake8onwo2xk0rrkV/0FH77976Or+xoQCvJobstC+mNxvSOLGx8P07vpCNS2MOEhntBujLXwlS5DwdrrSg1SJBlvPULuPAgItvTFJUhx66ALjWFsfd+hh/95X/H//Hnr+CHlzxYkJahsnUXnqlUoe5X6LrxFud81MJia8Fzv5EPdSqJpCsOfYUNWjUlNCG7lRGBe6wb473XcHI4Am/k/ltBGlq68OR3DuK5r9mhGfoTvPz2x8z5UORCZ6/GviNUbReyq4eUCGm1IBVFIrCMqZ4zuDK8jOtzG1OFtUXQFdTj8O5aVBXoYNXcCkRpZFNhhJ0z6L/Yj+5Lo1ik9WwvqUqL/K5DaK0tQwudQyMlhTOLp0STTscRmLiAmRtn8PYQ4OIeXyEmAztVnA1o39uACpsaejkFK2rPZPcvjGBq+CbeuuqAK/AQU5jldqhzqrD/SDNqi43I1RBpoNVM9uTqCif71aFFdM+u3/8saNmOht370CpZQEaigk9qQ5lOChU3sz+FdGgRE93X0X3uOkZIDl1dG+p27ER1Zhlr9gqkyjpx3EIbQkHMOkPcMdP+abhnb+KH74xijlvHwo0dFc316NjfRLKrYFAQKduQPbA0hpnhG3jrmgMO7537sjUdO9F14ACs7jOISwwIGltRbZRCK6O+ZagE9Y3jw0t9ePGDwY09Nofq5jZ07d0LQ2AayoIKqJv3oUU+TTKHMb9xizS6chmO0dfx0nlgrpjN+fgW/lNtEkZvEAP9QSjJuSVKshcmS9IP51APhi9+iAtLwAr39CEbfTt3BaLjYDOnd6OSSBZzIZI9uDyOuZFeTvZF90M8riizQmas5PReX2FFgXZD7+kYncaLqetn0D0wi0tTDzpHE9Ta4/ijP61GteIqXB8354M9DqSuQGVjHfbsr0cR2YmOdCFisiSD8MwMYaL3PM6MRrFkroJ822H8tjEMu0aFFUUO8pVJrPmW4ZmdRSK/AVqDATZpgnzlHK72juCNK2z6PomSUwpD9TYcbStAda4GWlbFE9IxP2K+GfScvIiBiWWMRZhdbUNTVzme/JoZ4dEwFSJy6MtyQC5MpCCDtUwMnpGLuHZjFG93rwtUVteAnUeOkd6noMopgLz9MbTIpiGMkg2vdwFxdy88Ey/iF6T3CdLlpsEIjKoIxdW12LGnFRVWOUycnbCxWoVvfgSTPWdxZiyCeR+VEaxY2/0EOppq8b1yHZBTCKtJi0o9EBydg8e3CgfbNziNnuv9+LvXrm2caJNQ5kBgrsPhPXVorrQiV0+JmVYLQPF2LYnwygwme4dw8d1eLtZxU0qYLLueQFtNHn7D7MF7Tj0ycgP2Vhsho80ixLC25sfo372DGzcnQaZD4f4gmhpL8a1mAXpvUhwVqFHXTnGbxJQKWdkUweL519BLejk5yXYoQlFlFfYcb0GRVQWTiogBW039ysSDSKwuoffUBfQNz2OYwo1tz5NoaSrH8aI4rv/oPTrHJPqp9XpiYtm0FEde6EJjhRAm3xX803vT6Jv0cVs3DXUZCqtqOd8qMchgpLjNWSTpMbA4junrH+LD0RCm3A+4b/js97H/QDs3T+zUf/jxx875kBrzoK7agcNthWgsMkDPbJ6GPZNYJdeax40PLqFvYAaUGlF16Gk01lSgVeBG0mSDUKWEjsZzrn8F0ZQIxuZS2j+OzMokHFffw7tDqxhZWe9bbtte1DY1Y2d5DnRyARFjNmIZRFzTmO0fxoV3ejCfylBxa6P12/DkN22orZCRb0WgLbZAa9VyOhQIUuSLC5xvvXV1EQOzSq790WfNqChTYXVCiNZjNSgv1kA2OY+VbBZB7rLhKqZ/chI3rwziHP216QL6rjkfqfEh+BxueJQWIpxEsjMJLgZPXfoAN28McjH47idK7C27UdPUgp0VOZR/hLdlj7pmMDc0wsk+F0/Bb7CT/e7D8SoJ+Z8ac+5SHNibg7pCEVYnF+FP03hRXEFyBb2vhOH1iVHzvXykx06SLfTg7TGgkuyztasFTRay85feR9+FKdJ7Ibqe3IbmWhEUMz/BqZ4IBrxW0vtO7GstRluZCTrSOyPD2WSEbH4OAx9eIVkmOL2nmNGIiQdRDN62txEdLSUo0lOByQqHDI0k2eP8wCUM9PVTXIkilsxCn1uEumPPo0UfglUSw4KoALlaBayUgxgyESfc06O4+s45DHliWNo09WB3uaw48O2v4uixJnQKevDKK+fx2ukxLEWlMHYcp5y/Cz/YLYbjnZ/hwhun8MoM0YXNKr6sA/m1tXi+KotwJB9iZSFOPGaByOdF0OkD8+xMygvf9ASu/PgD9AfCWOC8VAVbUzuqW5uxt8JIemcFIhvIFEKLo5gZGsTJsxNwhhMP+eIYFgmtaH3sOPYe2Y4DpHeB0Yz4mhfiwT/BD99w4KUL6y0fBQQSOSSGXNhMMphkSUTcHrgDJHPaCl3u0/jaNxvxxN44Qh/8e/z0vSW8cn1jxy8RPsM5H5UwWTvxzLebUF9iRb6GKjNlCqk4OXKKEnNJOXJpoKyyBCVmL6JRGrB7IjRTbj6qmkpRW08BzX0WIx+Z88GMTQtbWSOad+7AoZ2lKNSsQRgJIJCSQGG0wl6QjzwdkZIQEb8lL3eOtDgXGmM5dmwjZzZTOyJswVVKmAoDNPZCVBSaoEp4kaBgzpwzlqG/9TXYceIQtjfYUaPPIE7kIJTIIiZVQKvXQhpZQmp5DEMucjSKiRK5Grm1O7B9dxv2dxUhRxJFOppCMCqBJq8AOTYd8g1CRN1LiEbo/LTP5sAqHw1ySurRtGMXDu8qpcAkgCjsQ5Bkl+tJ9sIC5GkzEESI8C96ECXZrfUdaDr4GPZVmVCSa6JikMg0Jfs0lFjTFlAisZHxpiGJujHpSyCj1ENnMkMVj0JvsiO/qBj54iBCfj/mHUQOY3FEg274PU4Mz/gQIhnFNCZ2kr1rVxsObC8hwkmEOEZBnsijOndd9gKjiGRfRixMfduIAhUtndj9GJGMXAHyWd90esipGEykKQCtiel3quAXnRic3trDlDqjCUaLDYKQEBpzHnLL82DMzHOyLKzEOVnCvnn4VqYxToksZGBzPppxhAoOm1oOkUpGRcQqEhkRwmILSipofPVC6DN+TCzH4A9ThJXIYK/Zjo6d7ZxObEQK1uJJ+EMiqHLzSXYDiixixNwOkj0M/6YjILtso4G5sAb1O3aTzZehgo4nCnmwmiJiqTEjt7iEitAMxKSzwLyLmyeQXGdpG7BBKqvEzkNmmCVLiDxwzocMIokJZS1kw7uasb89H5pUgPw3gWBGAXNeIWxWDfl1BqvLfoQNhUhuP4ZvN1pQZ1YAiQTZZjnseVSIEbk0UFGsNBghyatEuZ7GJBjExIATKW0R2Uobdh/aiV2VZM/SNMKuVaTEVOBbcmiMc6FL0ZiTDc84aT+0obatBc98q4F8XQe7Tg61NIlQiIRUGGGtqkKRaQ3SWAie0QXESG6p1gBzTi7pXQCVzo7c6mLSO20LejHn2NB7YAkB1wTGiYFTHtskRBAIlSho3I7OnZ04spPkJpsXxONwBQTQ5ubBkqNDoWENEX8QURaLkqRHKoTMWhVKZBRHNEYoyBftcrL1uWV4XT44YjHqoxuLSy4Mb/U1fzSOQnkltnWWoLJIA102gtVwGgmBCnJ7CYrzaGwkcWSXBuAkrhhgfJEVH12H0djRgt9upXHTWkh/MlhENE7hNSSJFclVGbiJJDkcXkr61L5yNxUbrfj2wXKo5SZY9UrYtVTcEOtIELmVqwVE5EbhpDg0GWQdM8JWUITW/c2wkM7FSbJVNvBELA22XNRS4SMLk22SjkaJ5CsKtqOyrhEn6PhixwRCPgeGgxtMU0XEOX8bjj/Vge1VcuT4bqB3MoB5z2adi5U/WhQ3biM9tuPIjiLo18LIRCPwJYlY2fNhtxtRZMggtLJKsSLEPRJ8D2raUFKSy80Tm7ow8OA5H2qKAxVEig/vxe4aPQrVWToe+ZZIRyacg9LqfOgyEWTJhqedYZTufoyIbRsOlSsgTcuhklH8rK9GDsVHu0EOA5ENc2ExciwGFIs9GFoMYyZMsuTVYxsRwT1tlWg0Ud6LhBFjeUZLOTHPDJteCkV0BSuxJDxRVsB1UTHRgN17yC60Wph1rHhOw+vPQkOkNrcoh4rqNawuehFwUM7KUKwpFJJfyxGWUr8pp+QoskhOL8JFnMAbI0IcW4VreBpOp5crbu9J8Z8G3JyPUuyv0lOGEnJZjxWn0RTJp6AcVlnKcQgZ2c/STIBiM9mnQsvt17WXZO+sJtkFyJIOoywQavNgz6V+G+Ukuwtu4h2uNBFzXQ7yVWloyM4j5BfVhWRHwjh8s8vwhMk2ozR2xCuWxsTkT7no+kYXCoRjWPPPoXvWjPq9R7Dn4A5sozFQEg8ILXswGKvDtse6sL3DgBz3RYz5TAhqGrHj0F7sqjWDXXOIuAJUomkgpXxdUpkPvSAGEel9ZiVChZQCSmMRqrr2Yv/OarTQDoqoBxHy0bSUeE9xGWw6IXTCBAKzbu5Zfok1H7XHnsWuuny0FFNxY6B9slSYJsnnFaT3ghwU5Sihiq1geTWBpcBmiYeKlkrKb81oraExXHkPH3ZP4fKIH1niUZF0HqXAAnR12KGODiHuHUMvKZ7S/+agNUOp0aBAmUDKkAN5vg1NuWKk3F54aWw9FLMjkSACbjcWRubhTqQQIb3Li5vRvnsb9m2vQZOZQlksglAkDejJ56zkL0bilREPQuQIXrZ+ixAqdJCXdmDXnnoq7I3I3FxBgnhPVkexbOUs+sfDoG59JlCotShr7kJDfRlq8vXQe4ivpdL3zj3Npqmw9CPo8ZCv+eElEhpPpZAVyhATV6Gm0YbasjWkl84Tf1rFyFYusH3OeNCcjy0WH4Vk+OVEcPJRbFuDJruEvpMv4tXXLuGV85RU7LUUVApRV2CEdHgQPj9V8ff4wacpPqiNsIgq7d048dw2NCqWMHfpbbz2kxfxswszmE1oocyvQ1N9AYxEygUTo7SObC9Gx0srkW8Pwj1+DVfeOYV/eqMb3QtpeBSFqK4mYiVbhCJ2EzeWgWCsBgbTfjxP1WOFch7Bnjfwk799Ha+c7cfpqRUinRF4ZufgokA1HSBHSwuhMpix7ZvfoMLDjgbxLG6+8xJeeeUCfvbBHFbUBbAUFaG52g57oA/BQIAS7D3p6VOAPSNSiNbdu/D0V3eiSbmMpSsn8dqP/wk/vzCNqZgaivx6NFAQssRXIRwbwizlYnlxDUqa2lGXZ4E+6UFi9Dxe/tkv8Hb3Mnp9RhRWUkGWSwRaF8Wl4RVMT8xhrr8fNwadEFBlXdtSBYP7PN5/5238x796GWfOXsTZK4O4Rm1Z4cGKIrnWSMH569i/vQAt8nn0v/syXn3lHH5ycgorqnyYKFG21hXAFuwnMualgm1d9oLKWtR2bENZgR3aDCWSkQ/wxsuv4+UzvXi7bwHzRF5mF5zwr65f1dss/G4XRm4O4cYIBXtLMVo69cDYX+L9N1/Gn/3tRU6W893TRFyo8GAmzSac17TgCNlogSgIgasXH7z6M7zywRDeHBXAXE4FX6EZJRYF+m/OY8UdQlalRefXvob9u0rQoVrCwMlX8PorZ/HDtybhVORCT7K3N5bAGuhHzO/GwMpm9U6JkvRe37Udz33nEJo1TnhvnMZr//CPePHiNEYCVCDlNaKmOhf2bAzSkT7OrwL3xNlPUXwIDJApK3D8m49hfxvJmBzGuRd/ilfePI8Xry0jqS9DDhU5beRbkvFRhIl8z5W04mipEhrHMOZe+ymm1NUQ5BSjvliH1SsvY2BmCSdRg0arFEpfEK5rkwgUH0T9rp347eNF0Div4ebJt/F3//U1nJ9MwisxI6+lCVV2AYRUSA1en0cCVSioKsX2fYXI0caRcAyg95UX8cNXb+Aq+W+mmHyUkq49HYGyrxdzJPuMy4uRGzdwc1iFrKYQnXvyIJj8a5x/92f40/+6oferE+ge30rhwaAAe43x3uefwcFd5ejQLmHw/dfw5isf4G9fGYaXyJ6uuBTbOqqhck9QQnZixENEaGkaKze7ceb8VZyRFiBt1OGAJYzhP/97vPUPv8Bfnr2EM1eGtl54MFCcQ5gKn1wq4j2DuEF++4u3uvHhkB8zokKUluSh2BSFNXUBgy5gmT3fxYqPuk6UV1bhSHkRrHAhMdODd/7pJbz0Vj8+vEZ+6FhA/9Qy5qNxxFnxUdiEkvIKHKgrIkJEBCo4ghuv/xw/ee0aTl7sp/aLGLi+SD+pgOE6tgalVgSdTYX5S+/jwjvvkg4/wIBDhLjchrqOBrLNRSKMbpzv9yOymgO1Kge1u6uhEQwjEl/G1dEYR+oF9iJIdh3B420aFCamMHfydfTMxeDY7JshBBryLXYH5SgO7ylCrXASV16jnPXqe/jxhXmEVQUwFVWgq60M0ukpxJcWMRa7r7D4FMWHsGAv6ohQ/ovnqmDy38T4mXfx3//yFzg7EsFiRo/c1laU20RQCxIY6J6BubELRRXk8zlJDL50GZM3lxGra0d+oQzq5DzGfvZ3WJSVIm0qQT0VB5eGHJiIaSHe9U18bX8FdpgC8Fx9C6/8/G28+sEwbnipsCgpRUWlFQ2FqxidD2B6kb2npwrb9hWhvl6LfGMU89dO4/SrJ/HXP7sBt9IOFZHdlro8yCcmkJobwWhsCtOTQ+ibD2HE0oLmcgnszmEM/K//GT9+/yx+cvYK+VYveqnwoPCytTd+ccVHORUfZuhFVPTM3sCbf/ff8fLZGXQvC6CraERJkQk2hQQB8hUfkeygiexh5zfw/P4q7MkJw3vtLbz24jt4+VQ/er0aGAqpEK+xoz5/FeNLfkxOLGONCobZoREMuBPw1HURcU1AO9uLd/79f8OLpz7ES+fIR0mfQ84I0lYDFQQNVMj3IRJYwcWRWjR2NRPPsJFtUvGzehOuaAA9jiY07bSj3B5G6MIlDKRaIak8gB88W4282AhmL7yDv/9ryqH9PkwndMhpbEQZ5V6zPE2xbhbhpBmW0mY8+1tPoDM/AcnCFbzzj3+Hl84M4fx0HGs59Sgpy0MF5R/50E2shBNYVVtR2LYTNQU2FKiEkC104+zbb+IXb1/GmXk11LY8lJXbUJETw+iCj7tguDlQzkQrWndVoqaSCMX8z9Ez5OYu2nAIkY+IC9F1oIBKqn6E/MO4NEqcaLM1TnAF4ZkR3OylWKOlHFNRil16D0Z+/hpe+6sf48cUs0+dv47LfdPE6VIIUQySmu0wHfwKTuypwEF7DO7ud/HmS2/jxbeuozdohia/FDV1xDkNbjiIwI+T3W42+3IQiOhcuTA/9jT2tZhQmw2h90d+CC3kV5VZCBxn0Tf22RUf7KLH4e/+Pp46vg2HKvRQE9/yrFKs2Nj+8RBAQIWLuKEd7a1W1JNP+3ouoH8ihInP9gW1nwk+lwnnidUFOCl5vT+4glEnVe6ry7j27jgGh6OUF00o2CGGuWyj8WYglVN90kBFbR5sygB8A+9icHAAN51UBfuWMdk7jdPvLmIhrIGyXI2SnVSusPlkIMMOXceH753Fe+eJjC74EU0G4Z9exMzZCSy5U4hKRZCZSPj1u5W3IRILqLIXQsDulYb9iM9SwDr7IS5cn8BVB/kex4uLIBPvRJXNDGN2Gktjb+GDgQUMUxBOhJcwcrIPwz0uuNaMMFbXw5DHplBtEhIqvPLqoS8oQK56Ff6hUxgavIleRxphnxPTN2bwwVtE2INKqtDVKNtNFInN/uKQoX8uIj5UVPzkIsapEl6an4Bn8B2MzbvhicshV5khFK4/CLGeOsNYY1dQiMR+ssMWQirahaocC0yYhWP0TZwemMPgshfJ2DJG36MA3u2EI2uAgYoNA/X/HmSpbyEHxq+P4OUXb6JvOgwPq/SXpzEz66GgselbBQ8JljIjCJKex999FzfHvZhfJvK9eBndM4sYCWYgJgcvEYthp2JZLNxDgT0HFuECVsZex4eDs+hf8iKdWMbYByT7FQeW0zroy2thLNzCjGcRGaS9BtqCIhQaogiNn8FwPxUPziyC3hXMD8zg1GuzmPHIICnSonwfoNrK5DeNFaKSdthzNVBEJzF76WX0TpFduUJIu+dw7YMp9FwPYVVhha1VBlst24ksIxlC2BXAzEgA55YCGAh4kQk7MTvgx/BoGBPxJCJEbiVCEbQiIQpqc1BQpoAhvoDx9/vRd3kWy2sZeBw3MTjVh5emVuFWUBtjDg7SGczsNAzUJrxwHQMD3Xjp5goclKwcy0s4e3oWs1TIZ/SUxGsoRLCnNz9vSHOoVttDRXsOTMJFLPa9jLN9E7g+76NuUqHxAfnZOVqftVCfypFX9SjfcODH2tpNdF86j3ff78XlaR98kQDCTgemTw5jYSGMVYEQCguZFrvecw9SNM5BOK+ew+Dpc7hE+3ojLoSCS5gcmoGTEuC9/J5FhjT8k+8RaX4TL/WuYMnvQ3jVTe2nsUDt71CdCDxLkzj/yhu4eH0cYyvrJYlvuhsLI1cx5VqjQlNHRTILWhRrI+OIescw5xBApq2FLacOBkY4aKtVK8e+OvI+MdnjkpvIHEV4VkRtFsxRSjuRk2uALrOAhYs/J3+fw5griqx/DjfPTePyJRoDkRWmRjnym6hn1LXNwlppRmGNFpbsMubOD+L6mQkqOtbgcQ1hbPI6XhzzYUFkhJ0IziE6QS7bKU3sLeRBX3AeZwNLmPDHsOp3w+Vw4CT52oiL3U2j4CymESF9WmhMjjbkoURG8XNqHP/01hD6F6gICTqxfPMN9I9PYiIsh5LyZ7XagGo6BfdoGSEV9sA//j7O9Q3j3MQK0tkVjAwtoKfXA09GCUmuGLoiyo23dnhECCySXYx+gKvLSbg8y3AujeHF7nkMr0oho1zb0kFyWylGaOQ4XJ+HckUE/plxvPjOMPrmfPCEXHD0vYWBcbK3oBTy3DpUqYk80rFvpfn02hoC6QwS7LHaB8KBZJpsP5hARlQEhb6NfL8aWvUa5GtuzCxlkFHZYaipgLDRCplhDcJgCK4hKraJ6xTVGWAVkF9QodRzagwL8TTcnnFMTV7DK+NuTBO5t1jysU8kQqG5mLtYWGwTIuPowUTPaVxdiMPpIR+ensUHr05ieDqLtNmA0j1CyqUbXWTIkI8vTqDvR2cx3L2AOeJd3sG3MUO2MBcQQqwwk6mwR+c2C6Z0sgEhm/v0IPsPIZMln49naZw2Vj0kopksQpkMZeJPYh5sHogReypzUSYJIzDZj1dPkm9Nkc2GfXD0vkF8cxjDATnUBc2oMNhRSXvdYjibgqKKCoK9eKa1EMXpCczcfAcn3Sy3bWz/jBF0OfDe3/+f+PM/+TP8r3/xc/yY+NDYxrZPhhxalQn72gpQR34hcDkx1JOGg10J+BXBQxcfqagDQc8Q5j1EkqNxpOMhrIwvYcURRVSshaE4Hxozq6g3CSJ8lIWgpH2NKhkUxgJy7k7sPHQUTxzZg/3t5ajNU0ItVxDxlkJnJ9fZsDY2GU2hy0VhVTM69x7A48cP4LG9DdhebYJZuT75lCXjdeci4pwiIyMC7U1poS1pQeehfTiwpxk7y4wwpLyIrgbgjG48p0lpUSQsgkWjgE6jg8JQisqWndhzcD+efGw79jTlo9SqgVxMjmA0U0G0BYbESCiRXAUFHhOTnSJPYU0HJ/txkv1ARwXq8kl2hRIK7b2yM+KGhB8OhxPXxxwUSIkQhgKIembhWiVCmxJCJFFwk9c2dqAlRSQmDfbpgU+uPvQkezHMaiX0Gi3k+mJUNO/AbpL9xOM7sLc5H+U5JDsNrtrAZL/3XSJr1Ld0yInFpUV0U3nuCKYQjyWQjaxidTWGKAXrRwr23H06hCCN1fTNeSy74whFIkiHHZjwhbAQy0JIhaCWDEVFZEkoKCF9qEh2DaTaYpQ3bsOuAyT7cfacbyEqbCS7UAaVwQQ52camwXRiMUNuMcJEdqrU5yGvsg3bDx7D40f24uC2KjQUKqFTkt41EtBmkJltHmoVBFTUa3V0LK0eSksl6jr3Yv/hQzhxeBu21+VQclRCJCIbs4qgZAUOs4tMiorMOBGjJJbCSXgScaylolj1xuHzpxCgRJKisWLvhpfRzxyrFlazFgqyN31+JSo7duLwk8dw7FAHnSMfxUoRVCo1NDIlWG5df1EHpaFsgmrUSTjmpzHpjiKSpFhC+ljq8yO4mkWGMqPcQDbPpl593iD/FRSVwWhSQJn2ITA7hAWnD64Qyb4Whm9xBM558q24EipLIQxWcsZHCBbDZFRM2kvr0bb7AI4+dgDHD7Zhf5MV+XoFZGJGRjjOei+ySdIdxbVxIi8jRPaIcMVTMaSSEQR8q4gmU/c9w898k7ZRYbJ4fZYKiCjCpP9UMsa1D1H7OxdAhRBKVZAa8lHW0IZd+w/g6ROP4bF9rWivyoWeOI6ciLSI4gQXglMr8PgXcWE8gKDYjhx7MdqoEjXKLDCoc9FRpoMmuUBkfBJ9njX4N3ullUFBg5BPucig5vxXZipDVdsu7D10GE8f3YVdjXkoy1FCLCSbN5Fdskp4C8WHyaTm7F4hlkGXW4ay1u04RDZ/9HAXdjcXo1QthkathlKuJptncYXAzTGLkz+RjcdpjBMZpGIUq8MhjPoScMfSSFJwXmNKJIWrKYFV2rSUF1VQ68lX69ux/cABHDu2F4e3V6PKroOBTVgm8m2SyLm3U62LQseN+uGf7sPCkgNLQSq81qLwzwXgmgojkhVDqBKuF/VbkH1rYIElTf7tgM+xCGc4i2iMCl+3FxNX3VjxkMx6NcVBkptohEom4uKskeKGiuy+oK4N28i+jh3bh8M7alCTp4dBQQWL5o7st0yfvaUsQeOYYXH/gYggnKZiL0C2LTJDlVMOZQXFSUpj6XgQVzxJBKQWIrglEJQbIFeST4TDGPOSbpQq2G06KKWkd1sxipq3Yf/xozh6ZBv2tpWgnDiKnvKmQqlBPulRbTBAYrOSHBJodBaYitj80SM4cng/ju1pQls5xU6Kz+ylMbo8iqfchdUNpEII+VfQO7aIWVcYIXaH0jsLX8APb2wNApGCYvBWgiNTuoTy3P0T42+BYsYa+fxn+J0LVhAmaflYlXDQQy6lwiNHR7EjQnX6EgbnPGS/JHcqTrYyg/EVFwbCAgiMlDNVOpTSXpsrPpiVyJFTVI7Glnp0magApfzTe3UckwH2OPJ6q88aCfLz+ZF+3OzuxdW+CYzFE/BvbPskqO2FKGxuwa56A3IyC1gZ6kbfQhTLW7q7/8Xg/pS0aaSTHiSj00RcNzJClhwy5EOSSFwsLYdMVUsOxF3f2RzYKy5MUojVRGSVVuS2fx2Pff338cf/08byB0fw/eftyFWQ48eIxCbXg4tQbITW3Iy9T3wV3/u938Mf/7v/G/6XP/oDWr6Cf/E77WjKp+Rz61IIhzkivedxhRQ/6tNDUfMYnvq938bv/cE38LvP7caBejOKjXe/7UpCPykoiChBWepQ0Ppd/Obv/GCjX79NCxU7u+0wZOLIJIiMbYVPM883SSDWSClJmZDb9gKOfO0u2f/lMfzeV6m4UpPTMtmJJdx+/SOrIKJhOCiZ3aQ/b9ki2xxlV30eKmqwgKaEhMlurkVu83fx3d+6Jfv3aTmEJ/bmwXRb9vsiSpbOH3JRgAxwt+q3wiE+W7CkT8HbF8MCdSi+cXWDvfrZmcrAR+N1B+xSEOldTLKbqpDT+B186zduyf67tBzGUwcLYMrGiNexK0P3yf5pwO64GcnmtTIoxRrYmp/BgRfu1vuT+FffogLPRO1u2fxW1KkgY7bKIJVSQrQ3ovTQ7+M73984x78lWX7QjuPbdZBEY0gTEdrKVS7mKwapBFqZlny4CM1feR4v3JKDln/9/CH8RpEEFmEasQ3iui4KKz5YQnEi5vVyaziESRfzZFexDFGoLYztVkHFPaqo0CZfkySilORXSb+3BoT1Y5K7WhqkxCdmLwpQWtY3PQIIRBoqPqvQsf8pfPO3v49/90f/Cv8zF+u+hT/6t7uws84E88dxkCwFDfJDtzMF96eaZpUiahJEaCCF0C95J4RAzB79acLOF34Tv8liMOn7//7vfp/6Rnb2/DE0kP0SF7sLMTgDXrx1Yx5zaTVMdhseLxcjV18BrZoK4zwSYnUUy44hzBJL2ewTVxxklE9yZJAQKdeaK1C49/fwtd+8Y49//C924Ln9RsjjZPPxrdk8g04ihoFsXiDLRe0TJ/AsHfuPNs7xb775BH63XI4iCdl8Ikk2TyRuY7+PIJPhPhrGbvLc/yAqeyOVmki4WGVDYd12/NYf/gD/+pYctDy/vQo1mjTFswTF4Lu9hQrKWBBBCnZsntVteNPIriS5D8c9Qs/aAPN66meUxpwlq1sdCJICroeQcFEekUmhyiX/okqNya6iZCxW5yCvtgvf+5e/iz+8S/av7KxFHcme3JB9s1ilhH3DH4GPilBVrg3mNgMVH2sIB8N4n/KEU2ig+J8PWb6WYnQK6WgIN8gm46R3IxWUQpkdVUcex9PUl3+70ad/+91n8YNqLcplVFhRvxLUPqOhQs9I/EgohbliP9qf/H38qz/ckOMPv44//p1KdJbLIIpR+8TavV99p6I/FAujl46z8U4NDgmyGXYn4eF0uG4DDz4GBXUqTOj/G1zoUcFMdLAAWhWNmTCGaDJEkSh7D3+YjyUxECWfUqhhpgKQXcy6h+b9MgjE9M+AquYS7N1nR2FiHAs353D+cnh9PtGXBTTwArGU+EczGo8eQkcxybnci/5L7+Mm8b677eHLjk3p54tBEsnVeSx/+DIuD6/gyvLG6ruQjjgQoijtosXeVIXmA4ewu8kITWQKI++NYXBsGvNeE9JUCB3/Zhts917So0JpFdNnXsYvxvrQU1qFHdtrUZ1nJgXvw2N5JSjrPo3ui2dxepLi9F0xO7R4EYsD7+CVK0RW738UgE0SilJ1vvJp6tiPAyWLyDKcZ17C1aFlXHzARKJ01IkIndvhYw+EbYCCbpwCEevS51SwI7x8BSsDb+CVq8DiXRyRAxUZTHaH62Fk//Ii4uiGd/BVTu9z9z9fya6sxTxYeSjZU8hQUT9PNnl9YAYfPuD50nTMDeIRmN3yJ9lZeokhMHUTK+fewrvTFMDXX3B2G+zLqcnVKbgKm4CdGys3i1QIKa8Lp396BjcnFvHR74gmEXd5OVtlsx9u2zCPXwpjaT6qDj+FXe0GFIqcmLtwlot10w4xnNFqHP9WG6qoFnroK0ybhKptByr37MCJZg1ES1Po7x9F7+gQlnxrMBY1YO9z30T+/Vce3OQvZ3vhqt+FUKkdRfuaoSprgCjXigLJCqYHfVjp31LZcR/iCC9OYZZ869RUBuMPcNPk6jRY3bvl6zRp6mdoAZdeOouem5Mg19oorG+Bim2fn4huBiX0F3sX1ZYQmMHIjQH87Ws9SNx/lWuN/s7E4J52wAPT55YHvjAEZjHRP4i/Idmj7CrM3WB3/9mb8WaZ7KSO9bWfCuloGoFpP0IFUijytNhZbIBN7EKC8rh/QoSQXoQKsw5H9XLkZcKIhDzwU8znnu1IxygxLuHaWxdx7eoIptgqtv42KJ8HVxEMxziSWMxpJYKVnvcxdq0bJ2fYBUKu4W1kiWgnV8OYpx0E1o2VrDClHB9gRc/Gqs8G6/1Jszvc1I+P3jkgfxYaoZYLIfkVusL+aSBW66GuO4SamnxUiBcweuYUBqcmsQQ5ae3LA7GKxr/2ILZ1teFIMcWRkUv48No43hmmev1RP7X+kHjovCQUqSGWWagg26hj2KMjchX33naJkJwtsYR06n5m/inASn1PAulQmoh0iogWBfHxm7h4qfsjy9W+RQzPrU98MttMqK4vRp4qAvfcCE6dvoDT56/i3LUJ9Iz44Y2nkbqvas+mklilhDTVdx2Xz53H+6fO4OT7/bjYF0HWXIPyxgZ01OdDrWTuyG49src0ETGLUfDxLODmjb6P9uvKDVzpX8DCxvPOmwK79M5kX00jkUkjRgRwdvJjZL+5gEFidNFbhsddtljjbi2zkPzZ1uzsiGEKTOuyR32L6Lv5INl7Sfb5jVfz/rqAQtAaJQImezyKuH+JSBXZyEdkv44rfXOYcXAvNt0c2O0rbwIZ9jgaSyyhGSxMf4zeb8yin1gNN3l+s2AZbiVOvknniAcQcg+QLNc/co5LpMee4SDmt1DgUPfhS6QQTLHHk6IIzYxiuufe468vfbg+ucgl6s+CWn7miNFYOWMgMZARSyFRKSC4/T0aFkisEIssUMoY54kgk3p0UugMWtS2VaHAmEVsZQonPziPD85dwdkrw7jU58VyMIGEgAWERwtrcSFKynJRrgzBNTKAK2cu4cy5azh/cQoDo36yCfKm+wNTjHLE0g1MLXuwkFbDUteE+rYK1JSooCIiPz4fxNBS+pc8nvEJiBOx4vSYRTwZRsw3iOHB3gfYYze6B71UwK3b8GYRINbmT5LNC6nImZ/A/HXyo4+c4yZ6RucwTqR1KxEyTfsFE2kkU1HEvA4sXunBzfvPcfkGLl4bxbgnyM3FefRW8GnBfEgMkVQI0d2PkCqIRxTLIdEKIEpTHgxQTqP8nqYYuUpjnEzFEPetYOnqdfR9RHbS67URjLkCYNfFNpMDs+EkEsPsUWtApNKgzqCGNuMi/xojoreCUEgAoVKLFqMK+qyLio8ZitVM52l4kwlkBXFEl6axSHq/evm+fpHerw1NY4wKxcBqClmK9cmsAPGIA+6lfly91nNf+25c7hnF9fEU3Nxb5DZAhpmlhWXjz7aoZEdcoUKW+E2K+JusAGLxXY9OG5QQ2tQU68gPIxnKgdSVz5ZgfAzCJK+P+F2GRGffS5GDojD3HMYtmKRi5MvEEBNXjFJxxrLvZromVSpQUFeLwkIb7Ho1VLYyVHXswOGn9uOpp0pRX6GBRqKDJncfWlp2Yn9HOVSKzT3Y9bCQGPNhqenEvv3b0FYggdozgIvne3B5YBlUL9/zKupfBTx08SGRW6FQV0IuZc/Lso8rSSE2UTLWqaAUUXAMDJNzffR2BZvULWC3kNh/7FYe/X5PZ9hI0ojGXSmEqcBR5JugMqu4D/WwW35sn/WPfjFjFHGGyMKYXiZBLnsHf2gRgyOjeO3yJIZXUlgVqSA3G6BQ0T533+8RirjbWFL2UbVsAAlnH668/XP88L/9An/1N5dwfSGDrLEIhdW1kCnYJC7mCCtYpUonI7ZCY66DUqkC90FF7njUL+7DUaxfGx8f2ixSJPss9WUliZCQ+p1HslvUnOzsyZx7ZaeftAt37ocAS05csqXxEJIM1PXbumG3utdvszLZndyr7NJEuDTmeigV2gfLfs9Hxx4lKORQRFxjfRdKqEsb34VhNkZyMH1sbayoEOVkJ9IuNEFjaSC9P0h29hGvLcrOLrUSyUo4EhQ8ydbtJqitWu65/Xv0zn2A7MF6Z3picy7W9cV+stvkG328hQCRo3EvwiEh0hotdKVm8mE59Xm9lYBsQCQhf2B6JLluUe3NgCXH+WAES1TsZ9Vq5JrlsOsoObDxp85x52Af7yK/e5iPS94BSzV39C66R+/MhtfHZtNYTWBt1IvI6hoSMkq8NjPkVGmsjxUbpyooFGUwqNk3LNyIRzf7hpmtQ0UJt4jirDzmwszUGH7+4RBuzEfgXVNCZjVBqZFx89seNXK1SuRTqBQHlzB8rY9I2ASmXSLEs6VQyEugU1Cy/4jKGV2ggsCxhNGAkOJ9A/aVF2C3QYTUwgS6PSH0UKG9ZRLN3hZCeoz6SY8Us7SllKP0Cs5/GTgbYfa48aHDex8JYG3I9+gnW7i/mY+xhdt+B8uhKOYjSaRUauSYFMjTk5+SrOzDowL2QblbNs9WbhExyg+LbF6CQA6dSo82IkFWLkZs9JP70J2U++Dc+kcDHwJswNnjWGtMXlYgUL5kY8bkEa1/fPbhwjzbm+xUQ4RSz/IZ9Z/lIAOt26aHModIZpTi4TxRAqrU4rdll0Gj0qGVZLdtxMdbsrMPCnKyb+j2HlBcWo8RJIuE/WSikAykc05H7JXqAx7EqdjJkr8XkD1I4ouILg9gbWQRYX8GSZkWRQYVZBkHYqFxSjdpOMIxzIbiSMhVMBsVyDfe+igkHZNOckvvLG7TKuL4YaTnwggmZRCY9FDn6SGXkX0wQdg+FOfFrD2zFda/9d5/zmBXMOcQiwcQTaqg0LVAobRzOmHxWlykhLxGAYU4SrwsCf8cmcZncVuA2RiX2yg/rxMP+pNkJh2xoRLAjVR6Dt4gK9YURPoNsFJuUm3oTEj8rVStQJOK7Ccegi+VAGOc991E+kSwDzoW5qnIplQQqgpQcug7eOa3fh9/9G+/TUsLFRsmGBUWGCu+haNHn8d3nuyAXrM+S/FzBzMYsmtNSQuq9zyBbx4oRJV4FlOXT+Inp0bRO7WFi/tfAjy0Tcv0hcit6MSJlkI05tqg1Oai62gl6muVUAc9WLiUhodd1rwL7CqHlk2YNpKxCNiXVPOgFZFB0bbbuZJ9+CfUgyXHBAZdMqiKj2Bby3YcrzNBr5BAbshBbl079j37GI601KCLdmFzsthNgzQdRaizoyRHh658GdS5Vaje1ojHn6xApUGOe6ZBW0ug7TiME0/twdHdVago1FDgEkFt08PWkA81BUHBWgSJmAdZztOWEUv2omd6CXMJCyxVe/HsvirsrjRARwFGbC5AUedOHHr6OJ7oMqJuK/NPsxQEVntJ9nH0OcVQFB5CZ8sOPFlv5iaoyfUW2GrbsOeZYzjSVofttMu9U7s3j2Q6i2haALGxEMUWK9p1ImjENNY6EwqLiADLWDp2UPC/juszi5iJkTNW7sNTJPu+GiP0LFia8lHQvgMHnzlBsptQv4WpPg8HVvr7kM6sIpViE//2osDchHIKnAqNDXqziWwCUHzkzT+fBitUE/bgxuwCpiIG6Mv348k9NTjA7JGOL2ET3Vq34eCzT+OJbVY0buWlR2y+VLgPK84RKnrXIMndg7aW3XimyYIcRiS1JlgqW7HzxBEc6WrCbtrl/pddKUlvtnIZFUbUJzEVxYpc8i36e2M7h6QDad9FDC+swJkpRGHT8zjaWo0O0jNLMhp7Kaq378LjX3scB3Ot3NtyNou1TAbh3gk4+1cwn8mDbd9etBxsRotNAJ2MgrypDJUdB/HUE3uwq6NiY6+tgmUvPzIZKtwSQioMdyDf2o5KCtpqtRVa0nuZjU1WXW+9KSRXsOY/h9F5B5ZSuchvehZ7m8rRVmiiZGlD7cFGtOzNR77QDdfQMBZGZjZ2/PzBbpSxazQCtQW5VGzsyxfAnFuMguZGPPv1OtQXaLlP9D1qxLIZxNgbMIx2VJaaUFliBgxFqDrUjrbDtSjTCkBh7IFY6XNitn8Vy/JCij0aGLIeOAbfRyzwkE8zpzxUdJ/F+CLF7ZgF9sYXcKClEbvK9BxxVVmLUNaxHY996wQOleSjgXa5kxyZ4eTALtUgj8ggRUkorETObCqOKN2NyOAMVnoXMB2xwrBtB1oe60J7voiIi5J8sxAlLfvx+GN7cGhXLcSsIt4CfL4wLl4Yw5SfCG5ZLY5+bz9am+2wq6UkixX26h3oOngI336iAeUFD2kBCTIwZxypqAIiyu/FLxRDU6ahuKKAobiQ4pKGi0EPSyT0hdtR3fgYjpWZUWgrhj2vGi90FKBWm0Tc4cGN7izcLlIhFR5XLk1gwkPxraQGh79DsrfmIVctg0hAcbJyG8l+GN96ohFVhfdFR3ZxJ5xAFlSwW62o6dLDaJNxk7ptRQWwaDXQIEEqpRwfXyPfUsJijSHtScM3HqLw3IdoNIBITEqFPflfBIhSn9jV/+jIPFzXZjATMkLT1oWWJ3agvYiKQqUCcg1xgsY9OHJ0L47tr+e+To7oJFZdveieCSGmaUJt8zE8y15aYlFCQgWMvrAOrYcO4NjRXTgol+HRvEOPPQu5SHa1gj7fGjI5deioLcfRugIozLVoo98frzfAEnNhcTqMvkna42GLDzrAGo11WmqGtcKMskY1JDIhdEYjbHl2mMRiyBFDMOzFuRtzmIiooK5owNNH6rkPOZrUJuS2Pkl8sxa1OipKZ65jxLuIAXbo9TN8KoQ9TnT/9L/iv/6Hf4//6Y//X3ctf0HLJbzxoQuuqAOuwf+MF1/8G/z5j85SMfSI7nKztwKWHkLH9g4806qAbOE8Ln9wFS+dWkBw0194/PLgIb/zYYNBSdUnaZm9xUFjKUReWQW27apEkcyF2EQPzpwexaAjBp+AqsS8WlTW1WJXZz2aWurQXE8VJruNR5FLKLaQweWhpIJIIrs24Q0glokiLZJTMaGBLccKnVYHq9kInb0QlbV1aGyuRUujHXqvD/GRWe6d6xlzMaTmIhSQE6spUZh0eiJsTWioykFtgRhSpQ6Z4CjCyzdwaZgoi7wMurIWHO0kMlScizy7HfkFJahtrENDYzHKzGlEpgcxfKUPveRwoXgcawIKiFk5yayFMScPOXoFzCYrLBQ0y5oa0NJcjSZyDMPqCDzeVWz6dduMTGVjWCPSmFoj2a1mSsQG5JipwLEVorymdkP2XBiDfiTZqy5pL2VZDYrrGlAt82B6YgaX++48YS9VqFDYtouCmxSW9AreuzyGFe+dm/5iYwEVD8UotmmglclgVNNYl9ahkpJzkSWJpZUIwlEqCAUJcmpyAIUGJpLdqpPDbLTS70Uo35C9ucIKY3gEPm8Q0xvzQdh3Pmqam2FNTmFqah5Xhz6PqVGMCawRkbBClVeKPKMWKqkOGqUBBQ11KM8TIF++AIefgo2JfWSwkXtnv2B2FuNXRzj74cKJlMhGXQfqC/XYpoxg7Gwfpp0uLCGOBJt0LifZ7fmwsI+zkd5NOYUUNEl2KoJbqu0wkOxBrx+Tm37fNtM7FZ5CCeJpNembbEhPQdish4b0Xlpdg8amerSS3q3xCFJ9E5zeQ2Y7JFSM7misxrbWRjQ3V6C+mr3xRgSpiEgD9+GxHBTlqhEIxRBheqTMmRHpIJdrkVtQQGOkgtGaA1NeMRpbmtDcVIa6chPEg5Pwi7Rw1pCPWJOQLs7TWI1jvq4T+UUm7NbG1scnq4KLfTeF2siozdhF9u2ZDCJiGdJaOq5RDaNFD7PBAHtxDarq6tDSRLZCPpmMBtHLfYK9CqVVBejarUNy/CJmpx24cXuekxViyfr3S6xyJ2LjV7nvl6zc9dyKwmSEIr8cuexRCbkeapkW+fX1KCuQokQ1ByfpPbjZx9S4Z+cjyEp0VICzscqHRq6E2ZoHc14lxboaVFjTkCz34uJZKsxHV+79BoWQghuNVWWpHQdzslh+vxuTsw5Q6HloSLRWCEyVZOfMX+UwKskXK5pQSWPYWkIEX6OlMELj6j4HUgcWmT2yq2jUn/LiHBw2JzndTc1Rgbh+yAeA2rPvfJTl4UCVFC7q/8z0MuhwHwuxoRR6vQWlhTmQETPTWnKgKapGe3MBigso/pJNykLTWJ6fx5nrS1zpeAvpuAhaKjqK2xphFkSRWRhB37vvoXchScl/o9FWwOkxjDXSo1iiQX5hIfe2QJPFCr29CA3NTWgiv2mus0E6OoPQogusjCyua0ZDawfaGoh8tdWhiWy+WCtBOiuEzGiGsbAExZYoFVMhbs5hJsGuq4uRZhc79CpYcoww6rREbqtRUUM231KPZiKlEupLz+ACchu7UFZkQ7XUwz277YhJUNS+C1UKyn+uRZyiOG1v6ERZ8Xqbs93jGJ7xIBxJQkXHVRNJKyk2E8GlPGcrQGEZnaOjAY1E5Kp0AYzP+bDgYpVeFbr2WVFkXeV868Z8Ggu357tUwF5QhF2HzcjOdWN5eprzLW6Ss4BiYVqBklIrcvL0sBNZZ6+btebRmDWWwOILQOD2c3MYWPNNgfvORzH2V9ExIyKkEmroDVQQUHyoqKnEngYr1O4BzPT24P3L89zbB0NrApI9xcmuMpIuCk1QUI435+Svy97eiMYqK6q0QUwt+O599FfIrlSbUJNrQkGODkatGBJzAemmGE21+VAEVpFwB7BKjKOYYlNhaR4KlAEsXOjF4LVpjIRjsNSzPpegSJeAr6cb491TuEk5LsFuGmQEyFCs0+rUsNopdhNfySmsQFkV9au1Hi3FCqiFUVwfWqT2zJipSM8Qh2C8hmKvxUC5l3JqXmkF2WMjxcdCFKspftwYgzORRJRyDfvOR5UmBkFgmbONKHvbzAZy69tQWl7M2cm1m5MYmHBsbPm0YJ6YRFqsJO5BnIa4kFGphJ3yqTa/Gp2Nhag2JpCcuIRLV0bRPenHKktZ6ztvDRLiNgoj6kps0Cmo6DBpIbOUoKa6CKVmNdbmnYgmk6STNUQSVDbS2OrIZ3PNNFYGK2wFpajp7ER9ngTq8DT6zl0kXufgPqJ8d1z5Zcim2Scc3HA7HFhYXL5rCdOSh+JaKyoqE0hP/RwfXpnBmRsh7oUQDwsFxeiK1m1obKhAXYEeOk+A+2jk3SlEpjUir+soDmyrxq4yNeSJIOUxERVsFhRXlqO6uoLGa30pta/BpPDBH8bWXnb0OeFz+MigDYp0BDFvDJLyZlS3NGBXazFKtQlERi+g98NTeHV0FfPs0+MqA9D8JI49fhjff3YnuurzUWRWQMpuSaoLYStrQHNXE5GnPOh8foT6p+BECm5XBN65EGR5+TCVlKG6tRWd7W3Y1lKNhjIzLIo4VkenMTswgznq2XJag5W4CkVUSBSUlqO+qQUdDUVUDHmQdg1jJJ6DsH8SGXcfyH8QQB5Ulkp0tddx1XN7YxM6O9vQ0ViEypw1CFeGceP963jv7VEsE5lirp4lra7OLSGWlSJjKUVpSSVqGprRtb0V2ylo1eZpoBcE4J+gxL5ExcftIP9pwdwmhbA7Cvd0ELLcPArITHaSpb2VxqgajeVWWBUJhKnImOmb4ibyKorKkVdeiRLBCiYnZnFt8A6lkBBhymtop6ApgDbmwAdEIN3MQjcQzKhp3CjpF+VSEKfg19GG9q561BeJYVxbIVLlhSeYICcl2ecdiKUpWZDsxcUVqGWy7yCdUOFRl6+BUbiKAJN9MYDpjcIrlwIqI8+66AQmJ+fRM7rlmdKfADZuEUSkargFNhTmsS/LVqBlB9lMWxUqzQEoI73oJ0PxqoqgKK3Ebl0M6ekZjPeMc0Ses3aJlPJxE6psKjRJVjF6nhIgMYtlCjahBQcFQwESZpK9iBz+tuw1FDx0MItDCEz1YYYS3+T9E/E/FSgIeqNwjvkgs1FxTzZfRTbf1ka21VqD5iobbCpKRLPzmKE+M72HK5uhOv5N/MsnduHpndSPciLfUiEkMh0VYUT0m8lumorQXChD78gill3sGxUJeKYp2SbFkJFt5VZUoqGlBXu2taK9oRTldjnUmQCWrgxjhhUWVNju0UUhmJ/D2HUqeqigt1Gh2qEIYYTGZzojh7usdqMNFR+030LKh/loAkMuKWy5dtJFNdo6ttHSzJ2jmvxEnXRibnaBilFWfJRRwreiqV1B8eMyZmac6L/9xKYZInEx2ndRUSVexup4D/d1XfdtE44iJlHAATsK7GaUUlBu2dGODtJ7TU6UbP4aBsgdNv+NiCzW1hLwzoYQiwporCpQVF6FxrZm7KJkUGVaw9pSH26efBlv3vBgYIXdfbsLrPigsSrJM2G7LomF09cxOb/yKd/l/skIZZWY9MtRkG9BUWkZapvb0dJQhkpDAmLHFUwmTHAHvVAFLuHyCLDE7JEVH2QvxbkG7NRGMXKuH9MLrk/+qFVeLXeObUVCOE73YIaKJzrcx2LVT4R1TQlrWSlyiNTWNNRjR0slSqUuRKk/p5dk0MVm4XMs4NzN+whSyguNQQFLzU7kU69C48N45ydDmIqs3X5z39bAiAIRxvkwIqtZSIuobzRmdWTzu7e1o5OK7SqKXQbyX2f3KGapIGP5ZM9z38QTzz+D5w7Wkv/okaugpL8mgza3GGWNzdhO+9aaxyBKULwlpWaTRF6jEfSvSGCyWjibb2nvJJsnH2ym8xURwci44FxcwMX+RVirm1FgM6BY4MK57gkqPkTIIxJZLPIi5FzAmWsT1KaJ2phQxNr0UPycop75p+FKKRGVWFBRVYnyqnp0UN7asa0WTWUW2GRxxN2TuDHuwvwKu2tdiubtetj0fkSpcL+5kAaF5w2UwEr+2bZTi8RsD5amZjnf4rhVOkkKdUJKsiisJHNJHaprm7CjrQZtlSbIh6cQmFzEODW9z/J/OWyVsOVbsb0wjoXxBBEmHcr3daK5uQqtZXqY1lyYPvs2LhKhPOuh2Mv6k4qR7DNwJ+VYFVlI7nJa6jjZt2+rQ3O5hXSURMIziZsk+6zzLquJU34g/ZtsVHAWl6CsshG1Ta3oaqmiolKBxPg8VmhsHfDBVFlFBQ2RW2IhQ2f60XdzAfNrSSjL62DMt6Nc68HcqRsYvDiPSepXOh1EOBrCIMU6rcFMeqcY0UJFK+m9s6UC9cVGGOi43uV5Tu+JZAKJSAyOYQ+EVDiqKc6XNTaiiexxZ0cj2uoKwW5aCXwUHy8PYzaeRIyOm1dHtiELI+1dwmkqVmN33XrIqWpEfr6NbGkF3cQJhqdYTN08YpQfIp4QktZK5JZQHG1tQFcT5TsNFR7zfbj2ziu4OO7EOA0tU8lDwZcBiQNdaRFy8ktQVd9KumxHe3UOciWUo66NwkU5xJuMIeGcQFigQEzDLsTVopa4WlcH2XupCsrACCavXMRPXx/CxHKY42mfDdjLsEsptlqI5yWRWrzAfWRw7Jd/BfBTwWjLw8Fv/R6eONaJ/eWUr68MwXvfRwY1RiNaDx9CazHFALUUIk0u8ivq0L69A9tp2XHX0pjnITsbws0p4gXkKl8WPKj4EKwRNn6/B4+f+AZWXG64XA+6fLuTiP1R/Ls/pcCJs/DceAe/6JbDF6JCgk1wzKYRD7oR9LqxFEgjwV47KiZCp8/lKtZ8vezBz5Gz+5fZGALLbniWPNz7jtOQERdUw0LJz6BTcO/5Xt+XjrmWQSYTR4ja+5a93MS6FBEu9nhKoV0LrVwM4mBc20ycnCkRRVhsgjjtgSCyhNkVcjSBDlKNGUV2qqRvt2dgr/xMIx0Lwbfih4fIJ6tG1wMsu8Iu5r7noKegbFZLIL/93CkTg72tKIKQaxHuQBzEJbcIGcQSFawku55kV1P/7sieJdljlKBonBY9nOwSkxXGHDssYirYPD7MLd+55SIiQm3IL4ZJJSJSGcL4nBshcurbkGkh0ZBx27TQKSW3xyGbWEUs5Mb0UoiMmZXS67Ir9RRM2ccGVVIoJHdkZw+BppNRhNyL8ARi8GyU8HpLDiW4XKho7L3eAOY/x8noIqUecoMNBVTcauQibv4KG7N01IWIfwEkOiIyIyRWOypVGQrwPrjnXZy9sSl3xHIpkhdQolagSJqAa8oBbyjKPZVOowylzgA9JSYzBYJ7ZU8jQ8mR6d0TiMB99+WLTUEKoYjp3QyDXgWNQsw91iBgeie7zKbjCLvI3qnPTMMJrQFiax4q2Tdf7hjwvaB9MvFVjJHwwRCLSqzTSmj0eliIGGvpHNzcEq4xEepsktOjb5qlYhlC1lxUqjMQBwLrY5XDLkAoUSpP0fgsw7smRfjuNrNObjwTUvYMrQkFViJ2GhkUdI71U7A4kSH/8sNN9jDLTdAn+7XoqACRI+2ahd+3iqXbEy3VxOPZlR4V1OJVpNzzHHkK3WXCIoUWUr0d+aR3vVJ8R+8xL+KBWcxRvbu65YCshJrdRc0zk3+IOX/nDk/jlAgT4fQ44QymEU7cl44Z2SdbMhu1qNCsUdG0AI9/9bN5JSLFBoHKzMU6E3ssjxvaNXLBKFIRildiI+kxBmVimkgYQCa5DlshzAY1KlRpuMm2PX4qmDc2PRAUt40mLcotYoQnFrg7mp9Ia9jETL0BuWS/FBrviiUhRFNZ+NJKGAQBxEMBTC7ePZOWoRQNO/bgO3/8TVSEPsTEpbP4s7++iECWfZjws4ACSo2Oi6lainOc/3Lrmc2nyCRj8FHR6/dR3Ke11sISmMym+14NfC9SoRkaEy9mSKlcNqUiGEoT8qxamLVyKOkcHNhGFrdjAfj8AYqpAWjthTAZNFzMnpp3YzUlpDhdAoskhlQ4SHHaBS3p6+42ty4aibUW8kEj2buKm18gYrbGwM5BvpuguM1eeMLyMvOtwjIVDOoE0u4ZLPmzoPC8ATO0pK/iChXWKD6ukiwLZBDssT6qnmkRQ2ezwWg2wKKSrH8Dgr1Risj46swSvO4A2KWkTRNRXQ50RgPKLCLuNbvZjBAqPZErkkPAjk++FVqh2OL1Y4Vy6Hp/1iHWUp+Z7CYV5DS+d8ueJaIaJ9kXXSEicndbDSvCFDDnUey2aKEnLsHtxu6KpaPwzK/A4w6CWaQ+l8ac5DVS/PfPO+Gl/M/imdpWQDHKCKuSfH2W+sa4Aa3neIGYim6lGXY6tpVyB4t1691isY50EqdjU2ycIr2vXzVf74+JCksW91hcETPZ2S4szmcSxKOCZI8Ug1MZpJRqLodbZEStYxTLZ133vE5Ya8uHyUQ6IjtZIP7k8KxnrM2DeJBCRWOQy9mvlo0TrV1LU/ERIRlcy3CH02w63GcAOWRKLXIKc2Ag27rtK8TrEqEgVij/sJc43ApdCgP5rcmCHJ2ci8Ec36SxSkWp+PP7segkvkJjdWdUHhbM8a3ILWR3p+hcq1NwuBJb+9DpAyBVKEn2UvJLyr9JisMUX91UaN59eImcfSeL9M6+Lbce5D8WaeK1qwEHF+8f+pG4zxAL0zc2fruDhy4+CjMvY/HC3+M/vogtvRWHBw8ePHj8cwe7rCKFuWwfuvZux7e/04S1qz/DtQ/P4y/eXbiHePLgwYMHj18dPKj4+OQyigcPHjx48PgcIZbKIFfpoNHYUL2rHo27CpArc8I7NoH5oQV23ZgHDx48ePwagS8+ePDgwYPHF4bqQ0/hq//6j/Bnf/qH+P0TtejQeuC9fBJnRhy46Mb6o0w8ePDgwePXBlssPpwIr/bg4vsncfKDcVwY/nJNbuHBgwcPHr8aiIeC8LuWsbQ8h5Heblw5fQFvn+rFzVk/+y4gDx48ePD4NcMW53zw4MGDBw8ePHjw4MGDx8eDn/PBgwcPHjx48ODBgwePLwx88cGDBw8ePHjw4MGDB49HAr744MGDBw8ePHjw4MGDxyMBX3zw4MGDBw8ePHjw4MHjkYAvPnjw4MGDBw8ePHjw4PFIwBcfPHjw4MGDBw8ePHjweCTgiw8ePHjw4MGDBw8ePHg8EvDFBw8ePHjw4MGDBw8ePB4J+OKDBw8ePHjw4MGDBw8ejwR88cGDBw8ePHjw4MGDB49HAsEaYeP3e/D4iW9gxeWGy+XZWPPZIK+sCiVV1bAqAKkIyKbCiLq6MT67ivGljUY8eHzeyMmHvKQSO4wpCBaXMNs/jWVaHVvf+isGLcQSG+o7C5Cbo4ZWzNZlEPPMwTc3gCEH4ItyDXl8IdDBaLOjrK4EFo0Yaqlw46pPHOGVRbiGhjCxCviT3EoeXybYKmHPz0NXiRZSASDMkpLSIcxeH8P8ghvkWnhgAuXxy5FTDmseG1slUkuDcC4sYJAGNJ3d2M6DB49fCyxM39j47Q4eefGx88mv4NhXvoHmHAnMailEqWV4ev8EP35jGj8+s9GIB4/PG50HYXr6m/hPtWEIz3yIN/7iZZyn1a71rb9iKIJS3Ybv/tEB7OwoRJFKCoU8Df/wOxh98y/xXy4Cw86NpjweMYixSmrQuH0nXvj+Y2i0CmGSAalkBgJRAM7rF3Dj7/8OLy8A41SA8PiSof15dO3Zhf/5aBF0SjlUwhgUqTm8+e9/hJPvXediBs+Vt4jOFygMH8CfPGlD+Oxf4fKpU1ysivJF+BcMEYQiMWQKKSRiIcRCimEM2SyymRRSiTgS6bV/FkWiQCiCSK6AXCKCREDypyOIJ7JIpDYaPBKwqx5iSKQSSGmRiAQQ0CoBx9zXSCdJpJMpRBMZZB9M579wPKj4EP1vhI3f78GPf/oSIpEot3yWCPm9GB8awcXhIKJCGSwWMTIrZzE04cfA7EYjHjw+b+SVQlndiCOWJASzsxi/OoJ5Wh1Z3/orhgQFoBUszw1gcNCBwTkFDHY5JIl5BMevoYeIrTu80ZTHo4VABFTuRPW2Zjyz3YTM6GlcOfkW/s8fvYPLvcPovjGFkQk3FmNAnGexXz6EPQjPjOHmpX4MxxWIEhGp1MYweb4fU9MOLmbwdz62iLw6CsMl2F+lRnKuG4tTU1ysSmU2tvP4gmCBKbcRB55/GidOHMFzJw7h2OF9OLizAR3lBlgTc4jEU/D+aj4msCkojDkoOfJVPHniMXzjWC0688YQj8Uw9yivUooVgKYM9dv34NizT+KZpw7j+LH9eOzQbhzZ34auCg1ylTHMOCOIJb+czvNv/tUPNn67g0c+5yPgXsHU4CBuXpvDzNwqQjRWGT56f/GwFULRtQ/799Sisdy0sfJXE7q8YlTtPYT9242oK9pY+WuNODIZFyXvUfT3TKH7qh+uQBLJf2a0SGPLR8W+Y9i73Yqm0o2VXzTYRUObCYpcHXKUccQGxzBzrgc91/tw9Wo/bozMY5IKw0h6vTmPLxlWXQjOjaKvtxeX51YwvJpE9p+VWxHxQQFqm9uxb1sTtolFRE1/VaGhpRENTdtwYGc9aqRi6Nc38LgL6qJSlHR1UhytQm2OFIpYEHPOBNKqPJQ0tWPv3g7UFuTAQG0fnkDmwWBox8EjO9FVnodCWsM9NfxlgDoPmsJWbOtqwY7OJrTUl6O+VAqzbmP7I4JQqoAivxqldVVorrUiRxxG1O3D3DLlE00h8uvbsHNHK3bmK1Cg3NjpVwBbvPMhgUikgFqrhEIug0xCBqpSQqlUQKlgC60TCyESZJGhSP2RWJ2VAlE7KmqIJNZrIHWfxcjH3fkQiCAUy9aPr1JAdfsccihkEojpHOzaU+bWVUOhmGuvVKmguqdPcq5fcgo4ItaOdrjVL4FACLGcFKxUQk3LnX1oHe0nI28QC9JckbR+V4sxCnYbbP08ynv2oXNIRBALWZ9I9odJVL9Edgmdg53gluxi6o9MpYZaLoGM9CJVKLl9VLf2ofUSFi0yGa5fIqkUMiX1nwSUNe+A9fhz+INOJQzCNEbnw9y52HlkYgHSJPydW3rrsivYGD9Adtav+2WXyGis1BooJIBMJoVEwfRzp29KGclK45pKb61yl5AsTBfs/CWdu7DtK9/AE2VTUCGCSed6/xRSISSiFDde2dxbdz5SEC07MDO4CB/JQQ1vyyITCSBcS3Nk444oYm6c12Wndrfby8m2SHYRjRPtwPbZMkjvAtG63rkxuusc6zpkHbrL5u9CJpmDtUQ5uvaZYZIsITLe/fF3PoR0LKkcKs2GLNw52ML8l2xYkFm3eZEUArITrZzGmPrA7EqpXLdB1k5GumS+o6J1cvIVoWANqY0rCgIR+ZuMycBkoWXjHCxuyMnuRGtMGTReXGs6tkwOjU4BqVhK28ku1HSu2/1a90UBHZ/ZI4OYYo9Sreb0XtjUgc5v/g6Ol83CLAliZHHjXGRbUtJ7dv1UWwPFlXW9q+/TO4t/NFZgt7zvOr5cSb6lhJ7GVtncidpqO/bZ0lh+8zpmxlxYoH0lJHUqlUQoRftu7LYpsLsqLD5wY8+WW31iC7NH8lPy97UNn7otOvVNStv15IwCiZx8UwENjbNiYz8le9yCGRct3J7URkrbdGoZhGQLUs5mbullPa5KhVny3+zGoxg0VhLm7yw2Upu7+sX0riAjEbLgwB7joNYi6o+c2uhUUoiYXm+dlwMLWJJ1XyD7UlLqYHGIxZctQcD0yOzq/r6x2EXbyObv0SMH1sskYjXNsJbYcdiSxNSFgY+988Ee1RBKWcymfHK3zdM5FGTATHYB2T0TVUK+xOUd8iU2/grqj4qNp0gCKWfbrJ/rsUXKHvu4q28ikkNO+7Nz3JGD1tE5JOxRGdI7a7rGZTzapiK5aZGRDtl4s/7dzg10finFLqaWTJaNOesLtVdaKKbV48lv7MWxjmKUDEwiKJEgtKF3CXVGQPlkS1H7rjsfqcUBOJccGPMrOXvk7IriDYt1gjU6/n0OwmSXfUR25uvrsq+RIXKyky5AumBjr5TnQyQ5gq98vR3HduRAOjCHGMWnBHcu4hJrtAipnY7sUbzG+TSzZynZJ4v3ahXphQZISCszZJNy0ptSSXYjTnHjlmWPKzGiSP1Rkz/d0vv6+DLewRqt65AD8Q4Wg2XUhouNd+lQyfI3i6W0zy1bZ49CSVn8oXFRsLEhzsK4x+39aJ2MHF6QXc/vt07z6bHOa/L37Ef7kR14vDQOb+85nH7zNP7HB3MIK22wVVSgucKI1QU3nBOL8NNJNq17ilnsUSYNObNU2oHi8v34wb9sRUEyCsG8B0GSRcL5I+XBVJoTZF39xCkZx3mQzbPcS3rPkqFsXu77sT4O0rwOFDXtw9f25aPIIIcg4UfCeQ43x8MYYY7/iCBS6qCt7kJjpQpFskVMvPc23nizG29cWoJbXYLc4gI0FOphWOiB2x/G1Jfw8d0H3fnY4pyPeljtHfj6DwqhSSaQXIlBX50LnYYcl4I3MmG4hq9guOcS3hoIwxO+3zzZFYguPPmdg3jua3Zohv4EL7/9MXM+FPnQ59Xi8ONtqCsxIk9NhQ+tFrBn73xLmLh6ChcGlnBtZuMeoK4E+qImPL6/ATVFetg0ovX2oOIhFULYMYUbH97A5fNDIE7GTTCWqnUo3HEMHQ2V6Cg2QUMJjmoncmAKMuk4fGNnMN39Hl4dAFZC7CTEoKlir+1sRtfBZlTnqqGnhCplLpIOwzs/iImB63jt4hKc/jjbYWtQUOVtq8Hh421oKDUjT0PBkVYL0lEkAg5O9kv9C7g8vV4gFrXvRvP+Q+iQziMjUcErzUWFXgo1YyDZFNKheYxevoYrp69ikOTQN3ahYc8e1GcWkc0pQ6KYgrIlBmEsjGX3+gNIKf8kXFM9+O9vDGNmmVk160EeqtqasP1wK6pIdqPijuy+hWFMDfbgNXKMJc+d+7J12/di15EjyHG9h5jEgICpC3VmKXRUEBBjBrwjeO9cL35ysm9jj82htr0Tuw4egsE/AUVuGRSNe9CsWMRaNAqHb71N1HkeS0Mv4acfAjOFbM7Ht/CfapMw+SMYGo1Am6ughLJBiJNeLA9cxcCH7+PDRcDJDQezpDxUNDdi+9E2Tu8mJSVtFu5Idv/SKGYHr+FVkn3e9RCPK8ptkJmqcYT03lRlQ6H2lt5jSEfcpPf3cKVvCufGH3SOJqi1x/FHf1qNasVVuD5uzgeRMGgqUdPSiAOHm1BikEJPAZxLkIkA6bwfY9fO4L3hCBYstVDsegz/whwmG1TBQUmoUJnEmpeC3/QUEoXN0BpNyJXG4R87jYvXhvDyRTYVl4lSDmPdLhzvKkRdno70zcaQhivmRdQzjatvfYgbY0sYCTMJd6F1ZxWe/bYZoaEwxGIF9BU2bgK9lOLKWjYK1+BZXO4ewmtX1o9f0dCMvcefhJH0rrTkQtJylPS+AEkiTPbHNUHMfQ3u0Z/gpxRfRpnTbxaMJKiLUVrXgD37O1Blk8PC7IQbqyA8s4MYv/oBjVUYs94UYwnA/mewva0B36/UAyY7jHo1iinshWeW4Q+E4Wb7Up+vXLuJ//qLSxsn2iRUNggsjXj8QCPaqm3IN7A+sRTN4m0CIYp1Y90DOPvGNY4kczmJPSy87xl01uXjB1YP3l42IKMw4lCtCTLaLKKIuAYvhv76dXRfH8c5tk/DMbS2lOM324DuHiKCQjWauig2kV5kAvaAfgTzZ35B24bw5jjboQQl1bU48Ew7SnJUMFNRwY7NaEqGbCsRWFjX++AsF4fsB55Fe2slniayc/V/vEPHGQN7Qng9MRlpKcfxb+1ES5UQZu9F/OM7E+gd83JbNw11JYpr6znfKjXKYZKzwpGQDMK/MMr51vtDq5hwPWDiwbPfx/4D7dw8sVP/4ccfO+dDaiqApnYPHu8sRgvlLD0Vv4zOZMhWEoFZ9Lx7Dr3kv5QaUXvsK2ipr0aHcAVJcy4ERHINCGPmhhORlBCmtgoYpDFknONYvvQO3ugPYNCx3rf8zoOob23DXooRBoWQigo2YhmEVyYwfWMAH75+FbNU2PqRS+t34tnv5aKhRk6+FYKuNAc6G5EaMhgBK6x885xvvXpxHjen2eVT8tmvWlBToURgjKLKkWqUluigmHfASwQvTPsAAUz8w1vovdCHD+ivTT8Gf9ecj/TkGPwuH0LaHEjYxcBsgkzYi/Fz7+J6dz8Xg+9+oiSvfT/q2tpJdvItkp0VC0z2iGsKM/0k+2vXMBNPwmfMI/s9hKdrJagxqDCzUoS9u3JQWyhGZH4Fq1RIxLKUpxIOdP88BI9HjLrfLUR6+E1MXruKV4eBGrLPjp0daM0JY+Gn76D3w3GcJhvf+ewutDWIoJz6e7x1JYybnhzS+14c6ihFZ4WF9CaEkPwtkwxTmJjFzfcv4HrPKAZJ70lmNBIt2WMV5a1WbKN9SihXy4lAcy81IFuZvXkeN3tvcDE4SjsY8kvQ8OTX0aFfRY4kjnlxEfJ0CtgoFjFkIstYmRzGpddPo5/yz8KmqYecFhsOf+cFHH2MYkrmKl58+QJePT2GlZgE+vYn0LZ/N/5gnwzuk/+Ei2+exC+mKK48wFU+EZXbUFDfgG/UZBGK2KkQycfxw1aIQ0GE3UEuTmVSHngnR3Hh707ihj+EOc5LVcht3Ua8qxUHq0yUe1mhyQYyScUQ8Y7+Prz5wSgcocRDvjiGRSsbOp44jv1Ht2OPIYg1gwWxNR+kxFV/+IYDL11Yb/koIBBLISa/sOgl0MnSiHl98IXSiGSs0Fifwde+3YgTB5KInP3f8dOTS3i5e2PHLxE+wzkfFTBa2/Dk1+tRU2yEnYxAKggg4KOkuiqAurAUOSYFcuQpBKmSjUYoEd4ToZly81HVVIraeg1kD7zzwdKoDnmVzWjbswMHO/OQI44g5iJSG8xQkDbBkpeHPHbvLxxBeNGDMJ0jLbJBTQVIZ1suclRprIWIRDqp6KCEKTXno6zACFXKjbR7EgtkodG0BWp9PXafOICuGhNKZSF4F5xYCcTgywohVSkgoGQZWxrH8AoQIkeTKDQoaN6DHbtbsLfFBl3ai1XPKpa9WUisebDk6FBgFCPhXkKMxm/z9QeRHZLdXt6I1j27SPZ82OUxJFYWsBykyl5phCW/AHnEa0TRCEILbkRIdnNtG+r3HcbuciMKLFqoqYhK+pxYjROlkNlRXGKlZJuGNO7BhCeBBBUoCqUKwtVVqA1EXopKkCfwwON0YHhyCV6fn35fhtNB5HDWj3A0BbFMifzm3di+qwX723Ohz3gR8gSx5M6Q7Lkw5+hRREVFwrOEOOnFtxEFypvasf3IY2i0i5Br1UOtoHIl4CInilJgy0IQcWCWEtvwzNZecKDSaKFU6RD3CqCkhJNbboc+PgoP9X102s/J4nLMwLE8h4klMhkju/PRjCN2JezsxQdUT2aiK9SfJFxpAwpKacz1IiICIUwsRrn17ApwftNudO2i4NdFRXHGh7A3iIUVGheLnWQ3oDhHRrIvk+xkR5uOgIyi6JBTVIdmKgoPdBWgUJNEwjkPx2oGaZkelsJi2HVEcOIxhOZWECW9J9dZ2gZskMoqsfOQGeaPvfMhJ3nNqOrchZ07G7G70QRxYJn8N4DlsABaWz6sZD/5egHCSz5EdfmIdR7C1+tMqCS2kgr4oM8vhdluR6lVRcVtGiKlEklrGUp1CawFgpgacCKlL0NefTsVN9uxrUgCbToE54wDwbQGUoMZheV50GeJxlCBOLMcIxLXQsVQE578ah0KNGoi+AJIUn44V6KIkf/qyypRaBJAFovAPzpHpIE8RammYktPel+DXEM2XFMEfWIcAfKV4albep/HyvI0xojABDc9qUcMgUiJkpZd6NrZjsOdhTCQzUfpuLNLCcisRH7InovMYsT8fsTCVIQmSI+UrHRU9JszUXjleohUchQoMggMT2J5dhETlEC8rmVMk82PzW7xAWKRAUJJGTpa81BioyKYClOnK0TnJ2M2F6HQroeZiKvA2Q8ncTnubVqs+Ogg0trWhO82UeLX6KGlcKyMe+FyxRAgf4QojqUbE1hy+rDEbLJiJ+mlGV/bUwaNgo5JVYdeRAXqSgi+1QglxzS8Y6NYWvBgmqtwdLDm56FxZy20pN90wINFhxsxEfm9KQeV1XmQRZcRodg8vEJjaGtHaWUdju0tg3hlDKGAE0P+DaaptgFFO3D8iWZ0lAihd3TjOuWKeYpfmwMFQ/Lm8layRea/7TbIIysUuzyYD1L8IP+15phQbBYguhJEhOJ54P5rZjVtKCnJ5eaJfeydDy35Z1Ur9h+hGFlGOVAYhnNqiQga5RGNGUWVBdAjirVEBFNLIZTsPILm9ibsK5ZRrqIQk6V9aqqIaGhhpapblfFDYyuE0WRAkdiHwYUQZiKksKIW7Ny/E3uai1GljGPV5YKHEk1MbkOOzYQcowyaJNlDLEW+z54T6cChp2qxYwfZhVZFOk8iGV7F3FIUUgvlrIIclOcIESYdrjrCJLua7DpF/iWGT2JDaYUBVnEc0b5RzHq8WPB5ybdIr0NTWFzxc2/9uifFfxpwdz5Ksb9KD1buCNJJhLzLcAfXyN8p/pSXwkL5SpGOw0G+HKeiJ6mkpFfYjB37dmJvaymqVDEirG64KdHE5Dmw2sywE/dQJz1wRRNYYb6o1MEsjkIiFWPVTvvkS2HJhuAYnMCCm/iBl4iuZwUzo6RLRQ7an2+HHaNIU0HWPWtF/Z5D2Lm3A22lOsgcYwg6vBiI1KHzaBu6WjQwLF/EqN+KkK4F+0jvOyo0yJdG4aJYF4hLsUZcpYBinUGUgDgZwTSNbzKjJF8oRv2ufdi3vQwN1Kc19xzJnsAq2YCR4muOgflZCqFZJ/csv4j0VH3oKWwn/2ksMEBDeUsQ9mE1EEJAaIPVbkGBVQkt8ZvlYBwL/s36iJqWSrTvaEJzjQzylVM42zOFa2NEvjNE6NP5kMkK0NVpgyo2hKh3DNcpt5CJbQ4KHeQyCcyCECJaKyT5djTbBIgtELebnMMcxVa3x8XdCZuhoO1mk6mVWijK2tG5uwv7O8pQpSZbJL2tuEOIKSgGW/SwmxWQUBxbjSXgCW99RriQbExR2YVde+qwo5g4RfcKEjLyXyPpYOUs+j/DOx9KrY7y8B60tlajscgIg8vPTR6/J11nM8jGVhGi/OIhrhWIECdIE7cVyhFXVKOW4nhtWRapufMYnFrFyJfwrbEPuvOxxeKjEDpDORGcPBRZM1CmF9F78mW88eZVvHnZgai1BrnF+agrNEAyNgBvgILcPUTsUxQfAmojLkHHvl144ul21ErmMHPpJF7/+at4+co8VfVkwLk1aKzLhzHiBaZHwG4AROIqSNMy2K2UHCd60H3qNF5+txfXl7Lwy/JRXV2IHNkSEZibuElKCsSqYTDuwbPfqEeFYh6rve/gZ//wDt64OIhzMyuUjCPwzM/DNUuOEAAFQEoIRNS3feMF7G2zoEY4id53XsPrb17By2cX4FLkwVxYhKZqO2zBfgT9AYy4NhmWBezWSzFad+3EU893oU46h4Urp/Daz17GK1doHKJUSOXWoqE2D6Z4AMLJIbAbP/KiGpQ00ljlGqGLuhAZOodXX34NJ68vo9+vR0FFKYrsUti0EVwaomA7SeM4PISBERdExnzUNlfB4LmA0ydP4v/zN2/gwsVruNQzgt4xN1d4MCKm0Jqx7Wske6cd9ZIZ3Hj3NbzxxiW8eHoWLnkuTCR7c20+coKD5Cw+DK2sy15QWYva9m0ozbVAlaCCZfADvPU6jfP5frw3uIiFqXHMLbpovDd7GWUdAQpE4wOjGBjXQm4tRksnVaUTf43T77yBv/iHa5wsV27MoX+GCg9mi2zCeQ0VHxTE8wR+ZBw9+OB1suGzozg1Dhgp8RUWUDFqlmOA9nO5I8ioDOj6Ksm+rQAt8jn0nXodb75xAT97bxorcip2CorQWl8M6+ogon4PBpybTcdi+leE+q5teOabe1Evp8B74zRe/8k/4dUrsxgNyiC2UcFfRbaFGPlWH+aosA3cM1/gUxQfQiNk6ioc//oRIi96FEYG8eErL+L1dy/jtV4nEppSWKnIaWvIh2RyBKsiBWaLWnG0VA710jBmX38RE+oaCHMKUV+ohv/yqxigRPuesBZNVgmUviBWrk0gWEokd+c2/MbRAigWruDmqZP4x79/F5enE/BJzbA1N6KKCI8wTsG8Zx5xVKGgqgTb9xXAqgwhutiPntdewU/fpJ9LVHwVNqCCArSNihjFQC/mKLfOuH2k9wEMjlHi1BahY08+BFN/g0vvvYw/++8beu+dxo2prRQeBIESYokde587gf3bi9GsJBt6/0289cZZ/PDNUfhUedBR0d7ZUQWVdwIx7wqGXcRaHbNwD97AhSvXcUFRhDWTHgcsJOf/9UO8++PX8N8uUd96RrdeeDCkFRTw1MjLWUXUPYSb71GMOEnnHA0QKS5AaWkuikxRWJIXMLACLFH84oqPuk6UV1TgSFkBjCmykcluvPuLN/D6yUFcuD6OeecSBolYL1ESj7Pio7AJJeXlOFBXAItqFWveIfS8+QpefKsHZ64MU/tFDN1Yop+JjaS5BoVaCDX5zvzl07j0/gf4+VvnMOwUIqGwoqa9ESbxAqJULJ3v9yO6aiEiRet31UArGKMY7sTVkQhH6kX2Ish3HcFjLSrkxaYxdfJNXJ+Pb9yJ3AQEWmL25TjylUM4sCMPldlRXH79FYrbZ/DzKwuIyGksCsvQ2VYGySzpcXkRo3SOewqLT1F8iIr2kP/uxu8+VQa96wZGPzyFf/jb13FxPIKlLBVlzS0oyxFBI4hj+NoUTI1dREwLUGeNo/+VKxjvdyBe14b8fPKj+CyGf/aPWFKUIWuiuGBZo7i9jMk4EbFd38ALu8nu9ET8L72F1155D29R7OrzqWEqLkFZRQ4aCkIYm/NjZpHdC6vCtn1FqKtTI1cXxPTVD3Hm9Q/wd6/0w620Q1VQgpa6XEgnxpGcH8VobBaz06MYXIpg3NqClnIJ7CujGPrf/wt+9uEl/PxiD/lWP/qp8GBcZ9OFBwNXfJRT8WGGFivwzvbizX/4EeXeWfQ6BVCX1aOkiOKEUoTV7kF4E2ms0jgodn4dz1EhvN20CueVt/Hmq+/hjdOD6POqKAYXo5xyb11+CJOLfkxNLCPrnMT86DhGfCl467rQZIlDN9eHk//xf+CV0xfw2iXy0asjGHVFkbHqiQw2QJcdQISK5osjFNO6GtFYnwPV2hpSq/1wxQLoWWlE0047ymwhrJ6/jMFMG6RV+/A7J8op/g9j5vwp/PDv3sC5IT9mExqYGxpQliuHWZbCcM80wmkrTKXNePY3HkObLQLh3GW885Of4LXzI7g0k8CauRbFJXZUWOSQjd7ESjiBoMqKwradqMm3Il+RhXD6Gs6dfAevnOrG+XklVLY8lJXbUGGNEjn2YXhm45b/pwYrUluId1SgtpISy8Iv0DNMeXVxfSvC+TBJC9G1vwDqtX6EfMO4RAUbhYnNYdWNyNw4BvonMK8rgpR4yW6DF6MvvYk3/9vP8TOK2acv96F7aBbzHBEXQGbKhfXQ83hyZyn2UBxdvnoSb796imS/if5VPdR5JaiqLUCtwQOnK4jxeYpTG6fbFIh7yaz5sB87gb0NWlSmAuj+aZAKPx0slVkIHGfRN/bZFR96ay72fuV7OLyfCupCFeTXhuEORbnX/n8yBBCq9ZA3d6Cj1YJafRjuaxfRN0F2v8Wbwp8nPpcJ58nVeThnuvH+4ApGnV5KJMu4+u4YBodjCOmo4t8hhnkrkz8llFjzG2DIz4Nd6Yd34F0MDg7ghjONqI8CMBGKM+8SaQ2roSxTo3QHkW/2NBcFsXD4Oj587yzeOz+EGwt+RBJULU4tYObsBJY8KcQkQsiNpL71u5W3IRQLIJELuKcsEPYjPjuC/rMf4nzPOK46gRBXTBdDJtmBapsZxuwUlkbfxvsDCxh2eJEIL2HkZD8FFxdW1owwVddDn5fHdtocxFR45dG+BfnIVYfgGzqFocE+Tvawz4HpmzP44K0FzAfJWEs1KNtNst+eBEVMNOOC82Y/en98EeNUCS/PT8A98A45pBuemBxylQVCdqmfA3PRMLLZGDLrj1d+AgohEe1Cpc0CM2bhHH0TZwbmMLjsRSq6hNH3+jF0bQXOrAEGKjYMBQUb+22AKniEnBjrHcHLL/ahbyoMjzuA9NIMZmYpaDzy12cwaSMIzoxg/N13cXPci/mlZSQXL6NnZhEjwSxEai2KxWLYqVgWC/dQYLfCKpzHytjr+HBgBv1LPqQSyxj/YABDl5exnNZBX15LRGYLM91FZJB2ImCUQAsN5D/jpzHcTwW0I4sgkdoFOt+pV2cx45FDUqhFxT5AyZ5K2Sw0FohK22DP1UAenaCi/iUi5yuYcoWQds/h2gdT6LlOSVVuRU4bFau1bCcaq0QIYTeRmZEAzhGT7Q94kYmsYG6AEh0F5IlEEhEhm1cjhJaWgtocFJQpYYjNY/z9Ady8PIvltTQ8zpsYnLyJlyZDcCmpDRXzB+kMtyeyZtMILfRiYLAbv7jhhCPohHN5CR9+QITIs4a0npJ4DSDl/P1zhjQHAsNuFOUSWRAuYrHvZXzYP0kE2Ie1jBMjp/tx4yytz5BPVFcgrzJ/Y8dHAT/W1m7i2qULePf9G7g85YcvEkDY4SCSPoSFhTBWBSLIaWCF7HrPPaBgthaE8+p5DJ0+j0tTPnipGAgFlzExNAPnauTeq2+cr6Thn3gPA91v4uXrTiz5fQgRkWDtF6j9HaoThXt5EudffQMXe8cx7lw/kp/yxMLINUy71pBc01GRzIIWFTeRcUQ8Y5h1CCDV1sKWQ7GD1rN7FRatHPvryftEYQSXXDT2FOFZEbVZqMhRSjqRwy7MZBawcPHnuDkxh7GVKNb8c7h5fgqXL1GeEZGeGxXIb6aeUdc2C2ulGYXVWliyy5i9MIje05RzMmtwU3E4PtWDF8d9WBCbYCMydZBOYGc7pZMUF73oC87jrH8JE/44ETs3XE4HTpKvjRApDrJXQIkpZlNystKYHG3IQ6mMCMfUGP7p7SEMLATgIT9ZvvEG+senMBGWQ5nXgGq1AdV0ivWHHUnrpGP/2Ac43zeMs5NOpLJkw0ML6LnhgSejgjRPQsU0d5pHisDiNUyNnMbV5SRWPMtwLo3hxW7Kq6tSyCnfNLcLYbECJo0Mh+tzUSaPwjczjhffGcbNOR88ITeW+97CwPgExoJSKHLrUKU2goWuW2k+TcVDIJ1G4vaki/uxjER6huJNAmlREZT6NvL9amjVa5CvuTC9lEaaCjVDTSWEjVbIDJQfghTDhtaorRFFdQZYBStYujKE7lOjWIin4Sa7npq6hlfGPZgmcm+x5GM/xflCUzEUxTUoslFh6OjBeM9pXFuIY8XtJblm8f6rUxieplhnNqJ0r5C4wEYXGbJ+hBcn0P/jD4lrEA9weuAdeguz7AJeQAixwgKxdCszj5mVqCARSrn5Jh+1/xAyWR/C8cw9j8A9DKLZLEIZNuftk5iHAjpKdHsqc1EqCSEw0Y9XTw7i+hTJHfZhufcN4pvDGA4ooC5oRrnBjkrai8WPTUNRBZNtH55uLURRmnLjzXdw0hWmgn9j+2eMoNuJU3//f+HP/99/hv/1L36OH3mCGNvY9smQQ0sxbW8bu3BBunI5MdSdhmMrjxV/QXjoEJOKOrkK2OEnshInp02E4Z1ehmclgqhIA11+EcX9LTAkInzIsUBu0sGgUkFDpKy64wAee+ppvPDMY3hyfz26qonoKZVQaCRQswTL8WkRcTgVDLnlqG3biYOPP4GvfOUJPP9EJw515iFXyyYyUVuyzHXnciORGsbEvAuupB7a8i7seuIoHj+6DQcp6eWKVpGJhYi0U/DiLu9oIRLkw6gih9BZoLE1oW3XYRx/6ji+9vxBHN9TjvoiqsQlUqh0RkiV7FbmJiGiIGA1b8iugJZkr2rfj2NPPcPJfuJAA7bXsG1KKNUSxiW5x4Y4sFm18QAcbhd6ZymBhVOIRkK0aomrqMNpIY2PjGS/pfp1UkFMan0i3CfFACa7sABGGnOdzgxVTgNadh7G40z2rxzGE3sr0VhsgEr8YNnX6BypkAPLjmXcmPNT3ygRJFLIxsIIRxKIJT6jiPZpwaY7pYnUON2YGXDA5U0gEoshHXVjMhDGEgVZIcmiJkNRQAOhgGSnMddRUa20NKBpxyE8duI4vs5k31eFplIj1Ex2rYGb+L9pEHGHxQS5WQ+jQgpNTiXKm/fiKOn9K888jqcONWNXHSUwrZIKSDFtX69TNw21EoI8GzQaBfR6K3TFHejcT3b19Al87emDOLqtCDUFGkhFcqiNInaXfN0uqChIxZMIB1NwRVMIJBNYS8UQDiQRDFLBkMkyS+Kec5bSYjWrYTFqIZdpkFPdjJaDR/DMV5/Bc0/tx5EOshW9GDo2cV8qh432WxeF0tDa+nwF18Is5tmjJCla/BG4BgNEdrPISoSQaek89108+FygVkNQUgyDgchcyo/g3DicVDD7yF7X1ogUOkfgYnc54nIozPnQWZgkjwpC8mMpnbMIFY1d2PfYE3jmuSfwwlO78eTuIpRZVVBKBBDLH0AmsymsJQNYmVzG/LgLnjC7lR9HOhWlAiSMeIqI1kbTdbC/IggMLlKyX8K8L45oMkntiShT+wi1v3PPUgSJgmJpfjUat+3B0SeO4xtfe5Zi8F7saSmDVUb+JJFwk9e5EJwm4utfxtkxH/yiHFjtRdjGiKY8h2JcAdpKNFAlaYydExjwE4Hcys1RBQ1Cvg0qvQp6Lflpfitadx/FE08/hW88exSP7Syj2LVu8yq9ENR9GrT1XTcDk0GFHLOO5FPBWl6Phv2H8RSzefKrx3bUotkohZFN7pcpqfAQcI8bgc0xSyXgT5KNJ2MIEbNLxdlTBxFMkK/5iMSmKK6vMSWSXymJGZZa1dCptdCT7ut37MORE0/guecexzNHO9FaaoFNRQRSpYeeAsQdUUhHET8VgQMUgynfheJkw3GsLqzCM035OiuCQCEAdX1Lsm8NLLCkyL9dCKw44YlmEU/EEPP4MXeN7MItwJpWBXuFgPQCTvYSixp6kl1nJuK1fQ8OP3lL9i60lVlhU9+RnT2VfUsUlt+S9L+PJ7oUy1KrRGIpT4pMUNlKoarOhZZiTSq2ikueJPxSM9R5xRCUGSBXUM4MhzESoJgkV8JmIb1LVTCX1qB27yE8+ZWn8dwzh3B8dz3arApYNBS35WQfTIcGLcQ5ZhiUEmjNRcir2Yl9x5/CM88QV3l8Ow60UhFrUXEvZ9FaKZ7eXUuQnYSCblyfWcGcl+yEeFcisAx/KAhfjGQTUn7fUnBkIyXm4vetT3vcCzaxPkG2uE4zPgtk2N0kWlgq/njQWEvyUGzRQCuk+ORzYGzZz90NSqSJN7C5v24P+sN0HCo88pRasOvdtyjRpwMLkArklpahuaMG7foIEjMz6Lk8jdnV5H3TBj47JOMxOKbHMDowjP6xOcwmkutz834JNAWlKO7oXOcDiRks91/BzeUIHA96UOlLivtT0qaRTvmQjM6RMW5kBHZ1OxzgnuOOp+VEwqoglW8hIYvJ+o0SiFUSKOVGWOuOY/fjX8dv/cbG8o0uPHeQjHGNEh8FC/ZIBXEfImNmGO2t2Pv4s/jm976Df/GD7+L3fueb+P5vHsXXn69DVY5y4wvQt7CAWOwyrt4cxZBThrWC3Tj07W/iu7/9FXzv6d040JSL8hyqqKlYEXEOKaH4r6AkRQnKUA5bzQk8+/xXN/r1HC3t2N6ohTQUwGqQEjQR2E2DnYjJTidVSnUw1xzDjsfuln07XjiihUEYQcQfRYDJfus0LJHFInAm4uinP289ncB8O0YDlGCDtGUwd1ZwV7YV+lJYqk7gqede2OjX87R0YGeLDrKQH+HVOAXF+2Qn20iGPZRMg9yt+s3erf3sQWORpMInEMMSdYhiOAf2FhoXRVj/erW5AXYpSEmyMzJeDFPFkzjxzC3Z2c9O7GmnooOTnZJYbAt6ZxFfL4FII4WcCmhz1SF0Hr1L79/cjW8+oSfyFkOUyDjT+5beiS+n4tYsA/tokdZShYKur+PEVzbO8b2v4Le+WokddWIkvT6srqZIjxv7bQKUv0gUKoxlaoiUuaj6/7f33lFyX1ee37dyzrmqqzrn3Mg5A8xRFCVKomZGu96x9w/v7Ox67DNnfbzj8VrjtXc0Hq99ZmftiTuShhIVSDEBJEgQIHJoNBqdc66unHP5vl81iEBQIhogJErvw1NSo+oX3n33vvvu/f1eOHIYj9yQgz7fOLgJT1vyUGXiCCWovuicSrBLoUEpi1TQL8yh+JgkCTqfRZFsaj0irxsd2XyDDgptGVIKDLPhOEq5G2E5a1VTyBdmEEtSkC+3QaGyVn56CEhklNgZ2rFpHyUcL38D//x3f4t83dfxz771BOmxD70NJgrA1g6+E0o+QO0w4C8g+Jle0+cpNIkhMZSnz9pXn4JYYYK9nhLl57+Or5MP/uf/7GUq11fxT3/nq3j68E40UhDJqvUmaaxEgjh6iQ2z0MDkdOJwkwJOaxP0xka0uSQoh0exuDCEWYpS1tW/KlhiTzavkEFrqoZz41fw6LM37fFbX+nA/g0KFEMhCuwowV7nk069lBJqBUXvMhvq9uzDAbr276zd4+XHduEFRwnmfEKYKxMn+/nUkekU3RXIV7NA5M5cS0J+QiOXQEq25mroxrMvv4hv3JCDPvvb3PCI6R7hGJIUzNxMIimhpPYWI2eXS93oGYhQAeVVtgogBW9rXz08mI/NUXBPCRcr0o0CxKiVX0kgGyghTzpTO6l9UQBOXQ/1iSS72gJ7XSee/tqXb5P9YKcXXpI9QrInsvlbZP9ssJXn+kNJhKmPV7sccPSaYNCVkIzGcTxIdio2Qm3xUAKig1ZK10/F0U/1lpZJYSK9i8kH1Gzfjf1Ulm+ulembT+3HCx4JHMUkgpEEYqTbvJaCfBMlSSIZzL5NaNtLPvEba3J84xF860suNDuLyIRiiFDke9umdtS3x6mP76e2cOugzRzZS5olqWv/Xh+V8+9+DZb8SoRuivn3h4eZ9O6BTk11JqbElNpPjMp5a/wwn8ljKJ1HjpI7s1wONt7kXtIvkVgGsdKG5p5a7Nphg4uc3Gz/ND66QEk5m1z4qwJbSY/6VHdXD3oO7UKvp4DS/GVcPv0BBqhNf5E2SV5PevyQIYOKzWLh2PdxYmAZp26MP7yFQtoP8gHwRwBXTxP6Dh3Erm49NLEJDF2+jitD45hetaKoIWf1O5tB+rqNXDKGqeOv4gdDV3CuthW7dnWi3WeBu3svHvU1oOH8UZw/8S7eHgECt/js+PwpzF15Dd8/BSzeObyyREaRCcMf/Cx57KeRJ4e8iMWj38PJqws4cZdXasXMKlJ0C7aiUw37gnmNQhFZckJsdMK9Ot/PSmLxDJau/Aj/SLLP3jlHnL1FIdlX70v2X12SyxcQuPKKoPepO1s7JX9M9kAouvbFeshTgBvA7Hvfw7nLkzh6lyWoi9kQGwWF+fXNzyeYoWQQGb+Ixfd+gtcngOk7i8zeVCVmEaztA/asfXev5OMoBJbx3t8excXhOUyufV2BlSGPbChCgRi1LfrUsq85nwlzXRVaHnsKO3v18ImXMfPhNcHXjS1KsZxsx9OUELe5Hr6T12zcjsY92/F0jw6lmRFcvXQd5wb7MU9Jjrm2Gwe+8tuovvPJwyolmu9fwkrXXsQbnKjZ2wNNQyckbBKtfAVj14JY6X8Qj/UywpCVVfKpPxsrYeguiVc+MYcotYV1P6cpUCeRCOCjf3gXZy+OYYy+uv1S5NdjMQp0C8LwELYW1bqITGJovB//8ZUzFJzekZKXyfNTEh+eX0UYtoebsD8MItMYm6rIzja8uw3yW+SEEVlgsrPa/uwUKICNTIYR9ymg9uqxs8YEp3QJ6ZUQImNSxM0S6GwGHDGq4CnOIhmne5DPZ29YUEwLej/34w9w+tSgoPfb703JSiKBeCINZnb1glaSWL7wJoZOnxV8cPKOwrIdtfN0zjKdIL3xDLdURIH6+AglHw/2AR4rTwr5Yg7s+Yr8ExmIjpIAM7RKsTAs69cJidYIXedBtLZWoUk2h+F33sG18SnMQ/25xVDrQaoxUTmPYOuWDThcXUD2+gf44Pwo3hgCor/8p7n3xH2/+ZBI9ZAqnJQJrz3KYstMqrSQsXWqJTnkM7PI5+514hPB3u2tZFCIFZChxp3LzGNxbhiXrwx84jMwsoKJRepWcoDVbkJTkwcOeQwLk0N4873TOHGmH2cHZnFtJiGMnS3ckbWXCnkkVuYwN3wVl86cxLtvvYPXf3Yex04FkNTWwdfajt6OamjVbGAIG24RR5Yafz6bRSYewsjwyCfLdXUI/aPLWAquo8NkvZ6fZI8y2csk+wKWFu4u+9XhZYyT7OlbH4/ROcLrTPZn5ZsHBMmOGDkmJjtbLSWMkZHRT5ar/zr6R5aweGum9oWHKrgco06+IMieT0UwNjp2F9kHSfZFLKwtVXxPsHEBq6T3SJ70LkIuu4SVpbvYFn2uDi0Iqzet562EsKPdYpquTxplS1YnxzE6ev2T9yE9XptIfLxU8b1A5ocANchwnmxGnEVuaQrLQ3dc/8o1+ozg+uzKx8te/8qRorpaoA6ZCleUKSDTqSGW3hhBzxyJC1KJAxplmWKeBIr522dKfJ7ojTq0dtbDrcshtjiG19/9CMc/uowzVyZxeSyOAJU9z/aEecg4vB7UVtvhk0WwOHAVp4+fwYdnB3D+IvmqqbSwQtvaNi03yUbI510mX+bHTF4DS2s3ensb0OXTQBWZxdBcDFdXCr9geMbPgb2JZHpMUcBWzCCXmsTkxF1snj7XxiOYW63Y8L0SyuURYMMRJQXk/LNYHR7AlU/cYxjXJhcxQ+19PR6SDcEKU8CdK5AfigYRvTqI8Tvv0T+EywOTmA7HwZ4pPHwr+KywNiSjGILNVah8I6CmNtaggswogpR8biZEfRr5OrZ/UCRLdVvIohAPI3rtOiY+ITvplWSfCsWFB3D3InspQfVKiS57oCfW6NBiVENbXEF6eRi5oRXE2fM0tR5dZg0M9H0qMYksJXpsMvwqxQNFMSWWgXkESe9X++8oF+l9YHwe09R/xiM5lFazyJbEyOUpsQmO4eoA84e3n9N/bRLXpwsgUW5Chsl2SGD9+4NNKlkQsUTlSVA/x/b2qYFUxgbtrWEh3+fRQiXPoxQvIB2gojzYAnwKMQqJVoVRJKUy24NKRSmB6LZhVTbKhqqVUsgocUoWKTGj7+7l2YFCrYKvvQlerxMOkwnmuh707juEZ7/6KL761Sb0tRqgl5ug9z6CLVv249GdrWvx4MNDbq2Bs2MHDu/fhD53GbLFS3jvg0s4fW0Zc9TI1zUK4pfIfScfUqUdakMzdGoNGYWUOmYFlA4HtCYt1KIUksERZBJ3bDJA/kYsFUMsFtGf9J+IjTO8sR/HGiz1niYnQAlITEQGX+WA3mGAhm1GJ2KTwiXksJRQsw3SFHJhhWomjE4uE9a9liSXMTo+jqOXpjAaLCGt0EPnskCrkd6etUvY6zYNtFoVNOIkioHruHDsJ3jl71/DX//DRfQvllAyVaGqsUnYaKsy6WoJYYr68lIHdLZO6HV6apBULiaLhBoA2/xHS9dUStb3hIAlXjMhcnhp6jg0UAqyG6El2dkrd0F2uZJyPJKdbdpFp9yvIpmDFjpbqg+pRAIlXZDpREz3krGNiwTFxFESZE8jK7FBZ++CQW8QXoPfkJ1t1sg2fWOyKx760xEmANtgiX1EZGNqkoUCRvqWjYEVk1wyMrL1vTJOkONbRCSVRkZsIb13Q683rslO17whu04LjWqdsrOkcz6MzGIK4ZIacpcdepfpNr2zzbVu1fuNMPgGbNqIRFYZs0v/W5Fb+OsWommUx/yIkcPKsbHRdS4KZFVQsv1gCLFUJtg623xQTYH2eibusY3g5qjHXEjkUNDo4XJo4baQb6B6EYuo7ZOdsc27tBqVsGHW/cM875reJRS0SKnzpG+Y/Qp6F+4rHHhvxKiuRlldFZGW66B1uaheWF2xmicZ1C3Q6eth1rBhIxSMxNf9KuqeUVMZvJQMKbIhzM9O4I3TFNQuZRCVUDmrbNCy+W0PvQ1S8kH141JR0JhYwTgFwVfIB88EZchL6qju6mBi8wruNFzh3dcwhhcoqQ6KoPB0YGddFbZR7JOdHcWlYBxXUpUWvi7YOKpRCh7DpEfqCwz1bujN1K/csHmyR+a3NXrqt8hYbg8rmOGQzyW7lQrOg/k6smHqw+40qaVIEnOxDLIqLex2Hbw2aq/kgCR0npht6qlQCxuHso0c12OOjDT1jbNBNvREQX2PGZuMGjjJ4UgFA2d9A9uvSA29lm1Ud1vLv3cEl8qCXZKZfIFMT/2l0B+QPDIZ+SXxJ3zQvcHKJ4eC6l1DAT3r36Xkf6RmFXRbzNTHiKgvzyA8DWTIRDIUYc2SLUQpCNXpTNho0MBFRn677JqK7J80MqGTKzOPSLGKXMXmP5JcJIuUdM5kEZO/wtAqMtEySnItqkh5svQikouDKI/MIhEpIifTwWci/8ySj9gEyqUCVmJJTJPuMxRLWG30u51sSU5lF/w2xQRso1XSu4YCVnY/+OPIz0QRypAdmC0U1Fqh15A/kbDyUDlk1HbZBoLMVlj51or/+cKeZM0gkQ4jnlFDaeiFTusmnbDlxinGqtZC10rlkSSRWs4hOEumcb+vBVjQwWyMYg0p9aVyNjySqof5bCnpiLUbEQLIF+bgD1PfW2T1aIGb4jUD6VfCYiGlFvVkP91Uf9JUlJL/tDCs+16KxuI0p5muRXfLlE2wbnwS+575Kn7nm0/SpxWbOqifVJhgrH4CO3YcxlN7O0hfDyn5YHO9ZGoY63vRtusIXtjhRE15CiMfHcMP3qOkderOIQtfDO7TM1HGaPLB3bgZT/f40OV2QK13Y/ORJnS0qaCNBjD3UQGBibWD15CQ89JX0e9mcjoiatwyD/QSI+z028eNjG38E7+AhaVxDPjl0NQextbebXi8nU3SkkJlcsDdthF7nnsUh3tbsZVOYVN82cPjPF1FYnCizmnAlioFtO5mNG/twuNPNKLJpIJeuMEajjroNx3CU0/txpFdTWj06cB2RNY6jXB2VkFnIudQTiKbCqBUZM8aFpHOX8T5iXnMZG2wNe3Gc3ubsbvJCANrLFYvfJt24MCzT+CJLSa0C8uZ3CMlcgLxS1hcHkX/EsnqO4gtvTvwRIcNZrUMSqMdztYN2PPsIzi8oR3b6JTbZFoHuUIJyQIFBRYfaux2cuoS6CRmGA1WVPv0UApRzBKyhQu4ODWP6ZQZlsY9eHpPC/a0UKNkzsJaBe/G7Tjw3JN4fKsVHeseT7Be2LOOEDnEGDkrBQzO3fBae9BADkqtc8BoNaPWCUoUK0ffGyvIF8/j8vQcJhMkb+NePEmy72+nOmIO0OKGp28ryf4MnthqR/d6Fj1i4/Dj/VhZHsKFuTJk7j3Y2EP21W2ngI510BbYm3qx46nDOLy1G7voFOF1/y2oDVK4GigpVzPnrYFMRUEWJWC3rX2SXUIhfBJDs8tYLpG99nwJR/rIwZKeWYKjc9WjZdtOPPaVx3DQbRdWy7lX2K7aictjWB7wY6bogXPvHvQe6EWvUySMiddZ6tG48QCefmI3dm5qXDtrvbDeK0x6jyKbFVPAsh1Vto1ooo5Lo6UEzmpFA+ldw55Q3Cu5FZTCJzA8u4SFvAtV3c9ib3cjNnjN1EE60XagE727q1Al9sM/OIS5oam1Ez9/mK9jm5WJtFa47VbsqRLB5q6Ft7sLz3+lHZ1evbBF38MmUywiQ8EKzC401pnRVGcD9dpoPrQJGw+1UaBAvvq2OR83Wbm6jOmBGBaU1eR7dDCVAli6dgzpyJ27ZN4jeUoKIycwNr+AmbQdrq4vY39fF3bWG4WkVGP3oX7TNjz69adwqLYKnXTKzc6RBRkOuCjo9MhY0kA+2a6BykGtisW8t5C8NgX/RfIRSTtMW7ej59Et2OiRwEKBpNroQ13fPjz26B4c2NkGCZvAsA5CoSROnRzFeIj6goY2HPmtfejrccHJdqAXOeBs2Y6tBw/h5Sc60eC900PcI2wRkGX2pkgNiduJ2i/XQNego1hIDVNNNfklHSx02P0GEsbqbWjpehSP1Fvhc9TA6WnGlzd50aZn+xyt4vL5Elb9pEIK8M98NIaxIPm32lYcenkvNvR5Kns1ichPNm3FZpL96493obn6DtnJJyGeRZE90LPZ0LLFCLOT/KpKCWe1Fza9DjpkSZYlpDJl6hPVsNkyKKzmER6Jo1ToR4oC8xQlDGodtb8kkFoh70NtMDU8i9Vz05iKUcK0YQt6ntyODdUK2NUqqHRVqOnag8NH9uDRvZ3CbvJIjSG2egkXphJI67rR1vsInuvzocGupmBaQ/XRjr5D+/DIkZ3Yr1Lg4ayhx5KPeUyEVtAfLqPobMemtnocafdCbW3DhvYGPNZhgj3txzyVu3+M/M8dw8TumWwB5XQZBbkV9gYL6rq1QgJisJjIBpwwU8KrpHJFE0GcuDyD8aQa2sZOPHO4AxvIVixaM1y9T6KjvQ1thjQSkxcwFFjAAF2aSfNZia8u4/x3/wJ/8e0/xu//wb+95fNn9DmF1z5YgT+1BP+1/xOvvPKX+M7ff4Bg5CHN7mZLmdYdwKZtm/DsBhXkcx/i9Ltn8Oo7c4hWlmD9QnKf+3w4YWQrqVCeoNSZYHLXobapCVu31lFnvID48Dm8+8EoBsl5hSXkqL1daOvpxoEdveQwOtDT4UWNQ0uZtJSCJBesrho0t7phFpUh8lMjpyA8T8lJPq+GnQJig5EM0umA1VuPtk7q9Cnp6G5zQL+6iuTQtLDmeo6SIYnRiyq7FnqVCnarHe6WbnQ1WdDkJC+hNKIQHUZy6TI+uk4hi5ySj9oeHNrSiOY6H6qrvKita0JXbwe6O32oNZHhjw5g4GQ/rswkkMiygXV5ZAoyKCjjNto9cJjZUy4P3NUNwiZpG7qb0FljgD5yHf7VGO55uW0WTFHyVYKMGjc5QAosDCYTXE47rL46kp3qrqcNPe0OGEIhpAcnBdnV9a2oae9EiyKAybEpnO6/OVlArtLAt2EnGm1y2AorOHp6BCvBm+9yxUaPECBUO/XCCkR2kxVVLZ1obTChxprD3BLJnmIDY6gzKMohU2hhcFTBbtTA4SDn76OAVZC9GV0UcDDZg4EIJtbGVLN9Plp7emDPTWBiYhZnB8lrfy6UoLJZoXDWwmPRQ6c2w2yyk1PrRLNXhCrlDBZIH3Fhk8EuYc1+0fQ0Rs8OCXUoDIOQU7DRvgkdPiO2qpMY+aAfk9QBLlDHlC3JIZVR5+Csgs1AspPeXd46tPb1oI9k726wwRAbQmg1hPH1PAQvsaFtEurgVLBRsmQwU2DpICdL92hpb0cP2WVvhwOWZAwZ8v5suFKc9CDv3oa9GzuxaxMbrtKI9mYDzCqyUbkeKmstamo8FIjoEIqmkEiSlMU0WbEWCpkWDo9XeHtn91TBXdOAHpKlt6sWrbUGiK6OIyjRY7m1F0fsOcjnZ6muRjHbvhlV1Rbs0qcr9VPSwE/HHKZjFHTMyKlrmM4UEJfIkFFR0mzWwUp27LA74G3sQEdXJwVM1E7cImQSYVwUtmBvRl2zF1t2GZAbPYXpySVcZo+wBOxU75X9S+zKZaRHzwr7l6x8bMJlKKjDklHi5Dax1XAsMOmtpPcuNFXLUaOeEuZlkfj3RrkIEUUZRREFXJTMObxe6DQ66hir4a5twbbtTeQjqF3MnMOHH17GxdFVrNx6D/Yqiuqqqc6FA44SFo+dx/j0Esj13DcSnQ0FQz3ZuRIWskWbQQ8X6aC12Y0uD+lKbUA+vQJx4ARODa7ND2JPXdk+HzUOHKJ2zXQ3MbMi2P7doePZPh/1HuxvlsNP5Z+aXARd7lMR66qho7qv9TmhIvnNLg+sFCRv6nSiyqlBqqyCMjGFpblZHL+4IKSONyhkRdCTT6nu7YJNlEBhZgiX33wPl+bzWGXuZ72w8SFF0qNYQyrRwumtglZDNu8m/11dX7H57gZ0tVohGZpEZN4PlkY29GxGHyUR23o7sWljG7p9Fvj0cpTEcmgcbrjqG9HgSEIni2IpTLfIllAui5EmmzcwnThtsFOg661vRyv57b7eNnRVSSHJRXH+2hzcXVtQX+1EizyA98+NYiktQ/XGnWhWRZD2z+Md8tOuzs2or6kcw8Z3X5/0I5VIU5+ro+7MjJpqOzTkr93kIxrIZ2/a3ImuehNqNSGMzIQwt8IyvWZs2WtHtT0mtK3LswXMfbyeQyP5sGrsPGRFaeY8FicnhbZVWW+Dzs3L4KshOTwU6Lm0kBh8qKqpo/qqgz1IjcofAmu9wuH3grDPRzX2kV3lY+QH0lpYHHQfspW2tkZsbzNDsXQFE+fP4ej5ecxnSkiWREglM1BotRSTmVHts0FrtsFdVYOG1k5s3ESysyBWE8bYbBAzy7eMVxKrSCg9WlwWskMzrCYV1K46+Oob0NteBVU4igzJEiHPWE2+3FfrhlcVxuzJSxg4N4khuq+N+ldXfS1qjWkEzp3HyLkJCtQphqaylUtlZNRWsn3yqS7qqy3Uh9a3oZnO2dBHeveyt9VxnB+cRzbLXuOVBD9vIN9rIb9oJ39vITlqm1vQS4lxb6cHPhUlAZdGsJTNIWWp7PPRrEtDFFkUbCN1y3wXd8cG1DXUCHZy7so4BsbY1o/3AmuJeRTESvpLDhPZt0mrQ5XbDSsleps7PGjUUf8x9CFOnRnGxakI4ixUqZy8PsTUxykMaKG6NmpkMFMfofNQv9BeizqrBmXylckcWwGqTIlfjhI5DTRUD247xZt20g/Fap2b+0ChEJThMZx//yOcGVrGVIT1o5+dUrGAdDRE/fYqllf8t3wy9PGhnvrcxuYcCpOv4sPzs/jwKvmS0n1JLqDWG9G6dQ/6NrSil/pT80pI2GTwFquFwmBB9bYj2Le5CdtrtVAV0kgXNZAZPGhqb0VnJ9nW2qfJU4ZNHQCbbvvxuii/AnwOmwxS51KIIR2IouRpQXVzI/paXXArk4gOfYRLH76L10fjmGODfNl6nR2HsW//Trx0pI+cow0OnYRsvYiS3AGTh4L/Lgr6W21QBcgBXJtiz5oRWE0hNB+H1GGH3l2F2la2sSBVdAs5Gw8FypIEQsOTmBqcETrQ5YIGq9SgPW4KUtxe1De1oL3BBYd4BZmlIXIgJkQDY8itXMO5EQpG4ITaXIuezgY01tWinZKnzo42tDc64TPmUFy8jsvvXcLxo2PkAEpUIjLUPNuHYAmZIiUHbEiWuxp1jS3o6qbOqYmch1UBdSGEwNhVYRfbGTYA8Z6oOIFkkBzcTBQymx26Ndk72iqyN1YZYJQkERkl2QemMENnKMlxOapr4C4uYWx0mgK6mzPU2WtfZ3MXXOoiVIlFHD8/jkD45ojjGBmzUG8uG5yUgDV2tKOd6qSBGrWmsIxLw0Ey6CxKbLzq/DIlXyLkjBSsuqpR20gJB5O9uQZ1NiW0pRCCTPb5KKbWOjiHr5YcBQX88VGMjc/hMgVpDx5WbymkZGoEQJ2xzUQJoRctlKh1tLGdfYOQxvoxQIYSUnqg9NZiizqOzMQURi6Pg61lIFi7jDpccrZ1ZgVaRGFcp8htajWCpWIJiYUVpHJAhsnu9JLeSfaednQ116LeroKuFEFw/Com58OYXMdcCab3VDgF/3gIMitzxFWoIb2306e7tQ7NPjNMshTiUzOYojIzvSfrO6A68Cy+tW8DDvVROarYMMQiyiIVXaOW2iXZTbMTzQ4JLg/NY4mSQraiVGgmhmxODBklH1avjwKXVmzsIr03ulFllkKeDWLu3DCmikr4KblkdVWcmcHIpQnM17XCZlGhQxLF9ZPXMFWQI8CO0SRQmqZjzg9jPh/BfCqLkYAUVht1+NW1aOvook+zcI8aqxzy1CKmpudwYYjN3K+Gh+Rr7pAiNnwWE1MrGPz4gbcZEmkVujaroC3PIzx6GZdJYTenFaWRkSqwXCL7tRroOlWUDJMspPcaUxzqxEVQrAf/Pb+hZsEk1dVsAmkKfmVuHwWu7CFJC/q6alCtyyE3dxVXjv0Ub/YHKxsM3gp7rF7XBp9dj151GtPvX8I4BbZsMur9kiC9TIXlcDmMlAxVUeLWgZYGD7yaJMoLZzGeoqQx5Ic8dBYUK1Tm7rDko64dXpsOG5RxQXeT8yyx/jk4m8jWjehxFrFA5Z+cXf65a9HHI9R+qGwmCvBNDidqGii4b/HBLVpGLLSK43MS0sckAgvzODVwxxuNQlQYDuVs3w4PpdbRket44/vU/qhh3t9sGhYo5CipSCIZK0BC/tRMdVYv2Dwlw01VqLYpoClFsXBhCNNzq0Jiv/Xx53HwsSM4so3anl0Ni4QCxqwYCrMLHmr73d0dqNOPoJyexYVRugslFfF0CoMrEhhNJrJ5Cgbbu9Da3kJtkPyFQw1ldhmLc3M4M7hISVk7nBYdXMVlfHhhHMtpERxNnXDDj8jiLD64OAELBbAuKztmBR9eHKN2QSWLTCOQUyIpMVFi4IO3pgEd1G/1UELQRP2iUZxAcmUMV8jPzq2y4Uc+tG/QwKIJIjZyHv1zRSx+3Bao/VPQ37FRheTERcxNzqKfDEKYcF9gb2NXIDdbIDe5qK+rR01tM3raatHqpURkcBKhyQWM06F3WP4vxlZHyZkJvc4kZkZSCETV8G7pQktzNVo8amhzyxg78RY+OnUWpwLke5l7p8AL0RkEcwrERcY12esF2bu76tHkNcAspT7AP4b+UT9mV272caAEAaR/9gZcS0mnp7oRtU1t6CTbbHJKkRqdxfLkHCVSYZhq62E0m2AuLODa+wO4OrCAuTIFvzVN0Dus8CkpOT12BdfOzmOCLlsoxJFMJzBMda3VGena5CNaOgS9d7ZSHEJJt7qwCv/8LM5cW0A2n0UulcHKSBAijQ4q8sFVjRQDkT32tjehrc4Ou6aAgn8J02fJHrN5pCnZcjR1wE0+N+OfE3YfT9+yDJa1vpV8gUWwpQv94xj+xGoon43MaphiD+obzDWUcFL/2UpJeZMbTgW1nel+XHj7NZyZ8GOcqpaZyH0RKUKeKEHndQnJRDXJ0E6xR1u1EVYR9YPUqPxp8r/5DHL+SSShQEpNdkg6r6NYraud7N0tgzQwhNFzH+EHbwxjcjkpxGkPBjZmgOyj3UQxZQrp2dO4OprE2M91mJ8do92Jnc+9jAN7urC1Sg35XTYZ1JIf6dy1E+1uPRxyEYoKK/XXdWgj38P8T88tn0bbCsVrQ7g6Sf7yXl79fM7cLfkQldnMpbvw2FMvYcVPjcV/t8e3OyiQPIL/7ts98Jbfg//ST/HdUwqsxsSQsgCwXEQ2EUYiEsJKvEgZGH0noQ5Jb6s8KdfJhde01A3eAZkyBUUxfwhhf2UFnAJl4FIKJs0OE3RaCupvjLGn+7AVu0vFLJLUWKJ0PPOlBblWWOPbZdMKY+Vlwk3KKOaSyOUySEuMkBYpIk77sRhkr+Z0kGmNcFOWffN4BhvnypYmTCEaiiISjAsTYisOlh0kgYqyVj05KKNaBoX05rh6dl4xl0YytIJwPIvIuo1ARgFXRXa9Tnl32SmQjK2Q/PS91GiGwWKDWZJGJBzF4urNSIuN49c7PDCpxVAVU5heDCHFZujfQK6BVE31wOpNSYHnWj2U8glkkhREsn1bsiyVrsiu1Bmgt5hJdimUbP6OcPSa7OQomOyReAbhtaeVOhNl9ZREqUthKlscS8FbOoUHjESlg1xnhdNEwQQbQyx8WyZdhpCOUcdPQVhaboDUbEMNJWOIxhBeok6ZjhKclpg6a6sTVp0CLlkeIQpEosnMWvBD8ur00FFnzIb/sXkSN2WnRLpQkT0cS38s+70jg1isgpk6Zr1OVZnnRN9W9E6aJ72nQqR3iiaZhnNaAyRmO2q0Uug+bYx3kRLpbELQe5wSgooeldDodTDZjBWdS27YMN2jnKdTMoguBBAry5C02FGtKkISjyO0TNewOKHVq1AlX6uftWNq2DGJOMLsPLpSTqaCWGWEw6KBgQ0Z/HioCUlSKlKZ6NhIHAurrHbZmx4KsjxyFMOLiEYTbGj0GmqqE5ZMqqCWJlEILYE91GSJ4A3YEoQyPendqIROSXoXbJj0no0gG1vEIjV7UuM6YfPLqK7s5IfYfCaSQ7h8KY9cOo5EOIBAokjluaM7ZsE+1ZXJoIFPXUaCAvdINCmsdnPfsBm6KqoTG9Wthg1hZV+Sr2P7daRjgq9DOQNlbh6kDgqKhbME2zbqNYI+Bd3FkoKuPhWdDQajFj6TBKmZZUEvP/elnlQLDfkHOyVF1ESwNq2CAvMk0tQXRCkxMYjiyCbjFBze+oyP0Yiu7bvxzf/+q6iPvYeRU+/j3//FacRKZWE67P3DNlnVCj6V2bxizXcJbYv5LmpbMaqsKOmI1YnZVQWj0SAMExOq9y7kk/N0PCUtpFShN2Wb7zCbN2tg1LB5NzfmhrC+sSS0wyj5nHkybo2togvms2eXKOgriAU/bZZmkU/FMUNtXLOmL3bMHB0TilUeCEq1FETrKSAxVpZ+rywFT7B7sGAtFcZykC1DzyQ0weVVQ68mPxBaoH65BHLPaxgFfXmobZVjS9RvR4U3imxYX0VqKbRWK9mAHmZSaKW+yM7JRyQokWbL2rK89p4DUa0FWoMePrOEykr1X6S+icUGdEuxEAvkkAiSfUZiCFJZK+WpwFb90egNcJhU1BZFwtwAASZ7gQL7ZIgSb5KdzeH4GJaEUVJsp36LElydfM13C2/FqK+iPiBMfROzSL3NRcmjHgZZjvxsAOFQ5XsV6cJgNsCiKCC1uEpxAfUd9L0gOxtqSHq3mci+qO+4Xe/ULknv8XhF72wZ5RvlMViNQnm0CjbHgcleOadEsVA2QbYyT/ZYKKKgJP2xPpx8Lv0g+PLCLcvBa62Oio7ITpb84dseLt4bFAcp1NDZbTCR/WqongQ5qA/JU4IVD/kRThVxW9WuGwXkSkqKXRboVTKoKk6bKpRkTyYQItlj+cLHi5Eo2B49RiMsFA8Jemd1S598Jo5ULIaVQAJZqpN7ToQ/FWr41C/ZXFpYzHSvxDxWwznhzcKDQKZQwuL2kuxiyAspxMm/hiihvNUrsvm9eqebdEH92s0A9a6wlV/ZCmzM3/8qvfmYm7y89tdN7jv58BVfxfzJv8afvALMfpEWGeZwOBzOrwgsEFPA3nwAW/duwddf6kDh1Hdx9v2T+POjC7cFnhwOh8P54nC35KOSZHM4HA6H80tAodFBb3HCYa9G1+52dG9lw2TnsTIyjumhhcrbBA6Hw+H82sCTDw6Hw+H80mg5+BRe/L1/hf/9T/4F/pun2rBJH0Dw9Dt4f2gJp/zCoBUOh8Ph/BqxzuRjAfHoR3jv9R/jJ28M4t1+IH63eekcDofD4fwcYiuLmBu9jv6rV/DR8eM4+rPj+NFbV9A/E0HgC7ZrL4fD4XB+Meuc88HhcDgcDofD4XA4nw6f88HhcDgcDofD4XB+afDkg8PhcDgcDofD4TwUePLB4XA4HA6Hw+FwHgo8+eBwOBwOh8PhcDgPBZ58cDgcDofD4XA4nIcCTz44HA6Hw+FwOBzOQ4EnHxwOh8PhcDgcDuehwJMPDofD4XA4HA6H81DgyQeHw+FwOBwOh8N5KPDkg8PhcDgcDofD4TwUePLB+WJhroKq+yAOPfc0nn+kG/sbAZN67TcOh8PhcDgczq80604+RGIJJEo9tEYr7E4nPB4XqoQP/e22wU4RoV4OSERrJzwAZCoNdDY7XC66vp7+pu8klZ84vylYa6He9CSe+eZL+K3nN+OJDvpKs/bbfUGGKlZCpTPB5nLB7bLCZtCAXfqXaWNSpQpaqwMOpw0OoxZ69l3lJw6Hw+FwOJwvHKIysfb3bTz21EtY8a/C7w+sfXM7EpUR+sZ92LqpBTt6nPDq5FBIRSiX8ihkgpg59x76T5zAu7NAKLN20n3i23YAPQcO4YgnjdDRD3Du1fdxkr4PV37m/CbQtAuW3V/CHz3phM9/DGNv/CX+HzKCsdW139eLmDJlXQc27tqIJ5/qhheLmD1+Gh9+9z1cpp9DlaMeOq7uLeh87DkcJpsvnj+H83/zhmDzy5WfORwOh8PhcH5lmZtkUdTtrPPNhwxypRG+tka0NNlRp88hvXgdo2OTuLqYRdnWgMa+Tdi+vRfVWjW0a2fdL6ngChavX8Wli4O4Nu+n8BDIVX7iPHQMUKqbsP3AHhzqbcEW+oY9lf+iIpXJUNPbha4tG9Hb0oj25mrUOEww0m+yyiH3h4ySm86taNq3Ey/sb4DT/NnGimUiISwPXUX/pUFcnV7CPPuu8hOHw+FwOBzOF451vvlQQ2fzYuMLT2OzqwR3fBQnjp3A5bABUfsGPP2N57HPm4Vj+RL+6n99BaenVzC9duY9o9RAqtHAopBALmZjuKi45QIy8SRSsRTS9E1JOPAGIoglMii0WqiVciilYojotMrorzLKpSLy6SQyqSQSlLkU7yr9L0AsoXLpoFVJoKPINEWFkEglUCqlYEUUCffJI5eIIpnJI7mWIYllSkiVaujVlLzR8TeGpJVLBRTzWaRIpnSugFyZckIVu74MeqUY+UwZIomY4leJIIeoXEKpmEM2EaPrF5AuVK7DEInpOLWOZFdALafy0KXYOWV2TiGLTDKNZCKDPH1XAvtdDq1BLZRdRvcQrs+Op1/LxTyyJFw6kUKGKrlYVpDoahhMrOwe6HWt+O3f3wTHzBCW/+ENvE7nLQnnkX6CUaRyeaToO4ZYpiDZNdCR7ArSiYQphRBkp3KlYqQTkj17Q5kSOcRyFfRaBVQyCaRrui/5+qDrO4J/ecQJ1zJ78/Gf7v/NB+lFZXXh8Lf+a+zqbUefRUyJ1Cyu/fgdvPadHwpvGlYqR94TTBdKnR5KKr+C9FF44lt4pFWDb8iu4U+/dwWDkyGmGNJLCslkBpFEtnKiQgWxRifYvFIwkorNZ0l3qUhCsPmicCD7TQO1RgE96aSYJ9unepWzN5CFDHJFESUqcmhkItJ0UdB/PFKxsTw7V6ygWymh1SkhJ92zW7ErkgJRyGaQTScQJ8XnhUZy5/EiQYfC8WvtqkQ2HI9W9Mjsi8PhcDgczm82d3vzsc7kgwIVCia1FjO08jLkxQxiEQqECxIUbNUwv/hf4ZubLHgKM/jgD/8Sb04s4NTamfdM3264dx/Gv2gzolpDkX6JIvnsIq6+fgIf/viUMCQmXjlyDRXURje6HnkEWzpq0VOlowSESkxR0o0hYbPnj6P/g/eFIWEBFsndK2oj0P04HtvkxJHaMs6eLcLssqCt2wED3UsqosAvNo+po/+A45cXcHxq7bTqLni6d+LZHTVotGuhp2SCkU8sIzQ/hNM/fhcXJ1cxWtIDPU/ikW0+PNuuwPTVIjQmLTyNRijoeEk+TsH9DAbeosD42iLOLAmXEZBr9Kje/QS29rRhW70NejpBJqbEI59CbGEIl96/gA+PXhGSwRQclHg04/ALW9Dd6YbPqq5cX0ggMshEZjB06gzOHD2D/hgQKbRBb9yKF/+JBWa5DLkVKXqfaINTLYY8EBaGv+WQRDa8gOt/9o/4cGzuY72rvB1wdu/Cs9tr0OLSwXBD9qQf0cVhfMRkH1vGcFL4GrA2Qlu/GS/sb0ZPjRlOLZvpQMFtooxEWor6TgeKk0cx+SCSD18PDBuP4F8/14B6kxGZsAiNVj/G33r3vpIPuUqN3mdeRFeVHk3iEJard6PGbcU2UxZLAUqeKXEsF7PIzp/Gux9ext++OVw5sW0jtPuewu+RzXcYSSOUDDCbHzl+Bif+/phg80HhQDl99mLb/hY891t2ROal0FMiVeOUorByFeMxCQYKddhZrYZLFERmeQg/+rsPqJ4XMSei+tS3on1jLw4/1ocGkxxGSnaklKQiG8HK2GVcP30Ub15LYCZIqYSI9KVv++TxQjkKKMT9SCyO4o3vfoBL7PrC9xwOh8PhcH6TuVvyIfmfiLW/b+O/fPeHSCbZE9kbz65vhT3pLCCbiCMejSMSTyOdL6FQLEKiVMLQuRm9Hg0aEMHke5cwFo4Lw0XWhVINqVgCXTwLhdoEs8+HGpsIqfEZzF4e/+QwFGMtDI2bceSRTaBcAPr4NCZGZzC/GkYoX6DryZGcXUDo+gQmKdBNVR4h3xsKDdC4A1v6KHDv9cKg1sKsoFLEFzE27sdqOIxEMoylwWFMLSWxmKUA0tyK1o1bcXBvN/rsORQDS5gcmsVyUgWpwQx3tQMWUYrOS2M2RMlC43Zs6mvFI3R9q1ICWT6IwAKVebmAosoIp68KDhUlU7EM/NNhoQ4KFh+0rVtx5NAWbPRpYM35MT06haVwAUm5FW6vHWZVCapiCNPRDOJZGRQqA1o3NcCiKqK4OouJyTksR4vIym2oqnHAJE9Dll7AGAWg0YwMYokIGl0csbIccZ0LLU2U3K0uYvVsPwbmFzE+P4/ZmTlMDE5hLpFGUEIBsrkFzX1bcGhfLzY48hCFSPbBGSyllJDoTXDXOGERp5BOpTG9lKDUxwhPSy+2HtqLQ+0GWEoh+CdHMBosIifRwu20wWJSoBQYQ3DsIi6weUV3M9NfCEuAXPBRsL/z0DZsNS4KT/wn0gZ4tEnEJ6YwemYIdHlKqe4d9uZDodGgnEohG03DXNsKj0EMXWoGF/rHMUR2OTe3gNnpSYxOr2B2eS2NliuFt3fGRAYKuR7GmjpUW0UoLS1h9vR1weYTwoFsQFgP2nvbcfjpBphyyyiIypiVulHvJhuxqKGR5BCLaYS3YY0NemSmhxAOp7BQcKB9+27s3NGOHS0a5JfGsTi/RElcHkqLGxabAT6LFKmFkPC2JSqSw9m3G5u3d+NIjxUS/xxWpucxOBlEokgpSDlHdhXG5QFql8G48HaGw+FwOBzObzb/8r/93bW/brLO5ONTECuhNTrRu307+hwimBJzOHPiKkYiSdx92vpnIBJAZmwEA5emEJEaoPXVwqtJIDg4ijFKPlhgeFvy4e6GuXs/vrzXBUd8ELMnforv//ADfHB5BNcW/QikSlgansfy8CKWKPFY15wRuVp4Wt7VVI2t9WbYVasIjZ/HyTffxitvXcGloQnMLCxgZDCAxUgBGYUe8qZD2LO7F89vNkA0+iFOv/kuXnn1JM7P5JDSOeBob0GbR4JskBK24VUkfd1obfBhazUFn5jE2KXjeO0fX8frF1axUjbCUNeC1noL5NEYotdGsEyylOo3wrPraXx9mw22+CiGjr+JH/7oPZy8vorptB5VLc2oqVLAZ46jn74LRlIoS4vQWxUITw/j+gfH8Pp7Z3BhNISljB7VLQ1wW/IwSBZwZiSGQDSAQn4aU6OjGElpEPS0Y2eTCKIzJ3Hpz/4W/+XcJbxz7irOXxnDCEs8qKpEVFfyhoPYuWsDXtxuhnj8FM6+fQzff+UEyZ5FXG2HvaMNrS4JCtEoJvoXkZLVoX3rFjzzdB8aMYbpc+/iR6+8htevRrAqtcDV3o4qHZlbYAT+sUvrTj5EYgXk+h5s3tSLLx3wQjn9IebDWUyq69CoSyI9QUnBfSQfJUrGQ3MzVF+zGFtIo27DRvj0KUjm3sd//Ju38KM3T+Ls+Su4cG3uZuLBiIdRmBjC0JUprOQU0NS3wKOKIzVFyRAlH6w8leSDvXdoQUNrDTbvsEA5+yauTizhe6N2dDZ6UK2KQrNwAv/4XhEreS06NzsgnT+PQDiP0UwLHn3xAHZ0aOCK9eP9H/8Erx87hzf7/choa2GvqkZvpwfSyUHEVv2YyMnR9MgT2LqxBtt0AQy8+TrefuMEvvfuNUz5qT2GAkhFl3B2bAlLcT4rhcPhcDgczt2Tjwe7z4eyAWrLXmysdsAlDmN1aQTncxnMrP28ftikhgBy5YQQBN4+x+PTEcsVkKj1wrLAmUiEEg4qz9tHcfr6MK7R7+t6WH4bJRSzJOe1H+L8heN4+9oKIqkwwoFlTIzNYT6dRYyOkiml8HS7UeWTQR2dwcDP+jFwcQ5L+TQCC+dxaXwQr8+mEdO7UWewYhedYxCuDxRzCfjH38Lw2GVcWs4jEZzE9YkxvEpB4kLZBEuNAd29gEYL1Nl02N9ihaO4gjFKSH54bBSTkTRWV8Ywe+UtXJxcpoTLBLOnFd0KNaqRRTa9gisfvI+TJy/i4kwEiUwBiZVxLNDxU/MhRLJqKFVWiMXrm3YtkUvg7nLBWyOHNj6D62/24+r5WSpHFsGFi7gyPoCfTicR1rlQa7Rhj0QOo6cNOk8VXJooItNHcX30Ei4u5hFfHMPQxAi+d30JC8nc2ryH9SNRyuE73INmCsq96TFcfWMA10/PC+9DKnMZHhQ5lMkSisUCfda++oUwKw8jT+clyjfmeHwaRZRLacSXFxG6Mo/wuwGEAkmshhewOEjJxngQsUCZknQpRGoRJDY7xLUb4XbpoEqNY/qjV3FpYhmTlETkV6dx7tgEzl+KI6Z0wLlBAWfb2m0YInIZMimk7DpKkqtIierYBZw7dQo/OjaA5cDtgyA5HA6Hw+FwbuUBJR/sCawN1Y2t2L6nHe3GNDJjE7j03jCW45kHMASDTUvJUzhGwdvavz6VyCKyU/0YoUA6LKuCZ8N+PPbCk/jS41twqMMGmyguBPQsRLrf4JUFlcV0FKFzi1gZDGI1nkO+mEc+l0UqmUGmxEpMQa5EDIdZC7PeALXOjppte7D3S8/hG7/9FXzzpcfxzPY2bLEpoNdooJHKYaZzKmPpiygVM0iu+hENxxDLUrKTTyExF8XyxSiiaTlkFgVstcKcaehVMnjoPiq1Bd6mbux7+ml85Rsv4uWvPYMXH9+BDT4znGyysEILIyVkagqzJVIqV00HunccwFPPP4+XX/4qfvvrz+CFx3eizW2AiZIHMSUEorUJ4veKRCyG3aSB2UCya8lGtu7Gnucrsr/8tcfx7M52bLUrYdCooZYqYGYT620mKMwqaEUpJGdXEV6MIZoto5Al2WNxLK6mkMoX709/ajcUHja0rRb1hiBC197Blak5TEUyDzjxYFAiUS5AmF71c433TvJ0eEGwoZ9/GrtuEQVK9PPU3vJBskGqn1w+g2wiilwyT79RKZgO2QIEOhVEHhs09P9GSxWsrfux/4nn8dLXv4xvfe0pvHC4CRuajFCK5VDrxSBzITssYen6LKZGg1go2ODs3oN9TzyOl1/chwNtZnjlOSQp8Sjkbln9gMPhcDgcDucOHkDyIYZYqobG3ISuvmYc2mODPTuJuUuDOHV8moLFtRV8HhahWaRGPsL5S2MYDikgrtmMA88/g5e++ii+8thG7OisQp1NA4OEAuP7jjJzKGWSiA2UkGZjYT4FtiqQUS6DRq6BTO9C3Z6d2PHkI3hm7fNYZzU2iyNI+f1YjCaEiduVEI490aZAMkkh6K0jWVbpvkMpZFMSlDVSqK2kBRklLCSQSi6HWGGBr7kTB+naT964x8FdaDeUII2tYn45hCgFiUWlHmpnI3r3P4YnX/gSfuulZ/HSC4/hS8/Q8Yf3otVjBJvvfD/ckF0rY6uWOVC7awe2r5VJKFd3HbZJIsiurmIxHEeYLDJvkEGioYSKrei1Ukb21o1cChRopynxKLL1uNYDU7ocSksjnB2HsKVaB0tiAldPH8f1aPg3Y/8MJVWymRJXmRRaow+Ojkew5+ANnRzEMwedaPdkEZ6jpHo1g0iSko9CEQuXBzFwdhgXZwoQVW3CpsPP4FvffBYvHt6EfZ0+NNr10CukD+qJBofD4XA4nF9DHkCcoBBWl+p74RFs21GN+tIErh/9CU5fuyoMbXr4E0+zSMdmceW1v8Nf/8Vf43/5z+/i2FAMfnUDPNuewlf+yTfxjQMbcUAPIQF5qOTCSMxewZvf+b/wH/7gj/D7t33+mD5/hv/jjY/wGh267k3tipTsBQbxwevfv+P6a58//A7+zZ/+AD+dp2C/rhnOx57Bvs1e1CuCmL/wHl75q+/g2//uj/Bv/vhP8daVecxVJhfcP/kI0osDePvP/2/86SfK9T/T5zv49699iJ/QoeueH/SZYEp3o7mhEV96vBre/AimB8bw47OAP1o54jcD9i4ljcjEaVz9uz/Cn/7xnTr5I/zrP/w2/vg/T+CtC+zwIpAYxtjpH+Kv/rd/hz//m2N49YwfCyU7PDuexhMvv4Tf+9196PJZhV3hORwOh8PhcO7GfSQf7FQV7A2d6Dl8CIc2O+HKT2Hq5FEcPz+BgcW4MCn2/oc23StsP4sMYv5FLIwO4tq5k3j7p6/jBz+5hNdPZ5A21sPX6UJ7N6D+bPu83TeFcgnLqSzChTxVW46i6zmEpscxMnrrZ4I+M5hajYCtGlvZJ0ECkVgGmVoE6a1vIKwyiBtVUKhKEKWKSAdJajohUygiksnT/YooR8LI0XVnbrsHfcamMTa9An8mB4XZiPp6L6rUGSSmRnDqnVM4c24IVwZWMTFZRjxdvm/9FcplQfZQPoeyhAoZnEd45o4y3ZDdH4a/RDlaLI9iiupAIoPcJoKc7fR3A6kIUEogEYvWabxsQFs1LEYvWut0MFurUNO+HQee/xq+/vLX8PzBrdjoVMCgscDZ2YsdLz+FI9ts6HBVzv61IEF6mEshlxEhV86hUFzE3PzUHTphnylMzKcQEJIySlaKSSQjK5ibGMW18yfw/ts/ww9/8Dp+OhrFtNKFpp5O9Ol1qBNuwuFwOBwOh/NJ1p18iNhGfkYPGjZtwe5Hd2KTOY782DmceOc4PhyNY+ZBPkVmY9XZvANxZUgHGzgjZhvVsb0i7pyLIFdDorfAbNTCII6juDyA8+/8DD/6wQm88vYsppJKSD1quFpBQf3aOZ8z+UIJsxRYLyfzKGkN8HpNcNtUUMtIDpEEUpkKKvreYtJDq741y6DkQ6KE2mqG3qwThrRI2IZ4VXpYNhigV1PgGMoiOENBfhaIJHOYCVKAKNPDYTRjg5WCawrUpWKxsLKTQkPnGOhcgxIyqj+9Uo4qI12vkEBwdgYDF0cwtcQ2BvRAb+2CSacVynhXSmWU82zJZQnEKjklMgqIZGKIJXQ/hQIyuid7x1AoljBHCdUSBbxFur+nygSPTS1cV0KyC/KQ7GYmu4Zkp+OxGkMunKVyqKHxmWB0aaCRi0jf7Fg1rBb6f7rX+l5cMXvRoZQtIhtdQTCnh766C/ufPILH6bNnYztazXJoVFRPdU3ofGQXNrebUGepnH0/lFidrcmslkmgZHoRUYIllwr6+ATUxpjNMznZdn5so0mxgiWkd9j8vRJNoTSxhHCkhKzaBFO9D2azFlq6NruToBOdDkarEQa5DCr2LbUzjV4Pg9EAg0qK3OIghk+9jVe//yp+cHYcl8KUJFrcaJQr4BNuwuFwOBwOh/NJ1p18KPQG1B55Alu3N2OLegkLFOC/e/wa3p6m2GZd69f+HNiEBr0LCpURWvZPSCE3UmDq1UGiuEMEbzsMu5/Hc4e24nCfC9V2CeQyLXQWPVx1GhiVJUhSRWTY5tKV1wufOyW26tXZISwNRbAsrYbvkQPo292GTrsYGiqb0dmM9i378PzTu7Chq2btrApShRa21sfR074d+2osFBA2oa2+Ac/22OAWhRGcjqL/MpBMAAvzQZw5N4O5rBGOvh4ceWkHOuooiFZpIFN4Ub3hAPYd3oMXDjbDZlIjVyohSbF+SWeBq8qGDc0m6OxVcG/sxNYvb0FLtR5W5VpB7iRZQHklj0xeD3WrG9XPeaG0UoJjoETC54WTEhC2Ylcpm0P8/AiWr4ewIPbCe3g/evd2oNshhlaugcHehNbN+/HcU7uwpaeOkg8ynsXriC/MYylpgLHmINqa+rDRJSMTaCTZm/GVdhfcWsU6jZfNQTqJSx/9v/j2H/xb/A/0+Ve3fP7D376GN6dSCEQWMXniKH70P/45/r+fzuLDicrZ64XSDqRyRRTkeujcDeiyqFGvVkMsdsDlMsFKyehtsE39tA5KkM1k85QQ0H9ynRK6Gj0kFPzfF7klFEMnMTS7guWSF76eL+FIXys2kb7Z3iRaVx2at+3EY195HAfddrTQKRKZDN279+DQo/twpNeHZoMKRrJNicmHOkqOvRopypQBR8qlOzb95HA4HA6Hw7nJOvf5sEJnbsXOJ/ZiS6sLdXoKhooiyKxVcDa2o7e3Cxv62KeDPvWoEZWhXQqCvQz57PE+273Zh8bOXux+ZBe2berFlu4WCoitcGilkMlVFJu54GluRK1VBJvIL+z1kLU3w9iyAY92edFcX43ahka0tPWgr68Nvc0W+GRLmOm/ipMfTWJ0FUivZ3GeG/t8NJjRY8rBf+w8xgIRfGp8WqYgPJNFSapASm6C3WaE2e6A11uN+rZu9PZ1oq+jBq32AgL+VQyw10a+bnQ2OLDRq0Q+VoRYQomArxa+1k5s6qxGh6OE9OAJXDzbjw+HgwjSPTLFMvKZNEQaEzQGPbzVLpgcbtQ3taOjpwtbNrai1SmGobyKK2MBhLNalKUWVLvMMOl1sDvssDd1oLOtCi1VCuQlKpRTAYijMzh+cR7+8C0zeMoyyCgg9tS5YLHp4KIgVWNvQHt7E9WLE+aZRWRiSfiZ7NksihIZUjIzrFYDLI4bsvcIsm/orBNkDwUC6B9ZrCQgFJinVZRgWahsZhtdvwq1HV1UripUUSCsMYqQDY0hfM/7fLC5DhlkM3FEgmGE6BO85SOxuGFv60WjJorY4CAuvXEGg5RoBe53ESeSv2RuhN5sQU2VHVoV6ae+CY0dbeiupYS6mMbEHFtImpLEpi7seXw3tpLNb+1tRUetE04tJR8KFTRWJ9zM5p1yuMWriKZb4G6owqbtWmRHT2FyChgKNGHHQSussgUkR6l+5lqg97JjdMiOnMLU5AKuzKWRyyshk6hh9VRBbzTDSfZV20xJyKYeIQlurtKg2D+KVX8YC1TnzdsOoK2jHd1NVaiubUBzJ9kKtfNNHR54JKtIj53Bu2fGcC2QENo6h8PhcDic32we4CaDLuj1jdiy1QO7RgxRngI6gwM2bw2amupv+bB/22FYDiB/bRLTdOZnjhHBHrk3oGvbJhx8cis2NrjgNcohL1CZUnkU5VroWUBa74WDAh9JeASjfiChckBj86Cn1oOqKh9qaurQ0OBDnUsLqySG6Pg5nDo1hGMXwohSQLmuFZPYBAxrNWpsUrhFUcyd7Bd2cZ9b+/kTsMm6eQpuKYidi0pgsZhgo6Sgtr4RdVS2GrcRNlUJxcgchsfnMThPQaiQfNixwS1BmILFrFQDDQWr9T4rnOoccitj6H/nZzg9OIX+OCqrY2VjKMZWsJRRQqSghMDjgttTTfeoRmOdA26DFJLUClbmpyj5CGLZX0QiVITBZobWbIadAtRqrxMuBd0/OI4Li0VEAssQRWZxamAZodgtS27lMhBlIhCZLFBqzHDYvPD5atBA5XOrS8heHMZykOqG1XA+gjDpbDoshtlMst6Qvd6HWo8ZNjq+HJ3H6MQ8BiZIiUgjSlnqQkwMm9kEs80Jby0FxlUGKFIpLA3PIqbIIrg0juDodfRTvhJ5QCsb6OxuCsa9sBZXEWBzUfonsEDf3+/lSxBhNauhHEQFh8MKMyXOXkqOG+tsZJer8K+whJDtClOP5u4NOPz8LmxooHqyqKAsJpFO5ykZVEPrIh3VeeFWJaAKX6ek1w2FRUfflRC6fg4T00WMh+1o7ZJBmpkhGQbRv+CBwkzH1JcQvn6ejlnB9aUcwvMJUE4MsY3aqN2OqpoatDXWoa7KAoua2nQygJnzw5hejWBZIqXEtBtuHyWNdVXw1JBdkf4avVaYZDHEp65g8INjODYRwVRqXa2Kw+FwOBzOrxl3Sz5EZWHzgU/y2FMvYcVPQZH/bmsPKSCTayiA0kGtkED2qUPQ2aWLyIaiSFIgGqF/ffYHyGxQjRp6kxZGsxpyusfdh7qXkE9FkY6z4J7iXJkWMo0edq0cSjYv4MY5JGa5VEAxm0Q0Rp94VphMfVfhfxFiCaAxwaRTwCQvIbMURCybW9t1+udAgadUqYXZoISGjfO/UTihbEWUckmEYymEiipg58t46UgX/mmfCMvv/Ce8f3EB705KKYRlSqNjC1mkwiHE0nTfW4a5sQ0V2caKOq0aBo0cUpHoZr2VSyjk0sim4ghEs8gWKRmRq2GiwFSjlEIY8s8OK+ZQyNN1SwpIkYecgt+VUAqZ3K3Tz9n8DhnUJhN0GiW08sogqErZckgtBxHP5G4OwZEqISHZLQYV2YwU8ltlZ+fkUoiQXoLRtTB/7XirUS0cT6okSNfZInL0kailpOwECrEQguyN1/2+mVhDoaG6MJmhl5GtxBOIBch26fv7vjzbnI8SQq1WU5lzQ+IzvbDmV8pGyR7ZUC82JEwNjZ5sxKYRbP7uy0GTHtNxZOIke9IAuUYNi1VK5fUjQUYYzehhcymgEKeE+gkl9dQm2DEyOmaVjklTMsguTG2EvtebdFDJqR3TzSparNhjkWws4Y8gmSZbo/JrzVZoyK40pGt23I2ilcsFFDJJZONRulcRGbYcMofD4XA4nN945iYvr/11k3UmH5zPFY35ZvLRU8Lia3+CHx8fwytX1n7ncDgcDofD4XB+xblb8lF50MnhcDgcDofD4XA4nzM8+eBwOBwOh8PhcDgPBZ58/CqSTwMTZzHwzk/xt3/3Gn50JoTrK2u/cTgcDofD4XA4X1D4nA8Oh8PhcDgcDofzwOFzPjgcDofD4XA4HM4vDZ58cDgcDofD4XA4nIcCTz44HA6Hw+FwOBzOQwD4/wHYakdp/D7fuwAAAABJRU5ErkJggg==)\n",
        "\n"
      ],
      "metadata": {
        "id": "0LPq3xl8csBk"
      }
    },
    {
      "cell_type": "code",
      "source": [
        "# Write Your Code Here\n",
        "from array import *\n",
        "arr = array('i', [])\n",
        "n = int(input(\"enter number of elements\"))\n",
        "\n",
        "A = []\n",
        "dups = []\n",
        "for i in range(n):\n",
        "   arr.append(int(input(\"enter the array elements\")))\n",
        "print(\"Entered array is:\")\n",
        "for i in range(len(arr)):\n",
        "   A.append(arr[i])\n",
        "print(A)\n",
        "print('\\n')\n",
        "print(\"Duplicate elements in given array: \")\n",
        "for i in range(0, len(arr)):\n",
        "   for j in range(i+1, len(arr)):\n",
        "       if(arr[i] == arr[j]):\n",
        "          dups.append(arr[j])\n",
        "\n",
        "print(dups)"
      ],
      "metadata": {
        "colab": {
          "base_uri": "https://localhost:8080/"
        },
        "id": "jGfvqX8Fcsq7",
        "outputId": "f7efaf1b-a726-406c-dc07-c8a1af74af5b"
      },
      "execution_count": null,
      "outputs": [
        {
          "output_type": "stream",
          "name": "stdout",
          "text": [
            "enter number of elements5\n",
            "enter the array elements1\n",
            "enter the array elements2\n",
            "enter the array elements1\n",
            "enter the array elements3\n",
            "enter the array elements2\n",
            "Entered array is:\n",
            "[1, 2, 1, 3, 2]\n",
            "\n",
            "\n",
            "Duplicate elements in given array: \n",
            "[1, 2]\n"
          ]
        }
      ]
    },
    {
      "cell_type": "code",
      "source": [
        "# Modified solution:\n",
        "\n",
        "import numpy as np\n",
        "arr = []\n",
        "n = int(input(\"Enter size of array: \"))\n",
        "for i in range(n):\n",
        "   arr.append(int(input(\"Enter elements of array between 0 to 5: \")))\n",
        "\n",
        "arr = np.array(arr)\n",
        "print(\"Entered array is:\", arr)\n",
        "\n",
        "dups = []\n",
        "# A = []\n",
        "# for i in range(len(arr)):\n",
        "#    A.append(arr[i])\n",
        "# print(A)\n",
        "print('\\n')\n",
        "print(\"Duplicate elements in given array: \")\n",
        "for i in range(0, len(arr)):\n",
        "   for j in range(i+1, len(arr)):\n",
        "       if(arr[i] == arr[j]):\n",
        "          dups.append(arr[j])\n",
        "\n",
        "print(dups)"
      ],
      "metadata": {
        "colab": {
          "base_uri": "https://localhost:8080/"
        },
        "id": "s4Owi06dA8qQ",
        "outputId": "bd16de5f-3374-44ae-a6fa-9e3901bbae53"
      },
      "execution_count": null,
      "outputs": [
        {
          "output_type": "stream",
          "name": "stdout",
          "text": [
            "Enter size of array: 8\n",
            "Enter elements of array between 0 to 5: 2\n",
            "Enter elements of array between 0 to 5: 3\n",
            "Enter elements of array between 0 to 5: 2\n",
            "Enter elements of array between 0 to 5: 4\n",
            "Enter elements of array between 0 to 5: 3\n",
            "Enter elements of array between 0 to 5: 1\n",
            "Enter elements of array between 0 to 5: 4\n",
            "Enter elements of array between 0 to 5: 3\n",
            "Entered array is: [2 3 2 4 3 1 4 3]\n",
            "\n",
            "\n",
            "Duplicate elements in given array: \n",
            "[2, 3, 3, 4, 3]\n"
          ]
        }
      ]
    },
    {
      "cell_type": "code",
      "source": [
        "a = 1\n",
        "b = 3\n",
        "c = 4\n",
        "def add(a,b,c):\n",
        "  sum = a + b + c\n",
        "  print(sum)\n"
      ],
      "metadata": {
        "id": "k5QEMchic0df"
      },
      "execution_count": null,
      "outputs": []
    },
    {
      "cell_type": "code",
      "source": [
        "add(1,3,4)"
      ],
      "metadata": {
        "colab": {
          "base_uri": "https://localhost:8080/"
        },
        "id": "h7RlkDqdzZJB",
        "outputId": "53c26bbd-7db6-4c95-8558-7c92fb6edfb1"
      },
      "execution_count": null,
      "outputs": [
        {
          "output_type": "stream",
          "name": "stdout",
          "text": [
            "8\n"
          ]
        }
      ]
    },
    {
      "cell_type": "markdown",
      "source": [
        "## 2. Write a program in Python to remove duplicate elements form array.\n",
        "\n",
        "![image.png](data:image/png;base64,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)"
      ],
      "metadata": {
        "id": "vkCYQ9AoBXid"
      }
    },
    {
      "cell_type": "code",
      "source": [
        "import numpy as np\n",
        "arr = []\n",
        "n = int(input(\"Enter size of array: \"))\n",
        "for i in range(n):\n",
        "   arr.append(int(input(\"Enter elements of array between 0 to 5: \")))\n",
        "\n",
        "arr = np.array(arr)\n",
        "print(\"Entered array is:\", arr)\n",
        "\n",
        "newlist = []\n",
        "for x in arr:\n",
        "   if x not in newlist:\n",
        "       newlist.append(x)\n",
        "\n",
        "print(\"Array elements after removing duplicate =\", newlist)"
      ],
      "metadata": {
        "id": "JQxiMMtNz968",
        "colab": {
          "base_uri": "https://localhost:8080/"
        },
        "outputId": "c0886908-982e-4ad0-cfdb-716b6077d895"
      },
      "execution_count": null,
      "outputs": [
        {
          "output_type": "stream",
          "name": "stdout",
          "text": [
            "Enter size of array: 8\n",
            "Enter elements of array between 0 to 5: 5\n",
            "Enter elements of array between 0 to 5: 5\n",
            "Enter elements of array between 0 to 5: 1\n",
            "Enter elements of array between 0 to 5: 53\n",
            "Enter elements of array between 0 to 5: 1\n",
            "Enter elements of array between 0 to 5: 1\n",
            "Enter elements of array between 0 to 5: 4\n",
            "Enter elements of array between 0 to 5: 4\n",
            "Entered array is: [ 5  5  1 53  1  1  4  4]\n",
            "Array elements after removing duplicate = [5, 1, 53, 4]\n"
          ]
        }
      ]
    },
    {
      "cell_type": "code",
      "source": [
        "def swap_case(s):\n",
        "    ns = ''\n",
        "    \n",
        "    for ch in s:\n",
        "        if ch == ch.upper():\n",
        "            ns = ns + ch.lower()\n",
        "        else:\n",
        "            ns = ns + ch.upper()\n",
        "            \n",
        "    return ns"
      ],
      "metadata": {
        "id": "CvWF8_91Bgsj"
      },
      "execution_count": null,
      "outputs": []
    },
    {
      "cell_type": "code",
      "source": [
        "s = 'Tushar'\n",
        "swap_case(s)"
      ],
      "metadata": {
        "colab": {
          "base_uri": "https://localhost:8080/",
          "height": 36
        },
        "id": "uZ9zR9ZXNIU-",
        "outputId": "4e811f5b-fe00-4bff-99b4-4f27c8c8b39a"
      },
      "execution_count": null,
      "outputs": [
        {
          "output_type": "execute_result",
          "data": {
            "text/plain": [
              "'tUSHAR'"
            ],
            "application/vnd.google.colaboratory.intrinsic+json": {
              "type": "string"
            }
          },
          "metadata": {},
          "execution_count": 3
        }
      ]
    },
    {
      "cell_type": "code",
      "source": [
        "def split_and_join(line):\n",
        "    # write your code here\n",
        "    line = line.split(\" \")\n",
        "    line = \"-\".join(line)\n",
        "    return line"
      ],
      "metadata": {
        "id": "-NQSrz6SNQHI"
      },
      "execution_count": null,
      "outputs": []
    },
    {
      "cell_type": "code",
      "source": [
        "line = 'A b asd adf C D'\n",
        "split_and_join(line)"
      ],
      "metadata": {
        "colab": {
          "base_uri": "https://localhost:8080/",
          "height": 36
        },
        "id": "XLenQee-Qgsd",
        "outputId": "843a3712-795a-405c-d164-e09980f96ded"
      },
      "execution_count": null,
      "outputs": [
        {
          "output_type": "execute_result",
          "data": {
            "text/plain": [
              "'A-b-asd-adf-C-D'"
            ],
            "application/vnd.google.colaboratory.intrinsic+json": {
              "type": "string"
            }
          },
          "metadata": {},
          "execution_count": 8
        }
      ]
    },
    {
      "cell_type": "code",
      "source": [
        "\n",
        "def print_full_name(first, last):\n",
        "    # Write your code here\n",
        "    print(f\"Hello {first} {last}! You just delved into python.\")"
      ],
      "metadata": {
        "id": "BGpuLtUsQ2CQ"
      },
      "execution_count": null,
      "outputs": []
    },
    {
      "cell_type": "code",
      "source": [
        "first = 'Tushar'\n",
        "last = 'GAidhane'\n",
        "print_full_name(first, last)"
      ],
      "metadata": {
        "colab": {
          "base_uri": "https://localhost:8080/"
        },
        "id": "oR5r5X1AT_2c",
        "outputId": "e59b1a25-fdb0-4e51-a489-c2d7d5fccd6b"
      },
      "execution_count": null,
      "outputs": [
        {
          "output_type": "stream",
          "name": "stdout",
          "text": [
            "Hello Tushar GAidhane! You just delved into python.\n"
          ]
        }
      ]
    },
    {
      "cell_type": "code",
      "source": [
        "def mutate_string(string, position, character):\n",
        "    string[position] = character\n",
        "    return string"
      ],
      "metadata": {
        "id": "1wdnq5PBUNuM"
      },
      "execution_count": null,
      "outputs": []
    },
    {
      "cell_type": "code",
      "source": [
        "def mutate_string(string, position, character):\n",
        "    lst = list(string)\n",
        "    lst[position] = character\n",
        "    string = ''.join(lst)\n",
        "    return string"
      ],
      "metadata": {
        "id": "tMMoVA1EYlRN"
      },
      "execution_count": null,
      "outputs": []
    },
    {
      "cell_type": "code",
      "source": [
        "string = 'abracadabra' \n",
        "position = 5\n",
        "character = 'k'\n",
        "\n",
        "\n",
        "mutate_string(string, position, character)"
      ],
      "metadata": {
        "colab": {
          "base_uri": "https://localhost:8080/",
          "height": 36
        },
        "id": "AUBaopZqXocj",
        "outputId": "2d111270-d3b3-42d2-82a5-e9afbbe625a3"
      },
      "execution_count": null,
      "outputs": [
        {
          "output_type": "execute_result",
          "data": {
            "text/plain": [
              "'abrackdabra'"
            ],
            "application/vnd.google.colaboratory.intrinsic+json": {
              "type": "string"
            }
          },
          "metadata": {},
          "execution_count": 16
        }
      ]
    },
    {
      "cell_type": "code",
      "source": [
        "string = \"abracadabra\"\n",
        "l = list(string)\n",
        "l[5] = 'k'\n",
        "string = ''.join(l)\n",
        "print(string)"
      ],
      "metadata": {
        "colab": {
          "base_uri": "https://localhost:8080/"
        },
        "id": "4JStGsldX8wq",
        "outputId": "f38a53f3-0411-4a34-f350-3b8b6e700a32"
      },
      "execution_count": null,
      "outputs": [
        {
          "output_type": "stream",
          "name": "stdout",
          "text": [
            "abrackdabra\n"
          ]
        }
      ]
    },
    {
      "cell_type": "code",
      "source": [
        "l"
      ],
      "metadata": {
        "colab": {
          "base_uri": "https://localhost:8080/"
        },
        "id": "7REkjI44ahPB",
        "outputId": "9652cc25-a2a9-40f1-9f40-139acc3ec225"
      },
      "execution_count": null,
      "outputs": [
        {
          "output_type": "execute_result",
          "data": {
            "text/plain": [
              "['a', 'b', 'r', 'a', 'c', 'k', 'd', 'a', 'b', 'r', 'a']"
            ]
          },
          "metadata": {},
          "execution_count": 21
        }
      ]
    },
    {
      "cell_type": "code",
      "source": [
        "def count_substring(string, sub_string):\n",
        "    ls = list\n",
        "    return"
      ],
      "metadata": {
        "id": "C4Tg_-KWcvwh"
      },
      "execution_count": null,
      "outputs": []
    },
    {
      "cell_type": "code",
      "source": [
        "def count_substring(string, sub_string):\n",
        "    c = 0\n",
        "    for _ in range(len(string)):\n",
        "        a = string.find(sub_string)\n",
        "        if a==-1:\n",
        "            break\n",
        "        c += 1\n",
        "        string = string[a+1:]\n",
        "    return c"
      ],
      "metadata": {
        "id": "p1gYZzCSKb3J"
      },
      "execution_count": null,
      "outputs": []
    },
    {
      "cell_type": "code",
      "source": [
        "def count_substring(string, sub_string):\n",
        "    count = 0\n",
        "    for i in range(len(string)):\n",
        "        if i + len(sub_string) <= len(string) and sub_string == string[i:i+len(sub_string)]:\n",
        "            count += 1            \n",
        "    return count"
      ],
      "metadata": {
        "id": "X7VuXIx9MXFq"
      },
      "execution_count": null,
      "outputs": []
    },
    {
      "cell_type": "code",
      "source": [
        "string = 'ABCDCDC'\n",
        "sub_string = 'CDC'\n",
        "count_substring(string, sub_string)"
      ],
      "metadata": {
        "colab": {
          "base_uri": "https://localhost:8080/"
        },
        "id": "dAgCFhsIIuXA",
        "outputId": "7be9b44b-7f61-4569-d5af-3d2476498123"
      },
      "execution_count": null,
      "outputs": [
        {
          "output_type": "stream",
          "name": "stdout",
          "text": [
            "2\n"
          ]
        }
      ]
    },
    {
      "cell_type": "code",
      "source": [
        "def count_substring(string, sub_string):\n",
        "  count = 0\n",
        "  for i in range(len(string)):\n",
        "    if (i+len(sub_string)) <= len(string) and sub_string == string[i:i+len(sub_string)]:\n",
        "      count += 1\n",
        "\n",
        "  print(count)"
      ],
      "metadata": {
        "id": "Bo1lW6ClKl9m"
      },
      "execution_count": null,
      "outputs": []
    },
    {
      "cell_type": "code",
      "source": [
        "# s = input()\n",
        "# In the first line, print True if  has any alphanumeric characters. Otherwise, print False.\n",
        "# In the second line, print True if  has any alphabetical characters. Otherwise, print False.\n",
        "# In the third line, print True if  has any digits. Otherwise, print False.\n",
        "# In the fourth line, print True if  has any lowercase characters. Otherwise, print False.\n",
        "# In the fifth line, print True if  has any uppercase characters. Otherwise, print False.\n",
        "\n",
        "s = 'AbCd123'\n",
        "\n",
        "# if s.isalnum() == True:\n",
        "#   print('True')\n",
        "# else:\n",
        "#   print('False')\n",
        "\n",
        "# if s.isdigit() == False:\n",
        "#   print('True')\n",
        "# else:\n",
        "#   print('False')\n",
        "\n",
        "# if s.isalpha() == False:\n",
        "#   print('True')\n",
        "# else:\n",
        "#   print('False')\n",
        "\n",
        "# if s.isupper() == False:\n",
        "#   print('True')\n",
        "# else:\n",
        "#   print('False')\n",
        "\n",
        "# if s.islower() == False:\n",
        "#   print('True')\n",
        "# else:\n",
        "#   print('False')\n",
        "\n",
        "\n",
        "print(any(char.isalnum() for char in s))\n",
        "print(any(char.isalpha() for char in s))\n",
        "print(any(char.isdigit() for char in s))\n",
        "print(any(char.islower() for char in s))\n",
        "print(any(char.isupper() for char in s))\n"
      ],
      "metadata": {
        "colab": {
          "base_uri": "https://localhost:8080/"
        },
        "id": "Jznlw3MgOcU3",
        "outputId": "811087ac-3617-40cf-b6cf-35abca7d4e5d"
      },
      "execution_count": null,
      "outputs": [
        {
          "output_type": "stream",
          "name": "stdout",
          "text": [
            "True\n",
            "True\n",
            "True\n",
            "True\n",
            "True\n"
          ]
        }
      ]
    },
    {
      "cell_type": "code",
      "source": [
        "str.isalnum()\n",
        "str.isalpha()\n",
        "str.isdigit()\n",
        "str.islower()\n",
        "str.isupper()"
      ],
      "metadata": {
        "id": "wmpYQGUAT-EF"
      },
      "execution_count": null,
      "outputs": []
    },
    {
      "cell_type": "code",
      "source": [
        "S = 'AbCd123'\n",
        "print(any(char.isalnum() for char in S))\n",
        "print(any(char.isalpha() for char in S))\n",
        "print(any(char.isdigit() for char in S))\n",
        "print(any(char.islower() for char in S))\n",
        "print(any(char.isupper() for char in S))"
      ],
      "metadata": {
        "colab": {
          "base_uri": "https://localhost:8080/"
        },
        "id": "jwa1UeqGYqUg",
        "outputId": "4a24b7a2-9898-403f-dc5a-e5635dedbbfd"
      },
      "execution_count": null,
      "outputs": [
        {
          "output_type": "stream",
          "name": "stdout",
          "text": [
            "True\n",
            "True\n",
            "True\n",
            "True\n",
            "True\n"
          ]
        }
      ]
    },
    {
      "cell_type": "code",
      "source": [
        "print (r\"\\nhello\")"
      ],
      "metadata": {
        "id": "oY6sjbfYYuui",
        "colab": {
          "base_uri": "https://localhost:8080/"
        },
        "outputId": "55476d68-b28b-419c-caac-6946ddb5474f"
      },
      "execution_count": null,
      "outputs": [
        {
          "output_type": "stream",
          "name": "stdout",
          "text": [
            "\\nhello\n"
          ]
        }
      ]
    },
    {
      "cell_type": "code",
      "source": [
        "print('xyyxyyxyxyxxy'.replace('xy', '12', 100))"
      ],
      "metadata": {
        "colab": {
          "base_uri": "https://localhost:8080/"
        },
        "id": "xigYMpzcYkSt",
        "outputId": "b8fc1f58-f137-4465-a822-131ddbe5f875"
      },
      "execution_count": null,
      "outputs": [
        {
          "output_type": "stream",
          "name": "stdout",
          "text": [
            "12y12y1212x12\n"
          ]
        }
      ]
    },
    {
      "cell_type": "code",
      "source": [
        "a={4,5,6}\n",
        "b={2,8,6}\n",
        "a+b\n",
        "\n"
      ],
      "metadata": {
        "colab": {
          "base_uri": "https://localhost:8080/",
          "height": 217
        },
        "id": "EgrALMv3egdy",
        "outputId": "8290b9b4-e84e-416a-c5ec-c6edd74d6c67"
      },
      "execution_count": null,
      "outputs": [
        {
          "output_type": "error",
          "ename": "TypeError",
          "evalue": "ignored",
          "traceback": [
            "\u001b[0;31m---------------------------------------------------------------------------\u001b[0m",
            "\u001b[0;31mTypeError\u001b[0m                                 Traceback (most recent call last)",
            "\u001b[0;32m<ipython-input-3-bb95e68abfcd>\u001b[0m in \u001b[0;36m<module>\u001b[0;34m\u001b[0m\n\u001b[1;32m      1\u001b[0m \u001b[0ma\u001b[0m\u001b[0;34m=\u001b[0m\u001b[0;34m{\u001b[0m\u001b[0;36m4\u001b[0m\u001b[0;34m,\u001b[0m\u001b[0;36m5\u001b[0m\u001b[0;34m,\u001b[0m\u001b[0;36m6\u001b[0m\u001b[0;34m}\u001b[0m\u001b[0;34m\u001b[0m\u001b[0;34m\u001b[0m\u001b[0m\n\u001b[1;32m      2\u001b[0m \u001b[0mb\u001b[0m\u001b[0;34m=\u001b[0m\u001b[0;34m{\u001b[0m\u001b[0;36m2\u001b[0m\u001b[0;34m,\u001b[0m\u001b[0;36m8\u001b[0m\u001b[0;34m,\u001b[0m\u001b[0;36m6\u001b[0m\u001b[0;34m}\u001b[0m\u001b[0;34m\u001b[0m\u001b[0;34m\u001b[0m\u001b[0m\n\u001b[0;32m----> 3\u001b[0;31m \u001b[0ma\u001b[0m\u001b[0;34m+\u001b[0m\u001b[0mb\u001b[0m\u001b[0;34m\u001b[0m\u001b[0;34m\u001b[0m\u001b[0m\n\u001b[0m\u001b[1;32m      4\u001b[0m \u001b[0;34m\u001b[0m\u001b[0m\n",
            "\u001b[0;31mTypeError\u001b[0m: unsupported operand type(s) for +: 'set' and 'set'"
          ]
        }
      ]
    },
    {
      "cell_type": "code",
      "source": [
        "a={1:\"A\",2:\"B\",3:\"C\"}\n",
        "print(a.get(1,4))"
      ],
      "metadata": {
        "id": "7kl2MZKAfUaU",
        "colab": {
          "base_uri": "https://localhost:8080/"
        },
        "outputId": "560ab9be-ef49-45d5-8538-80aa6c54511b"
      },
      "execution_count": null,
      "outputs": [
        {
          "output_type": "stream",
          "name": "stdout",
          "text": [
            "A\n"
          ]
        }
      ]
    },
    {
      "cell_type": "code",
      "source": [
        "s=set([1, 2, 3])\n",
        "print(s.union([4, 5]))\n",
        "s|([4, 5])"
      ],
      "metadata": {
        "colab": {
          "base_uri": "https://localhost:8080/",
          "height": 217
        },
        "id": "j8eWGHfdsA2q",
        "outputId": "b41a70e3-1bd8-4788-da52-f6fc1e678168"
      },
      "execution_count": null,
      "outputs": [
        {
          "output_type": "stream",
          "name": "stdout",
          "text": [
            "{1, 2, 3, 4, 5}\n"
          ]
        },
        {
          "output_type": "error",
          "ename": "TypeError",
          "evalue": "ignored",
          "traceback": [
            "\u001b[0;31m---------------------------------------------------------------------------\u001b[0m",
            "\u001b[0;31mTypeError\u001b[0m                                 Traceback (most recent call last)",
            "\u001b[0;32m<ipython-input-2-5ba5deb76404>\u001b[0m in \u001b[0;36m<module>\u001b[0;34m\u001b[0m\n\u001b[1;32m      1\u001b[0m \u001b[0ms\u001b[0m\u001b[0;34m=\u001b[0m\u001b[0mset\u001b[0m\u001b[0;34m(\u001b[0m\u001b[0;34m[\u001b[0m\u001b[0;36m1\u001b[0m\u001b[0;34m,\u001b[0m \u001b[0;36m2\u001b[0m\u001b[0;34m,\u001b[0m \u001b[0;36m3\u001b[0m\u001b[0;34m]\u001b[0m\u001b[0;34m)\u001b[0m\u001b[0;34m\u001b[0m\u001b[0;34m\u001b[0m\u001b[0m\n\u001b[1;32m      2\u001b[0m \u001b[0mprint\u001b[0m\u001b[0;34m(\u001b[0m\u001b[0ms\u001b[0m\u001b[0;34m.\u001b[0m\u001b[0munion\u001b[0m\u001b[0;34m(\u001b[0m\u001b[0;34m[\u001b[0m\u001b[0;36m4\u001b[0m\u001b[0;34m,\u001b[0m \u001b[0;36m5\u001b[0m\u001b[0;34m]\u001b[0m\u001b[0;34m)\u001b[0m\u001b[0;34m)\u001b[0m\u001b[0;34m\u001b[0m\u001b[0;34m\u001b[0m\u001b[0m\n\u001b[0;32m----> 3\u001b[0;31m \u001b[0ms\u001b[0m\u001b[0;34m|\u001b[0m\u001b[0;34m(\u001b[0m\u001b[0;34m[\u001b[0m\u001b[0;36m4\u001b[0m\u001b[0;34m,\u001b[0m \u001b[0;36m5\u001b[0m\u001b[0;34m]\u001b[0m\u001b[0;34m)\u001b[0m\u001b[0;34m\u001b[0m\u001b[0;34m\u001b[0m\u001b[0m\n\u001b[0m",
            "\u001b[0;31mTypeError\u001b[0m: unsupported operand type(s) for |: 'set' and 'list'"
          ]
        }
      ]
    },
    {
      "cell_type": "code",
      "source": [
        "import math\n",
        "[str(round(math.pi)) for i in range (1, 6)]"
      ],
      "metadata": {
        "colab": {
          "base_uri": "https://localhost:8080/"
        },
        "id": "9CIPXeuitAo1",
        "outputId": "6820c39e-97a7-4bd6-8222-0326be1f4108"
      },
      "execution_count": null,
      "outputs": [
        {
          "output_type": "execute_result",
          "data": {
            "text/plain": [
              "['3', '3', '3', '3', '3']"
            ]
          },
          "metadata": {},
          "execution_count": 3
        }
      ]
    },
    {
      "cell_type": "code",
      "source": [
        "list1 = [1, 3, 2]\n",
        "list1 * 2"
      ],
      "metadata": {
        "colab": {
          "base_uri": "https://localhost:8080/"
        },
        "id": "YGFQ4cLSxK23",
        "outputId": "b296aa7a-bd68-4c1d-989c-1da3038b8498"
      },
      "execution_count": null,
      "outputs": [
        {
          "output_type": "execute_result",
          "data": {
            "text/plain": [
              "[1, 3, 2, 1, 3, 2]"
            ]
          },
          "metadata": {},
          "execution_count": 4
        }
      ]
    },
    {
      "cell_type": "code",
      "source": [
        "thickness = int(input()) #This must be an odd number\n",
        "c = 'H'\n",
        "\n",
        "#Top Cone\n",
        "for i in range(thickness):\n",
        "    print((c*i).rjust(thickness-1)+c+(c*i).ljust(thickness-1))\n",
        "\n",
        "#Top Pillars\n",
        "for i in range(thickness+1):\n",
        "    print((c*thickness).center(thickness*2)+(c*thickness).center(thickness*6))\n",
        "\n",
        "#Middle Belt\n",
        "for i in range((thickness+1)//2):\n",
        "    print((c*thickness*5).center(thickness*6))    \n",
        "\n",
        "#Bottom Pillars\n",
        "for i in range(thickness+1):\n",
        "    print((c*thickness).center(thickness*2)+(c*thickness).center(thickness*6))    \n",
        "\n",
        "#Bottom Cone\n",
        "for i in range(thickness):\n",
        "    print(((c*(thickness-i-1)).rjust(thickness)+c+(c*(thickness-i-1)).ljust(thickness)).rjust(thickness*6))\n",
        "                        "
      ],
      "metadata": {
        "id": "N8UsVxHh1mcs",
        "colab": {
          "base_uri": "https://localhost:8080/"
        },
        "outputId": "25a3924d-ee42-4829-c034-a7fd28768c35"
      },
      "execution_count": null,
      "outputs": [
        {
          "output_type": "stream",
          "name": "stdout",
          "text": [
            "5\n",
            "    H    \n",
            "   HHH   \n",
            "  HHHHH  \n",
            " HHHHHHH \n",
            "HHHHHHHHH\n",
            "  HHHHH               HHHHH             \n",
            "  HHHHH               HHHHH             \n",
            "  HHHHH               HHHHH             \n",
            "  HHHHH               HHHHH             \n",
            "  HHHHH               HHHHH             \n",
            "  HHHHH               HHHHH             \n",
            "  HHHHHHHHHHHHHHHHHHHHHHHHH   \n",
            "  HHHHHHHHHHHHHHHHHHHHHHHHH   \n",
            "  HHHHHHHHHHHHHHHHHHHHHHHHH   \n",
            "  HHHHH               HHHHH             \n",
            "  HHHHH               HHHHH             \n",
            "  HHHHH               HHHHH             \n",
            "  HHHHH               HHHHH             \n",
            "  HHHHH               HHHHH             \n",
            "  HHHHH               HHHHH             \n",
            "                    HHHHHHHHH \n",
            "                     HHHHHHH  \n",
            "                      HHHHH   \n",
            "                       HHH    \n",
            "                        H     \n"
          ]
        }
      ]
    },
    {
      "cell_type": "code",
      "source": [
        "string = \"my name is x\"\n",
        "for i in string.split():\n",
        "     print (i, end=\", \")"
      ],
      "metadata": {
        "id": "eovPcAy-mldL",
        "colab": {
          "base_uri": "https://localhost:8080/"
        },
        "outputId": "ffc0d990-0fc5-4f27-eb96-970e2cb0a18b"
      },
      "execution_count": null,
      "outputs": [
        {
          "output_type": "stream",
          "name": "stdout",
          "text": [
            "my, name, is, x, "
          ]
        }
      ]
    },
    {
      "cell_type": "code",
      "source": [
        "x = \"abcdef\"\n",
        "i = \"a\"\n",
        "while i in x:\n",
        "     x = x[:-1]\n",
        "     print(i, end = \" \")"
      ],
      "metadata": {
        "colab": {
          "base_uri": "https://localhost:8080/"
        },
        "id": "C0moRK3_Slko",
        "outputId": "1cb2eb14-05d8-4f87-cbdf-fa72605ef988"
      },
      "execution_count": null,
      "outputs": [
        {
          "output_type": "stream",
          "name": "stdout",
          "text": [
            "a a a a a a "
          ]
        }
      ]
    },
    {
      "cell_type": "code",
      "source": [
        "x = 50\n",
        "def func():\n",
        "     global x\n",
        "     print('x is', x)\n",
        "     x = 2\n",
        "     print('Changed global x to', x)\n",
        "func()\n",
        "print('Value of x is', x)"
      ],
      "metadata": {
        "colab": {
          "base_uri": "https://localhost:8080/"
        },
        "id": "7VoJtbynTK4G",
        "outputId": "67082e14-fece-4bae-9719-0f52976fe91b"
      },
      "execution_count": null,
      "outputs": [
        {
          "output_type": "stream",
          "name": "stdout",
          "text": [
            "x is 50\n",
            "Changed global x to 2\n",
            "Value of x is 2\n"
          ]
        }
      ]
    },
    {
      "cell_type": "code",
      "source": [
        "d = {0: 'a', 1: 'b', 2: 'c'}\n",
        "for x in d.values():\n",
        "     print(x)"
      ],
      "metadata": {
        "colab": {
          "base_uri": "https://localhost:8080/"
        },
        "id": "RFQ2xyDsTh5F",
        "outputId": "b85ffba2-0de5-43e2-8578-7143c7de250c"
      },
      "execution_count": null,
      "outputs": [
        {
          "output_type": "stream",
          "name": "stdout",
          "text": [
            "a\n",
            "b\n",
            "c\n"
          ]
        }
      ]
    },
    {
      "cell_type": "markdown",
      "source": [
        "##Finding the reverse of a number"
      ],
      "metadata": {
        "id": "4cuetxTs4Z-_"
      }
    },
    {
      "cell_type": "code",
      "source": [
        "num=int(input())"
      ],
      "metadata": {
        "id": "OxLwNRPOW3xG",
        "colab": {
          "base_uri": "https://localhost:8080/"
        },
        "outputId": "c06640df-81e8-4655-8666-7f8e1701b567"
      },
      "execution_count": 15,
      "outputs": [
        {
          "name": "stdout",
          "output_type": "stream",
          "text": [
            "15348\n"
          ]
        }
      ]
    },
    {
      "cell_type": "code",
      "source": [
        "rev_num = 0\n",
        "\n",
        "while num > 0:\n",
        "  remainder = num % 10\n",
        "  rev_num = (rev_num*10) + remainder\n",
        "  num //= 10\n",
        "\n",
        "print('Revrse Number = ', rev_num)"
      ],
      "metadata": {
        "colab": {
          "base_uri": "https://localhost:8080/"
        },
        "id": "654km_Pxy0l4",
        "outputId": "4f5ae833-5e3c-4e54-9111-603d27b56ee8"
      },
      "execution_count": 16,
      "outputs": [
        {
          "output_type": "stream",
          "name": "stdout",
          "text": [
            "Revrse Number =  84351\n"
          ]
        }
      ]
    },
    {
      "cell_type": "markdown",
      "source": [
        "## Check whether a no. is a palindrome or not?"
      ],
      "metadata": {
        "id": "KgKqtJQj4jyP"
      }
    },
    {
      "cell_type": "code",
      "source": [
        "num = int(input())"
      ],
      "metadata": {
        "colab": {
          "base_uri": "https://localhost:8080/"
        },
        "id": "IhBh2eeMzOp3",
        "outputId": "a6ee6e73-d5bb-4825-e3a2-e2e6427f4971"
      },
      "execution_count": 18,
      "outputs": [
        {
          "name": "stdout",
          "output_type": "stream",
          "text": [
            "1253\n"
          ]
        }
      ]
    },
    {
      "cell_type": "code",
      "source": [
        "rev_num = 0\n",
        "while num > 0:\n",
        "  remainder = num % 10\n",
        "  rev_num = (rev_num*10) + remainder\n",
        "  num = num//10\n",
        "\n",
        "if rev_num == num:\n",
        "  print('The number is a pallindrome')\n",
        "\n",
        "else:\n",
        "  print('The number is not a pallindrome')\n"
      ],
      "metadata": {
        "colab": {
          "base_uri": "https://localhost:8080/"
        },
        "id": "1NxTOLEz5lOJ",
        "outputId": "6b32e52f-d820-4991-e99c-7da21dd208aa"
      },
      "execution_count": 19,
      "outputs": [
        {
          "output_type": "stream",
          "name": "stdout",
          "text": [
            "The number is not a pallindrome\n"
          ]
        }
      ]
    },
    {
      "cell_type": "code",
      "source": [],
      "metadata": {
        "id": "Eg8g0sDN7fdj"
      },
      "execution_count": 19,
      "outputs": []
    }
  ]
}